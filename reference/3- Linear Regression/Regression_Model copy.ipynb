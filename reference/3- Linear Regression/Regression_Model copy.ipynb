{
 "cells": [
  {
   "cell_type": "code",
   "execution_count": 1,
   "metadata": {},
   "outputs": [],
   "source": [
    "using PlutoUI\n",
    "\tusing CSV\n",
    "\tusing DataFrames\n",
    "\tusing StatsPlots\n",
    "\tusing Plots\n",
    "\tusing Statistics"
   ]
  },
  {
   "cell_type": "code",
   "execution_count": 2,
   "metadata": {},
   "outputs": [
    {
     "data": {
      "text/html": [
       "<div class=\"data-frame\"><p>1,030 rows × 10 columns (omitted printing of 4 columns)</p><table class=\"data-frame\"><thead><tr><th></th><th>Cement</th><th>Blast_Furnace_Slag</th><th>Fly_Ash</th><th>Water</th><th>Superplasticizer</th><th>Coarse_Aggregate</th></tr><tr><th></th><th title=\"Float64\">Float64</th><th title=\"Float64\">Float64</th><th title=\"Float64\">Float64</th><th title=\"Float64\">Float64</th><th title=\"Float64\">Float64</th><th title=\"Float64\">Float64</th></tr></thead><tbody><tr><th>1</th><td>540.0</td><td>0.0</td><td>0.0</td><td>162.0</td><td>2.5</td><td>1040.0</td></tr><tr><th>2</th><td>540.0</td><td>0.0</td><td>0.0</td><td>162.0</td><td>2.5</td><td>1055.0</td></tr><tr><th>3</th><td>332.5</td><td>142.5</td><td>0.0</td><td>228.0</td><td>0.0</td><td>932.0</td></tr><tr><th>4</th><td>332.5</td><td>142.5</td><td>0.0</td><td>228.0</td><td>0.0</td><td>932.0</td></tr><tr><th>5</th><td>198.6</td><td>132.4</td><td>0.0</td><td>192.0</td><td>0.0</td><td>978.4</td></tr><tr><th>6</th><td>266.0</td><td>114.0</td><td>0.0</td><td>228.0</td><td>0.0</td><td>932.0</td></tr><tr><th>7</th><td>380.0</td><td>95.0</td><td>0.0</td><td>228.0</td><td>0.0</td><td>932.0</td></tr><tr><th>8</th><td>380.0</td><td>95.0</td><td>0.0</td><td>228.0</td><td>0.0</td><td>932.0</td></tr><tr><th>9</th><td>266.0</td><td>114.0</td><td>0.0</td><td>228.0</td><td>0.0</td><td>932.0</td></tr><tr><th>10</th><td>475.0</td><td>0.0</td><td>0.0</td><td>228.0</td><td>0.0</td><td>932.0</td></tr><tr><th>11</th><td>198.6</td><td>132.4</td><td>0.0</td><td>192.0</td><td>0.0</td><td>978.4</td></tr><tr><th>12</th><td>198.6</td><td>132.4</td><td>0.0</td><td>192.0</td><td>0.0</td><td>978.4</td></tr><tr><th>13</th><td>427.5</td><td>47.5</td><td>0.0</td><td>228.0</td><td>0.0</td><td>932.0</td></tr><tr><th>14</th><td>190.0</td><td>190.0</td><td>0.0</td><td>228.0</td><td>0.0</td><td>932.0</td></tr><tr><th>15</th><td>304.0</td><td>76.0</td><td>0.0</td><td>228.0</td><td>0.0</td><td>932.0</td></tr><tr><th>16</th><td>380.0</td><td>0.0</td><td>0.0</td><td>228.0</td><td>0.0</td><td>932.0</td></tr><tr><th>17</th><td>139.6</td><td>209.4</td><td>0.0</td><td>192.0</td><td>0.0</td><td>1047.0</td></tr><tr><th>18</th><td>342.0</td><td>38.0</td><td>0.0</td><td>228.0</td><td>0.0</td><td>932.0</td></tr><tr><th>19</th><td>380.0</td><td>95.0</td><td>0.0</td><td>228.0</td><td>0.0</td><td>932.0</td></tr><tr><th>20</th><td>475.0</td><td>0.0</td><td>0.0</td><td>228.0</td><td>0.0</td><td>932.0</td></tr><tr><th>21</th><td>427.5</td><td>47.5</td><td>0.0</td><td>228.0</td><td>0.0</td><td>932.0</td></tr><tr><th>22</th><td>139.6</td><td>209.4</td><td>0.0</td><td>192.0</td><td>0.0</td><td>1047.0</td></tr><tr><th>23</th><td>139.6</td><td>209.4</td><td>0.0</td><td>192.0</td><td>0.0</td><td>1047.0</td></tr><tr><th>24</th><td>139.6</td><td>209.4</td><td>0.0</td><td>192.0</td><td>0.0</td><td>1047.0</td></tr><tr><th>&vellip;</th><td>&vellip;</td><td>&vellip;</td><td>&vellip;</td><td>&vellip;</td><td>&vellip;</td><td>&vellip;</td></tr></tbody></table></div>"
      ],
      "text/latex": [
       "\\begin{tabular}{r|ccccccc}\n",
       "\t& Cement & Blast\\_Furnace\\_Slag & Fly\\_Ash & Water & Superplasticizer & Coarse\\_Aggregate & \\\\\n",
       "\t\\hline\n",
       "\t& Float64 & Float64 & Float64 & Float64 & Float64 & Float64 & \\\\\n",
       "\t\\hline\n",
       "\t1 & 540.0 & 0.0 & 0.0 & 162.0 & 2.5 & 1040.0 & $\\dots$ \\\\\n",
       "\t2 & 540.0 & 0.0 & 0.0 & 162.0 & 2.5 & 1055.0 & $\\dots$ \\\\\n",
       "\t3 & 332.5 & 142.5 & 0.0 & 228.0 & 0.0 & 932.0 & $\\dots$ \\\\\n",
       "\t4 & 332.5 & 142.5 & 0.0 & 228.0 & 0.0 & 932.0 & $\\dots$ \\\\\n",
       "\t5 & 198.6 & 132.4 & 0.0 & 192.0 & 0.0 & 978.4 & $\\dots$ \\\\\n",
       "\t6 & 266.0 & 114.0 & 0.0 & 228.0 & 0.0 & 932.0 & $\\dots$ \\\\\n",
       "\t7 & 380.0 & 95.0 & 0.0 & 228.0 & 0.0 & 932.0 & $\\dots$ \\\\\n",
       "\t8 & 380.0 & 95.0 & 0.0 & 228.0 & 0.0 & 932.0 & $\\dots$ \\\\\n",
       "\t9 & 266.0 & 114.0 & 0.0 & 228.0 & 0.0 & 932.0 & $\\dots$ \\\\\n",
       "\t10 & 475.0 & 0.0 & 0.0 & 228.0 & 0.0 & 932.0 & $\\dots$ \\\\\n",
       "\t11 & 198.6 & 132.4 & 0.0 & 192.0 & 0.0 & 978.4 & $\\dots$ \\\\\n",
       "\t12 & 198.6 & 132.4 & 0.0 & 192.0 & 0.0 & 978.4 & $\\dots$ \\\\\n",
       "\t13 & 427.5 & 47.5 & 0.0 & 228.0 & 0.0 & 932.0 & $\\dots$ \\\\\n",
       "\t14 & 190.0 & 190.0 & 0.0 & 228.0 & 0.0 & 932.0 & $\\dots$ \\\\\n",
       "\t15 & 304.0 & 76.0 & 0.0 & 228.0 & 0.0 & 932.0 & $\\dots$ \\\\\n",
       "\t16 & 380.0 & 0.0 & 0.0 & 228.0 & 0.0 & 932.0 & $\\dots$ \\\\\n",
       "\t17 & 139.6 & 209.4 & 0.0 & 192.0 & 0.0 & 1047.0 & $\\dots$ \\\\\n",
       "\t18 & 342.0 & 38.0 & 0.0 & 228.0 & 0.0 & 932.0 & $\\dots$ \\\\\n",
       "\t19 & 380.0 & 95.0 & 0.0 & 228.0 & 0.0 & 932.0 & $\\dots$ \\\\\n",
       "\t20 & 475.0 & 0.0 & 0.0 & 228.0 & 0.0 & 932.0 & $\\dots$ \\\\\n",
       "\t21 & 427.5 & 47.5 & 0.0 & 228.0 & 0.0 & 932.0 & $\\dots$ \\\\\n",
       "\t22 & 139.6 & 209.4 & 0.0 & 192.0 & 0.0 & 1047.0 & $\\dots$ \\\\\n",
       "\t23 & 139.6 & 209.4 & 0.0 & 192.0 & 0.0 & 1047.0 & $\\dots$ \\\\\n",
       "\t24 & 139.6 & 209.4 & 0.0 & 192.0 & 0.0 & 1047.0 & $\\dots$ \\\\\n",
       "\t$\\dots$ & $\\dots$ & $\\dots$ & $\\dots$ & $\\dots$ & $\\dots$ & $\\dots$ &  \\\\\n",
       "\\end{tabular}\n"
      ],
      "text/plain": [
       "\u001b[1m1030×10 DataFrame\u001b[0m\n",
       "\u001b[1m  Row \u001b[0m│\u001b[1m Cement  \u001b[0m\u001b[1m Blast_Furnace_Slag \u001b[0m\u001b[1m Fly_Ash \u001b[0m\u001b[1m Water   \u001b[0m\u001b[1m Superplasticizer \u001b[0m\u001b[1m Coars\u001b[0m ⋯\n",
       "\u001b[1m      \u001b[0m│\u001b[90m Float64 \u001b[0m\u001b[90m Float64            \u001b[0m\u001b[90m Float64 \u001b[0m\u001b[90m Float64 \u001b[0m\u001b[90m Float64          \u001b[0m\u001b[90m Float\u001b[0m ⋯\n",
       "──────┼─────────────────────────────────────────────────────────────────────────\n",
       "    1 │   540.0                 0.0      0.0    162.0               2.5        ⋯\n",
       "    2 │   540.0                 0.0      0.0    162.0               2.5\n",
       "    3 │   332.5               142.5      0.0    228.0               0.0\n",
       "    4 │   332.5               142.5      0.0    228.0               0.0\n",
       "    5 │   198.6               132.4      0.0    192.0               0.0        ⋯\n",
       "    6 │   266.0               114.0      0.0    228.0               0.0\n",
       "    7 │   380.0                95.0      0.0    228.0               0.0\n",
       "    8 │   380.0                95.0      0.0    228.0               0.0\n",
       "  ⋮   │    ⋮             ⋮              ⋮        ⋮            ⋮                ⋱\n",
       " 1024 │   159.8               250.0      0.0    168.4              12.2        ⋯\n",
       " 1025 │   166.0               259.7      0.0    183.2              12.7\n",
       " 1026 │   276.4               116.0     90.3    179.6               8.9\n",
       " 1027 │   322.2                 0.0    115.6    196.0              10.4\n",
       " 1028 │   148.5               139.4    108.6    192.7               6.1        ⋯\n",
       " 1029 │   159.1               186.7      0.0    175.6              11.3\n",
       " 1030 │   260.9               100.5     78.3    200.6               8.6\n",
       "\u001b[36m                                                 5 columns and 1015 rows omitted\u001b[0m"
      ]
     },
     "metadata": {},
     "output_type": "display_data"
    }
   ],
   "source": [
    "df = CSV.read(joinpath(dirname(@__FILE__), \"Concrete_Data_DNO.csv\"), DataFrame)"
   ]
  },
  {
   "cell_type": "code",
   "execution_count": 3,
   "metadata": {},
   "outputs": [
    {
     "data": {
      "text/plain": [
       "180-element Vector{Float64}:\n",
       " 37.36\n",
       " 32.84\n",
       " 42.64\n",
       " 40.06\n",
       " 41.94\n",
       " 61.23\n",
       " 40.87\n",
       " 33.3\n",
       " 52.42\n",
       " 15.09\n",
       "  ⋮\n",
       " 31.88\n",
       " 41.54\n",
       " 39.46\n",
       " 37.92\n",
       " 44.28\n",
       " 31.18\n",
       " 23.7\n",
       " 32.77\n",
       " 32.4"
      ]
     },
     "metadata": {},
     "output_type": "display_data"
    }
   ],
   "source": [
    "#splitting into 70% training, 15% test, 15% validation\n",
    "\n",
    "x = Matrix(df[:, 1:8])\n",
    "y = Matrix(df[:, 9:9])\n",
    "\n",
    "xtrain = x[1:700, :]\n",
    "ytrain = y[1:700]\n",
    "\n",
    "xtest = x[701:850, :]\n",
    "ytest = y[701:850]\n",
    "\n",
    "xval = x[851:1030, :]\n",
    "yval = y[851:1030]"
   ]
  },
  {
   "cell_type": "code",
   "execution_count": 4,
   "metadata": {},
   "outputs": [
    {
     "data": {
      "text/plain": [
       "mse (generic function with 1 method)"
      ]
     },
     "metadata": {},
     "output_type": "display_data"
    }
   ],
   "source": [
    "function mse(ŷ::Vector{T}, y::Vector{T})::T where T<:AbstractFloat\n",
    "\tsum((ŷ-y).^2/length(ŷ))\n",
    "end"
   ]
  },
  {
   "cell_type": "code",
   "execution_count": 5,
   "metadata": {},
   "outputs": [
    {
     "data": {
      "text/plain": [
       "minimize! (generic function with 1 method)"
      ]
     },
     "metadata": {},
     "output_type": "display_data"
    }
   ],
   "source": [
    "function minimize!(f_model::Function, x::Matrix{T}, y::Vector{T}, p::Vector{T}, η::T, num_steps::Int)::Vector{T} where T<:AbstractFloat\n",
    "\tfor step in 1:num_steps\n",
    "\t\tg(p) = mse(f_model(x, p), y)\n",
    "\t\tp .-= η.* g'(p)\n",
    "\tend\n",
    "\tp\n",
    "end"
   ]
  },
  {
   "cell_type": "code",
   "execution_count": 6,
   "metadata": {},
   "outputs": [
    {
     "data": {
      "text/plain": [
       "model (generic function with 1 method)"
      ]
     },
     "metadata": {},
     "output_type": "display_data"
    }
   ],
   "source": [
    "function model(x::Matrix{T}, p::Vector{T})::Vector{T} where T<:AbstractFloat\n",
    "\tsum(x.*p[1:(length(p)-1)]', dims=2)[:].+p[length(p)]\n",
    "end"
   ]
  },
  {
   "cell_type": "code",
   "execution_count": 7,
   "metadata": {},
   "outputs": [],
   "source": []
  },
  {
   "cell_type": "code",
   "execution_count": 8,
   "metadata": {},
   "outputs": [],
   "source": [
    "#begin\n",
    "\t#df2 = combine(groupby(df, :Age), [:Blast_Furnace_Slag, :Fly_Ash, :Water, :Superplasticizer, :Coarse_Aggregate] => ((a, b, c, d, e) -> (Blast_Furnace_Slag=mean(a), Fly_Ash=mean(b), Water=mean(c), Superplasticizer=mean(d), Coarse_Aggregate=mean(e))) => AsTable)\n",
    "\t#yy = Vector(combine(groupby(df, :Age), :Concrete_compressive_strength => sum)[:, 2])\n",
    "#end"
   ]
  },
  {
   "cell_type": "code",
   "execution_count": 24,
   "metadata": {},
   "outputs": [
    {
     "data": {
      "text/plain": [
       "predict_transmission (generic function with 2 methods)"
      ]
     },
     "metadata": {},
     "output_type": "display_data"
    }
   ],
   "source": [
    "function predict_transmission(df::DataFrame)\n",
    "\tpp = minimize!(model, xtrain, ytrain, rand(6), 0.01, 10000)\n",
    "\tmodel(Matrix(df[:, 2:end]), pp)\n",
    "end"
   ]
  },
  {
   "cell_type": "code",
   "execution_count": 10,
   "metadata": {},
   "outputs": [],
   "source": [
    "#RMSE= round((sum((yy .- predict_transmission(df2)).^2) / length(yy))^0.5, digits=1)"
   ]
  },
  {
   "cell_type": "code",
   "execution_count": 26,
   "metadata": {},
   "outputs": [],
   "source": [
    "#predict_transmission(df)"
   ]
  },
  {
   "cell_type": "code",
   "execution_count": 18,
   "metadata": {},
   "outputs": [
    {
     "ename": "MethodError",
     "evalue": "MethodError: no method matching adjoint(::var\"#g#9\"{typeof(model), Matrix{Float64}, Vector{Float64}})\nClosest candidates are:\n  adjoint(!Matched::Union{LinearAlgebra.QR, LinearAlgebra.QRCompactWY, LinearAlgebra.QRPivoted}) at C:\\Users\\user\\AppData\\Local\\Programs\\Julia-1.8.2\\share\\julia\\stdlib\\v1.8\\LinearAlgebra\\src\\qr.jl:517\n  adjoint(!Matched::Union{LinearAlgebra.Cholesky, LinearAlgebra.CholeskyPivoted}) at C:\\Users\\user\\AppData\\Local\\Programs\\Julia-1.8.2\\share\\julia\\stdlib\\v1.8\\LinearAlgebra\\src\\cholesky.jl:558\n  adjoint(!Matched::LinearAlgebra.Rotation) at C:\\Users\\user\\AppData\\Local\\Programs\\Julia-1.8.2\\share\\julia\\stdlib\\v1.8\\LinearAlgebra\\src\\givens.jl:58\n  ...",
     "output_type": "error",
     "traceback": [
      "MethodError: no method matching adjoint(::var\"#g#9\"{typeof(model), Matrix{Float64}, Vector{Float64}})\n",
      "Closest candidates are:\n",
      "  adjoint(!Matched::Union{LinearAlgebra.QR, LinearAlgebra.QRCompactWY, LinearAlgebra.QRPivoted}) at C:\\Users\\user\\AppData\\Local\\Programs\\Julia-1.8.2\\share\\julia\\stdlib\\v1.8\\LinearAlgebra\\src\\qr.jl:517\n",
      "  adjoint(!Matched::Union{LinearAlgebra.Cholesky, LinearAlgebra.CholeskyPivoted}) at C:\\Users\\user\\AppData\\Local\\Programs\\Julia-1.8.2\\share\\julia\\stdlib\\v1.8\\LinearAlgebra\\src\\cholesky.jl:558\n",
      "  adjoint(!Matched::LinearAlgebra.Rotation) at C:\\Users\\user\\AppData\\Local\\Programs\\Julia-1.8.2\\share\\julia\\stdlib\\v1.8\\LinearAlgebra\\src\\givens.jl:58\n",
      "  ...\n",
      "\n",
      "Stacktrace:\n",
      " [1] minimize!(f_model::typeof(model), x::Matrix{Float64}, y::Vector{Float64}, p::Vector{Float64}, η::Float64, num_steps::Int64)\n",
      "   @ Main c:\\Users\\user\\OneDrive - just.edu.jo\\Fall 2022\\CEE 492- Data Science\\Project\\cee-492-term-project-fall-2022-team-online-1\\reference\\3- Linear Regression\\Regression_Model copy.ipynb:4\n",
      " [2] predict_transmission(df::Matrix{Float64})\n",
      "   @ Main c:\\Users\\user\\OneDrive - just.edu.jo\\Fall 2022\\CEE 492- Data Science\\Project\\cee-492-term-project-fall-2022-team-online-1\\reference\\3- Linear Regression\\Regression_Model copy.ipynb:2\n",
      " [3] top-level scope\n",
      "   @ c:\\Users\\user\\OneDrive - just.edu.jo\\Fall 2022\\CEE 492- Data Science\\Project\\cee-492-term-project-fall-2022-team-online-1\\reference\\3- Linear Regression\\Regression_Model copy.ipynb:2"
     ]
    }
   ],
   "source": [
    "#plotting graph to see predicted vs true\n",
    "compare_plt = plot(ytest, predict_transmission(df), \n",
    "st=:scatter,\n",
    "xlims=(0,80),\n",
    "ylims=(0,80),\n",
    "xlab = \"True Value (ytest)\",\n",
    "ylab = \"Predicted Value (y_pr)\",\n",
    "size = (500,500))\n",
    "\n",
    "xx = 0:80\n",
    "yy = 0:80\n",
    "\n",
    "plot!(compare_plt, xx, yy, st=:line)\n",
    "\n",
    "mse_SVR = mse(y_pr, ytest)\n",
    "annotate!(15,75, text(\"mse = $(round(mse_SVR, sigdigits=2))\", 10))\n",
    "\n",
    "display(compare_plt)"
   ]
  },
  {
   "cell_type": "code",
   "execution_count": 12,
   "metadata": {},
   "outputs": [],
   "source": []
  }
 ],
 "metadata": {
  "kernelspec": {
   "display_name": "Julia 1.8.2",
   "language": "julia",
   "name": "julia-1.8"
  },
  "language_info": {
   "file_extension": ".jl",
   "mimetype": "application/julia",
   "name": "julia",
   "version": "1.8.2"
  },
  "orig_nbformat": 4
 },
 "nbformat": 4,
 "nbformat_minor": 2
}
