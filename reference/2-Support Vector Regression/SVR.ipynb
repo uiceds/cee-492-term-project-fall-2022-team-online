{
 "cells": [
  {
   "cell_type": "code",
   "execution_count": null,
   "metadata": {},
   "outputs": [],
   "source": [
    "#to add package, go to REPL\n",
    "#using Pkg\n",
    "#Pkg.add(\"Package Name\")\n",
    "using DataFrames\n",
    "using RDatasets\n",
    "using Statistics\n",
    "using StatsPlots\n",
    "using CSV\n",
    "using StatsBase\n",
    "using NamedArrays\n",
    "using PrettyTables\n",
    "\n",
    "using LIBSVM\n",
    "using Printf\n",
    "# using SVR\n",
    "using MLJ\n",
    "using Mads\n",
    "using Metrics\n",
    "using ScikitLearn.GridSearch: GridSearchCV\n",
    "\n",
    "using PyCall"
   ]
  },
  {
   "cell_type": "code",
   "execution_count": null,
   "metadata": {},
   "outputs": [],
   "source": [
    "skSVR = pyimport(\"sklearn.svm\")"
   ]
  },
  {
   "cell_type": "code",
   "execution_count": null,
   "metadata": {},
   "outputs": [],
   "source": [
    "df = CSV.read(joinpath(dirname(pwd()), \"Concrete_Data.csv\"), DataFrame)"
   ]
  },
  {
   "cell_type": "code",
   "execution_count": null,
   "metadata": {},
   "outputs": [],
   "source": [
    "#splitting into 70% training, 15% test, 15% validation\n",
    "\n",
    "dfm = Matrix(df)\n",
    "# dfms = dfm[shuffle(1:end), :]\n",
    "dfms = dfm\n",
    "\n",
    "x = dfms[:, 1:8]\n",
    "y = dfms[:, 9]\n",
    "\n",
    "data_split = [0.7, 0.15, 0.15]\n",
    "split_cs2 = Int.(round.(cumsum(data_split)*length(y)))\n",
    "split_cs1 = vcat(1, split_cs2[1:(end-1)].+1)\n",
    "\n",
    "xtrain = x[split_cs1[1]:split_cs2[1], :]\n",
    "ytrain = y[split_cs1[1]:split_cs2[1]]\n",
    "\n",
    "xtest = x[split_cs1[2]:split_cs2[2], :]\n",
    "ytest = y[split_cs1[2]:split_cs2[2]]\n",
    "\n",
    "xval = x[split_cs1[3]:split_cs2[3], :]\n",
    "yval = y[split_cs1[3]:split_cs2[3]];"
   ]
  },
  {
   "cell_type": "code",
   "execution_count": null,
   "metadata": {},
   "outputs": [],
   "source": [
    "#training the model, setting the hypermeters C, degree, gamma. Want to use gridsearch to optimise hyperparameters. Not sure what SVR.train does #how to do gradient descent for hyperparameters\n",
    "\n",
    "# pmodel = SVR.train(ytrain, permutedims(xtrain),; kernel_type=SVR.RBF, C= 10.0, degree = 1 , gamma = 0.00003)\n",
    "\n",
    "# y_pr = SVR.predict(pmodel, permutedims(xtest))\n",
    "# mse_SVR = mse(y_pr, ytest)"
   ]
  },
  {
   "cell_type": "code",
   "execution_count": null,
   "metadata": {},
   "outputs": [],
   "source": [
    "param_grid = Dict(:C => 100:100:1000,\n",
    "                :gamma => :0.0000001:0000001:0.000001,\n",
    "                :degree => 0.1:0.1:1)\n",
    "\n",
    "grid = GridSearchCV(skSVR.SVR(), param_grid, refit = true, verbose = 3)\n",
    "ScikitLearn.fit!(grid ,xtrain, ytrain)"
   ]
  },
  {
   "cell_type": "code",
   "execution_count": null,
   "metadata": {},
   "outputs": [],
   "source": [
    "println(\"Best hyper-parameters: $(grid.best_params_)\")"
   ]
  },
  {
   "cell_type": "code",
   "execution_count": null,
   "metadata": {},
   "outputs": [],
   "source": [
    "regressor = ScikitLearn.fit!(skSVR.SVR(C=1000.0, gamma=1.0e-7, degree =0.1),xtrain,ytrain)\n",
    "y_pr = ScikitLearn.predict(regressor,xtest)\n",
    "mse_SVR = mse(y_pr, ytest)\n",
    "\n",
    "# C=50.0, gamma=0.000003, degree =1"
   ]
  },
  {
   "cell_type": "code",
   "execution_count": null,
   "metadata": {},
   "outputs": [],
   "source": [
    "#plotting graph to see predicted vs true\n",
    "compare_plt = plot(ytest, y_pr, \n",
    "st=:scatter,\n",
    "xlims=(0,80),\n",
    "ylims=(0,80),\n",
    "xlab = \"True Value (ytest)\",\n",
    "ylab = \"Predicted Value (y_pr)\",\n",
    "size = (500,500))\n",
    "\n",
    "xx = 0:80\n",
    "yy = 0:80\n",
    "\n",
    "plot!(compare_plt, xx, yy, st=:line)\n",
    "\n",
    "mse_SVR = mse(y_pr, ytest)\n",
    "annotate!(15,75, text(\"mse = $(round(mse_SVR, sigdigits=2))\", 10))\n",
    "\n",
    "display(compare_plt)"
   ]
  },
  {
   "cell_type": "code",
   "execution_count": null,
   "metadata": {},
   "outputs": [],
   "source": []
  }
 ],
 "metadata": {
  "kernelspec": {
   "display_name": "Julia 1.8.0",
   "language": "julia",
   "name": "julia-1.8"
  },
  "language_info": {
   "file_extension": ".jl",
   "mimetype": "application/julia",
   "name": "julia",
   "version": "1.8.0"
  },
  "orig_nbformat": 4
 },
 "nbformat": 4,
 "nbformat_minor": 2
}
