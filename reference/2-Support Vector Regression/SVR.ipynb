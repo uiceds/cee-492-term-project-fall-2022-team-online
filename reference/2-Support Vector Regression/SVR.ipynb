{
 "cells": [
  {
   "cell_type": "code",
   "execution_count": 1,
   "metadata": {},
   "outputs": [],
   "source": [
    "#to add package, go to REPL\n",
    "#using Pkg\n",
    "#Pkg.add(\"Package Name\")\n",
    "using DataFrames\n",
    "using RDatasets\n",
    "using Statistics\n",
    "using StatsPlots\n",
    "using CSV\n",
    "using StatsBase\n",
    "using NamedArrays\n",
    "using PrettyTables\n",
    "\n",
    "using LIBSVM\n",
    "using Printf\n",
    "# using SVR\n",
    "using MLJ\n",
    "using Mads\n",
    "using Metrics\n",
    "using ScikitLearn.GridSearch: GridSearchCV\n",
    "using ScikitLearn\n",
    "\n",
    "using PyCall"
   ]
  },
  {
   "cell_type": "code",
   "execution_count": 2,
   "metadata": {},
   "outputs": [
    {
     "data": {
      "text/plain": [
       "PyObject <module 'sklearn.svm' from 'C:\\\\Users\\\\ASUS\\\\.julia\\\\conda\\\\3\\\\lib\\\\site-packages\\\\sklearn\\\\svm\\\\__init__.py'>"
      ]
     },
     "metadata": {},
     "output_type": "display_data"
    }
   ],
   "source": [
    "skSVR = pyimport(\"sklearn.svm\")"
   ]
  },
  {
   "cell_type": "code",
   "execution_count": 3,
   "metadata": {},
   "outputs": [
    {
     "data": {
      "text/html": [
       "<div class=\"data-frame\"><p>1,030 rows × 9 columns (omitted printing of 4 columns)</p><table class=\"data-frame\"><thead><tr><th></th><th>Cement (kg/m3)</th><th>Blast Furnace Slag (kg/m3)</th><th>Fly Ash (kg/m3)</th><th>Water (kg/m3)</th><th>Superplasticizer (kg/m3)</th></tr><tr><th></th><th title=\"Float64\">Float64</th><th title=\"Float64\">Float64</th><th title=\"Float64\">Float64</th><th title=\"Float64\">Float64</th><th title=\"Float64\">Float64</th></tr></thead><tbody><tr><th>1</th><td>540.0</td><td>0.0</td><td>0.0</td><td>162.0</td><td>2.5</td></tr><tr><th>2</th><td>540.0</td><td>0.0</td><td>0.0</td><td>162.0</td><td>2.5</td></tr><tr><th>3</th><td>332.5</td><td>142.5</td><td>0.0</td><td>228.0</td><td>0.0</td></tr><tr><th>4</th><td>332.5</td><td>142.5</td><td>0.0</td><td>228.0</td><td>0.0</td></tr><tr><th>5</th><td>198.6</td><td>132.4</td><td>0.0</td><td>192.0</td><td>0.0</td></tr><tr><th>6</th><td>266.0</td><td>114.0</td><td>0.0</td><td>228.0</td><td>0.0</td></tr><tr><th>7</th><td>380.0</td><td>95.0</td><td>0.0</td><td>228.0</td><td>0.0</td></tr><tr><th>8</th><td>380.0</td><td>95.0</td><td>0.0</td><td>228.0</td><td>0.0</td></tr><tr><th>9</th><td>266.0</td><td>114.0</td><td>0.0</td><td>228.0</td><td>0.0</td></tr><tr><th>10</th><td>475.0</td><td>0.0</td><td>0.0</td><td>228.0</td><td>0.0</td></tr><tr><th>11</th><td>198.6</td><td>132.4</td><td>0.0</td><td>192.0</td><td>0.0</td></tr><tr><th>12</th><td>198.6</td><td>132.4</td><td>0.0</td><td>192.0</td><td>0.0</td></tr><tr><th>13</th><td>427.5</td><td>47.5</td><td>0.0</td><td>228.0</td><td>0.0</td></tr><tr><th>14</th><td>190.0</td><td>190.0</td><td>0.0</td><td>228.0</td><td>0.0</td></tr><tr><th>15</th><td>304.0</td><td>76.0</td><td>0.0</td><td>228.0</td><td>0.0</td></tr><tr><th>16</th><td>380.0</td><td>0.0</td><td>0.0</td><td>228.0</td><td>0.0</td></tr><tr><th>17</th><td>139.6</td><td>209.4</td><td>0.0</td><td>192.0</td><td>0.0</td></tr><tr><th>18</th><td>342.0</td><td>38.0</td><td>0.0</td><td>228.0</td><td>0.0</td></tr><tr><th>19</th><td>380.0</td><td>95.0</td><td>0.0</td><td>228.0</td><td>0.0</td></tr><tr><th>20</th><td>475.0</td><td>0.0</td><td>0.0</td><td>228.0</td><td>0.0</td></tr><tr><th>21</th><td>427.5</td><td>47.5</td><td>0.0</td><td>228.0</td><td>0.0</td></tr><tr><th>22</th><td>139.6</td><td>209.4</td><td>0.0</td><td>192.0</td><td>0.0</td></tr><tr><th>23</th><td>139.6</td><td>209.4</td><td>0.0</td><td>192.0</td><td>0.0</td></tr><tr><th>24</th><td>139.6</td><td>209.4</td><td>0.0</td><td>192.0</td><td>0.0</td></tr><tr><th>&vellip;</th><td>&vellip;</td><td>&vellip;</td><td>&vellip;</td><td>&vellip;</td><td>&vellip;</td></tr></tbody></table></div>"
      ],
      "text/latex": [
       "\\begin{tabular}{r|cccccc}\n",
       "\t& Cement (kg/m3) & Blast Furnace Slag (kg/m3) & Fly Ash (kg/m3) & Water (kg/m3) & Superplasticizer (kg/m3) & \\\\\n",
       "\t\\hline\n",
       "\t& Float64 & Float64 & Float64 & Float64 & Float64 & \\\\\n",
       "\t\\hline\n",
       "\t1 & 540.0 & 0.0 & 0.0 & 162.0 & 2.5 & $\\dots$ \\\\\n",
       "\t2 & 540.0 & 0.0 & 0.0 & 162.0 & 2.5 & $\\dots$ \\\\\n",
       "\t3 & 332.5 & 142.5 & 0.0 & 228.0 & 0.0 & $\\dots$ \\\\\n",
       "\t4 & 332.5 & 142.5 & 0.0 & 228.0 & 0.0 & $\\dots$ \\\\\n",
       "\t5 & 198.6 & 132.4 & 0.0 & 192.0 & 0.0 & $\\dots$ \\\\\n",
       "\t6 & 266.0 & 114.0 & 0.0 & 228.0 & 0.0 & $\\dots$ \\\\\n",
       "\t7 & 380.0 & 95.0 & 0.0 & 228.0 & 0.0 & $\\dots$ \\\\\n",
       "\t8 & 380.0 & 95.0 & 0.0 & 228.0 & 0.0 & $\\dots$ \\\\\n",
       "\t9 & 266.0 & 114.0 & 0.0 & 228.0 & 0.0 & $\\dots$ \\\\\n",
       "\t10 & 475.0 & 0.0 & 0.0 & 228.0 & 0.0 & $\\dots$ \\\\\n",
       "\t11 & 198.6 & 132.4 & 0.0 & 192.0 & 0.0 & $\\dots$ \\\\\n",
       "\t12 & 198.6 & 132.4 & 0.0 & 192.0 & 0.0 & $\\dots$ \\\\\n",
       "\t13 & 427.5 & 47.5 & 0.0 & 228.0 & 0.0 & $\\dots$ \\\\\n",
       "\t14 & 190.0 & 190.0 & 0.0 & 228.0 & 0.0 & $\\dots$ \\\\\n",
       "\t15 & 304.0 & 76.0 & 0.0 & 228.0 & 0.0 & $\\dots$ \\\\\n",
       "\t16 & 380.0 & 0.0 & 0.0 & 228.0 & 0.0 & $\\dots$ \\\\\n",
       "\t17 & 139.6 & 209.4 & 0.0 & 192.0 & 0.0 & $\\dots$ \\\\\n",
       "\t18 & 342.0 & 38.0 & 0.0 & 228.0 & 0.0 & $\\dots$ \\\\\n",
       "\t19 & 380.0 & 95.0 & 0.0 & 228.0 & 0.0 & $\\dots$ \\\\\n",
       "\t20 & 475.0 & 0.0 & 0.0 & 228.0 & 0.0 & $\\dots$ \\\\\n",
       "\t21 & 427.5 & 47.5 & 0.0 & 228.0 & 0.0 & $\\dots$ \\\\\n",
       "\t22 & 139.6 & 209.4 & 0.0 & 192.0 & 0.0 & $\\dots$ \\\\\n",
       "\t23 & 139.6 & 209.4 & 0.0 & 192.0 & 0.0 & $\\dots$ \\\\\n",
       "\t24 & 139.6 & 209.4 & 0.0 & 192.0 & 0.0 & $\\dots$ \\\\\n",
       "\t$\\dots$ & $\\dots$ & $\\dots$ & $\\dots$ & $\\dots$ & $\\dots$ &  \\\\\n",
       "\\end{tabular}\n"
      ],
      "text/plain": [
       "\u001b[1m1030×9 DataFrame\u001b[0m\n",
       "\u001b[1m  Row \u001b[0m│\u001b[1m Cement (kg/m3) \u001b[0m\u001b[1m Blast Furnace Slag (kg/m3) \u001b[0m\u001b[1m Fly Ash (kg/m3) \u001b[0m\u001b[1m Water (kg\u001b[0m ⋯\n",
       "\u001b[1m      \u001b[0m│\u001b[90m Float64        \u001b[0m\u001b[90m Float64                    \u001b[0m\u001b[90m Float64         \u001b[0m\u001b[90m Float64  \u001b[0m ⋯\n",
       "──────┼─────────────────────────────────────────────────────────────────────────\n",
       "    1 │          540.0                         0.0              0.0          1 ⋯\n",
       "    2 │          540.0                         0.0              0.0          1\n",
       "    3 │          332.5                       142.5              0.0          2\n",
       "    4 │          332.5                       142.5              0.0          2\n",
       "    5 │          198.6                       132.4              0.0          1 ⋯\n",
       "    6 │          266.0                       114.0              0.0          2\n",
       "    7 │          380.0                        95.0              0.0          2\n",
       "    8 │          380.0                        95.0              0.0          2\n",
       "  ⋮   │       ⋮                     ⋮                      ⋮               ⋮   ⋱\n",
       " 1024 │          159.8                       250.0              0.0          1 ⋯\n",
       " 1025 │          166.0                       259.7              0.0          1\n",
       " 1026 │          276.4                       116.0             90.3          1\n",
       " 1027 │          322.2                         0.0            115.6          1\n",
       " 1028 │          148.5                       139.4            108.6          1 ⋯\n",
       " 1029 │          159.1                       186.7              0.0          1\n",
       " 1030 │          260.9                       100.5             78.3          2\n",
       "\u001b[36m                                                 6 columns and 1015 rows omitted\u001b[0m"
      ]
     },
     "metadata": {},
     "output_type": "display_data"
    }
   ],
   "source": [
    "df = CSV.read(joinpath(dirname(pwd()), \"Concrete_Data.csv\"), DataFrame)"
   ]
  },
  {
   "cell_type": "code",
   "execution_count": 45,
   "metadata": {},
   "outputs": [],
   "source": [
    "#splitting into 70% training, 15% test, 15% validation\n",
    "\n",
    "dfm = Matrix(df)\n",
    "dfms = dfm[shuffle(1:end), :]\n",
    "dfms = dfm\n",
    "\n",
    "x = dfms[:, 1:8]\n",
    "y = dfms[:, 9]\n",
    "\n",
    "data_split = [0.7, 0.15, 0.15]\n",
    "split_cs2 = Int.(round.(cumsum(data_split)*length(y)))\n",
    "split_cs1 = vcat(1, split_cs2[1:(end-1)].+1)\n",
    "\n",
    "xtrain = x[split_cs1[1]:split_cs2[1], :]\n",
    "ytrain = y[split_cs1[1]:split_cs2[1]]\n",
    "\n",
    "xtest = x[split_cs1[2]:split_cs2[2], :]\n",
    "ytest = y[split_cs1[2]:split_cs2[2]]\n",
    "\n",
    "xval = x[split_cs1[3]:split_cs2[3], :]\n",
    "yval = y[split_cs1[3]:split_cs2[3]];"
   ]
  },
  {
   "cell_type": "code",
   "execution_count": 5,
   "metadata": {},
   "outputs": [],
   "source": [
    "#training the model, setting the hypermeters C, degree, gamma. Want to use gridsearch to optimise hyperparameters. Not sure what SVR.train does #how to do gradient descent for hyperparameters\n",
    "\n",
    "# pmodel = SVR.train(ytrain, permutedims(xtrain),; kernel_type=SVR.RBF, C= 10.0, degree = 1 , gamma = 0.00003)\n",
    "\n",
    "# y_pr = SVR.predict(pmodel, permutedims(xtest))\n",
    "# mse_SVR = mse(y_pr, ytest)"
   ]
  },
  {
   "cell_type": "code",
   "execution_count": 6,
   "metadata": {},
   "outputs": [
    {
     "name": "stdout",
     "output_type": "stream",
     "text": [
      "Fitting 3 folds for each of 100 candidates, totalling 300 fits\n"
     ]
    },
    {
     "name": "stdout",
     "output_type": "stream",
     "text": [
      "[CV] gamma=1.0e-7, degree=0.1, C=100"
     ]
    },
    {
     "name": "stdout",
     "output_type": "stream",
     "text": [
      "\n",
      "[CV] gamma=1.0e-7, degree=0.1, C=100, score=0.05291  -  0.6s\n",
      "[CV] gamma=1.0e-7, degree=0.1, C=100\n"
     ]
    },
    {
     "name": "stdout",
     "output_type": "stream",
     "text": [
      "[CV] gamma=1.0e-7, degree=0.1, C=100, score=-0.01284  -  0.0s\n",
      "[CV] gamma=1.0e-7, degree=0.1, C=100\n",
      "[CV] gamma=1.0e-7, degree=0.1, C=100, score=-0.21247  -  0.0s\n",
      "[CV] gamma=1.0e-7, degree=0.2, C=100\n",
      "[CV] gamma=1.0e-7, degree=0.2, C=100, score=0.05291  -  0.0s\n",
      "[CV] gamma=1.0e-7, degree=0.2, C=100\n",
      "[CV] gamma=1.0e-7, degree=0.2, C=100, score=-0.01284  -  0.0s\n",
      "[CV] gamma=1.0e-7, degree=0.2, C=100\n"
     ]
    },
    {
     "name": "stdout",
     "output_type": "stream",
     "text": [
      "[CV] gamma=1.0e-7, degree=0.2, C=100, score=-0.21247  -  0.0s\n",
      "[CV] gamma=1.0e-7, degree=0.3, C=100\n",
      "[CV] gamma=1.0e-7, degree=0.3, C=100, score=0.05291  -  0.0s\n",
      "[CV] gamma=1.0e-7, degree=0.3, C=100\n",
      "[CV] gamma=1.0e-7, degree=0.3, C=100, score=-0.01284  -  0.0s\n",
      "[CV] gamma=1.0e-7, degree=0.3, C=100\n",
      "[CV] gamma=1.0e-7, degree=0.3, C=100, score=-0.21247  -  0.0s\n",
      "[CV] gamma=1.0e-7, degree=0.4, C=100\n",
      "[CV] gamma=1.0e-7, degree=0.4, C=100, score=0.05291  -  0.0s\n",
      "[CV] gamma=1.0e-7, degree=0.4, C=100"
     ]
    },
    {
     "name": "stdout",
     "output_type": "stream",
     "text": [
      "\n",
      "[CV] gamma=1.0e-7, degree=0.4, C=100, score=-0.01284  -  0.0s\n",
      "[CV] gamma=1.0e-7, degree=0.4, C=100\n",
      "[CV] gamma=1.0e-7, degree=0.4, C=100, score=-0.21247  -  0.0s\n",
      "[CV] gamma=1.0e-7, degree=0.5, C=100\n",
      "[CV] gamma=1.0e-7, degree=0.5, C=100, score=0.05291  -  0.0s\n",
      "[CV] gamma=1.0e-7, degree=0.5, C=100\n",
      "[CV] gamma=1.0e-7, degree=0.5, C=100, score=-0.01284  -  0.0s\n",
      "[CV] gamma=1.0e-7, degree=0.5, C=100\n",
      "[CV] gamma=1.0e-7, degree=0.5, C=100, score=-0.21247  -  0.0s\n"
     ]
    },
    {
     "name": "stdout",
     "output_type": "stream",
     "text": [
      "[CV] gamma=1.0e-7, degree=0.6, C=100\n",
      "[CV] gamma=1.0e-7, degree=0.6, C=100, score=0.05291  -  0.0s\n",
      "[CV] gamma=1.0e-7, degree=0.6, C=100\n",
      "[CV] gamma=1.0e-7, degree=0.6, C=100, score=-0.01284  -  0.0s\n",
      "[CV] gamma=1.0e-7, degree=0.6, C=100\n",
      "[CV] gamma=1.0e-7, degree=0.6, C=100, score=-0.21247  -  0.0s\n",
      "[CV] gamma=1.0e-7, degree=0.7, C=100\n",
      "[CV] gamma=1.0e-7, degree=0.7, C=100, score=0.05291  -  0.0s\n",
      "[CV] gamma=1.0e-7, degree=0.7, C=100\n",
      "[CV] gamma=1.0e-7, degree=0.7, C=100, score=-0.01284  -  0.0s\n",
      "[CV] gamma=1.0e-7, degree=0.7, C=100\n"
     ]
    },
    {
     "name": "stdout",
     "output_type": "stream",
     "text": [
      "[CV] gamma=1.0e-7, degree=0.7, C=100, score=-0.21247  -  0.0s\n",
      "[CV] gamma=1.0e-7, degree=0.8, C=100\n",
      "[CV] gamma=1.0e-7, degree=0.8, C=100, score=0.05291  -  0.0s\n",
      "[CV] gamma=1.0e-7, degree=0.8, C=100\n",
      "[CV] gamma=1.0e-7, degree=0.8, C=100, score=-0.01284  -  0.0s\n",
      "[CV] gamma=1.0e-7, degree=0.8, C=100\n",
      "[CV] gamma=1.0e-7, degree=0.8, C=100, score=-0.21247  -  0.0s\n",
      "[CV] gamma=1.0e-7, degree=0.9, C=100\n",
      "[CV] gamma=1.0e-7, degree=0.9, C=100, score=0.05291  -  0.0s\n",
      "[CV] gamma=1.0e-7, degree=0.9, C=100\n"
     ]
    },
    {
     "name": "stdout",
     "output_type": "stream",
     "text": [
      "[CV] gamma=1.0e-7, degree=0.9, C=100, score=-0.01284  -  0.0s\n",
      "[CV] gamma=1.0e-7, degree=0.9, C=100\n",
      "[CV] gamma=1.0e-7, degree=0.9, C=100, score=-0.21247  -  0.0s\n",
      "[CV] gamma=1.0e-7, degree=1.0, C=100\n",
      "[CV] gamma=1.0e-7, degree=1.0, C=100, score=0.05291  -  0.0s\n",
      "[CV] gamma=1.0e-7, degree=1.0, C=100\n",
      "[CV] gamma=1.0e-7, degree=1.0, C=100, score=-0.01284  -  0.0s\n",
      "[CV] gamma=1.0e-7, degree=1.0, C=100\n",
      "[CV] gamma=1.0e-7, degree=1.0, C=100, score=-0.21247  -  0.0s\n",
      "[CV] gamma=1.0e-7, degree=0.1, C=200"
     ]
    },
    {
     "name": "stdout",
     "output_type": "stream",
     "text": [
      "\n",
      "[CV] gamma=1.0e-7, degree=0.1, C=200, score=0.06718  -  0.0s\n",
      "[CV] gamma=1.0e-7, degree=0.1, C=200\n",
      "[CV] gamma=1.0e-7, degree=0.1, C=200, score=0.17489  -  0.0s\n",
      "[CV] gamma=1.0e-7, degree=0.1, C=200\n",
      "[CV] gamma=1.0e-7, degree=0.1, C=200, score=0.11101  -  0.0s\n",
      "[CV] gamma=1.0e-7, degree=0.2, C=200\n",
      "[CV] gamma=1.0e-7, degree=0.2, C=200, score=0.06718  -  0.0s\n",
      "[CV] gamma=1.0e-7, degree=0.2, C=200\n",
      "[CV] gamma=1.0e-7, degree=0.2, C=200, score=0.17489  -  0.0s\n",
      "[CV] gamma=1.0e-7, degree=0.2, C=200\n"
     ]
    },
    {
     "name": "stdout",
     "output_type": "stream",
     "text": [
      "[CV] gamma=1.0e-7, degree=0.2, C=200, score=0.11101  -  0.0s\n",
      "[CV] gamma=1.0e-7, degree=0.3, C=200\n",
      "[CV] gamma=1.0e-7, degree=0.3, C=200, score=0.06718  -  0.0s\n",
      "[CV] gamma=1.0e-7, degree=0.3, C=200\n",
      "[CV] gamma=1.0e-7, degree=0.3, C=200, score=0.17489  -  0.0s\n",
      "[CV] gamma=1.0e-7, degree=0.3, C=200\n",
      "[CV] gamma=1.0e-7, degree=0.3, C=200, score=0.11101  -  0.0s\n",
      "[CV] gamma=1.0e-7, degree=0.4, C=200\n",
      "[CV] gamma=1.0e-7, degree=0.4, C=200, score=0.06718  -  0.0s\n"
     ]
    },
    {
     "name": "stdout",
     "output_type": "stream",
     "text": [
      "[CV] gamma=1.0e-7, degree=0.4, C=200\n",
      "[CV] gamma=1.0e-7, degree=0.4, C=200, score=0.17489  -  0.0s\n",
      "[CV] gamma=1.0e-7, degree=0.4, C=200\n",
      "[CV] gamma=1.0e-7, degree=0.4, C=200, score=0.11101  -  0.0s\n",
      "[CV] gamma=1.0e-7, degree=0.5, C=200\n",
      "[CV] gamma=1.0e-7, degree=0.5, C=200, score=0.06718  -  0.0s\n",
      "[CV] gamma=1.0e-7, degree=0.5, C=200\n",
      "[CV] gamma=1.0e-7, degree=0.5, C=200, score=0.17489  -  0.0s\n",
      "[CV] gamma=1.0e-7, degree=0.5, C=200\n",
      "[CV] gamma=1.0e-7, degree=0.5, C=200, score=0.11101  -  0.0s\n",
      "[CV] gamma=1.0e-7, degree=0.6, C=200"
     ]
    },
    {
     "name": "stdout",
     "output_type": "stream",
     "text": [
      "\n",
      "[CV] gamma=1.0e-7, degree=0.6, C=200, score=0.06718  -  0.0s\n",
      "[CV] gamma=1.0e-7, degree=0.6, C=200\n",
      "[CV] gamma=1.0e-7, degree=0.6, C=200, score=0.17489  -  0.0s\n",
      "[CV] gamma=1.0e-7, degree=0.6, C=200\n",
      "[CV] gamma=1.0e-7, degree=0.6, C=200, score=0.11101  -  0.0s\n",
      "[CV] gamma=1.0e-7, degree=0.7, C=200\n",
      "[CV] gamma=1.0e-7, degree=0.7, C=200, score=0.06718  -  0.0s\n"
     ]
    },
    {
     "name": "stdout",
     "output_type": "stream",
     "text": [
      "[CV] gamma=1.0e-7, degree=0.7, C=200\n",
      "[CV] gamma=1.0e-7, degree=0.7, C=200, score=0.17489  -  0.0s\n",
      "[CV] gamma=1.0e-7, degree=0.7, C=200\n",
      "[CV] gamma=1.0e-7, degree=0.7, C=200, score=0.11101  -  0.0s\n",
      "[CV] gamma=1.0e-7, degree=0.8, C=200\n",
      "[CV] gamma=1.0e-7, degree=0.8, C=200, score=0.06718  -  0.0s\n",
      "[CV] gamma=1.0e-7, degree=0.8, C=200\n",
      "[CV] gamma=1.0e-7, degree=0.8, C=200, score=0.17489  -  0.0s\n",
      "[CV] gamma=1.0e-7, degree=0.8, C=200\n",
      "[CV] gamma=1.0e-7, degree=0.8, C=200, score=0.11101  -  0.0s\n",
      "[CV] gamma=1.0e-7, degree=0.9, C=200\n"
     ]
    },
    {
     "name": "stdout",
     "output_type": "stream",
     "text": [
      "[CV] gamma=1.0e-7, degree=0.9, C=200, score=0.06718  -  0.0s\n",
      "[CV] gamma=1.0e-7, degree=0.9, C=200\n",
      "[CV] gamma=1.0e-7, degree=0.9, C=200, score=0.17489  -  0.0s\n",
      "[CV] gamma=1.0e-7, degree=0.9, C=200\n",
      "[CV] gamma=1.0e-7, degree=0.9, C=200, score=0.11101  -  0.0s\n",
      "[CV] gamma=1.0e-7, degree=1.0, C=200\n",
      "[CV] gamma=1.0e-7, degree=1.0, C=200, score=0.06718  -  0.0s\n",
      "[CV] gamma=1.0e-7, degree=1.0, C=200\n",
      "[CV] gamma=1.0e-7, degree=1.0, C=200, score=0.17489  -  0.0s\n",
      "[CV] gamma=1.0e-7, degree=1.0, C=200\n"
     ]
    },
    {
     "name": "stdout",
     "output_type": "stream",
     "text": [
      "[CV] gamma=1.0e-7, degree=1.0, C=200, score=0.11101  -  0.0s\n",
      "[CV] gamma=1.0e-7, degree=0.1, C=300\n",
      "[CV] gamma=1.0e-7, degree=0.1, C=300, score=0.02419  -  0.0s\n",
      "[CV] gamma=1.0e-7, degree=0.1, C=300\n",
      "[CV] gamma=1.0e-7, degree=0.1, C=300, score=0.23646  -  0.0s\n",
      "[CV] gamma=1.0e-7, degree=0.1, C=300\n",
      "[CV] gamma=1.0e-7, degree=0.1, C=300, score=0.24445  -  0.0s\n",
      "[CV] gamma=1.0e-7, degree=0.2, C=300"
     ]
    },
    {
     "name": "stdout",
     "output_type": "stream",
     "text": [
      "\n",
      "[CV] gamma=1.0e-7, degree=0.2, C=300, score=0.02419  -  0.0s\n",
      "[CV] gamma=1.0e-7, degree=0.2, C=300\n",
      "[CV] gamma=1.0e-7, degree=0.2, C=300, score=0.23646  -  0.0s\n",
      "[CV] gamma=1.0e-7, degree=0.2, C=300\n",
      "[CV] gamma=1.0e-7, degree=0.2, C=300, score=0.24445  -  0.0s\n",
      "[CV] gamma=1.0e-7, degree=0.3, C=300\n",
      "[CV] gamma=1.0e-7, degree=0.3, C=300, score=0.02419  -  0.0s\n",
      "[CV] gamma=1.0e-7, degree=0.3, C=300\n",
      "[CV] gamma=1.0e-7, degree=0.3, C=300, score=0.23646  -  0.0s\n"
     ]
    },
    {
     "name": "stdout",
     "output_type": "stream",
     "text": [
      "[CV] gamma=1.0e-7, degree=0.3, C=300\n",
      "[CV] gamma=1.0e-7, degree=0.3, C=300, score=0.24445  -  0.0s\n",
      "[CV] gamma=1.0e-7, degree=0.4, C=300\n",
      "[CV] gamma=1.0e-7, degree=0.4, C=300, score=0.02419  -  0.0s\n",
      "[CV] gamma=1.0e-7, degree=0.4, C=300\n",
      "[CV] gamma=1.0e-7, degree=0.4, C=300, score=0.23646  -  0.0s\n",
      "[CV] gamma=1.0e-7, degree=0.4, C=300\n"
     ]
    },
    {
     "name": "stdout",
     "output_type": "stream",
     "text": [
      "[CV] gamma=1.0e-7, degree=0.4, C=300, score=0.24445  -  0.0s\n",
      "[CV] gamma=1.0e-7, degree=0.5, C=300\n",
      "[CV] gamma=1.0e-7, degree=0.5, C=300, score=0.02419  -  0.0s\n",
      "[CV] gamma=1.0e-7, degree=0.5, C=300\n",
      "[CV] gamma=1.0e-7, degree=0.5, C=300, score=0.23646  -  0.0s\n",
      "[CV] gamma=1.0e-7, degree=0.5, C=300\n",
      "[CV] gamma=1.0e-7, degree=0.5, C=300, score=0.24445  -  0.0s\n",
      "[CV] gamma=1.0e-7, degree=0.6, C=300"
     ]
    },
    {
     "name": "stdout",
     "output_type": "stream",
     "text": [
      "\n",
      "[CV] gamma=1.0e-7, degree=0.6, C=300, score=0.02419  -  0.0s\n",
      "[CV] gamma=1.0e-7, degree=0.6, C=300\n",
      "[CV] gamma=1.0e-7, degree=0.6, C=300, score=0.23646  -  0.0s\n",
      "[CV] gamma=1.0e-7, degree=0.6, C=300\n",
      "[CV] gamma=1.0e-7, degree=0.6, C=300, score=0.24445  -  0.0s\n",
      "[CV] gamma=1.0e-7, degree=0.7, C=300\n",
      "[CV] gamma=1.0e-7, degree=0.7, C=300, score=0.02419  -  0.0s\n",
      "[CV] gamma=1.0e-7, degree=0.7, C=300\n"
     ]
    },
    {
     "name": "stdout",
     "output_type": "stream",
     "text": [
      "[CV] gamma=1.0e-7, degree=0.7, C=300, score=0.23646  -  0.0s\n",
      "[CV] gamma=1.0e-7, degree=0.7, C=300\n",
      "[CV] gamma=1.0e-7, degree=0.7, C=300, score=0.24445  -  0.0s\n",
      "[CV] gamma=1.0e-7, degree=0.8, C=300\n",
      "[CV] gamma=1.0e-7, degree=0.8, C=300, score=0.02419  -  0.0s\n",
      "[CV] gamma=1.0e-7, degree=0.8, C=300\n",
      "[CV] gamma=1.0e-7, degree=0.8, C=300, score=0.23646  -  0.0s\n",
      "[CV] gamma=1.0e-7, degree=0.8, C=300\n"
     ]
    },
    {
     "name": "stdout",
     "output_type": "stream",
     "text": [
      "[CV] gamma=1.0e-7, degree=0.8, C=300, score=0.24445  -  0.0s\n",
      "[CV] gamma=1.0e-7, degree=0.9, C=300\n",
      "[CV] gamma=1.0e-7, degree=0.9, C=300, score=0.02419  -  0.0s\n",
      "[CV] gamma=1.0e-7, degree=0.9, C=300\n",
      "[CV] gamma=1.0e-7, degree=0.9, C=300, score=0.23646  -  0.0s\n",
      "[CV] gamma=1.0e-7, degree=0.9, C=300\n",
      "[CV] gamma=1.0e-7, degree=0.9, C=300, score=0.24445  -  0.0s\n",
      "[CV] gamma=1.0e-7, degree=1.0, C=300"
     ]
    },
    {
     "name": "stdout",
     "output_type": "stream",
     "text": [
      "\n",
      "[CV] gamma=1.0e-7, degree=1.0, C=300, score=0.02419  -  0.0s\n",
      "[CV] gamma=1.0e-7, degree=1.0, C=300\n",
      "[CV] gamma=1.0e-7, degree=1.0, C=300, score=0.23646  -  0.0s\n",
      "[CV] gamma=1.0e-7, degree=1.0, C=300\n",
      "[CV] gamma=1.0e-7, degree=1.0, C=300, score=0.24445  -  0.0s\n",
      "[CV] gamma=1.0e-7, degree=0.1, C=400\n",
      "[CV] gamma=1.0e-7, degree=0.1, C=400, score=-0.00390  -  0.0s\n",
      "[CV] gamma=1.0e-7, degree=0.1, C=400"
     ]
    },
    {
     "name": "stdout",
     "output_type": "stream",
     "text": [
      "\n",
      "[CV] gamma=1.0e-7, degree=0.1, C=400, score=0.29307  -  0.0s\n",
      "[CV] gamma=1.0e-7, degree=0.1, C=400\n",
      "[CV] gamma=1.0e-7, degree=0.1, C=400, score=0.30767  -  0.0s\n",
      "[CV] gamma=1.0e-7, degree=0.2, C=400\n",
      "[CV] gamma=1.0e-7, degree=0.2, C=400, score=-0.00390  -  0.0s\n",
      "[CV] gamma=1.0e-7, degree=0.2, C=400\n",
      "[CV] gamma=1.0e-7, degree=0.2, C=400, score=0.29307  -  0.0s\n",
      "[CV] gamma=1.0e-7, degree=0.2, C=400\n"
     ]
    },
    {
     "name": "stdout",
     "output_type": "stream",
     "text": [
      "[CV] gamma=1.0e-7, degree=0.2, C=400, score=0.30767  -  0.0s\n",
      "[CV] gamma=1.0e-7, degree=0.3, C=400\n",
      "[CV] gamma=1.0e-7, degree=0.3, C=400, score=-0.00390  -  0.0s\n",
      "[CV] gamma=1.0e-7, degree=0.3, C=400\n",
      "[CV] gamma=1.0e-7, degree=0.3, C=400, score=0.29307  -  0.0s\n",
      "[CV] gamma=1.0e-7, degree=0.3, C=400\n",
      "[CV] gamma=1.0e-7, degree=0.3, C=400, score=0.30767  -  0.0s\n",
      "[CV] gamma=1.0e-7, degree=0.4, C=400\n"
     ]
    },
    {
     "name": "stdout",
     "output_type": "stream",
     "text": [
      "[CV] gamma=1.0e-7, degree=0.4, C=400, score=-0.00390  -  0.0s\n",
      "[CV] gamma=1.0e-7, degree=0.4, C=400\n",
      "[CV] gamma=1.0e-7, degree=0.4, C=400, score=0.29307  -  0.0s\n",
      "[CV] gamma=1.0e-7, degree=0.4, C=400\n",
      "[CV] gamma=1.0e-7, degree=0.4, C=400, score=0.30767  -  0.0s\n",
      "[CV] gamma=1.0e-7, degree=0.5, C=400\n",
      "[CV] gamma=1.0e-7, degree=0.5, C=400, score=-0.00390  -  0.0s\n",
      "[CV] gamma=1.0e-7, degree=0.5, C=400\n"
     ]
    },
    {
     "name": "stdout",
     "output_type": "stream",
     "text": [
      "[CV] gamma=1.0e-7, degree=0.5, C=400, score=0.29307  -  0.0s\n",
      "[CV] gamma=1.0e-7, degree=0.5, C=400\n",
      "[CV] gamma=1.0e-7, degree=0.5, C=400, score=0.30767  -  0.0s\n",
      "[CV] gamma=1.0e-7, degree=0.6, C=400\n",
      "[CV] gamma=1.0e-7, degree=0.6, C=400, score=-0.00390  -  0.0s\n",
      "[CV] gamma=1.0e-7, degree=0.6, C=400\n"
     ]
    },
    {
     "name": "stdout",
     "output_type": "stream",
     "text": [
      "[CV] gamma=1.0e-7, degree=0.6, C=400, score=0.29307  -  0.0s\n",
      "[CV] gamma=1.0e-7, degree=0.6, C=400\n",
      "[CV] gamma=1.0e-7, degree=0.6, C=400, score=0.30767  -  0.0s\n",
      "[CV] gamma=1.0e-7, degree=0.7, C=400\n",
      "[CV] gamma=1.0e-7, degree=0.7, C=400, score=-0.00390  -  0.0s\n",
      "[CV] gamma=1.0e-7, degree=0.7, C=400\n"
     ]
    },
    {
     "name": "stdout",
     "output_type": "stream",
     "text": [
      "[CV] gamma=1.0e-7, degree=0.7, C=400, score=0.29307  -  0.0s\n",
      "[CV] gamma=1.0e-7, degree=0.7, C=400\n",
      "[CV] gamma=1.0e-7, degree=0.7, C=400, score=0.30767  -  0.0s\n",
      "[CV] gamma=1.0e-7, degree=0.8, C=400\n",
      "[CV] gamma=1.0e-7, degree=0.8, C=400, score=-0.00390  -  0.0s\n",
      "[CV] gamma=1.0e-7, degree=0.8, C=400\n"
     ]
    },
    {
     "name": "stdout",
     "output_type": "stream",
     "text": [
      "[CV] gamma=1.0e-7, degree=0.8, C=400, score=0.29307  -  0.0s\n",
      "[CV] gamma=1.0e-7, degree=0.8, C=400\n",
      "[CV] gamma=1.0e-7, degree=0.8, C=400, score=0.30767  -  0.0s\n",
      "[CV] gamma=1.0e-7, degree=0.9, C=400\n",
      "[CV] gamma=1.0e-7, degree=0.9, C=400, score=-0.00390  -  0.0s\n",
      "[CV] gamma=1.0e-7, degree=0.9, C=400\n"
     ]
    },
    {
     "name": "stdout",
     "output_type": "stream",
     "text": [
      "[CV] gamma=1.0e-7, degree=0.9, C=400, score=0.29307  -  0.0s\n",
      "[CV] gamma=1.0e-7, degree=0.9, C=400\n",
      "[CV] gamma=1.0e-7, degree=0.9, C=400, score=0.30767  -  0.0s\n",
      "[CV] gamma=1.0e-7, degree=1.0, C=400\n",
      "[CV] gamma=1.0e-7, degree=1.0, C=400, score=-0.00390  -  0.0s\n",
      "[CV] gamma=1.0e-7, degree=1.0, C=400\n",
      "[CV] gamma=1.0e-7, degree=1.0, C=400, score=0.29307  -  0.0s\n",
      "[CV] gamma=1.0e-7, degree=1.0, C=400\n"
     ]
    },
    {
     "name": "stdout",
     "output_type": "stream",
     "text": [
      "[CV] gamma=1.0e-7, degree=1.0, C=400, score=0.30767  -  0.0s\n",
      "[CV] gamma=1.0e-7, degree=0.1, C=500\n",
      "[CV] gamma=1.0e-7, degree=0.1, C=500, score=-0.05715  -  0.0s\n",
      "[CV] gamma=1.0e-7, degree=0.1, C=500\n",
      "[CV] gamma=1.0e-7, degree=0.1, C=500, score=0.31352  -  0.0s\n",
      "[CV] gamma=1.0e-7, degree=0.1, C=500"
     ]
    },
    {
     "name": "stdout",
     "output_type": "stream",
     "text": [
      "\n",
      "[CV] gamma=1.0e-7, degree=0.1, C=500, score=0.33980  -  0.0s\n",
      "[CV] gamma=1.0e-7, degree=0.2, C=500\n",
      "[CV] gamma=1.0e-7, degree=0.2, C=500, score=-0.05715  -  0.0s\n",
      "[CV] gamma=1.0e-7, degree=0.2, C=500\n",
      "[CV] gamma=1.0e-7, degree=0.2, C=500, score=0.31352  -  0.0s\n",
      "[CV] gamma=1.0e-7, degree=0.2, C=500\n"
     ]
    },
    {
     "name": "stdout",
     "output_type": "stream",
     "text": [
      "[CV] gamma=1.0e-7, degree=0.2, C=500, score=0.33980  -  0.0s\n",
      "[CV] gamma=1.0e-7, degree=0.3, C=500\n",
      "[CV] gamma=1.0e-7, degree=0.3, C=500, score=-0.05715  -  0.0s\n",
      "[CV] gamma=1.0e-7, degree=0.3, C=500\n",
      "[CV] gamma=1.0e-7, degree=0.3, C=500, score=0.31352  -  0.0s\n",
      "[CV] gamma=1.0e-7, degree=0.3, C=500"
     ]
    },
    {
     "name": "stdout",
     "output_type": "stream",
     "text": [
      "\n",
      "[CV] gamma=1.0e-7, degree=0.3, C=500, score=0.33980  -  0.0s\n",
      "[CV] gamma=1.0e-7, degree=0.4, C=500\n",
      "[CV] gamma=1.0e-7, degree=0.4, C=500, score=-0.05715  -  0.0s\n",
      "[CV] gamma=1.0e-7, degree=0.4, C=500\n",
      "[CV] gamma=1.0e-7, degree=0.4, C=500, score=0.31352  -  0.0s\n",
      "[CV] gamma=1.0e-7, degree=0.4, C=500\n",
      "[CV] gamma=1.0e-7, degree=0.4, C=500, score=0.33980  -  0.0s\n",
      "[CV] gamma=1.0e-7, degree=0.5, C=500"
     ]
    },
    {
     "name": "stdout",
     "output_type": "stream",
     "text": [
      "\n",
      "[CV] gamma=1.0e-7, degree=0.5, C=500, score=-0.05715  -  0.0s\n",
      "[CV] gamma=1.0e-7, degree=0.5, C=500\n",
      "[CV] gamma=1.0e-7, degree=0.5, C=500, score=0.31352  -  0.0s\n",
      "[CV] gamma=1.0e-7, degree=0.5, C=500\n",
      "[CV] gamma=1.0e-7, degree=0.5, C=500, score=0.33980  -  0.0s\n",
      "[CV] gamma=1.0e-7, degree=0.6, C=500\n",
      "[CV] gamma=1.0e-7, degree=0.6, C=500, score=-0.05715  -  0.0s\n",
      "[CV] gamma=1.0e-7, degree=0.6, C=500\n"
     ]
    },
    {
     "name": "stdout",
     "output_type": "stream",
     "text": [
      "[CV] gamma=1.0e-7, degree=0.6, C=500, score=0.31352  -  0.0s\n",
      "[CV] gamma=1.0e-7, degree=0.6, C=500\n",
      "[CV] gamma=1.0e-7, degree=0.6, C=500, score=0.33980  -  0.0s\n",
      "[CV] gamma=1.0e-7, degree=0.7, C=500\n",
      "[CV] gamma=1.0e-7, degree=0.7, C=500, score=-0.05715  -  0.0s\n",
      "[CV] gamma=1.0e-7, degree=0.7, C=500\n",
      "[CV] gamma=1.0e-7, degree=0.7, C=500, score=0.31352  -  0.0s\n",
      "[CV] gamma=1.0e-7, degree=0.7, C=500"
     ]
    },
    {
     "name": "stdout",
     "output_type": "stream",
     "text": [
      "\n",
      "[CV] gamma=1.0e-7, degree=0.7, C=500, score=0.33980  -  0.0s\n",
      "[CV] gamma=1.0e-7, degree=0.8, C=500\n",
      "[CV] gamma=1.0e-7, degree=0.8, C=500, score=-0.05715  -  0.0s\n",
      "[CV] gamma=1.0e-7, degree=0.8, C=500\n",
      "[CV] gamma=1.0e-7, degree=0.8, C=500, score=0.31352  -  0.0s\n",
      "[CV] gamma=1.0e-7, degree=0.8, C=500\n",
      "[CV] gamma=1.0e-7, degree=0.8, C=500, score=0.33980  -  0.0s\n",
      "[CV] gamma=1.0e-7, degree=0.9, C=500\n"
     ]
    },
    {
     "name": "stdout",
     "output_type": "stream",
     "text": [
      "[CV] gamma=1.0e-7, degree=0.9, C=500, score=-0.05715  -  0.0s\n",
      "[CV] gamma=1.0e-7, degree=0.9, C=500\n",
      "[CV] gamma=1.0e-7, degree=0.9, C=500, score=0.31352  -  0.0s\n",
      "[CV] gamma=1.0e-7, degree=0.9, C=500\n",
      "[CV] gamma=1.0e-7, degree=0.9, C=500, score=0.33980  -  0.0s\n",
      "[CV] gamma=1.0e-7, degree=1.0, C=500\n",
      "[CV] gamma=1.0e-7, degree=1.0, C=500, score=-0.05715  -  0.0s\n",
      "[CV] gamma=1.0e-7, degree=1.0, C=500"
     ]
    },
    {
     "name": "stdout",
     "output_type": "stream",
     "text": [
      "\n",
      "[CV] gamma=1.0e-7, degree=1.0, C=500, score=0.31352  -  0.0s\n",
      "[CV] gamma=1.0e-7, degree=1.0, C=500\n",
      "[CV] gamma=1.0e-7, degree=1.0, C=500, score=0.33980  -  0.0s\n",
      "[CV] gamma=1.0e-7, degree=0.1, C=600\n",
      "[CV] gamma=1.0e-7, degree=0.1, C=600, score=-0.06949  -  0.0s\n",
      "[CV] gamma=1.0e-7, degree=0.1, C=600"
     ]
    },
    {
     "name": "stdout",
     "output_type": "stream",
     "text": [
      "\n",
      "[CV] gamma=1.0e-7, degree=0.1, C=600, score=0.33003  -  0.0s\n",
      "[CV] gamma=1.0e-7, degree=0.1, C=600\n",
      "[CV] gamma=1.0e-7, degree=0.1, C=600, score=0.35499  -  0.0s\n",
      "[CV] gamma=1.0e-7, degree=0.2, C=600\n",
      "[CV] gamma=1.0e-7, degree=0.2, C=600, score=-0.06949  -  0.0s\n",
      "[CV] gamma=1.0e-7, degree=0.2, C=600\n"
     ]
    },
    {
     "name": "stdout",
     "output_type": "stream",
     "text": [
      "[CV] gamma=1.0e-7, degree=0.2, C=600, score=0.33003  -  0.0s\n",
      "[CV] gamma=1.0e-7, degree=0.2, C=600\n",
      "[CV] gamma=1.0e-7, degree=0.2, C=600, score=0.35499  -  0.0s\n",
      "[CV] gamma=1.0e-7, degree=0.3, C=600\n",
      "[CV] gamma=1.0e-7, degree=0.3, C=600, score=-0.06949  -  0.0s\n",
      "[CV] gamma=1.0e-7, degree=0.3, C=600\n"
     ]
    },
    {
     "name": "stdout",
     "output_type": "stream",
     "text": [
      "[CV] gamma=1.0e-7, degree=0.3, C=600, score=0.33003  -  0.0s\n",
      "[CV] gamma=1.0e-7, degree=0.3, C=600\n",
      "[CV] gamma=1.0e-7, degree=0.3, C=600, score=0.35499  -  0.0s\n",
      "[CV] gamma=1.0e-7, degree=0.4, C=600\n",
      "[CV] gamma=1.0e-7, degree=0.4, C=600, score=-0.06949  -  0.0s\n",
      "[CV] gamma=1.0e-7, degree=0.4, C=600\n",
      "[CV] gamma=1.0e-7, degree=0.4, C=600, score=0.33003  -  0.0s\n",
      "[CV] gamma=1.0e-7, degree=0.4, C=600"
     ]
    },
    {
     "name": "stdout",
     "output_type": "stream",
     "text": [
      "\n",
      "[CV] gamma=1.0e-7, degree=0.4, C=600, score=0.35499  -  0.0s\n",
      "[CV] gamma=1.0e-7, degree=0.5, C=600\n",
      "[CV] gamma=1.0e-7, degree=0.5, C=600, score=-0.06949  -  0.0s\n",
      "[CV] gamma=1.0e-7, degree=0.5, C=600\n",
      "[CV] gamma=1.0e-7, degree=0.5, C=600, score=0.33003  -  0.0s\n",
      "[CV] gamma=1.0e-7, degree=0.5, C=600\n",
      "[CV] gamma=1.0e-7, degree=0.5, C=600, score=0.35499  -  0.0s\n",
      "[CV] gamma=1.0e-7, degree=0.6, C=600\n"
     ]
    },
    {
     "name": "stdout",
     "output_type": "stream",
     "text": [
      "[CV] gamma=1.0e-7, degree=0.6, C=600, score=-0.06949  -  0.0s\n",
      "[CV] gamma=1.0e-7, degree=0.6, C=600\n",
      "[CV] gamma=1.0e-7, degree=0.6, C=600, score=0.33003  -  0.0s\n",
      "[CV] gamma=1.0e-7, degree=0.6, C=600\n",
      "[CV] gamma=1.0e-7, degree=0.6, C=600, score=0.35499  -  0.0s\n",
      "[CV] gamma=1.0e-7, degree=0.7, C=600\n",
      "[CV] gamma=1.0e-7, degree=0.7, C=600, score=-0.06949  -  0.0s\n",
      "[CV] gamma=1.0e-7, degree=0.7, C=600\n"
     ]
    },
    {
     "name": "stdout",
     "output_type": "stream",
     "text": [
      "[CV] gamma=1.0e-7, degree=0.7, C=600, score=0.33003  -  0.0s\n",
      "[CV] gamma=1.0e-7, degree=0.7, C=600\n",
      "[CV] gamma=1.0e-7, degree=0.7, C=600, score=0.35499  -  0.0s\n",
      "[CV] gamma=1.0e-7, degree=0.8, C=600\n",
      "[CV] gamma=1.0e-7, degree=0.8, C=600, score=-0.06949  -  0.0s\n",
      "[CV] gamma=1.0e-7, degree=0.8, C=600\n",
      "[CV] gamma=1.0e-7, degree=0.8, C=600, score=0.33003  -  0.0s\n",
      "[CV] gamma=1.0e-7, degree=0.8, C=600\n"
     ]
    },
    {
     "name": "stdout",
     "output_type": "stream",
     "text": [
      "[CV] gamma=1.0e-7, degree=0.8, C=600, score=0.35499  -  0.0s\n",
      "[CV] gamma=1.0e-7, degree=0.9, C=600\n",
      "[CV] gamma=1.0e-7, degree=0.9, C=600, score=-0.06949  -  0.0s\n",
      "[CV] gamma=1.0e-7, degree=0.9, C=600\n",
      "[CV] gamma=1.0e-7, degree=0.9, C=600, score=0.33003  -  0.0s\n",
      "[CV] gamma=1.0e-7, degree=0.9, C=600\n",
      "[CV] gamma=1.0e-7, degree=0.9, C=600, score=0.35499  -  0.0s\n",
      "[CV] gamma=1.0e-7, degree=1.0, C=600\n"
     ]
    },
    {
     "name": "stdout",
     "output_type": "stream",
     "text": [
      "[CV] gamma=1.0e-7, degree=1.0, C=600, score=-0.06949  -  0.0s\n",
      "[CV] gamma=1.0e-7, degree=1.0, C=600\n",
      "[CV] gamma=1.0e-7, degree=1.0, C=600, score=0.33003  -  0.0s\n",
      "[CV] gamma=1.0e-7, degree=1.0, C=600\n",
      "[CV] gamma=1.0e-7, degree=1.0, C=600, score=0.35499  -  0.0s\n",
      "[CV] gamma=1.0e-7, degree=0.1, C=700\n",
      "[CV] gamma=1.0e-7, degree=0.1, C=700, score=-0.10883  -  0.0s\n",
      "[CV] gamma=1.0e-7, degree=0.1, C=700"
     ]
    },
    {
     "name": "stdout",
     "output_type": "stream",
     "text": [
      "\n",
      "[CV] gamma=1.0e-7, degree=0.1, C=700, score=0.34088  -  0.0s\n",
      "[CV] gamma=1.0e-7, degree=0.1, C=700\n",
      "[CV] gamma=1.0e-7, degree=0.1, C=700, score=0.37381  -  0.0s\n",
      "[CV] gamma=1.0e-7, degree=0.2, C=700\n",
      "[CV] gamma=1.0e-7, degree=0.2, C=700, score=-0.10883  -  0.0s\n",
      "[CV] gamma=1.0e-7, degree=0.2, C=700\n",
      "[CV] gamma=1.0e-7, degree=0.2, C=700, score=0.34088  -  0.0s\n",
      "[CV] gamma=1.0e-7, degree=0.2, C=700\n"
     ]
    },
    {
     "name": "stdout",
     "output_type": "stream",
     "text": [
      "[CV] gamma=1.0e-7, degree=0.2, C=700, score=0.37381  -  0.0s\n",
      "[CV] gamma=1.0e-7, degree=0.3, C=700\n",
      "[CV] gamma=1.0e-7, degree=0.3, C=700, score=-0.10883  -  0.0s\n",
      "[CV] gamma=1.0e-7, degree=0.3, C=700\n",
      "[CV] gamma=1.0e-7, degree=0.3, C=700, score=0.34088  -  0.0s\n",
      "[CV] gamma=1.0e-7, degree=0.3, C=700\n",
      "[CV] gamma=1.0e-7, degree=0.3, C=700, score=0.37381  -  0.0s\n",
      "[CV] gamma=1.0e-7, degree=0.4, C=700"
     ]
    },
    {
     "name": "stdout",
     "output_type": "stream",
     "text": [
      "\n",
      "[CV] gamma=1.0e-7, degree=0.4, C=700, score=-0.10883  -  0.0s\n",
      "[CV] gamma=1.0e-7, degree=0.4, C=700\n",
      "[CV] gamma=1.0e-7, degree=0.4, C=700, score=0.34088  -  0.0s\n",
      "[CV] gamma=1.0e-7, degree=0.4, C=700\n",
      "[CV] gamma=1.0e-7, degree=0.4, C=700, score=0.37381  -  0.0s\n",
      "[CV] gamma=1.0e-7, degree=0.5, C=700\n",
      "[CV] gamma=1.0e-7, degree=0.5, C=700, score=-0.10883  -  0.0s\n",
      "[CV] gamma=1.0e-7, degree=0.5, C=700"
     ]
    },
    {
     "name": "stdout",
     "output_type": "stream",
     "text": [
      "\n",
      "[CV] gamma=1.0e-7, degree=0.5, C=700, score=0.34088  -  0.0s\n",
      "[CV] gamma=1.0e-7, degree=0.5, C=700\n",
      "[CV] gamma=1.0e-7, degree=0.5, C=700, score=0.37381  -  0.0s\n",
      "[CV] gamma=1.0e-7, degree=0.6, C=700\n",
      "[CV] gamma=1.0e-7, degree=0.6, C=700, score=-0.10883  -  0.0s\n",
      "[CV] gamma=1.0e-7, degree=0.6, C=700\n",
      "[CV] gamma=1.0e-7, degree=0.6, C=700, score=0.34088  -  0.0s\n",
      "[CV] gamma=1.0e-7, degree=0.6, C=700\n"
     ]
    },
    {
     "name": "stdout",
     "output_type": "stream",
     "text": [
      "[CV] gamma=1.0e-7, degree=0.6, C=700, score=0.37381  -  0.0s\n",
      "[CV] gamma=1.0e-7, degree=0.7, C=700\n",
      "[CV] gamma=1.0e-7, degree=0.7, C=700, score=-0.10883  -  0.0s\n",
      "[CV] gamma=1.0e-7, degree=0.7, C=700\n",
      "[CV] gamma=1.0e-7, degree=0.7, C=700, score=0.34088  -  0.0s\n",
      "[CV] gamma=1.0e-7, degree=0.7, C=700\n",
      "[CV] gamma=1.0e-7, degree=0.7, C=700, score=0.37381  -  0.0s\n",
      "[CV] gamma=1.0e-7, degree=0.8, C=700"
     ]
    },
    {
     "name": "stdout",
     "output_type": "stream",
     "text": [
      "\n",
      "[CV] gamma=1.0e-7, degree=0.8, C=700, score=-0.10883  -  0.0s\n",
      "[CV] gamma=1.0e-7, degree=0.8, C=700\n",
      "[CV] gamma=1.0e-7, degree=0.8, C=700, score=0.34088  -  0.0s\n",
      "[CV] gamma=1.0e-7, degree=0.8, C=700\n",
      "[CV] gamma=1.0e-7, degree=0.8, C=700, score=0.37381  -  0.0s\n",
      "[CV] gamma=1.0e-7, degree=0.9, C=700\n",
      "[CV] gamma=1.0e-7, degree=0.9, C=700, score=-0.10883  -  0.0s\n",
      "[CV] gamma=1.0e-7, degree=0.9, C=700"
     ]
    },
    {
     "name": "stdout",
     "output_type": "stream",
     "text": [
      "\n",
      "[CV] gamma=1.0e-7, degree=0.9, C=700, score=0.34088  -  0.0s\n",
      "[CV] gamma=1.0e-7, degree=0.9, C=700\n",
      "[CV] gamma=1.0e-7, degree=0.9, C=700, score=0.37381  -  0.0s\n",
      "[CV] gamma=1.0e-7, degree=1.0, C=700\n",
      "[CV] gamma=1.0e-7, degree=1.0, C=700, score=-0.10883  -  0.0s\n",
      "[CV] gamma=1.0e-7, degree=1.0, C=700\n",
      "[CV] gamma=1.0e-7, degree=1.0, C=700, score=0.34088  -  0.0s\n",
      "[CV] gamma=1.0e-7, degree=1.0, C=700\n"
     ]
    },
    {
     "name": "stdout",
     "output_type": "stream",
     "text": [
      "[CV] gamma=1.0e-7, degree=1.0, C=700, score=0.37381  -  0.0s\n",
      "[CV] gamma=1.0e-7, degree=0.1, C=800\n",
      "[CV] gamma=1.0e-7, degree=0.1, C=800, score=-0.11542  -  0.0s\n",
      "[CV] gamma=1.0e-7, degree=0.1, C=800\n",
      "[CV] gamma=1.0e-7, degree=0.1, C=800, score=0.34661  -  0.0s\n",
      "[CV] gamma=1.0e-7, degree=0.1, C=800\n",
      "[CV] gamma=1.0e-7, degree=0.1, C=800, score=0.38032  -  0.0s\n",
      "[CV] gamma=1.0e-7, degree=0.2, C=800\n"
     ]
    },
    {
     "name": "stdout",
     "output_type": "stream",
     "text": [
      "[CV] gamma=1.0e-7, degree=0.2, C=800, score=-0.11542  -  0.0s\n",
      "[CV] gamma=1.0e-7, degree=0.2, C=800\n",
      "[CV] gamma=1.0e-7, degree=0.2, C=800, score=0.34661  -  0.0s\n",
      "[CV] gamma=1.0e-7, degree=0.2, C=800\n",
      "[CV] gamma=1.0e-7, degree=0.2, C=800, score=0.38032  -  0.0s\n",
      "[CV] gamma=1.0e-7, degree=0.3, C=800\n",
      "[CV] gamma=1.0e-7, degree=0.3, C=800, score=-0.11542  -  0.0s\n",
      "[CV] gamma=1.0e-7, degree=0.3, C=800"
     ]
    },
    {
     "name": "stdout",
     "output_type": "stream",
     "text": [
      "\n",
      "[CV] gamma=1.0e-7, degree=0.3, C=800, score=0.34661  -  0.0s\n",
      "[CV] gamma=1.0e-7, degree=0.3, C=800\n",
      "[CV] gamma=1.0e-7, degree=0.3, C=800, score=0.38032  -  0.0s\n",
      "[CV] gamma=1.0e-7, degree=0.4, C=800\n",
      "[CV] gamma=1.0e-7, degree=0.4, C=800, score=-0.11542  -  0.0s\n",
      "[CV] gamma=1.0e-7, degree=0.4, C=800\n",
      "[CV] gamma=1.0e-7, degree=0.4, C=800, score=0.34661  -  0.0s\n",
      "[CV] gamma=1.0e-7, degree=0.4, C=800\n"
     ]
    },
    {
     "name": "stdout",
     "output_type": "stream",
     "text": [
      "[CV] gamma=1.0e-7, degree=0.4, C=800, score=0.38032  -  0.0s\n",
      "[CV] gamma=1.0e-7, degree=0.5, C=800\n",
      "[CV] gamma=1.0e-7, degree=0.5, C=800, score=-0.11542  -  0.0s\n",
      "[CV] gamma=1.0e-7, degree=0.5, C=800\n",
      "[CV] gamma=1.0e-7, degree=0.5, C=800, score=0.34661  -  0.0s\n",
      "[CV] gamma=1.0e-7, degree=0.5, C=800\n",
      "[CV] gamma=1.0e-7, degree=0.5, C=800, score=0.38032  -  0.0s\n",
      "[CV] gamma=1.0e-7, degree=0.6, C=800\n"
     ]
    },
    {
     "name": "stdout",
     "output_type": "stream",
     "text": [
      "[CV] gamma=1.0e-7, degree=0.6, C=800, score=-0.11542  -  0.0s\n",
      "[CV] gamma=1.0e-7, degree=0.6, C=800\n",
      "[CV] gamma=1.0e-7, degree=0.6, C=800, score=0.34661  -  0.0s\n",
      "[CV] gamma=1.0e-7, degree=0.6, C=800\n",
      "[CV] gamma=1.0e-7, degree=0.6, C=800, score=0.38032  -  0.0s\n",
      "[CV] gamma=1.0e-7, degree=0.7, C=800\n",
      "[CV] gamma=1.0e-7, degree=0.7, C=800, score=-0.11542  -  0.0s\n",
      "[CV] gamma=1.0e-7, degree=0.7, C=800\n"
     ]
    },
    {
     "name": "stdout",
     "output_type": "stream",
     "text": [
      "[CV] gamma=1.0e-7, degree=0.7, C=800, score=0.34661  -  0.0s\n",
      "[CV] gamma=1.0e-7, degree=0.7, C=800\n",
      "[CV] gamma=1.0e-7, degree=0.7, C=800, score=0.38032  -  0.0s\n",
      "[CV] gamma=1.0e-7, degree=0.8, C=800\n",
      "[CV] gamma=1.0e-7, degree=0.8, C=800, score=-0.11542  -  0.0s\n",
      "[CV] gamma=1.0e-7, degree=0.8, C=800\n",
      "[CV] gamma=1.0e-7, degree=0.8, C=800, score=0.34661  -  0.0s\n",
      "[CV] gamma=1.0e-7, degree=0.8, C=800"
     ]
    },
    {
     "name": "stdout",
     "output_type": "stream",
     "text": [
      "\n",
      "[CV] gamma=1.0e-7, degree=0.8, C=800, score=0.38032  -  0.0s\n",
      "[CV] gamma=1.0e-7, degree=0.9, C=800\n",
      "[CV] gamma=1.0e-7, degree=0.9, C=800, score=-0.11542  -  0.0s\n",
      "[CV] gamma=1.0e-7, degree=0.9, C=800\n",
      "[CV] gamma=1.0e-7, degree=0.9, C=800, score=0.34661  -  0.0s\n",
      "[CV] gamma=1.0e-7, degree=0.9, C=800\n",
      "[CV] gamma=1.0e-7, degree=0.9, C=800, score=0.38032  -  0.0s\n",
      "[CV] gamma=1.0e-7, degree=1.0, C=800"
     ]
    },
    {
     "name": "stdout",
     "output_type": "stream",
     "text": [
      "\n",
      "[CV] gamma=1.0e-7, degree=1.0, C=800, score=-0.11542  -  0.0s\n",
      "[CV] gamma=1.0e-7, degree=1.0, C=800\n",
      "[CV] gamma=1.0e-7, degree=1.0, C=800, score=0.34661  -  0.0s\n",
      "[CV] gamma=1.0e-7, degree=1.0, C=800\n",
      "[CV] gamma=1.0e-7, degree=1.0, C=800, score=0.38032  -  0.0s\n",
      "[CV] gamma=1.0e-7, degree=0.1, C=900\n",
      "[CV] gamma=1.0e-7, degree=0.1, C=900, score=-0.12192  -  0.0s\n",
      "[CV] gamma=1.0e-7, degree=0.1, C=900\n"
     ]
    },
    {
     "name": "stdout",
     "output_type": "stream",
     "text": [
      "[CV] gamma=1.0e-7, degree=0.1, C=900, score=0.36611  -  0.0s\n",
      "[CV] gamma=1.0e-7, degree=0.1, C=900\n",
      "[CV] gamma=1.0e-7, degree=0.1, C=900, score=0.38648  -  0.0s\n",
      "[CV] gamma=1.0e-7, degree=0.2, C=900\n",
      "[CV] gamma=1.0e-7, degree=0.2, C=900, score=-0.12192  -  0.0s\n",
      "[CV] gamma=1.0e-7, degree=0.2, C=900\n",
      "[CV] gamma=1.0e-7, degree=0.2, C=900, score=0.36611  -  0.0s\n",
      "[CV] gamma=1.0e-7, degree=0.2, C=900\n"
     ]
    },
    {
     "name": "stdout",
     "output_type": "stream",
     "text": [
      "[CV] gamma=1.0e-7, degree=0.2, C=900, score=0.38648  -  0.0s\n",
      "[CV] gamma=1.0e-7, degree=0.3, C=900\n",
      "[CV] gamma=1.0e-7, degree=0.3, C=900, score=-0.12192  -  0.0s\n",
      "[CV] gamma=1.0e-7, degree=0.3, C=900\n",
      "[CV] gamma=1.0e-7, degree=0.3, C=900, score=0.36611  -  0.0s\n",
      "[CV] gamma=1.0e-7, degree=0.3, C=900\n",
      "[CV] gamma=1.0e-7, degree=0.3, C=900, score=0.38648  -  0.0s\n",
      "[CV] gamma=1.0e-7, degree=0.4, C=900"
     ]
    },
    {
     "name": "stdout",
     "output_type": "stream",
     "text": [
      "\n",
      "[CV] gamma=1.0e-7, degree=0.4, C=900, score=-0.12192  -  0.0s\n",
      "[CV] gamma=1.0e-7, degree=0.4, C=900\n",
      "[CV] gamma=1.0e-7, degree=0.4, C=900, score=0.36611  -  0.0s\n",
      "[CV] gamma=1.0e-7, degree=0.4, C=900\n",
      "[CV] gamma=1.0e-7, degree=0.4, C=900, score=0.38648  -  0.0s\n",
      "[CV] gamma=1.0e-7, degree=0.5, C=900\n",
      "[CV] gamma=1.0e-7, degree=0.5, C=900, score=-0.12192  -  0.0s\n",
      "[CV] gamma=1.0e-7, degree=0.5, C=900"
     ]
    },
    {
     "name": "stdout",
     "output_type": "stream",
     "text": [
      "\n",
      "[CV] gamma=1.0e-7, degree=0.5, C=900, score=0.36611  -  0.0s\n",
      "[CV] gamma=1.0e-7, degree=0.5, C=900\n",
      "[CV] gamma=1.0e-7, degree=0.5, C=900, score=0.38648  -  0.0s\n",
      "[CV] gamma=1.0e-7, degree=0.6, C=900\n",
      "[CV] gamma=1.0e-7, degree=0.6, C=900, score=-0.12192  -  0.0s\n",
      "[CV] gamma=1.0e-7, degree=0.6, C=900\n",
      "[CV] gamma=1.0e-7, degree=0.6, C=900, score=0.36611  -  0.0s\n",
      "[CV] gamma=1.0e-7, degree=0.6, C=900\n"
     ]
    },
    {
     "name": "stdout",
     "output_type": "stream",
     "text": [
      "[CV] gamma=1.0e-7, degree=0.6, C=900, score=0.38648  -  0.0s\n",
      "[CV] gamma=1.0e-7, degree=0.7, C=900\n",
      "[CV] gamma=1.0e-7, degree=0.7, C=900, score=-0.12192  -  0.0s\n",
      "[CV] gamma=1.0e-7, degree=0.7, C=900\n",
      "[CV] gamma=1.0e-7, degree=0.7, C=900, score=0.36611  -  0.0s\n",
      "[CV] gamma=1.0e-7, degree=0.7, C=900\n",
      "[CV] gamma=1.0e-7, degree=0.7, C=900, score=0.38648  -  0.0s\n",
      "[CV] gamma=1.0e-7, degree=0.8, C=900"
     ]
    },
    {
     "name": "stdout",
     "output_type": "stream",
     "text": [
      "\n",
      "[CV] gamma=1.0e-7, degree=0.8, C=900, score=-0.12192  -  0.0s\n",
      "[CV] gamma=1.0e-7, degree=0.8, C=900\n",
      "[CV] gamma=1.0e-7, degree=0.8, C=900, score=0.36611  -  0.0s\n",
      "[CV] gamma=1.0e-7, degree=0.8, C=900\n",
      "[CV] gamma=1.0e-7, degree=0.8, C=900, score=0.38648  -  0.0s\n",
      "[CV] gamma=1.0e-7, degree=0.9, C=900\n",
      "[CV] gamma=1.0e-7, degree=0.9, C=900, score=-0.12192  -  0.0s\n",
      "[CV] gamma=1.0e-7, degree=0.9, C=900\n"
     ]
    },
    {
     "name": "stdout",
     "output_type": "stream",
     "text": [
      "[CV] gamma=1.0e-7, degree=0.9, C=900, score=0.36611  -  0.0s\n",
      "[CV] gamma=1.0e-7, degree=0.9, C=900\n",
      "[CV] gamma=1.0e-7, degree=0.9, C=900, score=0.38648  -  0.0s\n",
      "[CV] gamma=1.0e-7, degree=1.0, C=900\n",
      "[CV] gamma=1.0e-7, degree=1.0, C=900, score=-0.12192  -  0.0s\n",
      "[CV] gamma=1.0e-7, degree=1.0, C=900\n",
      "[CV] gamma=1.0e-7, degree=1.0, C=900, score=0.36611  -  0.0s\n",
      "[CV] gamma=1.0e-7, degree=1.0, C=900\n"
     ]
    },
    {
     "name": "stdout",
     "output_type": "stream",
     "text": [
      "[CV] gamma=1.0e-7, degree=1.0, C=900, score=0.38648  -  0.0s\n",
      "[CV] gamma=1.0e-7, degree=0.1, C=1000\n",
      "[CV] gamma=1.0e-7, degree=0.1, C=1000, score=-0.11881  -  0.0s\n",
      "[CV] gamma=1.0e-7, degree=0.1, C=1000\n",
      "[CV] gamma=1.0e-7, degree=0.1, C=1000, score=0.37989  -  0.0s\n",
      "[CV] gamma=1.0e-7, degree=0.1, C=1000\n",
      "[CV] gamma=1.0e-7, degree=0.1, C=1000, score=0.38803  -  0.0s\n",
      "[CV] gamma=1.0e-7, degree=0.2, C=1000"
     ]
    },
    {
     "name": "stdout",
     "output_type": "stream",
     "text": [
      "\n",
      "[CV] gamma=1.0e-7, degree=0.2, C=1000, score=-0.11881  -  0.0s\n",
      "[CV] gamma=1.0e-7, degree=0.2, C=1000\n",
      "[CV] gamma=1.0e-7, degree=0.2, C=1000, score=0.37989  -  0.0s\n",
      "[CV] gamma=1.0e-7, degree=0.2, C=1000\n",
      "[CV] gamma=1.0e-7, degree=0.2, C=1000, score=0.38803  -  0.0s\n",
      "[CV] gamma=1.0e-7, degree=0.3, C=1000\n",
      "[CV] gamma=1.0e-7, degree=0.3, C=1000, score=-0.11881  -  0.0s\n",
      "[CV] gamma=1.0e-7, degree=0.3, C=1000\n"
     ]
    },
    {
     "name": "stdout",
     "output_type": "stream",
     "text": [
      "[CV] gamma=1.0e-7, degree=0.3, C=1000, score=0.37989  -  0.0s\n",
      "[CV] gamma=1.0e-7, degree=0.3, C=1000\n",
      "[CV] gamma=1.0e-7, degree=0.3, C=1000, score=0.38803  -  0.0s\n",
      "[CV] gamma=1.0e-7, degree=0.4, C=1000\n",
      "[CV] gamma=1.0e-7, degree=0.4, C=1000, score=-0.11881  -  0.0s\n",
      "[CV] gamma=1.0e-7, degree=0.4, C=1000"
     ]
    },
    {
     "name": "stdout",
     "output_type": "stream",
     "text": [
      "\n",
      "[CV] gamma=1.0e-7, degree=0.4, C=1000, score=0.37989  -  0.0s\n",
      "[CV] gamma=1.0e-7, degree=0.4, C=1000\n",
      "[CV] gamma=1.0e-7, degree=0.4, C=1000, score=0.38803  -  0.0s\n",
      "[CV] gamma=1.0e-7, degree=0.5, C=1000\n",
      "[CV] gamma=1.0e-7, degree=0.5, C=1000, score=-0.11881  -  0.0s\n",
      "[CV] gamma=1.0e-7, degree=0.5, C=1000\n",
      "[CV] gamma=1.0e-7, degree=0.5, C=1000, score=0.37989  -  0.0s\n",
      "[CV] gamma=1.0e-7, degree=0.5, C=1000\n"
     ]
    },
    {
     "name": "stdout",
     "output_type": "stream",
     "text": [
      "[CV] gamma=1.0e-7, degree=0.5, C=1000, score=0.38803  -  0.0s\n",
      "[CV] gamma=1.0e-7, degree=0.6, C=1000\n",
      "[CV] gamma=1.0e-7, degree=0.6, C=1000, score=-0.11881  -  0.0s\n",
      "[CV] gamma=1.0e-7, degree=0.6, C=1000\n",
      "[CV] gamma=1.0e-7, degree=0.6, C=1000, score=0.37989  -  0.0s\n",
      "[CV] gamma=1.0e-7, degree=0.6, C=1000\n",
      "[CV] gamma=1.0e-7, degree=0.6, C=1000, score=0.38803  -  0.0s\n",
      "[CV] gamma=1.0e-7, degree=0.7, C=1000\n"
     ]
    },
    {
     "name": "stdout",
     "output_type": "stream",
     "text": [
      "[CV] gamma=1.0e-7, degree=0.7, C=1000, score=-0.11881  -  0.0s\n",
      "[CV] gamma=1.0e-7, degree=0.7, C=1000\n",
      "[CV] gamma=1.0e-7, degree=0.7, C=1000, score=0.37989  -  0.0s\n",
      "[CV] gamma=1.0e-7, degree=0.7, C=1000\n",
      "[CV] gamma=1.0e-7, degree=0.7, C=1000, score=0.38803  -  0.0s\n",
      "[CV] gamma=1.0e-7, degree=0.8, C=1000\n",
      "[CV] gamma=1.0e-7, degree=0.8, C=1000, score=-0.11881  -  0.0s\n",
      "[CV] gamma=1.0e-7, degree=0.8, C=1000\n"
     ]
    },
    {
     "name": "stdout",
     "output_type": "stream",
     "text": [
      "[CV] gamma=1.0e-7, degree=0.8, C=1000, score=0.37989  -  0.0s\n",
      "[CV] gamma=1.0e-7, degree=0.8, C=1000\n",
      "[CV] gamma=1.0e-7, degree=0.8, C=1000, score=0.38803  -  0.0s\n",
      "[CV] gamma=1.0e-7, degree=0.9, C=1000\n",
      "[CV] gamma=1.0e-7, degree=0.9, C=1000, score=-0.11881  -  0.0s\n",
      "[CV] gamma=1.0e-7, degree=0.9, C=1000\n",
      "[CV] gamma=1.0e-7, degree=0.9, C=1000, score=0.37989  -  0.0s\n",
      "[CV] gamma=1.0e-7, degree=0.9, C=1000"
     ]
    },
    {
     "name": "stdout",
     "output_type": "stream",
     "text": [
      "\n",
      "[CV] gamma=1.0e-7, degree=0.9, C=1000, score=0.38803  -  0.0s\n",
      "[CV] gamma=1.0e-7, degree=1.0, C=1000\n",
      "[CV] gamma=1.0e-7, degree=1.0, C=1000, score=-0.11881  -  0.0s\n",
      "[CV] gamma=1.0e-7, degree=1.0, C=1000\n",
      "[CV] gamma=1.0e-7, degree=1.0, C=1000, score=0.37989  -  0.0s\n",
      "[CV] gamma=1.0e-7, degree=1.0, C=1000\n"
     ]
    },
    {
     "name": "stdout",
     "output_type": "stream",
     "text": [
      "[CV] gamma=1.0e-7, degree=1.0, C=1000, score=0.38803  -  0.0s\n"
     ]
    },
    {
     "data": {
      "text/plain": [
       "GridSearchCV\n",
       "  estimator: PyObject\n",
       "  param_grid: Dict{Symbol, AbstractRange}\n",
       "  scoring: Nothing nothing\n",
       "  loss_func: Nothing nothing\n",
       "  score_func: Nothing nothing\n",
       "  fit_params: Dict{Any, Any}\n",
       "  n_jobs: Int64 1\n",
       "  iid: Bool true\n",
       "  refit: Bool true\n",
       "  cv: Nothing nothing\n",
       "  verbose: Int64 3\n",
       "  error_score: String \"raise\"\n",
       "  scorer_: score (function of type typeof(ScikitLearnBase.score))\n",
       "  best_params_: Dict{Symbol, Any}\n",
       "  best_score_: Float64 0.2159052027050175\n",
       "  grid_scores_: Array{ScikitLearn.Skcore.CVScoreTuple}((100,))\n",
       "  best_estimator_: PyObject\n"
      ]
     },
     "metadata": {},
     "output_type": "display_data"
    }
   ],
   "source": [
    "param_grid = Dict(:C => 100:100:1000,\n",
    "                :gamma => :0.0000001:0000001:0.000001,\n",
    "                :degree => 0.1:0.1:1)\n",
    "\n",
    "grid = GridSearchCV(skSVR.SVR(), param_grid, refit = true, verbose = 3)\n",
    "ScikitLearn.fit!(grid ,xtrain, ytrain)"
   ]
  },
  {
   "cell_type": "code",
   "execution_count": 7,
   "metadata": {},
   "outputs": [
    {
     "name": "stdout",
     "output_type": "stream",
     "text": [
      "Best hyper-parameters: Dict{Symbol, Any}(:gamma => 1.0e-7, :degree => 0.1, :C => 1000)\n"
     ]
    }
   ],
   "source": [
    "println(\"Best hyper-parameters: $(grid.best_params_)\")"
   ]
  },
  {
   "cell_type": "code",
   "execution_count": 48,
   "metadata": {},
   "outputs": [
    {
     "data": {
      "text/plain": [
       "8.230798008061253"
      ]
     },
     "metadata": {},
     "output_type": "display_data"
    }
   ],
   "source": [
    "regressor = ScikitLearn.fit!(skSVR.SVR(C=50, gamma=2.0e-6, degree =1.0),xtrain,ytrain)\n",
    "y_pr = ScikitLearn.predict(regressor,xtest)\n",
    "rmse_SVR = sqrt(mse(y_pr, ytest))\n",
    "\n",
    "# C=50.0, gamma=0.000003, degree =1"
   ]
  },
  {
   "cell_type": "code",
   "execution_count": 49,
   "metadata": {},
   "outputs": [
    {
     "data": {
      "image/png": "[encoded data removed]",
      "image/svg+xml": "<?xml version=\"1.0\" encoding=\"utf-8\"?>\n<svg xmlns=\"http://www.w3.org/2000/svg\" xmlns:xlink=\"http://www.w3.org/1999/xlink\" width=\"500\" height=\"500\" viewBox=\"0 0 2000 2000\">\n<defs>\n  <clipPath id=\"clip730\">\n    <rect x=\"0\" y=\"0\" width=\"2000\" height=\"2000\"/>\n  </clipPath>\n</defs>\n<path clip-path=\"url(#clip730)\" d=\"\nM0 2000 L2000 2000 L2000 0 L0 0  Z\n  \" fill=\"#ffffff\" fill-rule=\"evenodd\" fill-opacity=\"1\"/>\n<defs>\n  <clipPath id=\"clip731\">\n    <rect x=\"400\" y=\"200\" width=\"1401\" height=\"1401\"/>\n  </clipPath>\n</defs>\n<path clip-path=\"url(#clip730)\" d=\"\nM224.881 1778.14 L1952.76 1778.14 L1952.76 47.2441 L224.881 47.2441  Z\n  \" fill=\"#ffffff\" fill-rule=\"evenodd\" fill-opacity=\"1\"/>\n<defs>\n  <clipPath id=\"clip732\">\n    <rect x=\"224\" y=\"47\" width=\"1729\" height=\"1732\"/>\n  </clipPath>\n</defs>\n<polyline clip-path=\"url(#clip732)\" style=\"stroke:#000000; stroke-linecap:round; stroke-linejoin:round; stroke-width:2; stroke-opacity:0.1; fill:none\" points=\"\n  224.881,1778.14 224.881,47.2441 \n  \"/>\n<polyline clip-path=\"url(#clip732)\" style=\"stroke:#000000; stroke-linecap:round; stroke-linejoin:round; stroke-width:2; stroke-opacity:0.1; fill:none\" points=\"\n  656.85,1778.14 656.85,47.2441 \n  \"/>\n<polyline clip-path=\"url(#clip732)\" style=\"stroke:#000000; stroke-linecap:round; stroke-linejoin:round; stroke-width:2; stroke-opacity:0.1; fill:none\" points=\"\n  1088.82,1778.14 1088.82,47.2441 \n  \"/>\n<polyline clip-path=\"url(#clip732)\" style=\"stroke:#000000; stroke-linecap:round; stroke-linejoin:round; stroke-width:2; stroke-opacity:0.1; fill:none\" points=\"\n  1520.79,1778.14 1520.79,47.2441 \n  \"/>\n<polyline clip-path=\"url(#clip732)\" style=\"stroke:#000000; stroke-linecap:round; stroke-linejoin:round; stroke-width:2; stroke-opacity:0.1; fill:none\" points=\"\n  1952.76,1778.14 1952.76,47.2441 \n  \"/>\n<polyline clip-path=\"url(#clip730)\" style=\"stroke:#000000; stroke-linecap:round; stroke-linejoin:round; stroke-width:4; stroke-opacity:1; fill:none\" points=\"\n  224.881,1778.14 1952.76,1778.14 \n  \"/>\n<polyline clip-path=\"url(#clip730)\" style=\"stroke:#000000; stroke-linecap:round; stroke-linejoin:round; stroke-width:4; stroke-opacity:1; fill:none\" points=\"\n  224.881,1778.14 224.881,1759.24 \n  \"/>\n<polyline clip-path=\"url(#clip730)\" style=\"stroke:#000000; stroke-linecap:round; stroke-linejoin:round; stroke-width:4; stroke-opacity:1; fill:none\" points=\"\n  656.85,1778.14 656.85,1759.24 \n  \"/>\n<polyline clip-path=\"url(#clip730)\" style=\"stroke:#000000; stroke-linecap:round; stroke-linejoin:round; stroke-width:4; stroke-opacity:1; fill:none\" points=\"\n  1088.82,1778.14 1088.82,1759.24 \n  \"/>\n<polyline clip-path=\"url(#clip730)\" style=\"stroke:#000000; stroke-linecap:round; stroke-linejoin:round; stroke-width:4; stroke-opacity:1; fill:none\" points=\"\n  1520.79,1778.14 1520.79,1759.24 \n  \"/>\n<polyline clip-path=\"url(#clip730)\" style=\"stroke:#000000; stroke-linecap:round; stroke-linejoin:round; stroke-width:4; stroke-opacity:1; fill:none\" points=\"\n  1952.76,1778.14 1952.76,1759.24 \n  \"/>\n<path clip-path=\"url(#clip730)\" d=\"M224.881 1805.86 Q221.27 1805.86 219.441 1809.42 Q217.636 1812.96 217.636 1820.09 Q217.636 1827.2 219.441 1830.77 Q221.27 1834.31 224.881 1834.31 Q228.515 1834.31 230.321 1830.77 Q232.149 1827.2 232.149 1820.09 Q232.149 1812.96 230.321 1809.42 Q228.515 1805.86 224.881 1805.86 M224.881 1802.15 Q230.691 1802.15 233.747 1806.76 Q236.825 1811.34 236.825 1820.09 Q236.825 1828.82 233.747 1833.43 Q230.691 1838.01 224.881 1838.01 Q219.071 1838.01 215.992 1833.43 Q212.937 1828.82 212.937 1820.09 Q212.937 1811.34 215.992 1806.76 Q219.071 1802.15 224.881 1802.15 Z\" fill=\"#000000\" fill-rule=\"evenodd\" fill-opacity=\"1\" /><path clip-path=\"url(#clip730)\" d=\"M635.623 1833.4 L651.942 1833.4 L651.942 1837.34 L629.998 1837.34 L629.998 1833.4 Q632.66 1830.65 637.243 1826.02 Q641.85 1821.37 643.03 1820.03 Q645.276 1817.5 646.155 1815.77 Q647.058 1814.01 647.058 1812.32 Q647.058 1809.56 645.114 1807.83 Q643.192 1806.09 640.091 1806.09 Q637.891 1806.09 635.438 1806.85 Q633.007 1807.62 630.229 1809.17 L630.229 1804.45 Q633.054 1803.31 635.507 1802.73 Q637.961 1802.15 639.998 1802.15 Q645.368 1802.15 648.563 1804.84 Q651.757 1807.53 651.757 1812.02 Q651.757 1814.15 650.947 1816.07 Q650.16 1817.96 648.053 1820.56 Q647.475 1821.23 644.373 1824.45 Q641.271 1827.64 635.623 1833.4 Z\" fill=\"#000000\" fill-rule=\"evenodd\" fill-opacity=\"1\" /><path clip-path=\"url(#clip730)\" d=\"M671.757 1805.86 Q668.146 1805.86 666.317 1809.42 Q664.512 1812.96 664.512 1820.09 Q664.512 1827.2 666.317 1830.77 Q668.146 1834.31 671.757 1834.31 Q675.391 1834.31 677.197 1830.77 Q679.026 1827.2 679.026 1820.09 Q679.026 1812.96 677.197 1809.42 Q675.391 1805.86 671.757 1805.86 M671.757 1802.15 Q677.567 1802.15 680.623 1806.76 Q683.701 1811.34 683.701 1820.09 Q683.701 1828.82 680.623 1833.43 Q677.567 1838.01 671.757 1838.01 Q665.947 1838.01 662.868 1833.43 Q659.813 1828.82 659.813 1820.09 Q659.813 1811.34 662.868 1806.76 Q665.947 1802.15 671.757 1802.15 Z\" fill=\"#000000\" fill-rule=\"evenodd\" fill-opacity=\"1\" /><path clip-path=\"url(#clip730)\" d=\"M1076.99 1806.85 L1065.18 1825.3 L1076.99 1825.3 L1076.99 1806.85 M1075.76 1802.78 L1081.64 1802.78 L1081.64 1825.3 L1086.57 1825.3 L1086.57 1829.19 L1081.64 1829.19 L1081.64 1837.34 L1076.99 1837.34 L1076.99 1829.19 L1061.39 1829.19 L1061.39 1824.68 L1075.76 1802.78 Z\" fill=\"#000000\" fill-rule=\"evenodd\" fill-opacity=\"1\" /><path clip-path=\"url(#clip730)\" d=\"M1104.3 1805.86 Q1100.69 1805.86 1098.86 1809.42 Q1097.06 1812.96 1097.06 1820.09 Q1097.06 1827.2 1098.86 1830.77 Q1100.69 1834.31 1104.3 1834.31 Q1107.94 1834.31 1109.74 1830.77 Q1111.57 1827.2 1111.57 1820.09 Q1111.57 1812.96 1109.74 1809.42 Q1107.94 1805.86 1104.3 1805.86 M1104.3 1802.15 Q1110.11 1802.15 1113.17 1806.76 Q1116.25 1811.34 1116.25 1820.09 Q1116.25 1828.82 1113.17 1833.43 Q1110.11 1838.01 1104.3 1838.01 Q1098.49 1838.01 1095.42 1833.43 Q1092.36 1828.82 1092.36 1820.09 Q1092.36 1811.34 1095.42 1806.76 Q1098.49 1802.15 1104.3 1802.15 Z\" fill=\"#000000\" fill-rule=\"evenodd\" fill-opacity=\"1\" /><path clip-path=\"url(#clip730)\" d=\"M1506.19 1818.2 Q1503.04 1818.2 1501.19 1820.35 Q1499.36 1822.5 1499.36 1826.25 Q1499.36 1829.98 1501.19 1832.15 Q1503.04 1834.31 1506.19 1834.31 Q1509.34 1834.31 1511.17 1832.15 Q1513.02 1829.98 1513.02 1826.25 Q1513.02 1822.5 1511.17 1820.35 Q1509.34 1818.2 1506.19 1818.2 M1515.47 1803.54 L1515.47 1807.8 Q1513.72 1806.97 1511.91 1806.53 Q1510.13 1806.09 1508.37 1806.09 Q1503.74 1806.09 1501.28 1809.21 Q1498.85 1812.34 1498.51 1818.66 Q1499.87 1816.65 1501.93 1815.58 Q1503.99 1814.49 1506.47 1814.49 Q1511.68 1814.49 1514.69 1817.66 Q1517.72 1820.81 1517.72 1826.25 Q1517.72 1831.58 1514.57 1834.79 Q1511.42 1838.01 1506.19 1838.01 Q1500.2 1838.01 1497.03 1833.43 Q1493.85 1828.82 1493.85 1820.09 Q1493.85 1811.9 1497.74 1807.04 Q1501.63 1802.15 1508.18 1802.15 Q1509.94 1802.15 1511.72 1802.5 Q1513.53 1802.85 1515.47 1803.54 Z\" fill=\"#000000\" fill-rule=\"evenodd\" fill-opacity=\"1\" /><path clip-path=\"url(#clip730)\" d=\"M1535.78 1805.86 Q1532.16 1805.86 1530.34 1809.42 Q1528.53 1812.96 1528.53 1820.09 Q1528.53 1827.2 1530.34 1830.77 Q1532.16 1834.31 1535.78 1834.31 Q1539.41 1834.31 1541.22 1830.77 Q1543.04 1827.2 1543.04 1820.09 Q1543.04 1812.96 1541.22 1809.42 Q1539.41 1805.86 1535.78 1805.86 M1535.78 1802.15 Q1541.59 1802.15 1544.64 1806.76 Q1547.72 1811.34 1547.72 1820.09 Q1547.72 1828.82 1544.64 1833.43 Q1541.59 1838.01 1535.78 1838.01 Q1529.97 1838.01 1526.89 1833.43 Q1523.83 1828.82 1523.83 1820.09 Q1523.83 1811.34 1526.89 1806.76 Q1529.97 1802.15 1535.78 1802.15 Z\" fill=\"#000000\" fill-rule=\"evenodd\" fill-opacity=\"1\" /><path clip-path=\"url(#clip730)\" d=\"M1937.63 1820.93 Q1934.3 1820.93 1932.37 1822.71 Q1930.48 1824.49 1930.48 1827.62 Q1930.48 1830.74 1932.37 1832.53 Q1934.3 1834.31 1937.63 1834.31 Q1940.96 1834.31 1942.88 1832.53 Q1944.8 1830.72 1944.8 1827.62 Q1944.8 1824.49 1942.88 1822.71 Q1940.99 1820.93 1937.63 1820.93 M1932.95 1818.94 Q1929.94 1818.2 1928.25 1816.14 Q1926.59 1814.08 1926.59 1811.11 Q1926.59 1806.97 1929.53 1804.56 Q1932.49 1802.15 1937.63 1802.15 Q1942.79 1802.15 1945.73 1804.56 Q1948.67 1806.97 1948.67 1811.11 Q1948.67 1814.08 1946.98 1816.14 Q1945.31 1818.2 1942.33 1818.94 Q1945.71 1819.72 1947.58 1822.02 Q1949.48 1824.31 1949.48 1827.62 Q1949.48 1832.64 1946.4 1835.33 Q1943.35 1838.01 1937.63 1838.01 Q1931.91 1838.01 1928.83 1835.33 Q1925.78 1832.64 1925.78 1827.62 Q1925.78 1824.31 1927.68 1822.02 Q1929.57 1819.72 1932.95 1818.94 M1931.24 1811.55 Q1931.24 1814.24 1932.91 1815.74 Q1934.6 1817.25 1937.63 1817.25 Q1940.64 1817.25 1942.33 1815.74 Q1944.04 1814.24 1944.04 1811.55 Q1944.04 1808.87 1942.33 1807.36 Q1940.64 1805.86 1937.63 1805.86 Q1934.6 1805.86 1932.91 1807.36 Q1931.24 1808.87 1931.24 1811.55 Z\" fill=\"#000000\" fill-rule=\"evenodd\" fill-opacity=\"1\" /><path clip-path=\"url(#clip730)\" d=\"M1967.79 1805.86 Q1964.18 1805.86 1962.35 1809.42 Q1960.55 1812.96 1960.55 1820.09 Q1960.55 1827.2 1962.35 1830.77 Q1964.18 1834.31 1967.79 1834.31 Q1971.42 1834.31 1973.23 1830.77 Q1975.06 1827.2 1975.06 1820.09 Q1975.06 1812.96 1973.23 1809.42 Q1971.42 1805.86 1967.79 1805.86 M1967.79 1802.15 Q1973.6 1802.15 1976.66 1806.76 Q1979.73 1811.34 1979.73 1820.09 Q1979.73 1828.82 1976.66 1833.43 Q1973.6 1838.01 1967.79 1838.01 Q1961.98 1838.01 1958.9 1833.43 Q1955.85 1828.82 1955.85 1820.09 Q1955.85 1811.34 1958.9 1806.76 Q1961.98 1802.15 1967.79 1802.15 Z\" fill=\"#000000\" fill-rule=\"evenodd\" fill-opacity=\"1\" /><path clip-path=\"url(#clip730)\" d=\"M804.765 1869.48 L844.964 1869.48 L844.964 1874.89 L828.095 1874.89 L828.095 1917 L821.634 1917 L821.634 1874.89 L804.765 1874.89 L804.765 1869.48 Z\" fill=\"#000000\" fill-rule=\"evenodd\" fill-opacity=\"1\" /><path clip-path=\"url(#clip730)\" d=\"M861.992 1886.83 Q861.006 1886.26 859.828 1886 Q858.682 1885.72 857.282 1885.72 Q852.317 1885.72 849.643 1888.96 Q847.001 1892.18 847.001 1898.23 L847.001 1917 L841.113 1917 L841.113 1881.36 L847.001 1881.36 L847.001 1886.89 Q848.847 1883.65 851.807 1882.09 Q854.767 1880.5 859.001 1880.5 Q859.605 1880.5 860.337 1880.59 Q861.069 1880.66 861.961 1880.81 L861.992 1886.83 Z\" fill=\"#000000\" fill-rule=\"evenodd\" fill-opacity=\"1\" /><path clip-path=\"url(#clip730)\" d=\"M867.531 1902.94 L867.531 1881.36 L873.387 1881.36 L873.387 1902.71 Q873.387 1907.77 875.36 1910.32 Q877.334 1912.83 881.28 1912.83 Q886.023 1912.83 888.76 1909.81 Q891.529 1906.79 891.529 1901.57 L891.529 1881.36 L897.386 1881.36 L897.386 1917 L891.529 1917 L891.529 1911.53 Q889.397 1914.78 886.564 1916.37 Q883.763 1917.93 880.039 1917.93 Q873.896 1917.93 870.713 1914.11 Q867.531 1910.29 867.531 1902.94 M882.267 1880.5 L882.267 1880.5 Z\" fill=\"#000000\" fill-rule=\"evenodd\" fill-opacity=\"1\" /><path clip-path=\"url(#clip730)\" d=\"M939.94 1897.72 L939.94 1900.58 L913.014 1900.58 Q913.395 1906.63 916.642 1909.81 Q919.92 1912.96 925.745 1912.96 Q929.119 1912.96 932.27 1912.13 Q935.453 1911.31 938.572 1909.65 L938.572 1915.19 Q935.421 1916.53 932.111 1917.23 Q928.8 1917.93 925.395 1917.93 Q916.865 1917.93 911.868 1912.96 Q906.902 1908 906.902 1899.53 Q906.902 1890.78 911.613 1885.65 Q916.356 1880.5 924.376 1880.5 Q931.57 1880.5 935.739 1885.14 Q939.94 1889.76 939.94 1897.72 M934.084 1896 Q934.02 1891.19 931.379 1888.33 Q928.769 1885.46 924.44 1885.46 Q919.538 1885.46 916.578 1888.23 Q913.65 1891 913.205 1896.03 L934.084 1896 Z\" fill=\"#000000\" fill-rule=\"evenodd\" fill-opacity=\"1\" /><path clip-path=\"url(#clip730)\" d=\"M982.782 1917 L964.639 1869.48 L971.355 1869.48 L986.41 1909.49 L1001.5 1869.48 L1008.18 1869.48 L990.07 1917 L982.782 1917 Z\" fill=\"#000000\" fill-rule=\"evenodd\" fill-opacity=\"1\" /><path clip-path=\"url(#clip730)\" d=\"M1026 1899.08 Q1018.91 1899.08 1016.17 1900.71 Q1013.43 1902.33 1013.43 1906.25 Q1013.43 1909.36 1015.47 1911.21 Q1017.54 1913.03 1021.07 1913.03 Q1025.94 1913.03 1028.87 1909.59 Q1031.83 1906.12 1031.83 1900.39 L1031.83 1899.08 L1026 1899.08 M1037.69 1896.67 L1037.69 1917 L1031.83 1917 L1031.83 1911.59 Q1029.82 1914.84 1026.83 1916.4 Q1023.84 1917.93 1019.51 1917.93 Q1014.04 1917.93 1010.79 1914.87 Q1007.58 1911.78 1007.58 1906.63 Q1007.58 1900.61 1011.59 1897.56 Q1015.63 1894.5 1023.62 1894.5 L1031.83 1894.5 L1031.83 1893.93 Q1031.83 1889.89 1029.16 1887.69 Q1026.51 1885.46 1021.71 1885.46 Q1018.65 1885.46 1015.76 1886.19 Q1012.86 1886.93 1010.19 1888.39 L1010.19 1882.98 Q1013.4 1881.74 1016.42 1881.13 Q1019.45 1880.5 1022.31 1880.5 Q1030.05 1880.5 1033.87 1884.51 Q1037.69 1888.52 1037.69 1896.67 Z\" fill=\"#000000\" fill-rule=\"evenodd\" fill-opacity=\"1\" /><path clip-path=\"url(#clip730)\" d=\"M1049.75 1867.48 L1055.61 1867.48 L1055.61 1917 L1049.75 1917 L1049.75 1867.48 Z\" fill=\"#000000\" fill-rule=\"evenodd\" fill-opacity=\"1\" /><path clip-path=\"url(#clip730)\" d=\"M1067.25 1902.94 L1067.25 1881.36 L1073.11 1881.36 L1073.11 1902.71 Q1073.11 1907.77 1075.08 1910.32 Q1077.06 1912.83 1081 1912.83 Q1085.75 1912.83 1088.48 1909.81 Q1091.25 1906.79 1091.25 1901.57 L1091.25 1881.36 L1097.11 1881.36 L1097.11 1917 L1091.25 1917 L1091.25 1911.53 Q1089.12 1914.78 1086.29 1916.37 Q1083.49 1917.93 1079.76 1917.93 Q1073.62 1917.93 1070.44 1914.11 Q1067.25 1910.29 1067.25 1902.94 M1081.99 1880.5 L1081.99 1880.5 Z\" fill=\"#000000\" fill-rule=\"evenodd\" fill-opacity=\"1\" /><path clip-path=\"url(#clip730)\" d=\"M1139.66 1897.72 L1139.66 1900.58 L1112.74 1900.58 Q1113.12 1906.63 1116.37 1909.81 Q1119.64 1912.96 1125.47 1912.96 Q1128.84 1912.96 1131.99 1912.13 Q1135.18 1911.31 1138.3 1909.65 L1138.3 1915.19 Q1135.14 1916.53 1131.83 1917.23 Q1128.52 1917.93 1125.12 1917.93 Q1116.59 1917.93 1111.59 1912.96 Q1106.63 1908 1106.63 1899.53 Q1106.63 1890.78 1111.34 1885.65 Q1116.08 1880.5 1124.1 1880.5 Q1131.29 1880.5 1135.46 1885.14 Q1139.66 1889.76 1139.66 1897.72 M1133.81 1896 Q1133.74 1891.19 1131.1 1888.33 Q1128.49 1885.46 1124.16 1885.46 Q1119.26 1885.46 1116.3 1888.23 Q1113.37 1891 1112.93 1896.03 L1133.81 1896 Z\" fill=\"#000000\" fill-rule=\"evenodd\" fill-opacity=\"1\" /><path clip-path=\"url(#clip730)\" d=\"M1184.07 1867.54 Q1179.8 1874.86 1177.73 1882.02 Q1175.66 1889.19 1175.66 1896.54 Q1175.66 1903.89 1177.73 1911.12 Q1179.83 1918.31 1184.07 1925.6 L1178.97 1925.6 Q1174.2 1918.12 1171.81 1910.89 Q1169.46 1903.67 1169.46 1896.54 Q1169.46 1889.44 1171.81 1882.25 Q1174.17 1875.05 1178.97 1867.54 L1184.07 1867.54 Z\" fill=\"#000000\" fill-rule=\"evenodd\" fill-opacity=\"1\" /><path clip-path=\"url(#clip730)\" d=\"M1210.26 1920.31 Q1207.78 1926.68 1205.42 1928.62 Q1203.07 1930.56 1199.12 1930.56 L1194.44 1930.56 L1194.44 1925.66 L1197.88 1925.66 Q1200.3 1925.66 1201.63 1924.52 Q1202.97 1923.37 1204.59 1919.1 L1205.65 1916.43 L1191.23 1881.36 L1197.43 1881.36 L1208.57 1909.24 L1219.71 1881.36 L1225.92 1881.36 L1210.26 1920.31 Z\" fill=\"#000000\" fill-rule=\"evenodd\" fill-opacity=\"1\" /><path clip-path=\"url(#clip730)\" d=\"M1239.8 1871.23 L1239.8 1881.36 L1251.86 1881.36 L1251.86 1885.91 L1239.8 1885.91 L1239.8 1905.26 Q1239.8 1909.62 1240.97 1910.86 Q1242.18 1912.1 1245.84 1912.1 L1251.86 1912.1 L1251.86 1917 L1245.84 1917 Q1239.07 1917 1236.49 1914.49 Q1233.91 1911.94 1233.91 1905.26 L1233.91 1885.91 L1229.61 1885.91 L1229.61 1881.36 L1233.91 1881.36 L1233.91 1871.23 L1239.8 1871.23 Z\" fill=\"#000000\" fill-rule=\"evenodd\" fill-opacity=\"1\" /><path clip-path=\"url(#clip730)\" d=\"M1290.05 1897.72 L1290.05 1900.58 L1263.13 1900.58 Q1263.51 1906.63 1266.76 1909.81 Q1270.03 1912.96 1275.86 1912.96 Q1279.23 1912.96 1282.38 1912.13 Q1285.57 1911.31 1288.69 1909.65 L1288.69 1915.19 Q1285.53 1916.53 1282.22 1917.23 Q1278.91 1917.93 1275.51 1917.93 Q1266.98 1917.93 1261.98 1912.96 Q1257.02 1908 1257.02 1899.53 Q1257.02 1890.78 1261.73 1885.65 Q1266.47 1880.5 1274.49 1880.5 Q1281.68 1880.5 1285.85 1885.14 Q1290.05 1889.76 1290.05 1897.72 M1284.2 1896 Q1284.13 1891.19 1281.49 1888.33 Q1278.88 1885.46 1274.55 1885.46 Q1269.65 1885.46 1266.69 1888.23 Q1263.76 1891 1263.32 1896.03 L1284.2 1896 Z\" fill=\"#000000\" fill-rule=\"evenodd\" fill-opacity=\"1\" /><path clip-path=\"url(#clip730)\" d=\"M1322.39 1882.41 L1322.39 1887.94 Q1319.91 1886.67 1317.24 1886.03 Q1314.56 1885.4 1311.7 1885.4 Q1307.34 1885.4 1305.14 1886.73 Q1302.98 1888.07 1302.98 1890.75 Q1302.98 1892.78 1304.54 1893.96 Q1306.1 1895.11 1310.81 1896.16 L1312.81 1896.6 Q1319.05 1897.94 1321.66 1900.39 Q1324.3 1902.81 1324.3 1907.17 Q1324.3 1912.13 1320.36 1915.03 Q1316.44 1917.93 1309.57 1917.93 Q1306.7 1917.93 1303.58 1917.35 Q1300.49 1916.81 1297.06 1915.7 L1297.06 1909.65 Q1300.3 1911.34 1303.45 1912.2 Q1306.61 1913.03 1309.69 1913.03 Q1313.83 1913.03 1316.06 1911.62 Q1318.29 1910.19 1318.29 1907.61 Q1318.29 1905.23 1316.66 1903.95 Q1315.07 1902.68 1309.63 1901.5 L1307.59 1901.03 Q1302.15 1899.88 1299.73 1897.52 Q1297.31 1895.14 1297.31 1891 Q1297.31 1885.97 1300.88 1883.23 Q1304.44 1880.5 1311 1880.5 Q1314.24 1880.5 1317.11 1880.97 Q1319.97 1881.45 1322.39 1882.41 Z\" fill=\"#000000\" fill-rule=\"evenodd\" fill-opacity=\"1\" /><path clip-path=\"url(#clip730)\" d=\"M1339.42 1871.23 L1339.42 1881.36 L1351.48 1881.36 L1351.48 1885.91 L1339.42 1885.91 L1339.42 1905.26 Q1339.42 1909.62 1340.6 1910.86 Q1341.81 1912.1 1345.47 1912.1 L1351.48 1912.1 L1351.48 1917 L1345.47 1917 Q1338.69 1917 1336.11 1914.49 Q1333.53 1911.94 1333.53 1905.26 L1333.53 1885.91 L1329.24 1885.91 L1329.24 1881.36 L1333.53 1881.36 L1333.53 1871.23 L1339.42 1871.23 Z\" fill=\"#000000\" fill-rule=\"evenodd\" fill-opacity=\"1\" /><path clip-path=\"url(#clip730)\" d=\"M1358.26 1867.54 L1363.36 1867.54 Q1368.13 1875.05 1370.49 1882.25 Q1372.87 1889.44 1372.87 1896.54 Q1372.87 1903.67 1370.49 1910.89 Q1368.13 1918.12 1363.36 1925.6 L1358.26 1925.6 Q1362.5 1918.31 1364.56 1911.12 Q1366.67 1903.89 1366.67 1896.54 Q1366.67 1889.19 1364.56 1882.02 Q1362.5 1874.86 1358.26 1867.54 Z\" fill=\"#000000\" fill-rule=\"evenodd\" fill-opacity=\"1\" /><polyline clip-path=\"url(#clip732)\" style=\"stroke:#000000; stroke-linecap:round; stroke-linejoin:round; stroke-width:2; stroke-opacity:0.1; fill:none\" points=\"\n  224.881,1778.14 1952.76,1778.14 \n  \"/>\n<polyline clip-path=\"url(#clip732)\" style=\"stroke:#000000; stroke-linecap:round; stroke-linejoin:round; stroke-width:2; stroke-opacity:0.1; fill:none\" points=\"\n  224.881,1345.42 1952.76,1345.42 \n  \"/>\n<polyline clip-path=\"url(#clip732)\" style=\"stroke:#000000; stroke-linecap:round; stroke-linejoin:round; stroke-width:2; stroke-opacity:0.1; fill:none\" points=\"\n  224.881,912.692 1952.76,912.692 \n  \"/>\n<polyline clip-path=\"url(#clip732)\" style=\"stroke:#000000; stroke-linecap:round; stroke-linejoin:round; stroke-width:2; stroke-opacity:0.1; fill:none\" points=\"\n  224.881,479.968 1952.76,479.968 \n  \"/>\n<polyline clip-path=\"url(#clip732)\" style=\"stroke:#000000; stroke-linecap:round; stroke-linejoin:round; stroke-width:2; stroke-opacity:0.1; fill:none\" points=\"\n  224.881,47.2441 1952.76,47.2441 \n  \"/>\n<polyline clip-path=\"url(#clip730)\" style=\"stroke:#000000; stroke-linecap:round; stroke-linejoin:round; stroke-width:4; stroke-opacity:1; fill:none\" points=\"\n  224.881,1778.14 224.881,47.2441 \n  \"/>\n<polyline clip-path=\"url(#clip730)\" style=\"stroke:#000000; stroke-linecap:round; stroke-linejoin:round; stroke-width:4; stroke-opacity:1; fill:none\" points=\"\n  224.881,1778.14 243.779,1778.14 \n  \"/>\n<polyline clip-path=\"url(#clip730)\" style=\"stroke:#000000; stroke-linecap:round; stroke-linejoin:round; stroke-width:4; stroke-opacity:1; fill:none\" points=\"\n  224.881,1345.42 243.779,1345.42 \n  \"/>\n<polyline clip-path=\"url(#clip730)\" style=\"stroke:#000000; stroke-linecap:round; stroke-linejoin:round; stroke-width:4; stroke-opacity:1; fill:none\" points=\"\n  224.881,912.692 243.779,912.692 \n  \"/>\n<polyline clip-path=\"url(#clip730)\" style=\"stroke:#000000; stroke-linecap:round; stroke-linejoin:round; stroke-width:4; stroke-opacity:1; fill:none\" points=\"\n  224.881,479.968 243.779,479.968 \n  \"/>\n<polyline clip-path=\"url(#clip730)\" style=\"stroke:#000000; stroke-linecap:round; stroke-linejoin:round; stroke-width:4; stroke-opacity:1; fill:none\" points=\"\n  224.881,47.2441 243.779,47.2441 \n  \"/>\n<path clip-path=\"url(#clip730)\" d=\"M182.937 1763.94 Q179.326 1763.94 177.497 1767.5 Q175.691 1771.04 175.691 1778.17 Q175.691 1785.28 177.497 1788.85 Q179.326 1792.39 182.937 1792.39 Q186.571 1792.39 188.376 1788.85 Q190.205 1785.28 190.205 1778.17 Q190.205 1771.04 188.376 1767.5 Q186.571 1763.94 182.937 1763.94 M182.937 1760.23 Q188.747 1760.23 191.802 1764.84 Q194.881 1769.42 194.881 1778.17 Q194.881 1786.9 191.802 1791.51 Q188.747 1796.09 182.937 1796.09 Q177.126 1796.09 174.048 1791.51 Q170.992 1786.9 170.992 1778.17 Q170.992 1769.42 174.048 1764.84 Q177.126 1760.23 182.937 1760.23 Z\" fill=\"#000000\" fill-rule=\"evenodd\" fill-opacity=\"1\" /><path clip-path=\"url(#clip730)\" d=\"M146.803 1358.76 L163.122 1358.76 L163.122 1362.7 L141.178 1362.7 L141.178 1358.76 Q143.84 1356.01 148.423 1351.38 Q153.029 1346.72 154.21 1345.38 Q156.455 1342.86 157.335 1341.12 Q158.238 1339.36 158.238 1337.67 Q158.238 1334.92 156.293 1333.18 Q154.372 1331.45 151.27 1331.45 Q149.071 1331.45 146.617 1332.21 Q144.187 1332.97 141.409 1334.52 L141.409 1329.8 Q144.233 1328.67 146.687 1328.09 Q149.14 1327.51 151.178 1327.51 Q156.548 1327.51 159.742 1330.2 Q162.937 1332.88 162.937 1337.37 Q162.937 1339.5 162.127 1341.42 Q161.339 1343.32 159.233 1345.91 Q158.654 1346.58 155.552 1349.8 Q152.451 1353 146.803 1358.76 Z\" fill=\"#000000\" fill-rule=\"evenodd\" fill-opacity=\"1\" /><path clip-path=\"url(#clip730)\" d=\"M182.937 1331.21 Q179.326 1331.21 177.497 1334.78 Q175.691 1338.32 175.691 1345.45 Q175.691 1352.56 177.497 1356.12 Q179.326 1359.66 182.937 1359.66 Q186.571 1359.66 188.376 1356.12 Q190.205 1352.56 190.205 1345.45 Q190.205 1338.32 188.376 1334.78 Q186.571 1331.21 182.937 1331.21 M182.937 1327.51 Q188.747 1327.51 191.802 1332.12 Q194.881 1336.7 194.881 1345.45 Q194.881 1354.18 191.802 1358.78 Q188.747 1363.37 182.937 1363.37 Q177.126 1363.37 174.048 1358.78 Q170.992 1354.18 170.992 1345.45 Q170.992 1336.7 174.048 1332.12 Q177.126 1327.51 182.937 1327.51 Z\" fill=\"#000000\" fill-rule=\"evenodd\" fill-opacity=\"1\" /><path clip-path=\"url(#clip730)\" d=\"M155.622 899.486 L143.816 917.935 L155.622 917.935 L155.622 899.486 M154.395 895.412 L160.275 895.412 L160.275 917.935 L165.205 917.935 L165.205 921.824 L160.275 921.824 L160.275 929.972 L155.622 929.972 L155.622 921.824 L140.02 921.824 L140.02 917.31 L154.395 895.412 Z\" fill=\"#000000\" fill-rule=\"evenodd\" fill-opacity=\"1\" /><path clip-path=\"url(#clip730)\" d=\"M182.937 898.491 Q179.326 898.491 177.497 902.055 Q175.691 905.597 175.691 912.727 Q175.691 919.833 177.497 923.398 Q179.326 926.94 182.937 926.94 Q186.571 926.94 188.376 923.398 Q190.205 919.833 190.205 912.727 Q190.205 905.597 188.376 902.055 Q186.571 898.491 182.937 898.491 M182.937 894.787 Q188.747 894.787 191.802 899.393 Q194.881 903.977 194.881 912.727 Q194.881 921.453 191.802 926.06 Q188.747 930.643 182.937 930.643 Q177.126 930.643 174.048 926.06 Q170.992 921.453 170.992 912.727 Q170.992 903.977 174.048 899.393 Q177.126 894.787 182.937 894.787 Z\" fill=\"#000000\" fill-rule=\"evenodd\" fill-opacity=\"1\" /><path clip-path=\"url(#clip730)\" d=\"M153.353 478.105 Q150.205 478.105 148.353 480.257 Q146.525 482.41 146.525 486.16 Q146.525 489.887 148.353 492.063 Q150.205 494.216 153.353 494.216 Q156.502 494.216 158.33 492.063 Q160.182 489.887 160.182 486.16 Q160.182 482.41 158.33 480.257 Q156.502 478.105 153.353 478.105 M162.636 463.452 L162.636 467.711 Q160.877 466.878 159.071 466.438 Q157.289 465.998 155.529 465.998 Q150.9 465.998 148.446 469.123 Q146.015 472.248 145.668 478.568 Q147.034 476.554 149.094 475.489 Q151.154 474.401 153.631 474.401 Q158.84 474.401 161.849 477.572 Q164.881 480.72 164.881 486.16 Q164.881 491.484 161.733 494.702 Q158.585 497.919 153.353 497.919 Q147.358 497.919 144.187 493.336 Q141.016 488.73 141.016 480.003 Q141.016 471.808 144.904 466.947 Q148.793 462.063 155.344 462.063 Q157.103 462.063 158.886 462.41 Q160.691 462.757 162.636 463.452 Z\" fill=\"#000000\" fill-rule=\"evenodd\" fill-opacity=\"1\" /><path clip-path=\"url(#clip730)\" d=\"M182.937 465.767 Q179.326 465.767 177.497 469.332 Q175.691 472.873 175.691 480.003 Q175.691 487.109 177.497 490.674 Q179.326 494.216 182.937 494.216 Q186.571 494.216 188.376 490.674 Q190.205 487.109 190.205 480.003 Q190.205 472.873 188.376 469.332 Q186.571 465.767 182.937 465.767 M182.937 462.063 Q188.747 462.063 191.802 466.669 Q194.881 471.253 194.881 480.003 Q194.881 488.73 191.802 493.336 Q188.747 497.919 182.937 497.919 Q177.126 497.919 174.048 493.336 Q170.992 488.73 170.992 480.003 Q170.992 471.253 174.048 466.669 Q177.126 462.063 182.937 462.063 Z\" fill=\"#000000\" fill-rule=\"evenodd\" fill-opacity=\"1\" /><path clip-path=\"url(#clip730)\" d=\"M152.775 48.1121 Q149.441 48.1121 147.52 49.8945 Q145.622 51.6769 145.622 54.8019 Q145.622 57.9269 147.52 59.7093 Q149.441 61.4917 152.775 61.4917 Q156.108 61.4917 158.029 59.7093 Q159.951 57.9038 159.951 54.8019 Q159.951 51.6769 158.029 49.8945 Q156.131 48.1121 152.775 48.1121 M148.099 46.1214 Q145.09 45.3807 143.4 43.3205 Q141.733 41.2603 141.733 38.2974 Q141.733 34.1539 144.673 31.7465 Q147.636 29.3391 152.775 29.3391 Q157.937 29.3391 160.877 31.7465 Q163.816 34.1539 163.816 38.2974 Q163.816 41.2603 162.127 43.3205 Q160.46 45.3807 157.474 46.1214 Q160.853 46.9084 162.728 49.2001 Q164.627 51.4918 164.627 54.8019 Q164.627 59.825 161.548 62.5102 Q158.492 65.1954 152.775 65.1954 Q147.057 65.1954 143.978 62.5102 Q140.923 59.825 140.923 54.8019 Q140.923 51.4918 142.821 49.2001 Q144.719 46.9084 148.099 46.1214 M146.386 38.7372 Q146.386 41.4224 148.053 42.927 Q149.742 44.4316 152.775 44.4316 Q155.784 44.4316 157.474 42.927 Q159.187 41.4224 159.187 38.7372 Q159.187 36.052 157.474 34.5474 Q155.784 33.0428 152.775 33.0428 Q149.742 33.0428 148.053 34.5474 Q146.386 36.052 146.386 38.7372 Z\" fill=\"#000000\" fill-rule=\"evenodd\" fill-opacity=\"1\" /><path clip-path=\"url(#clip730)\" d=\"M182.937 33.0428 Q179.326 33.0428 177.497 36.6076 Q175.691 40.1492 175.691 47.2788 Q175.691 54.3853 177.497 57.9501 Q179.326 61.4917 182.937 61.4917 Q186.571 61.4917 188.376 57.9501 Q190.205 54.3853 190.205 47.2788 Q190.205 40.1492 188.376 36.6076 Q186.571 33.0428 182.937 33.0428 M182.937 29.3391 Q188.747 29.3391 191.802 33.9456 Q194.881 38.5289 194.881 47.2788 Q194.881 56.0056 191.802 60.6121 Q188.747 65.1954 182.937 65.1954 Q177.126 65.1954 174.048 60.6121 Q170.992 56.0056 170.992 47.2788 Q170.992 38.5289 174.048 33.9456 Q177.126 29.3391 182.937 29.3391 Z\" fill=\"#000000\" fill-rule=\"evenodd\" fill-opacity=\"1\" /><path clip-path=\"url(#clip730)\" d=\"M53.5277 1258.59 L71.3835 1258.59 L71.3835 1250.5 Q71.3835 1246.02 69.06 1243.57 Q66.7365 1241.11 62.4397 1241.11 Q58.1747 1241.11 55.8512 1243.57 Q53.5277 1246.02 53.5277 1250.5 L53.5277 1258.59 M48.2442 1265.02 L48.2442 1250.5 Q48.2442 1242.52 51.8726 1238.44 Q55.4692 1234.34 62.4397 1234.34 Q69.4738 1234.34 73.0704 1238.44 Q76.667 1242.52 76.667 1250.5 L76.667 1258.59 L95.7642 1258.59 L95.7642 1265.02 L48.2442 1265.02 Z\" fill=\"#000000\" fill-rule=\"evenodd\" fill-opacity=\"1\" /><path clip-path=\"url(#clip730)\" d=\"M65.5907 1206.45 Q65.0178 1207.44 64.7632 1208.62 Q64.4767 1209.76 64.4767 1211.16 Q64.4767 1216.13 67.7232 1218.8 Q70.9379 1221.44 76.9853 1221.44 L95.7642 1221.44 L95.7642 1227.33 L60.1162 1227.33 L60.1162 1221.44 L65.6544 1221.44 Q62.4079 1219.6 60.8483 1216.64 Q59.2568 1213.68 59.2568 1209.45 Q59.2568 1208.84 59.3523 1208.11 Q59.416 1207.38 59.5751 1206.49 L65.5907 1206.45 Z\" fill=\"#000000\" fill-rule=\"evenodd\" fill-opacity=\"1\" /><path clip-path=\"url(#clip730)\" d=\"M76.4761 1171.25 L79.3406 1171.25 L79.3406 1198.18 Q85.3881 1197.8 88.5709 1194.55 Q91.7219 1191.27 91.7219 1185.45 Q91.7219 1182.07 90.8944 1178.92 Q90.0669 1175.74 88.4118 1172.62 L93.9499 1172.62 Q95.2867 1175.77 95.987 1179.08 Q96.6872 1182.39 96.6872 1185.8 Q96.6872 1194.33 91.7219 1199.32 Q86.7567 1204.29 78.2903 1204.29 Q69.5374 1204.29 64.4131 1199.58 Q59.2568 1194.84 59.2568 1186.82 Q59.2568 1179.62 63.9038 1175.45 Q68.5189 1171.25 76.4761 1171.25 M74.7573 1177.11 Q69.9512 1177.17 67.0866 1179.81 Q64.2221 1182.42 64.2221 1186.75 Q64.2221 1191.65 66.9912 1194.61 Q69.7602 1197.54 74.7892 1197.99 L74.7573 1177.11 Z\" fill=\"#000000\" fill-rule=\"evenodd\" fill-opacity=\"1\" /><path clip-path=\"url(#clip730)\" d=\"M65.5271 1138.18 L46.239 1138.18 L46.239 1132.32 L95.7642 1132.32 L95.7642 1138.18 L90.417 1138.18 Q93.5998 1140.03 95.1594 1142.86 Q96.6872 1145.66 96.6872 1149.61 Q96.6872 1156.07 91.531 1160.14 Q86.3747 1164.19 77.972 1164.19 Q69.5693 1164.19 64.4131 1160.14 Q59.2568 1156.07 59.2568 1149.61 Q59.2568 1145.66 60.8164 1142.86 Q62.3442 1140.03 65.5271 1138.18 M77.972 1158.14 Q84.4332 1158.14 88.1253 1155.5 Q91.7856 1152.82 91.7856 1148.18 Q91.7856 1143.53 88.1253 1140.85 Q84.4332 1138.18 77.972 1138.18 Q71.5108 1138.18 67.8505 1140.85 Q64.1584 1143.53 64.1584 1148.18 Q64.1584 1152.82 67.8505 1155.5 Q71.5108 1158.14 77.972 1158.14 Z\" fill=\"#000000\" fill-rule=\"evenodd\" fill-opacity=\"1\" /><path clip-path=\"url(#clip730)\" d=\"M60.1162 1120.26 L60.1162 1114.41 L95.7642 1114.41 L95.7642 1120.26 L60.1162 1120.26 M46.239 1120.26 L46.239 1114.41 L53.655 1114.41 L53.655 1120.26 L46.239 1120.26 Z\" fill=\"#000000\" fill-rule=\"evenodd\" fill-opacity=\"1\" /><path clip-path=\"url(#clip730)\" d=\"M61.4848 1076.5 L66.9593 1076.5 Q65.5907 1078.98 64.9223 1081.49 Q64.2221 1083.98 64.2221 1086.52 Q64.2221 1092.22 67.8505 1095.37 Q71.4472 1098.52 77.972 1098.52 Q84.4969 1098.52 88.1253 1095.37 Q91.7219 1092.22 91.7219 1086.52 Q91.7219 1083.98 91.0535 1081.49 Q90.3533 1078.98 88.9847 1076.5 L94.3955 1076.5 Q95.5414 1078.95 96.1143 1081.59 Q96.6872 1084.2 96.6872 1087.16 Q96.6872 1095.21 91.6264 1099.96 Q86.5657 1104.7 77.972 1104.7 Q69.251 1104.7 64.2539 1099.92 Q59.2568 1095.12 59.2568 1086.78 Q59.2568 1084.07 59.8297 1081.49 Q60.3708 1078.92 61.4848 1076.5 Z\" fill=\"#000000\" fill-rule=\"evenodd\" fill-opacity=\"1\" /><path clip-path=\"url(#clip730)\" d=\"M49.9947 1060.52 L60.1162 1060.52 L60.1162 1048.46 L64.6677 1048.46 L64.6677 1060.52 L84.0194 1060.52 Q88.3799 1060.52 89.6213 1059.34 Q90.8626 1058.13 90.8626 1054.47 L90.8626 1048.46 L95.7642 1048.46 L95.7642 1054.47 Q95.7642 1061.25 93.2497 1063.83 Q90.7034 1066.41 84.0194 1066.41 L64.6677 1066.41 L64.6677 1070.7 L60.1162 1070.7 L60.1162 1066.41 L49.9947 1066.41 L49.9947 1060.52 Z\" fill=\"#000000\" fill-rule=\"evenodd\" fill-opacity=\"1\" /><path clip-path=\"url(#clip730)\" d=\"M76.4761 1010.26 L79.3406 1010.26 L79.3406 1037.19 Q85.3881 1036.81 88.5709 1033.56 Q91.7219 1030.28 91.7219 1024.46 Q91.7219 1021.08 90.8944 1017.93 Q90.0669 1014.75 88.4118 1011.63 L93.9499 1011.63 Q95.2867 1014.78 95.987 1018.09 Q96.6872 1021.4 96.6872 1024.81 Q96.6872 1033.34 91.7219 1038.34 Q86.7567 1043.3 78.2903 1043.3 Q69.5374 1043.3 64.4131 1038.59 Q59.2568 1033.85 59.2568 1025.83 Q59.2568 1018.63 63.9038 1014.46 Q68.5189 1010.26 76.4761 1010.26 M74.7573 1016.12 Q69.9512 1016.18 67.0866 1018.82 Q64.2221 1021.43 64.2221 1025.76 Q64.2221 1030.66 66.9912 1033.62 Q69.7602 1036.55 74.7892 1037 L74.7573 1016.12 Z\" fill=\"#000000\" fill-rule=\"evenodd\" fill-opacity=\"1\" /><path clip-path=\"url(#clip730)\" d=\"M65.5271 977.192 L46.239 977.192 L46.239 971.336 L95.7642 971.336 L95.7642 977.192 L90.417 977.192 Q93.5998 979.039 95.1594 981.871 Q96.6872 984.672 96.6872 988.619 Q96.6872 995.08 91.531 999.154 Q86.3747 1003.2 77.972 1003.2 Q69.5693 1003.2 64.4131 999.154 Q59.2568 995.08 59.2568 988.619 Q59.2568 984.672 60.8164 981.871 Q62.3442 979.039 65.5271 977.192 M77.972 997.149 Q84.4332 997.149 88.1253 994.507 Q91.7856 991.834 91.7856 987.187 Q91.7856 982.54 88.1253 979.866 Q84.4332 977.192 77.972 977.192 Q71.5108 977.192 67.8505 979.866 Q64.1584 982.54 64.1584 987.187 Q64.1584 991.834 67.8505 994.507 Q71.5108 997.149 77.972 997.149 Z\" fill=\"#000000\" fill-rule=\"evenodd\" fill-opacity=\"1\" /><path clip-path=\"url(#clip730)\" d=\"M95.7642 926.044 L48.2442 944.186 L48.2442 937.47 L88.2526 922.416 L48.2442 907.329 L48.2442 900.645 L95.7642 918.755 L95.7642 926.044 Z\" fill=\"#000000\" fill-rule=\"evenodd\" fill-opacity=\"1\" /><path clip-path=\"url(#clip730)\" d=\"M77.8447 882.821 Q77.8447 889.919 79.4679 892.656 Q81.0912 895.393 85.0061 895.393 Q88.1253 895.393 89.9714 893.356 Q91.7856 891.287 91.7856 887.754 Q91.7856 882.885 88.3481 879.956 Q84.8788 876.996 79.1497 876.996 L77.8447 876.996 L77.8447 882.821 M75.4257 871.14 L95.7642 871.14 L95.7642 876.996 L90.3533 876.996 Q93.5998 879.001 95.1594 881.993 Q96.6872 884.985 96.6872 889.314 Q96.6872 894.788 93.6316 898.035 Q90.5443 901.25 85.3881 901.25 Q79.3725 901.25 76.3169 897.239 Q73.2614 893.197 73.2614 885.208 L73.2614 876.996 L72.6885 876.996 Q68.6462 876.996 66.4501 879.67 Q64.2221 882.312 64.2221 887.118 Q64.2221 890.173 64.9541 893.07 Q65.6862 895.966 67.1503 898.64 L61.7395 898.64 Q60.4981 895.425 59.8934 892.401 Q59.2568 889.378 59.2568 886.513 Q59.2568 878.779 63.2672 874.959 Q67.2776 871.14 75.4257 871.14 Z\" fill=\"#000000\" fill-rule=\"evenodd\" fill-opacity=\"1\" /><path clip-path=\"url(#clip730)\" d=\"M46.239 859.077 L46.239 853.22 L95.7642 853.22 L95.7642 859.077 L46.239 859.077 Z\" fill=\"#000000\" fill-rule=\"evenodd\" fill-opacity=\"1\" /><path clip-path=\"url(#clip730)\" d=\"M81.6959 841.571 L60.1162 841.571 L60.1162 835.715 L81.4731 835.715 Q86.5339 835.715 89.0802 833.741 Q91.5946 831.768 91.5946 827.821 Q91.5946 823.079 88.5709 820.341 Q85.5472 817.572 80.3273 817.572 L60.1162 817.572 L60.1162 811.716 L95.7642 811.716 L95.7642 817.572 L90.2896 817.572 Q93.5362 819.705 95.1276 822.538 Q96.6872 825.339 96.6872 829.062 Q96.6872 835.205 92.8678 838.388 Q89.0483 841.571 81.6959 841.571 M59.2568 826.835 L59.2568 826.835 Z\" fill=\"#000000\" fill-rule=\"evenodd\" fill-opacity=\"1\" /><path clip-path=\"url(#clip730)\" d=\"M76.4761 769.161 L79.3406 769.161 L79.3406 796.088 Q85.3881 795.706 88.5709 792.46 Q91.7219 789.181 91.7219 783.357 Q91.7219 779.983 90.8944 776.832 Q90.0669 773.649 88.4118 770.53 L93.9499 770.53 Q95.2867 773.681 95.987 776.991 Q96.6872 780.301 96.6872 783.707 Q96.6872 792.237 91.7219 797.234 Q86.7567 802.199 78.2903 802.199 Q69.5374 802.199 64.4131 797.489 Q59.2568 792.746 59.2568 784.725 Q59.2568 777.532 63.9038 773.363 Q68.5189 769.161 76.4761 769.161 M74.7573 775.018 Q69.9512 775.081 67.0866 777.723 Q64.2221 780.333 64.2221 784.662 Q64.2221 789.563 66.9912 792.523 Q69.7602 795.452 74.7892 795.897 L74.7573 775.018 Z\" fill=\"#000000\" fill-rule=\"evenodd\" fill-opacity=\"1\" /><path clip-path=\"url(#clip730)\" d=\"M46.3026 724.76 Q53.6232 729.025 60.7846 731.094 Q67.946 733.163 75.2984 733.163 Q82.6508 733.163 89.8759 731.094 Q97.0691 728.994 104.358 724.76 L104.358 729.853 Q96.8782 734.627 89.6531 737.014 Q82.428 739.37 75.2984 739.37 Q68.2006 739.37 61.0074 737.014 Q53.8142 734.659 46.3026 729.853 L46.3026 724.76 Z\" fill=\"#000000\" fill-rule=\"evenodd\" fill-opacity=\"1\" /><path clip-path=\"url(#clip730)\" d=\"M99.0743 698.566 Q105.44 701.048 107.382 703.403 Q109.323 705.759 109.323 709.705 L109.323 714.384 L104.422 714.384 L104.422 710.947 Q104.422 708.528 103.276 707.191 Q102.13 705.854 97.8648 704.231 L95.1912 703.181 L60.1162 717.599 L60.1162 711.392 L87.998 700.252 L60.1162 689.112 L60.1162 682.906 L99.0743 698.566 Z\" fill=\"#000000\" fill-rule=\"evenodd\" fill-opacity=\"1\" /><path clip-path=\"url(#clip730)\" d=\"M106.586 647.735 L111.137 647.735 L111.137 681.601 L106.586 681.601 L106.586 647.735 Z\" fill=\"#000000\" fill-rule=\"evenodd\" fill-opacity=\"1\" /><path clip-path=\"url(#clip730)\" d=\"M90.417 636.564 L109.323 636.564 L109.323 642.452 L60.1162 642.452 L60.1162 636.564 L65.5271 636.564 Q62.3442 634.717 60.8164 631.917 Q59.2568 629.084 59.2568 625.169 Q59.2568 618.676 64.4131 614.634 Q69.5693 610.56 77.972 610.56 Q86.3747 610.56 91.531 614.634 Q96.6872 618.676 96.6872 625.169 Q96.6872 629.084 95.1594 631.917 Q93.5998 634.717 90.417 636.564 M77.972 616.639 Q71.5108 616.639 67.8505 619.312 Q64.1584 621.954 64.1584 626.601 Q64.1584 631.248 67.8505 633.922 Q71.5108 636.564 77.972 636.564 Q84.4332 636.564 88.1253 633.922 Q91.7856 631.248 91.7856 626.601 Q91.7856 621.954 88.1253 619.312 Q84.4332 616.639 77.972 616.639 Z\" fill=\"#000000\" fill-rule=\"evenodd\" fill-opacity=\"1\" /><path clip-path=\"url(#clip730)\" d=\"M65.5907 580.195 Q65.0178 581.182 64.7632 582.36 Q64.4767 583.505 64.4767 584.906 Q64.4767 589.871 67.7232 592.545 Q70.9379 595.186 76.9853 595.186 L95.7642 595.186 L95.7642 601.075 L60.1162 601.075 L60.1162 595.186 L65.6544 595.186 Q62.4079 593.34 60.8483 590.38 Q59.2568 587.42 59.2568 583.187 Q59.2568 582.582 59.3523 581.85 Q59.416 581.118 59.5751 580.227 L65.5907 580.195 Z\" fill=\"#000000\" fill-rule=\"evenodd\" fill-opacity=\"1\" /><path clip-path=\"url(#clip730)\" d=\"M46.3026 574.975 L46.3026 569.883 Q53.8142 565.108 61.0074 562.753 Q68.2006 560.366 75.2984 560.366 Q82.428 560.366 89.6531 562.753 Q96.8782 565.108 104.358 569.883 L104.358 574.975 Q97.0691 570.742 89.8759 568.673 Q82.6508 566.573 75.2984 566.573 Q67.946 566.573 60.7846 568.673 Q53.6232 570.742 46.3026 574.975 Z\" fill=\"#000000\" fill-rule=\"evenodd\" fill-opacity=\"1\" /><circle clip-path=\"url(#clip732)\" cx=\"480.822\" cy=\"1380.87\" r=\"14.4\" fill=\"#009af9\" fill-rule=\"evenodd\" fill-opacity=\"1\" stroke=\"#000000\" stroke-opacity=\"1\" stroke-width=\"4\"/>\n<circle clip-path=\"url(#clip732)\" cx=\"597.238\" cy=\"1357.17\" r=\"14.4\" fill=\"#009af9\" fill-rule=\"evenodd\" fill-opacity=\"1\" stroke=\"#000000\" stroke-opacity=\"1\" stroke-width=\"4\"/>\n<circle clip-path=\"url(#clip732)\" cx=\"825.965\" cy=\"1237.48\" r=\"14.4\" fill=\"#009af9\" fill-rule=\"evenodd\" fill-opacity=\"1\" stroke=\"#000000\" stroke-opacity=\"1\" stroke-width=\"4\"/>\n<circle clip-path=\"url(#clip732)\" cx=\"997.241\" cy=\"936.242\" r=\"14.4\" fill=\"#009af9\" fill-rule=\"evenodd\" fill-opacity=\"1\" stroke=\"#000000\" stroke-opacity=\"1\" stroke-width=\"4\"/>\n<circle clip-path=\"url(#clip732)\" cx=\"1060.74\" cy=\"821.928\" r=\"14.4\" fill=\"#009af9\" fill-rule=\"evenodd\" fill-opacity=\"1\" stroke=\"#000000\" stroke-opacity=\"1\" stroke-width=\"4\"/>\n<circle clip-path=\"url(#clip732)\" cx=\"533.955\" cy=\"1314.47\" r=\"14.4\" fill=\"#009af9\" fill-rule=\"evenodd\" fill-opacity=\"1\" stroke=\"#000000\" stroke-opacity=\"1\" stroke-width=\"4\"/>\n<circle clip-path=\"url(#clip732)\" cx=\"601.558\" cy=\"1290.95\" r=\"14.4\" fill=\"#009af9\" fill-rule=\"evenodd\" fill-opacity=\"1\" stroke=\"#000000\" stroke-opacity=\"1\" stroke-width=\"4\"/>\n<circle clip-path=\"url(#clip732)\" cx=\"910.415\" cy=\"1172.22\" r=\"14.4\" fill=\"#009af9\" fill-rule=\"evenodd\" fill-opacity=\"1\" stroke=\"#000000\" stroke-opacity=\"1\" stroke-width=\"4\"/>\n<circle clip-path=\"url(#clip732)\" cx=\"1043.68\" cy=\"874.337\" r=\"14.4\" fill=\"#009af9\" fill-rule=\"evenodd\" fill-opacity=\"1\" stroke=\"#000000\" stroke-opacity=\"1\" stroke-width=\"4\"/>\n<circle clip-path=\"url(#clip732)\" cx=\"1075.43\" cy=\"761.891\" r=\"14.4\" fill=\"#009af9\" fill-rule=\"evenodd\" fill-opacity=\"1\" stroke=\"#000000\" stroke-opacity=\"1\" stroke-width=\"4\"/>\n<circle clip-path=\"url(#clip732)\" cx=\"567.648\" cy=\"1253.27\" r=\"14.4\" fill=\"#009af9\" fill-rule=\"evenodd\" fill-opacity=\"1\" stroke=\"#000000\" stroke-opacity=\"1\" stroke-width=\"4\"/>\n<circle clip-path=\"url(#clip732)\" cx=\"419.483\" cy=\"1230.01\" r=\"14.4\" fill=\"#009af9\" fill-rule=\"evenodd\" fill-opacity=\"1\" stroke=\"#000000\" stroke-opacity=\"1\" stroke-width=\"4\"/>\n<circle clip-path=\"url(#clip732)\" cx=\"950.804\" cy=\"1112.71\" r=\"14.4\" fill=\"#009af9\" fill-rule=\"evenodd\" fill-opacity=\"1\" stroke=\"#000000\" stroke-opacity=\"1\" stroke-width=\"4\"/>\n<circle clip-path=\"url(#clip732)\" cx=\"1103.07\" cy=\"819.254\" r=\"14.4\" fill=\"#009af9\" fill-rule=\"evenodd\" fill-opacity=\"1\" stroke=\"#000000\" stroke-opacity=\"1\" stroke-width=\"4\"/>\n<circle clip-path=\"url(#clip732)\" cx=\"1107.39\" cy=\"709.006\" r=\"14.4\" fill=\"#009af9\" fill-rule=\"evenodd\" fill-opacity=\"1\" stroke=\"#000000\" stroke-opacity=\"1\" stroke-width=\"4\"/>\n<circle clip-path=\"url(#clip732)\" cx=\"485.142\" cy=\"1554.61\" r=\"14.4\" fill=\"#009af9\" fill-rule=\"evenodd\" fill-opacity=\"1\" stroke=\"#000000\" stroke-opacity=\"1\" stroke-width=\"4\"/>\n<circle clip-path=\"url(#clip732)\" cx=\"603.718\" cy=\"1435.6\" r=\"14.4\" fill=\"#009af9\" fill-rule=\"evenodd\" fill-opacity=\"1\" stroke=\"#000000\" stroke-opacity=\"1\" stroke-width=\"4\"/>\n<circle clip-path=\"url(#clip732)\" cx=\"633.307\" cy=\"1375.65\" r=\"14.4\" fill=\"#009af9\" fill-rule=\"evenodd\" fill-opacity=\"1\" stroke=\"#000000\" stroke-opacity=\"1\" stroke-width=\"4\"/>\n<circle clip-path=\"url(#clip732)\" cx=\"768.73\" cy=\"1257.1\" r=\"14.4\" fill=\"#009af9\" fill-rule=\"evenodd\" fill-opacity=\"1\" stroke=\"#000000\" stroke-opacity=\"1\" stroke-width=\"4\"/>\n<circle clip-path=\"url(#clip732)\" cx=\"893.569\" cy=\"1390.5\" r=\"14.4\" fill=\"#009af9\" fill-rule=\"evenodd\" fill-opacity=\"1\" stroke=\"#000000\" stroke-opacity=\"1\" stroke-width=\"4\"/>\n<circle clip-path=\"url(#clip732)\" cx=\"1172.84\" cy=\"851.007\" r=\"14.4\" fill=\"#009af9\" fill-rule=\"evenodd\" fill-opacity=\"1\" stroke=\"#000000\" stroke-opacity=\"1\" stroke-width=\"4\"/>\n<circle clip-path=\"url(#clip732)\" cx=\"1397.24\" cy=\"601.805\" r=\"14.4\" fill=\"#009af9\" fill-rule=\"evenodd\" fill-opacity=\"1\" stroke=\"#000000\" stroke-opacity=\"1\" stroke-width=\"4\"/>\n<circle clip-path=\"url(#clip732)\" cx=\"1022.73\" cy=\"974.022\" r=\"14.4\" fill=\"#009af9\" fill-rule=\"evenodd\" fill-opacity=\"1\" stroke=\"#000000\" stroke-opacity=\"1\" stroke-width=\"4\"/>\n<circle clip-path=\"url(#clip732)\" cx=\"538.058\" cy=\"1421.26\" r=\"14.4\" fill=\"#009af9\" fill-rule=\"evenodd\" fill-opacity=\"1\" stroke=\"#000000\" stroke-opacity=\"1\" stroke-width=\"4\"/>\n<circle clip-path=\"url(#clip732)\" cx=\"709.55\" cy=\"1299.08\" r=\"14.4\" fill=\"#009af9\" fill-rule=\"evenodd\" fill-opacity=\"1\" stroke=\"#000000\" stroke-opacity=\"1\" stroke-width=\"4\"/>\n<circle clip-path=\"url(#clip732)\" cx=\"497.885\" cy=\"942.731\" r=\"14.4\" fill=\"#009af9\" fill-rule=\"evenodd\" fill-opacity=\"1\" stroke=\"#000000\" stroke-opacity=\"1\" stroke-width=\"4\"/>\n<circle clip-path=\"url(#clip732)\" cx=\"787.736\" cy=\"933.6\" r=\"14.4\" fill=\"#009af9\" fill-rule=\"evenodd\" fill-opacity=\"1\" stroke=\"#000000\" stroke-opacity=\"1\" stroke-width=\"4\"/>\n<circle clip-path=\"url(#clip732)\" cx=\"942.165\" cy=\"915.544\" r=\"14.4\" fill=\"#009af9\" fill-rule=\"evenodd\" fill-opacity=\"1\" stroke=\"#000000\" stroke-opacity=\"1\" stroke-width=\"4\"/>\n<circle clip-path=\"url(#clip732)\" cx=\"1022.73\" cy=\"884.613\" r=\"14.4\" fill=\"#009af9\" fill-rule=\"evenodd\" fill-opacity=\"1\" stroke=\"#000000\" stroke-opacity=\"1\" stroke-width=\"4\"/>\n<circle clip-path=\"url(#clip732)\" cx=\"1177.16\" cy=\"825.384\" r=\"14.4\" fill=\"#009af9\" fill-rule=\"evenodd\" fill-opacity=\"1\" stroke=\"#000000\" stroke-opacity=\"1\" stroke-width=\"4\"/>\n<circle clip-path=\"url(#clip732)\" cx=\"1361.17\" cy=\"756.228\" r=\"14.4\" fill=\"#009af9\" fill-rule=\"evenodd\" fill-opacity=\"1\" stroke=\"#000000\" stroke-opacity=\"1\" stroke-width=\"4\"/>\n<circle clip-path=\"url(#clip732)\" cx=\"1515.6\" cy=\"726.489\" r=\"14.4\" fill=\"#009af9\" fill-rule=\"evenodd\" fill-opacity=\"1\" stroke=\"#000000\" stroke-opacity=\"1\" stroke-width=\"4\"/>\n<circle clip-path=\"url(#clip732)\" cx=\"1678.67\" cy=\"669.675\" r=\"14.4\" fill=\"#009af9\" fill-rule=\"evenodd\" fill-opacity=\"1\" stroke=\"#000000\" stroke-opacity=\"1\" stroke-width=\"4\"/>\n<circle clip-path=\"url(#clip732)\" cx=\"1729.43\" cy=\"464.446\" r=\"14.4\" fill=\"#009af9\" fill-rule=\"evenodd\" fill-opacity=\"1\" stroke=\"#000000\" stroke-opacity=\"1\" stroke-width=\"4\"/>\n<circle clip-path=\"url(#clip732)\" cx=\"1771.76\" cy=\"316.193\" r=\"14.4\" fill=\"#009af9\" fill-rule=\"evenodd\" fill-opacity=\"1\" stroke=\"#000000\" stroke-opacity=\"1\" stroke-width=\"4\"/>\n<circle clip-path=\"url(#clip732)\" cx=\"1826.84\" cy=\"353.072\" r=\"14.4\" fill=\"#009af9\" fill-rule=\"evenodd\" fill-opacity=\"1\" stroke=\"#000000\" stroke-opacity=\"1\" stroke-width=\"4\"/>\n<circle clip-path=\"url(#clip732)\" cx=\"616.461\" cy=\"1299.42\" r=\"14.4\" fill=\"#009af9\" fill-rule=\"evenodd\" fill-opacity=\"1\" stroke=\"#000000\" stroke-opacity=\"1\" stroke-width=\"4\"/>\n<circle clip-path=\"url(#clip732)\" cx=\"711.494\" cy=\"1259.72\" r=\"14.4\" fill=\"#009af9\" fill-rule=\"evenodd\" fill-opacity=\"1\" stroke=\"#000000\" stroke-opacity=\"1\" stroke-width=\"4\"/>\n<circle clip-path=\"url(#clip732)\" cx=\"815.382\" cy=\"1183.05\" r=\"14.4\" fill=\"#009af9\" fill-rule=\"evenodd\" fill-opacity=\"1\" stroke=\"#000000\" stroke-opacity=\"1\" stroke-width=\"4\"/>\n<circle clip-path=\"url(#clip732)\" cx=\"872.402\" cy=\"1041.39\" r=\"14.4\" fill=\"#009af9\" fill-rule=\"evenodd\" fill-opacity=\"1\" stroke=\"#000000\" stroke-opacity=\"1\" stroke-width=\"4\"/>\n<circle clip-path=\"url(#clip732)\" cx=\"901.992\" cy=\"892.224\" r=\"14.4\" fill=\"#009af9\" fill-rule=\"evenodd\" fill-opacity=\"1\" stroke=\"#000000\" stroke-opacity=\"1\" stroke-width=\"4\"/>\n<circle clip-path=\"url(#clip732)\" cx=\"931.582\" cy=\"633.007\" r=\"14.4\" fill=\"#009af9\" fill-rule=\"evenodd\" fill-opacity=\"1\" stroke=\"#000000\" stroke-opacity=\"1\" stroke-width=\"4\"/>\n<circle clip-path=\"url(#clip732)\" cx=\"360.303\" cy=\"1179.34\" r=\"14.4\" fill=\"#009af9\" fill-rule=\"evenodd\" fill-opacity=\"1\" stroke=\"#000000\" stroke-opacity=\"1\" stroke-width=\"4\"/>\n<circle clip-path=\"url(#clip732)\" cx=\"542.378\" cy=\"1167.88\" r=\"14.4\" fill=\"#009af9\" fill-rule=\"evenodd\" fill-opacity=\"1\" stroke=\"#000000\" stroke-opacity=\"1\" stroke-width=\"4\"/>\n<circle clip-path=\"url(#clip732)\" cx=\"726.397\" cy=\"1145.19\" r=\"14.4\" fill=\"#009af9\" fill-rule=\"evenodd\" fill-opacity=\"1\" stroke=\"#000000\" stroke-opacity=\"1\" stroke-width=\"4\"/>\n<circle clip-path=\"url(#clip732)\" cx=\"827.909\" cy=\"1106.18\" r=\"14.4\" fill=\"#009af9\" fill-rule=\"evenodd\" fill-opacity=\"1\" stroke=\"#000000\" stroke-opacity=\"1\" stroke-width=\"4\"/>\n<circle clip-path=\"url(#clip732)\" cx=\"901.992\" cy=\"1030.95\" r=\"14.4\" fill=\"#009af9\" fill-rule=\"evenodd\" fill-opacity=\"1\" stroke=\"#000000\" stroke-opacity=\"1\" stroke-width=\"4\"/>\n<circle clip-path=\"url(#clip732)\" cx=\"1067.22\" cy=\"624.603\" r=\"14.4\" fill=\"#009af9\" fill-rule=\"evenodd\" fill-opacity=\"1\" stroke=\"#000000\" stroke-opacity=\"1\" stroke-width=\"4\"/>\n<circle clip-path=\"url(#clip732)\" cx=\"1115.6\" cy=\"706.857\" r=\"14.4\" fill=\"#009af9\" fill-rule=\"evenodd\" fill-opacity=\"1\" stroke=\"#000000\" stroke-opacity=\"1\" stroke-width=\"4\"/>\n<circle clip-path=\"url(#clip732)\" cx=\"548.642\" cy=\"1255.92\" r=\"14.4\" fill=\"#009af9\" fill-rule=\"evenodd\" fill-opacity=\"1\" stroke=\"#000000\" stroke-opacity=\"1\" stroke-width=\"4\"/>\n<circle clip-path=\"url(#clip732)\" cx=\"516.892\" cy=\"1332.41\" r=\"14.4\" fill=\"#009af9\" fill-rule=\"evenodd\" fill-opacity=\"1\" stroke=\"#000000\" stroke-opacity=\"1\" stroke-width=\"4\"/>\n<circle clip-path=\"url(#clip732)\" cx=\"743.243\" cy=\"1126.29\" r=\"14.4\" fill=\"#009af9\" fill-rule=\"evenodd\" fill-opacity=\"1\" stroke=\"#000000\" stroke-opacity=\"1\" stroke-width=\"4\"/>\n<circle clip-path=\"url(#clip732)\" cx=\"1033.09\" cy=\"1012.61\" r=\"14.4\" fill=\"#009af9\" fill-rule=\"evenodd\" fill-opacity=\"1\" stroke=\"#000000\" stroke-opacity=\"1\" stroke-width=\"4\"/>\n<circle clip-path=\"url(#clip732)\" cx=\"472.615\" cy=\"1108.03\" r=\"14.4\" fill=\"#009af9\" fill-rule=\"evenodd\" fill-opacity=\"1\" stroke=\"#000000\" stroke-opacity=\"1\" stroke-width=\"4\"/>\n<circle clip-path=\"url(#clip732)\" cx=\"709.55\" cy=\"1302.64\" r=\"14.4\" fill=\"#009af9\" fill-rule=\"evenodd\" fill-opacity=\"1\" stroke=\"#000000\" stroke-opacity=\"1\" stroke-width=\"4\"/>\n<circle clip-path=\"url(#clip732)\" cx=\"681.904\" cy=\"1243.56\" r=\"14.4\" fill=\"#009af9\" fill-rule=\"evenodd\" fill-opacity=\"1\" stroke=\"#000000\" stroke-opacity=\"1\" stroke-width=\"4\"/>\n<circle clip-path=\"url(#clip732)\" cx=\"912.575\" cy=\"1126.82\" r=\"14.4\" fill=\"#009af9\" fill-rule=\"evenodd\" fill-opacity=\"1\" stroke=\"#000000\" stroke-opacity=\"1\" stroke-width=\"4\"/>\n<circle clip-path=\"url(#clip732)\" cx=\"544.538\" cy=\"1377.73\" r=\"14.4\" fill=\"#009af9\" fill-rule=\"evenodd\" fill-opacity=\"1\" stroke=\"#000000\" stroke-opacity=\"1\" stroke-width=\"4\"/>\n<circle clip-path=\"url(#clip732)\" cx=\"768.73\" cy=\"1258.46\" r=\"14.4\" fill=\"#009af9\" fill-rule=\"evenodd\" fill-opacity=\"1\" stroke=\"#000000\" stroke-opacity=\"1\" stroke-width=\"4\"/>\n<circle clip-path=\"url(#clip732)\" cx=\"603.718\" cy=\"1432.06\" r=\"14.4\" fill=\"#009af9\" fill-rule=\"evenodd\" fill-opacity=\"1\" stroke=\"#000000\" stroke-opacity=\"1\" stroke-width=\"4\"/>\n<circle clip-path=\"url(#clip732)\" cx=\"531.579\" cy=\"1398.58\" r=\"14.4\" fill=\"#009af9\" fill-rule=\"evenodd\" fill-opacity=\"1\" stroke=\"#000000\" stroke-opacity=\"1\" stroke-width=\"4\"/>\n<circle clip-path=\"url(#clip732)\" cx=\"692.487\" cy=\"1280.22\" r=\"14.4\" fill=\"#009af9\" fill-rule=\"evenodd\" fill-opacity=\"1\" stroke=\"#000000\" stroke-opacity=\"1\" stroke-width=\"4\"/>\n<circle clip-path=\"url(#clip732)\" cx=\"859.659\" cy=\"981.912\" r=\"14.4\" fill=\"#009af9\" fill-rule=\"evenodd\" fill-opacity=\"1\" stroke=\"#000000\" stroke-opacity=\"1\" stroke-width=\"4\"/>\n<circle clip-path=\"url(#clip732)\" cx=\"516.892\" cy=\"1388.6\" r=\"14.4\" fill=\"#009af9\" fill-rule=\"evenodd\" fill-opacity=\"1\" stroke=\"#000000\" stroke-opacity=\"1\" stroke-width=\"4\"/>\n<circle clip-path=\"url(#clip732)\" cx=\"576.072\" cy=\"1308.92\" r=\"14.4\" fill=\"#009af9\" fill-rule=\"evenodd\" fill-opacity=\"1\" stroke=\"#000000\" stroke-opacity=\"1\" stroke-width=\"4\"/>\n<circle clip-path=\"url(#clip732)\" cx=\"904.152\" cy=\"1190.37\" r=\"14.4\" fill=\"#009af9\" fill-rule=\"evenodd\" fill-opacity=\"1\" stroke=\"#000000\" stroke-opacity=\"1\" stroke-width=\"4\"/>\n<circle clip-path=\"url(#clip732)\" cx=\"1028.99\" cy=\"893.029\" r=\"14.4\" fill=\"#009af9\" fill-rule=\"evenodd\" fill-opacity=\"1\" stroke=\"#000000\" stroke-opacity=\"1\" stroke-width=\"4\"/>\n<circle clip-path=\"url(#clip732)\" cx=\"616.461\" cy=\"1232.63\" r=\"14.4\" fill=\"#009af9\" fill-rule=\"evenodd\" fill-opacity=\"1\" stroke=\"#000000\" stroke-opacity=\"1\" stroke-width=\"4\"/>\n<circle clip-path=\"url(#clip732)\" cx=\"931.582\" cy=\"1115.19\" r=\"14.4\" fill=\"#009af9\" fill-rule=\"evenodd\" fill-opacity=\"1\" stroke=\"#000000\" stroke-opacity=\"1\" stroke-width=\"4\"/>\n<circle clip-path=\"url(#clip732)\" cx=\"1077.8\" cy=\"821.396\" r=\"14.4\" fill=\"#009af9\" fill-rule=\"evenodd\" fill-opacity=\"1\" stroke=\"#000000\" stroke-opacity=\"1\" stroke-width=\"4\"/>\n<circle clip-path=\"url(#clip732)\" cx=\"1111.5\" cy=\"558.692\" r=\"14.4\" fill=\"#009af9\" fill-rule=\"evenodd\" fill-opacity=\"1\" stroke=\"#000000\" stroke-opacity=\"1\" stroke-width=\"4\"/>\n<circle clip-path=\"url(#clip732)\" cx=\"1134.82\" cy=\"652.708\" r=\"14.4\" fill=\"#009af9\" fill-rule=\"evenodd\" fill-opacity=\"1\" stroke=\"#000000\" stroke-opacity=\"1\" stroke-width=\"4\"/>\n<circle clip-path=\"url(#clip732)\" cx=\"616.461\" cy=\"1396.01\" r=\"14.4\" fill=\"#009af9\" fill-rule=\"evenodd\" fill-opacity=\"1\" stroke=\"#000000\" stroke-opacity=\"1\" stroke-width=\"4\"/>\n<circle clip-path=\"url(#clip732)\" cx=\"802.423\" cy=\"741.115\" r=\"14.4\" fill=\"#009af9\" fill-rule=\"evenodd\" fill-opacity=\"1\" stroke=\"#000000\" stroke-opacity=\"1\" stroke-width=\"4\"/>\n<circle clip-path=\"url(#clip732)\" cx=\"1562.26\" cy=\"379.577\" r=\"14.4\" fill=\"#009af9\" fill-rule=\"evenodd\" fill-opacity=\"1\" stroke=\"#000000\" stroke-opacity=\"1\" stroke-width=\"4\"/>\n<circle clip-path=\"url(#clip732)\" cx=\"1244.76\" cy=\"609.147\" r=\"14.4\" fill=\"#009af9\" fill-rule=\"evenodd\" fill-opacity=\"1\" stroke=\"#000000\" stroke-opacity=\"1\" stroke-width=\"4\"/>\n<circle clip-path=\"url(#clip732)\" cx=\"1327.27\" cy=\"444.878\" r=\"14.4\" fill=\"#009af9\" fill-rule=\"evenodd\" fill-opacity=\"1\" stroke=\"#000000\" stroke-opacity=\"1\" stroke-width=\"4\"/>\n<circle clip-path=\"url(#clip732)\" cx=\"1416.25\" cy=\"466.917\" r=\"14.4\" fill=\"#009af9\" fill-rule=\"evenodd\" fill-opacity=\"1\" stroke=\"#000000\" stroke-opacity=\"1\" stroke-width=\"4\"/>\n<circle clip-path=\"url(#clip732)\" cx=\"1124.24\" cy=\"773.608\" r=\"14.4\" fill=\"#009af9\" fill-rule=\"evenodd\" fill-opacity=\"1\" stroke=\"#000000\" stroke-opacity=\"1\" stroke-width=\"4\"/>\n<circle clip-path=\"url(#clip732)\" cx=\"520.996\" cy=\"1507.84\" r=\"14.4\" fill=\"#009af9\" fill-rule=\"evenodd\" fill-opacity=\"1\" stroke=\"#000000\" stroke-opacity=\"1\" stroke-width=\"4\"/>\n<circle clip-path=\"url(#clip732)\" cx=\"650.154\" cy=\"1388.65\" r=\"14.4\" fill=\"#009af9\" fill-rule=\"evenodd\" fill-opacity=\"1\" stroke=\"#000000\" stroke-opacity=\"1\" stroke-width=\"4\"/>\n<circle clip-path=\"url(#clip732)\" cx=\"908.471\" cy=\"1128.12\" r=\"14.4\" fill=\"#009af9\" fill-rule=\"evenodd\" fill-opacity=\"1\" stroke=\"#000000\" stroke-opacity=\"1\" stroke-width=\"4\"/>\n<circle clip-path=\"url(#clip732)\" cx=\"637.627\" cy=\"1182.11\" r=\"14.4\" fill=\"#009af9\" fill-rule=\"evenodd\" fill-opacity=\"1\" stroke=\"#000000\" stroke-opacity=\"1\" stroke-width=\"4\"/>\n<circle clip-path=\"url(#clip732)\" cx=\"1079.75\" cy=\"1047.2\" r=\"14.4\" fill=\"#009af9\" fill-rule=\"evenodd\" fill-opacity=\"1\" stroke=\"#000000\" stroke-opacity=\"1\" stroke-width=\"4\"/>\n<circle clip-path=\"url(#clip732)\" cx=\"1278.67\" cy=\"768.363\" r=\"14.4\" fill=\"#009af9\" fill-rule=\"evenodd\" fill-opacity=\"1\" stroke=\"#000000\" stroke-opacity=\"1\" stroke-width=\"4\"/>\n<circle clip-path=\"url(#clip732)\" cx=\"743.243\" cy=\"1122.81\" r=\"14.4\" fill=\"#009af9\" fill-rule=\"evenodd\" fill-opacity=\"1\" stroke=\"#000000\" stroke-opacity=\"1\" stroke-width=\"4\"/>\n<circle clip-path=\"url(#clip732)\" cx=\"1033.09\" cy=\"1009.09\" r=\"14.4\" fill=\"#009af9\" fill-rule=\"evenodd\" fill-opacity=\"1\" stroke=\"#000000\" stroke-opacity=\"1\" stroke-width=\"4\"/>\n<circle clip-path=\"url(#clip732)\" cx=\"472.615\" cy=\"1511.34\" r=\"14.4\" fill=\"#009af9\" fill-rule=\"evenodd\" fill-opacity=\"1\" stroke=\"#000000\" stroke-opacity=\"1\" stroke-width=\"4\"/>\n<circle clip-path=\"url(#clip732)\" cx=\"650.154\" cy=\"1388.65\" r=\"14.4\" fill=\"#009af9\" fill-rule=\"evenodd\" fill-opacity=\"1\" stroke=\"#000000\" stroke-opacity=\"1\" stroke-width=\"4\"/>\n<circle clip-path=\"url(#clip732)\" cx=\"548.642\" cy=\"1372.13\" r=\"14.4\" fill=\"#009af9\" fill-rule=\"evenodd\" fill-opacity=\"1\" stroke=\"#000000\" stroke-opacity=\"1\" stroke-width=\"4\"/>\n<circle clip-path=\"url(#clip732)\" cx=\"827.909\" cy=\"1253.06\" r=\"14.4\" fill=\"#009af9\" fill-rule=\"evenodd\" fill-opacity=\"1\" stroke=\"#000000\" stroke-opacity=\"1\" stroke-width=\"4\"/>\n<circle clip-path=\"url(#clip732)\" cx=\"973.915\" cy=\"953.401\" r=\"14.4\" fill=\"#009af9\" fill-rule=\"evenodd\" fill-opacity=\"1\" stroke=\"#000000\" stroke-opacity=\"1\" stroke-width=\"4\"/>\n<circle clip-path=\"url(#clip732)\" cx=\"1031.15\" cy=\"679.802\" r=\"14.4\" fill=\"#009af9\" fill-rule=\"evenodd\" fill-opacity=\"1\" stroke=\"#000000\" stroke-opacity=\"1\" stroke-width=\"4\"/>\n<circle clip-path=\"url(#clip732)\" cx=\"1048\" cy=\"747.298\" r=\"14.4\" fill=\"#009af9\" fill-rule=\"evenodd\" fill-opacity=\"1\" stroke=\"#000000\" stroke-opacity=\"1\" stroke-width=\"4\"/>\n<circle clip-path=\"url(#clip732)\" cx=\"954.908\" cy=\"848.197\" r=\"14.4\" fill=\"#009af9\" fill-rule=\"evenodd\" fill-opacity=\"1\" stroke=\"#000000\" stroke-opacity=\"1\" stroke-width=\"4\"/>\n<circle clip-path=\"url(#clip732)\" cx=\"1141.09\" cy=\"830.591\" r=\"14.4\" fill=\"#009af9\" fill-rule=\"evenodd\" fill-opacity=\"1\" stroke=\"#000000\" stroke-opacity=\"1\" stroke-width=\"4\"/>\n<circle clip-path=\"url(#clip732)\" cx=\"1270.25\" cy=\"800.453\" r=\"14.4\" fill=\"#009af9\" fill-rule=\"evenodd\" fill-opacity=\"1\" stroke=\"#000000\" stroke-opacity=\"1\" stroke-width=\"4\"/>\n<circle clip-path=\"url(#clip732)\" cx=\"1433.1\" cy=\"742.821\" r=\"14.4\" fill=\"#009af9\" fill-rule=\"evenodd\" fill-opacity=\"1\" stroke=\"#000000\" stroke-opacity=\"1\" stroke-width=\"4\"/>\n<circle clip-path=\"url(#clip732)\" cx=\"1494.44\" cy=\"533.747\" r=\"14.4\" fill=\"#009af9\" fill-rule=\"evenodd\" fill-opacity=\"1\" stroke=\"#000000\" stroke-opacity=\"1\" stroke-width=\"4\"/>\n<circle clip-path=\"url(#clip732)\" cx=\"1674.35\" cy=\"410.59\" r=\"14.4\" fill=\"#009af9\" fill-rule=\"evenodd\" fill-opacity=\"1\" stroke=\"#000000\" stroke-opacity=\"1\" stroke-width=\"4\"/>\n<circle clip-path=\"url(#clip732)\" cx=\"673.481\" cy=\"1338.69\" r=\"14.4\" fill=\"#009af9\" fill-rule=\"evenodd\" fill-opacity=\"1\" stroke=\"#000000\" stroke-opacity=\"1\" stroke-width=\"4\"/>\n<circle clip-path=\"url(#clip732)\" cx=\"768.73\" cy=\"1260.7\" r=\"14.4\" fill=\"#009af9\" fill-rule=\"evenodd\" fill-opacity=\"1\" stroke=\"#000000\" stroke-opacity=\"1\" stroke-width=\"4\"/>\n<circle clip-path=\"url(#clip732)\" cx=\"863.979\" cy=\"693.826\" r=\"14.4\" fill=\"#009af9\" fill-rule=\"evenodd\" fill-opacity=\"1\" stroke=\"#000000\" stroke-opacity=\"1\" stroke-width=\"4\"/>\n<circle clip-path=\"url(#clip732)\" cx=\"694.647\" cy=\"1317.39\" r=\"14.4\" fill=\"#009af9\" fill-rule=\"evenodd\" fill-opacity=\"1\" stroke=\"#000000\" stroke-opacity=\"1\" stroke-width=\"4\"/>\n<circle clip-path=\"url(#clip732)\" cx=\"1069.16\" cy=\"970.528\" r=\"14.4\" fill=\"#009af9\" fill-rule=\"evenodd\" fill-opacity=\"1\" stroke=\"#000000\" stroke-opacity=\"1\" stroke-width=\"4\"/>\n<circle clip-path=\"url(#clip732)\" cx=\"751.667\" cy=\"973.905\" r=\"14.4\" fill=\"#009af9\" fill-rule=\"evenodd\" fill-opacity=\"1\" stroke=\"#000000\" stroke-opacity=\"1\" stroke-width=\"4\"/>\n<circle clip-path=\"url(#clip732)\" cx=\"1315.82\" cy=\"809.013\" r=\"14.4\" fill=\"#009af9\" fill-rule=\"evenodd\" fill-opacity=\"1\" stroke=\"#000000\" stroke-opacity=\"1\" stroke-width=\"4\"/>\n<circle clip-path=\"url(#clip732)\" cx=\"1844.55\" cy=\"708.819\" r=\"14.4\" fill=\"#009af9\" fill-rule=\"evenodd\" fill-opacity=\"1\" stroke=\"#000000\" stroke-opacity=\"1\" stroke-width=\"4\"/>\n<circle clip-path=\"url(#clip732)\" cx=\"1027.69\" cy=\"1002.9\" r=\"14.4\" fill=\"#009af9\" fill-rule=\"evenodd\" fill-opacity=\"1\" stroke=\"#000000\" stroke-opacity=\"1\" stroke-width=\"4\"/>\n<circle clip-path=\"url(#clip732)\" cx=\"954.044\" cy=\"881.195\" r=\"14.4\" fill=\"#009af9\" fill-rule=\"evenodd\" fill-opacity=\"1\" stroke=\"#000000\" stroke-opacity=\"1\" stroke-width=\"4\"/>\n<circle clip-path=\"url(#clip732)\" cx=\"581.255\" cy=\"1265\" r=\"14.4\" fill=\"#009af9\" fill-rule=\"evenodd\" fill-opacity=\"1\" stroke=\"#000000\" stroke-opacity=\"1\" stroke-width=\"4\"/>\n<circle clip-path=\"url(#clip732)\" cx=\"656.634\" cy=\"1263.31\" r=\"14.4\" fill=\"#009af9\" fill-rule=\"evenodd\" fill-opacity=\"1\" stroke=\"#000000\" stroke-opacity=\"1\" stroke-width=\"4\"/>\n<circle clip-path=\"url(#clip732)\" cx=\"1009.98\" cy=\"935.366\" r=\"14.4\" fill=\"#009af9\" fill-rule=\"evenodd\" fill-opacity=\"1\" stroke=\"#000000\" stroke-opacity=\"1\" stroke-width=\"4\"/>\n<circle clip-path=\"url(#clip732)\" cx=\"952.532\" cy=\"605.139\" r=\"14.4\" fill=\"#009af9\" fill-rule=\"evenodd\" fill-opacity=\"1\" stroke=\"#000000\" stroke-opacity=\"1\" stroke-width=\"4\"/>\n<circle clip-path=\"url(#clip732)\" cx=\"557.929\" cy=\"1197.16\" r=\"14.4\" fill=\"#009af9\" fill-rule=\"evenodd\" fill-opacity=\"1\" stroke=\"#000000\" stroke-opacity=\"1\" stroke-width=\"4\"/>\n<circle clip-path=\"url(#clip732)\" cx=\"946.701\" cy=\"1021.82\" r=\"14.4\" fill=\"#009af9\" fill-rule=\"evenodd\" fill-opacity=\"1\" stroke=\"#000000\" stroke-opacity=\"1\" stroke-width=\"4\"/>\n<circle clip-path=\"url(#clip732)\" cx=\"1068.3\" cy=\"1051.44\" r=\"14.4\" fill=\"#009af9\" fill-rule=\"evenodd\" fill-opacity=\"1\" stroke=\"#000000\" stroke-opacity=\"1\" stroke-width=\"4\"/>\n<circle clip-path=\"url(#clip732)\" cx=\"822.726\" cy=\"1025.12\" r=\"14.4\" fill=\"#009af9\" fill-rule=\"evenodd\" fill-opacity=\"1\" stroke=\"#000000\" stroke-opacity=\"1\" stroke-width=\"4\"/>\n<circle clip-path=\"url(#clip732)\" cx=\"805.015\" cy=\"1344.7\" r=\"14.4\" fill=\"#009af9\" fill-rule=\"evenodd\" fill-opacity=\"1\" stroke=\"#000000\" stroke-opacity=\"1\" stroke-width=\"4\"/>\n<circle clip-path=\"url(#clip732)\" cx=\"1203.29\" cy=\"791.861\" r=\"14.4\" fill=\"#009af9\" fill-rule=\"evenodd\" fill-opacity=\"1\" stroke=\"#000000\" stroke-opacity=\"1\" stroke-width=\"4\"/>\n<circle clip-path=\"url(#clip732)\" cx=\"875.426\" cy=\"1085.42\" r=\"14.4\" fill=\"#009af9\" fill-rule=\"evenodd\" fill-opacity=\"1\" stroke=\"#000000\" stroke-opacity=\"1\" stroke-width=\"4\"/>\n<circle clip-path=\"url(#clip732)\" cx=\"561.169\" cy=\"1219.31\" r=\"14.4\" fill=\"#009af9\" fill-rule=\"evenodd\" fill-opacity=\"1\" stroke=\"#000000\" stroke-opacity=\"1\" stroke-width=\"4\"/>\n<circle clip-path=\"url(#clip732)\" cx=\"1188.39\" cy=\"982.484\" r=\"14.4\" fill=\"#009af9\" fill-rule=\"evenodd\" fill-opacity=\"1\" stroke=\"#000000\" stroke-opacity=\"1\" stroke-width=\"4\"/>\n<circle clip-path=\"url(#clip732)\" cx=\"1380.83\" cy=\"805.121\" r=\"14.4\" fill=\"#009af9\" fill-rule=\"evenodd\" fill-opacity=\"1\" stroke=\"#000000\" stroke-opacity=\"1\" stroke-width=\"4\"/>\n<circle clip-path=\"url(#clip732)\" cx=\"1460.53\" cy=\"828.244\" r=\"14.4\" fill=\"#009af9\" fill-rule=\"evenodd\" fill-opacity=\"1\" stroke=\"#000000\" stroke-opacity=\"1\" stroke-width=\"4\"/>\n<circle clip-path=\"url(#clip732)\" cx=\"1648.43\" cy=\"698.097\" r=\"14.4\" fill=\"#009af9\" fill-rule=\"evenodd\" fill-opacity=\"1\" stroke=\"#000000\" stroke-opacity=\"1\" stroke-width=\"4\"/>\n<circle clip-path=\"url(#clip732)\" cx=\"1365.71\" cy=\"748.26\" r=\"14.4\" fill=\"#009af9\" fill-rule=\"evenodd\" fill-opacity=\"1\" stroke=\"#000000\" stroke-opacity=\"1\" stroke-width=\"4\"/>\n<circle clip-path=\"url(#clip732)\" cx=\"946.269\" cy=\"1025.38\" r=\"14.4\" fill=\"#009af9\" fill-rule=\"evenodd\" fill-opacity=\"1\" stroke=\"#000000\" stroke-opacity=\"1\" stroke-width=\"4\"/>\n<circle clip-path=\"url(#clip732)\" cx=\"614.301\" cy=\"1319.32\" r=\"14.4\" fill=\"#009af9\" fill-rule=\"evenodd\" fill-opacity=\"1\" stroke=\"#000000\" stroke-opacity=\"1\" stroke-width=\"4\"/>\n<circle clip-path=\"url(#clip732)\" cx=\"1031.8\" cy=\"1252.05\" r=\"14.4\" fill=\"#009af9\" fill-rule=\"evenodd\" fill-opacity=\"1\" stroke=\"#000000\" stroke-opacity=\"1\" stroke-width=\"4\"/>\n<circle clip-path=\"url(#clip732)\" cx=\"934.174\" cy=\"1005.16\" r=\"14.4\" fill=\"#009af9\" fill-rule=\"evenodd\" fill-opacity=\"1\" stroke=\"#000000\" stroke-opacity=\"1\" stroke-width=\"4\"/>\n<circle clip-path=\"url(#clip732)\" cx=\"1145.84\" cy=\"1075.18\" r=\"14.4\" fill=\"#009af9\" fill-rule=\"evenodd\" fill-opacity=\"1\" stroke=\"#000000\" stroke-opacity=\"1\" stroke-width=\"4\"/>\n<circle clip-path=\"url(#clip732)\" cx=\"1090.11\" cy=\"1099.55\" r=\"14.4\" fill=\"#009af9\" fill-rule=\"evenodd\" fill-opacity=\"1\" stroke=\"#000000\" stroke-opacity=\"1\" stroke-width=\"4\"/>\n<circle clip-path=\"url(#clip732)\" cx=\"1130.72\" cy=\"808.842\" r=\"14.4\" fill=\"#009af9\" fill-rule=\"evenodd\" fill-opacity=\"1\" stroke=\"#000000\" stroke-opacity=\"1\" stroke-width=\"4\"/>\n<circle clip-path=\"url(#clip732)\" cx=\"1547.35\" cy=\"736.942\" r=\"14.4\" fill=\"#009af9\" fill-rule=\"evenodd\" fill-opacity=\"1\" stroke=\"#000000\" stroke-opacity=\"1\" stroke-width=\"4\"/>\n<circle clip-path=\"url(#clip732)\" cx=\"1107.61\" cy=\"975.401\" r=\"14.4\" fill=\"#009af9\" fill-rule=\"evenodd\" fill-opacity=\"1\" stroke=\"#000000\" stroke-opacity=\"1\" stroke-width=\"4\"/>\n<circle clip-path=\"url(#clip732)\" cx=\"944.109\" cy=\"933.817\" r=\"14.4\" fill=\"#009af9\" fill-rule=\"evenodd\" fill-opacity=\"1\" stroke=\"#000000\" stroke-opacity=\"1\" stroke-width=\"4\"/>\n<circle clip-path=\"url(#clip732)\" cx=\"1357.07\" cy=\"830.419\" r=\"14.4\" fill=\"#009af9\" fill-rule=\"evenodd\" fill-opacity=\"1\" stroke=\"#000000\" stroke-opacity=\"1\" stroke-width=\"4\"/>\n<circle clip-path=\"url(#clip732)\" cx=\"550.801\" cy=\"1213.6\" r=\"14.4\" fill=\"#009af9\" fill-rule=\"evenodd\" fill-opacity=\"1\" stroke=\"#000000\" stroke-opacity=\"1\" stroke-width=\"4\"/>\n<circle clip-path=\"url(#clip732)\" cx=\"1055.56\" cy=\"936.613\" r=\"14.4\" fill=\"#009af9\" fill-rule=\"evenodd\" fill-opacity=\"1\" stroke=\"#000000\" stroke-opacity=\"1\" stroke-width=\"4\"/>\n<circle clip-path=\"url(#clip732)\" cx=\"1029.64\" cy=\"970.485\" r=\"14.4\" fill=\"#009af9\" fill-rule=\"evenodd\" fill-opacity=\"1\" stroke=\"#000000\" stroke-opacity=\"1\" stroke-width=\"4\"/>\n<circle clip-path=\"url(#clip732)\" cx=\"985.794\" cy=\"1296.72\" r=\"14.4\" fill=\"#009af9\" fill-rule=\"evenodd\" fill-opacity=\"1\" stroke=\"#000000\" stroke-opacity=\"1\" stroke-width=\"4\"/>\n<circle clip-path=\"url(#clip732)\" cx=\"1134.82\" cy=\"946.15\" r=\"14.4\" fill=\"#009af9\" fill-rule=\"evenodd\" fill-opacity=\"1\" stroke=\"#000000\" stroke-opacity=\"1\" stroke-width=\"4\"/>\n<circle clip-path=\"url(#clip732)\" cx=\"913.223\" cy=\"1162.86\" r=\"14.4\" fill=\"#009af9\" fill-rule=\"evenodd\" fill-opacity=\"1\" stroke=\"#000000\" stroke-opacity=\"1\" stroke-width=\"4\"/>\n<circle clip-path=\"url(#clip732)\" cx=\"1122.08\" cy=\"942.963\" r=\"14.4\" fill=\"#009af9\" fill-rule=\"evenodd\" fill-opacity=\"1\" stroke=\"#000000\" stroke-opacity=\"1\" stroke-width=\"4\"/>\n<circle clip-path=\"url(#clip732)\" cx=\"1076.94\" cy=\"1210.15\" r=\"14.4\" fill=\"#009af9\" fill-rule=\"evenodd\" fill-opacity=\"1\" stroke=\"#000000\" stroke-opacity=\"1\" stroke-width=\"4\"/>\n<circle clip-path=\"url(#clip732)\" cx=\"1043.68\" cy=\"1114.43\" r=\"14.4\" fill=\"#009af9\" fill-rule=\"evenodd\" fill-opacity=\"1\" stroke=\"#000000\" stroke-opacity=\"1\" stroke-width=\"4\"/>\n<circle clip-path=\"url(#clip732)\" cx=\"1181.26\" cy=\"815.711\" r=\"14.4\" fill=\"#009af9\" fill-rule=\"evenodd\" fill-opacity=\"1\" stroke=\"#000000\" stroke-opacity=\"1\" stroke-width=\"4\"/>\n<circle clip-path=\"url(#clip732)\" cx=\"898.32\" cy=\"1081.42\" r=\"14.4\" fill=\"#009af9\" fill-rule=\"evenodd\" fill-opacity=\"1\" stroke=\"#000000\" stroke-opacity=\"1\" stroke-width=\"4\"/>\n<circle clip-path=\"url(#clip732)\" cx=\"736.548\" cy=\"1137.86\" r=\"14.4\" fill=\"#009af9\" fill-rule=\"evenodd\" fill-opacity=\"1\" stroke=\"#000000\" stroke-opacity=\"1\" stroke-width=\"4\"/>\n<circle clip-path=\"url(#clip732)\" cx=\"932.446\" cy=\"1234.85\" r=\"14.4\" fill=\"#009af9\" fill-rule=\"evenodd\" fill-opacity=\"1\" stroke=\"#000000\" stroke-opacity=\"1\" stroke-width=\"4\"/>\n<circle clip-path=\"url(#clip732)\" cx=\"924.67\" cy=\"1006.18\" r=\"14.4\" fill=\"#009af9\" fill-rule=\"evenodd\" fill-opacity=\"1\" stroke=\"#000000\" stroke-opacity=\"1\" stroke-width=\"4\"/>\n<circle clip-path=\"url(#clip732)\" cx=\"843.244\" cy=\"1312.35\" r=\"14.4\" fill=\"#009af9\" fill-rule=\"evenodd\" fill-opacity=\"1\" stroke=\"#000000\" stroke-opacity=\"1\" stroke-width=\"4\"/>\n<circle clip-path=\"url(#clip732)\" cx=\"1019.7\" cy=\"975.055\" r=\"14.4\" fill=\"#009af9\" fill-rule=\"evenodd\" fill-opacity=\"1\" stroke=\"#000000\" stroke-opacity=\"1\" stroke-width=\"4\"/>\n<circle clip-path=\"url(#clip732)\" cx=\"619.7\" cy=\"1390.24\" r=\"14.4\" fill=\"#009af9\" fill-rule=\"evenodd\" fill-opacity=\"1\" stroke=\"#000000\" stroke-opacity=\"1\" stroke-width=\"4\"/>\n<polyline clip-path=\"url(#clip732)\" style=\"stroke:#e26f46; stroke-linecap:round; stroke-linejoin:round; stroke-width:4; stroke-opacity:1; fill:none\" points=\"\n  224.881,1778.14 246.479,1756.5 268.078,1734.87 289.676,1713.23 311.275,1691.6 332.873,1669.96 354.472,1648.32 376.07,1626.69 397.668,1605.05 419.267,1583.41 \n  440.865,1561.78 462.464,1540.14 484.062,1518.51 505.661,1496.87 527.259,1475.23 548.858,1453.6 570.456,1431.96 592.054,1410.32 613.653,1388.69 635.251,1367.05 \n  656.85,1345.42 678.448,1323.78 700.047,1302.14 721.645,1280.51 743.243,1258.87 764.842,1237.23 786.44,1215.6 808.039,1193.96 829.637,1172.33 851.236,1150.69 \n  872.834,1129.05 894.433,1107.42 916.031,1085.78 937.629,1064.15 959.228,1042.51 980.826,1020.87 1002.42,999.237 1024.02,977.601 1045.62,955.964 1067.22,934.328 \n  1088.82,912.692 1110.42,891.056 1132.02,869.42 1153.61,847.783 1175.21,826.147 1196.81,804.511 1218.41,782.875 1240.01,761.239 1261.61,739.602 1283.2,717.966 \n  1304.8,696.33 1326.4,674.694 1348,653.058 1369.6,631.421 1391.2,609.785 1412.79,588.149 1434.39,566.513 1455.99,544.877 1477.59,523.24 1499.19,501.604 \n  1520.79,479.968 1542.39,458.332 1563.98,436.696 1585.58,415.059 1607.18,393.423 1628.78,371.787 1650.38,350.151 1671.98,328.515 1693.57,306.878 1715.17,285.242 \n  1736.77,263.606 1758.37,241.97 1779.97,220.334 1801.57,198.697 1823.17,177.061 1844.76,155.425 1866.36,133.789 1887.96,112.153 1909.56,90.5165 1931.16,68.8803 \n  1952.76,47.2441 \n  \"/>\n<path clip-path=\"url(#clip730)\" d=\"\nM1650.74 260.461 L1895.16 260.461 L1895.16 104.941 L1650.74 104.941  Z\n  \" fill=\"#ffffff\" fill-rule=\"evenodd\" fill-opacity=\"1\"/>\n<polyline clip-path=\"url(#clip730)\" style=\"stroke:#000000; stroke-linecap:round; stroke-linejoin:round; stroke-width:4; stroke-opacity:1; fill:none\" points=\"\n  1650.74,260.461 1895.16,260.461 1895.16,104.941 1650.74,104.941 1650.74,260.461 \n  \"/>\n<circle clip-path=\"url(#clip730)\" cx=\"1727.54\" cy=\"156.781\" r=\"23.04\" fill=\"#009af9\" fill-rule=\"evenodd\" fill-opacity=\"1\" stroke=\"#000000\" stroke-opacity=\"1\" stroke-width=\"6.4\"/>\n<path clip-path=\"url(#clip730)\" d=\"M1818.18 176.468 Q1816.37 181.098 1814.66 182.51 Q1812.94 183.922 1810.07 183.922 L1806.67 183.922 L1806.67 180.357 L1809.17 180.357 Q1810.93 180.357 1811.9 179.524 Q1812.87 178.69 1814.05 175.588 L1814.82 173.644 L1804.33 148.135 L1808.85 148.135 L1816.95 168.413 L1825.05 148.135 L1829.56 148.135 L1818.18 176.468 Z\" fill=\"#000000\" fill-rule=\"evenodd\" fill-opacity=\"1\" /><path clip-path=\"url(#clip730)\" d=\"M1836.86 170.125 L1844.49 170.125 L1844.49 143.76 L1836.18 145.427 L1836.18 141.167 L1844.45 139.501 L1849.12 139.501 L1849.12 170.125 L1856.76 170.125 L1856.76 174.061 L1836.86 174.061 L1836.86 170.125 Z\" fill=\"#000000\" fill-rule=\"evenodd\" fill-opacity=\"1\" /><polyline clip-path=\"url(#clip730)\" style=\"stroke:#e26f46; stroke-linecap:round; stroke-linejoin:round; stroke-width:4; stroke-opacity:1; fill:none\" points=\"\n  1669.94,208.621 1785.13,208.621 \n  \"/>\n<path clip-path=\"url(#clip730)\" d=\"M1818.18 228.308 Q1816.37 232.938 1814.66 234.35 Q1812.94 235.762 1810.07 235.762 L1806.67 235.762 L1806.67 232.197 L1809.17 232.197 Q1810.93 232.197 1811.9 231.364 Q1812.87 230.53 1814.05 227.428 L1814.82 225.484 L1804.33 199.975 L1808.85 199.975 L1816.95 220.253 L1825.05 199.975 L1829.56 199.975 L1818.18 228.308 Z\" fill=\"#000000\" fill-rule=\"evenodd\" fill-opacity=\"1\" /><path clip-path=\"url(#clip730)\" d=\"M1840.07 221.965 L1856.39 221.965 L1856.39 225.901 L1834.45 225.901 L1834.45 221.965 Q1837.11 219.211 1841.69 214.581 Q1846.3 209.928 1847.48 208.586 Q1849.73 206.063 1850.61 204.327 Q1851.51 202.567 1851.51 200.878 Q1851.51 198.123 1849.56 196.387 Q1847.64 194.651 1844.54 194.651 Q1842.34 194.651 1839.89 195.415 Q1837.46 196.179 1834.68 197.729 L1834.68 193.007 Q1837.5 191.873 1839.96 191.294 Q1842.41 190.716 1844.45 190.716 Q1849.82 190.716 1853.01 193.401 Q1856.21 196.086 1856.21 200.577 Q1856.21 202.706 1855.4 204.628 Q1854.61 206.526 1852.5 209.118 Q1851.92 209.79 1848.82 213.007 Q1845.72 216.202 1840.07 221.965 Z\" fill=\"#000000\" fill-rule=\"evenodd\" fill-opacity=\"1\" /><path clip-path=\"url(#clip730)\" d=\"M408.523 149.595 Q407.626 149.074 406.555 148.842 Q405.513 148.582 404.24 148.582 Q399.726 148.582 397.296 151.533 Q394.894 154.456 394.894 159.953 L394.894 177.025 L389.541 177.025 L389.541 144.618 L394.894 144.618 L394.894 149.653 Q396.572 146.701 399.263 145.283 Q401.954 143.837 405.803 143.837 Q406.353 143.837 407.018 143.923 Q407.684 143.981 408.494 144.126 L408.523 149.595 Z\" fill=\"#000000\" fill-rule=\"evenodd\" fill-opacity=\"1\" /><path clip-path=\"url(#clip730)\" d=\"M438.297 150.839 Q440.293 147.251 443.071 145.544 Q445.849 143.837 449.61 143.837 Q454.674 143.837 457.423 147.396 Q460.172 150.926 460.172 157.465 L460.172 177.025 L454.819 177.025 L454.819 157.639 Q454.819 152.98 453.169 150.723 Q451.52 148.466 448.135 148.466 Q443.997 148.466 441.595 151.215 Q439.194 153.964 439.194 158.709 L439.194 177.025 L433.841 177.025 L433.841 157.639 Q433.841 152.951 432.191 150.723 Q430.542 148.466 427.099 148.466 Q423.019 148.466 420.617 151.244 Q418.216 153.993 418.216 158.709 L418.216 177.025 L412.863 177.025 L412.863 144.618 L418.216 144.618 L418.216 149.653 Q420.039 146.672 422.585 145.254 Q425.131 143.837 428.632 143.837 Q432.163 143.837 434.622 145.631 Q437.11 147.425 438.297 150.839 Z\" fill=\"#000000\" fill-rule=\"evenodd\" fill-opacity=\"1\" /><path clip-path=\"url(#clip730)\" d=\"M491.45 145.573 L491.45 150.607 Q489.193 149.45 486.763 148.871 Q484.332 148.293 481.728 148.293 Q477.764 148.293 475.768 149.508 Q473.8 150.723 473.8 153.154 Q473.8 155.006 475.218 156.076 Q476.636 157.118 480.918 158.073 L482.741 158.478 Q488.412 159.693 490.785 161.921 Q493.187 164.12 493.187 168.084 Q493.187 172.598 489.599 175.231 Q486.04 177.864 479.79 177.864 Q477.185 177.864 474.35 177.343 Q471.543 176.851 468.418 175.839 L468.418 170.341 Q471.37 171.875 474.234 172.656 Q477.099 173.408 479.905 173.408 Q483.667 173.408 485.692 172.135 Q487.718 170.833 487.718 168.489 Q487.718 166.319 486.242 165.162 Q484.795 164.004 479.847 162.934 L477.996 162.5 Q473.048 161.458 470.849 159.317 Q468.65 157.147 468.65 153.385 Q468.65 148.813 471.89 146.325 Q475.131 143.837 481.092 143.837 Q484.043 143.837 486.647 144.271 Q489.251 144.705 491.45 145.573 Z\" fill=\"#000000\" fill-rule=\"evenodd\" fill-opacity=\"1\" /><path clip-path=\"url(#clip730)\" d=\"M529.384 159.49 L529.384 162.095 L504.905 162.095 Q505.252 167.592 508.204 170.486 Q511.184 173.35 516.479 173.35 Q519.546 173.35 522.411 172.598 Q525.304 171.846 528.14 170.341 L528.14 175.376 Q525.275 176.591 522.266 177.228 Q519.257 177.864 516.161 177.864 Q508.406 177.864 503.864 173.35 Q499.35 168.836 499.35 161.14 Q499.35 153.183 503.632 148.524 Q507.943 143.837 515.235 143.837 Q521.774 143.837 525.565 148.061 Q529.384 152.257 529.384 159.49 M524.06 157.928 Q524.002 153.559 521.601 150.955 Q519.228 148.35 515.293 148.35 Q510.837 148.35 508.146 150.868 Q505.484 153.385 505.079 157.957 L524.06 157.928 Z\" fill=\"#000000\" fill-rule=\"evenodd\" fill-opacity=\"1\" /><path clip-path=\"url(#clip730)\" d=\"M557.654 150.116 L594.748 150.116 L594.748 154.977 L557.654 154.977 L557.654 150.116 M557.654 161.921 L594.748 161.921 L594.748 166.84 L557.654 166.84 L557.654 161.921 Z\" fill=\"#000000\" fill-rule=\"evenodd\" fill-opacity=\"1\" /><path clip-path=\"url(#clip730)\" d=\"M638.701 156.51 Q634.534 156.51 632.133 158.738 Q629.76 160.966 629.76 164.872 Q629.76 168.779 632.133 171.007 Q634.534 173.235 638.701 173.235 Q642.867 173.235 645.269 171.007 Q647.671 168.75 647.671 164.872 Q647.671 160.966 645.269 158.738 Q642.896 156.51 638.701 156.51 M632.856 154.022 Q629.094 153.096 626.982 150.521 Q624.899 147.945 624.899 144.242 Q624.899 139.062 628.574 136.053 Q632.277 133.044 638.701 133.044 Q645.153 133.044 648.828 136.053 Q652.503 139.062 652.503 144.242 Q652.503 147.945 650.391 150.521 Q648.307 153.096 644.575 154.022 Q648.799 155.006 651.143 157.87 Q653.516 160.735 653.516 164.872 Q653.516 171.151 649.667 174.508 Q645.848 177.864 638.701 177.864 Q631.554 177.864 627.705 174.508 Q623.886 171.151 623.886 164.872 Q623.886 160.735 626.259 157.87 Q628.631 155.006 632.856 154.022 M630.715 144.791 Q630.715 148.148 632.798 150.029 Q634.91 151.909 638.701 151.909 Q642.462 151.909 644.575 150.029 Q646.716 148.148 646.716 144.791 Q646.716 141.435 644.575 139.554 Q642.462 137.673 638.701 137.673 Q634.91 137.673 632.798 139.554 Q630.715 141.435 630.715 144.791 Z\" fill=\"#000000\" fill-rule=\"evenodd\" fill-opacity=\"1\" /><path clip-path=\"url(#clip730)\" d=\"M663.903 169.676 L670.008 169.676 L670.008 177.025 L663.903 177.025 L663.903 169.676 Z\" fill=\"#000000\" fill-rule=\"evenodd\" fill-opacity=\"1\" /><path clip-path=\"url(#clip730)\" d=\"M687.775 172.106 L708.174 172.106 L708.174 177.025 L680.743 177.025 L680.743 172.106 Q684.071 168.663 689.8 162.876 Q695.558 157.06 697.034 155.382 Q699.841 152.228 700.94 150.058 Q702.069 147.859 702.069 145.746 Q702.069 142.303 699.638 140.133 Q697.236 137.963 693.359 137.963 Q690.61 137.963 687.543 138.918 Q684.505 139.873 681.033 141.811 L681.033 135.908 Q684.563 134.491 687.63 133.767 Q690.697 133.044 693.243 133.044 Q699.956 133.044 703.949 136.4 Q707.942 139.757 707.942 145.37 Q707.942 148.032 706.93 150.434 Q705.946 152.806 703.313 156.047 Q702.589 156.886 698.712 160.908 Q694.835 164.901 687.775 172.106 Z\" fill=\"#000000\" fill-rule=\"evenodd\" fill-opacity=\"1\" /></svg>\n",
      "text/html": [
       "<?xml version=\"1.0\" encoding=\"utf-8\"?>\n",
       "<svg xmlns=\"http://www.w3.org/2000/svg\" xmlns:xlink=\"http://www.w3.org/1999/xlink\" width=\"500\" height=\"500\" viewBox=\"0 0 2000 2000\">\n",
       "<defs>\n",
       "  <clipPath id=\"clip780\">\n",
       "    <rect x=\"0\" y=\"0\" width=\"2000\" height=\"2000\"/>\n",
       "  </clipPath>\n",
       "</defs>\n",
       "<path clip-path=\"url(#clip780)\" d=\"\n",
       "M0 2000 L2000 2000 L2000 0 L0 0  Z\n",
       "  \" fill=\"#ffffff\" fill-rule=\"evenodd\" fill-opacity=\"1\"/>\n",
       "<defs>\n",
       "  <clipPath id=\"clip781\">\n",
       "    <rect x=\"400\" y=\"200\" width=\"1401\" height=\"1401\"/>\n",
       "  </clipPath>\n",
       "</defs>\n",
       "<path clip-path=\"url(#clip780)\" d=\"\n",
       "M224.881 1778.14 L1952.76 1778.14 L1952.76 47.2441 L224.881 47.2441  Z\n",
       "  \" fill=\"#ffffff\" fill-rule=\"evenodd\" fill-opacity=\"1\"/>\n",
       "<defs>\n",
       "  <clipPath id=\"clip782\">\n",
       "    <rect x=\"224\" y=\"47\" width=\"1729\" height=\"1732\"/>\n",
       "  </clipPath>\n",
       "</defs>\n",
       "<polyline clip-path=\"url(#clip782)\" style=\"stroke:#000000; stroke-linecap:round; stroke-linejoin:round; stroke-width:2; stroke-opacity:0.1; fill:none\" points=\"\n",
       "  224.881,1778.14 224.881,47.2441 \n",
       "  \"/>\n",
       "<polyline clip-path=\"url(#clip782)\" style=\"stroke:#000000; stroke-linecap:round; stroke-linejoin:round; stroke-width:2; stroke-opacity:0.1; fill:none\" points=\"\n",
       "  656.85,1778.14 656.85,47.2441 \n",
       "  \"/>\n",
       "<polyline clip-path=\"url(#clip782)\" style=\"stroke:#000000; stroke-linecap:round; stroke-linejoin:round; stroke-width:2; stroke-opacity:0.1; fill:none\" points=\"\n",
       "  1088.82,1778.14 1088.82,47.2441 \n",
       "  \"/>\n",
       "<polyline clip-path=\"url(#clip782)\" style=\"stroke:#000000; stroke-linecap:round; stroke-linejoin:round; stroke-width:2; stroke-opacity:0.1; fill:none\" points=\"\n",
       "  1520.79,1778.14 1520.79,47.2441 \n",
       "  \"/>\n",
       "<polyline clip-path=\"url(#clip782)\" style=\"stroke:#000000; stroke-linecap:round; stroke-linejoin:round; stroke-width:2; stroke-opacity:0.1; fill:none\" points=\"\n",
       "  1952.76,1778.14 1952.76,47.2441 \n",
       "  \"/>\n",
       "<polyline clip-path=\"url(#clip780)\" style=\"stroke:#000000; stroke-linecap:round; stroke-linejoin:round; stroke-width:4; stroke-opacity:1; fill:none\" points=\"\n",
       "  224.881,1778.14 1952.76,1778.14 \n",
       "  \"/>\n",
       "<polyline clip-path=\"url(#clip780)\" style=\"stroke:#000000; stroke-linecap:round; stroke-linejoin:round; stroke-width:4; stroke-opacity:1; fill:none\" points=\"\n",
       "  224.881,1778.14 224.881,1759.24 \n",
       "  \"/>\n",
       "<polyline clip-path=\"url(#clip780)\" style=\"stroke:#000000; stroke-linecap:round; stroke-linejoin:round; stroke-width:4; stroke-opacity:1; fill:none\" points=\"\n",
       "  656.85,1778.14 656.85,1759.24 \n",
       "  \"/>\n",
       "<polyline clip-path=\"url(#clip780)\" style=\"stroke:#000000; stroke-linecap:round; stroke-linejoin:round; stroke-width:4; stroke-opacity:1; fill:none\" points=\"\n",
       "  1088.82,1778.14 1088.82,1759.24 \n",
       "  \"/>\n",
       "<polyline clip-path=\"url(#clip780)\" style=\"stroke:#000000; stroke-linecap:round; stroke-linejoin:round; stroke-width:4; stroke-opacity:1; fill:none\" points=\"\n",
       "  1520.79,1778.14 1520.79,1759.24 \n",
       "  \"/>\n",
       "<polyline clip-path=\"url(#clip780)\" style=\"stroke:#000000; stroke-linecap:round; stroke-linejoin:round; stroke-width:4; stroke-opacity:1; fill:none\" points=\"\n",
       "  1952.76,1778.14 1952.76,1759.24 \n",
       "  \"/>\n",
       "<path clip-path=\"url(#clip780)\" d=\"M224.881 1805.86 Q221.27 1805.86 219.441 1809.42 Q217.636 1812.96 217.636 1820.09 Q217.636 1827.2 219.441 1830.77 Q221.27 1834.31 224.881 1834.31 Q228.515 1834.31 230.321 1830.77 Q232.149 1827.2 232.149 1820.09 Q232.149 1812.96 230.321 1809.42 Q228.515 1805.86 224.881 1805.86 M224.881 1802.15 Q230.691 1802.15 233.747 1806.76 Q236.825 1811.34 236.825 1820.09 Q236.825 1828.82 233.747 1833.43 Q230.691 1838.01 224.881 1838.01 Q219.071 1838.01 215.992 1833.43 Q212.937 1828.82 212.937 1820.09 Q212.937 1811.34 215.992 1806.76 Q219.071 1802.15 224.881 1802.15 Z\" fill=\"#000000\" fill-rule=\"evenodd\" fill-opacity=\"1\" /><path clip-path=\"url(#clip780)\" d=\"M635.623 1833.4 L651.942 1833.4 L651.942 1837.34 L629.998 1837.34 L629.998 1833.4 Q632.66 1830.65 637.243 1826.02 Q641.85 1821.37 643.03 1820.03 Q645.276 1817.5 646.155 1815.77 Q647.058 1814.01 647.058 1812.32 Q647.058 1809.56 645.114 1807.83 Q643.192 1806.09 640.091 1806.09 Q637.891 1806.09 635.438 1806.85 Q633.007 1807.62 630.229 1809.17 L630.229 1804.45 Q633.054 1803.31 635.507 1802.73 Q637.961 1802.15 639.998 1802.15 Q645.368 1802.15 648.563 1804.84 Q651.757 1807.53 651.757 1812.02 Q651.757 1814.15 650.947 1816.07 Q650.16 1817.96 648.053 1820.56 Q647.475 1821.23 644.373 1824.45 Q641.271 1827.64 635.623 1833.4 Z\" fill=\"#000000\" fill-rule=\"evenodd\" fill-opacity=\"1\" /><path clip-path=\"url(#clip780)\" d=\"M671.757 1805.86 Q668.146 1805.86 666.317 1809.42 Q664.512 1812.96 664.512 1820.09 Q664.512 1827.2 666.317 1830.77 Q668.146 1834.31 671.757 1834.31 Q675.391 1834.31 677.197 1830.77 Q679.026 1827.2 679.026 1820.09 Q679.026 1812.96 677.197 1809.42 Q675.391 1805.86 671.757 1805.86 M671.757 1802.15 Q677.567 1802.15 680.623 1806.76 Q683.701 1811.34 683.701 1820.09 Q683.701 1828.82 680.623 1833.43 Q677.567 1838.01 671.757 1838.01 Q665.947 1838.01 662.868 1833.43 Q659.813 1828.82 659.813 1820.09 Q659.813 1811.34 662.868 1806.76 Q665.947 1802.15 671.757 1802.15 Z\" fill=\"#000000\" fill-rule=\"evenodd\" fill-opacity=\"1\" /><path clip-path=\"url(#clip780)\" d=\"M1076.99 1806.85 L1065.18 1825.3 L1076.99 1825.3 L1076.99 1806.85 M1075.76 1802.78 L1081.64 1802.78 L1081.64 1825.3 L1086.57 1825.3 L1086.57 1829.19 L1081.64 1829.19 L1081.64 1837.34 L1076.99 1837.34 L1076.99 1829.19 L1061.39 1829.19 L1061.39 1824.68 L1075.76 1802.78 Z\" fill=\"#000000\" fill-rule=\"evenodd\" fill-opacity=\"1\" /><path clip-path=\"url(#clip780)\" d=\"M1104.3 1805.86 Q1100.69 1805.86 1098.86 1809.42 Q1097.06 1812.96 1097.06 1820.09 Q1097.06 1827.2 1098.86 1830.77 Q1100.69 1834.31 1104.3 1834.31 Q1107.94 1834.31 1109.74 1830.77 Q1111.57 1827.2 1111.57 1820.09 Q1111.57 1812.96 1109.74 1809.42 Q1107.94 1805.86 1104.3 1805.86 M1104.3 1802.15 Q1110.11 1802.15 1113.17 1806.76 Q1116.25 1811.34 1116.25 1820.09 Q1116.25 1828.82 1113.17 1833.43 Q1110.11 1838.01 1104.3 1838.01 Q1098.49 1838.01 1095.42 1833.43 Q1092.36 1828.82 1092.36 1820.09 Q1092.36 1811.34 1095.42 1806.76 Q1098.49 1802.15 1104.3 1802.15 Z\" fill=\"#000000\" fill-rule=\"evenodd\" fill-opacity=\"1\" /><path clip-path=\"url(#clip780)\" d=\"M1506.19 1818.2 Q1503.04 1818.2 1501.19 1820.35 Q1499.36 1822.5 1499.36 1826.25 Q1499.36 1829.98 1501.19 1832.15 Q1503.04 1834.31 1506.19 1834.31 Q1509.34 1834.31 1511.17 1832.15 Q1513.02 1829.98 1513.02 1826.25 Q1513.02 1822.5 1511.17 1820.35 Q1509.34 1818.2 1506.19 1818.2 M1515.47 1803.54 L1515.47 1807.8 Q1513.72 1806.97 1511.91 1806.53 Q1510.13 1806.09 1508.37 1806.09 Q1503.74 1806.09 1501.28 1809.21 Q1498.85 1812.34 1498.51 1818.66 Q1499.87 1816.65 1501.93 1815.58 Q1503.99 1814.49 1506.47 1814.49 Q1511.68 1814.49 1514.69 1817.66 Q1517.72 1820.81 1517.72 1826.25 Q1517.72 1831.58 1514.57 1834.79 Q1511.42 1838.01 1506.19 1838.01 Q1500.2 1838.01 1497.03 1833.43 Q1493.85 1828.82 1493.85 1820.09 Q1493.85 1811.9 1497.74 1807.04 Q1501.63 1802.15 1508.18 1802.15 Q1509.94 1802.15 1511.72 1802.5 Q1513.53 1802.85 1515.47 1803.54 Z\" fill=\"#000000\" fill-rule=\"evenodd\" fill-opacity=\"1\" /><path clip-path=\"url(#clip780)\" d=\"M1535.78 1805.86 Q1532.16 1805.86 1530.34 1809.42 Q1528.53 1812.96 1528.53 1820.09 Q1528.53 1827.2 1530.34 1830.77 Q1532.16 1834.31 1535.78 1834.31 Q1539.41 1834.31 1541.22 1830.77 Q1543.04 1827.2 1543.04 1820.09 Q1543.04 1812.96 1541.22 1809.42 Q1539.41 1805.86 1535.78 1805.86 M1535.78 1802.15 Q1541.59 1802.15 1544.64 1806.76 Q1547.72 1811.34 1547.72 1820.09 Q1547.72 1828.82 1544.64 1833.43 Q1541.59 1838.01 1535.78 1838.01 Q1529.97 1838.01 1526.89 1833.43 Q1523.83 1828.82 1523.83 1820.09 Q1523.83 1811.34 1526.89 1806.76 Q1529.97 1802.15 1535.78 1802.15 Z\" fill=\"#000000\" fill-rule=\"evenodd\" fill-opacity=\"1\" /><path clip-path=\"url(#clip780)\" d=\"M1937.63 1820.93 Q1934.3 1820.93 1932.37 1822.71 Q1930.48 1824.49 1930.48 1827.62 Q1930.48 1830.74 1932.37 1832.53 Q1934.3 1834.31 1937.63 1834.31 Q1940.96 1834.31 1942.88 1832.53 Q1944.8 1830.72 1944.8 1827.62 Q1944.8 1824.49 1942.88 1822.71 Q1940.99 1820.93 1937.63 1820.93 M1932.95 1818.94 Q1929.94 1818.2 1928.25 1816.14 Q1926.59 1814.08 1926.59 1811.11 Q1926.59 1806.97 1929.53 1804.56 Q1932.49 1802.15 1937.63 1802.15 Q1942.79 1802.15 1945.73 1804.56 Q1948.67 1806.97 1948.67 1811.11 Q1948.67 1814.08 1946.98 1816.14 Q1945.31 1818.2 1942.33 1818.94 Q1945.71 1819.72 1947.58 1822.02 Q1949.48 1824.31 1949.48 1827.62 Q1949.48 1832.64 1946.4 1835.33 Q1943.35 1838.01 1937.63 1838.01 Q1931.91 1838.01 1928.83 1835.33 Q1925.78 1832.64 1925.78 1827.62 Q1925.78 1824.31 1927.68 1822.02 Q1929.57 1819.72 1932.95 1818.94 M1931.24 1811.55 Q1931.24 1814.24 1932.91 1815.74 Q1934.6 1817.25 1937.63 1817.25 Q1940.64 1817.25 1942.33 1815.74 Q1944.04 1814.24 1944.04 1811.55 Q1944.04 1808.87 1942.33 1807.36 Q1940.64 1805.86 1937.63 1805.86 Q1934.6 1805.86 1932.91 1807.36 Q1931.24 1808.87 1931.24 1811.55 Z\" fill=\"#000000\" fill-rule=\"evenodd\" fill-opacity=\"1\" /><path clip-path=\"url(#clip780)\" d=\"M1967.79 1805.86 Q1964.18 1805.86 1962.35 1809.42 Q1960.55 1812.96 1960.55 1820.09 Q1960.55 1827.2 1962.35 1830.77 Q1964.18 1834.31 1967.79 1834.31 Q1971.42 1834.31 1973.23 1830.77 Q1975.06 1827.2 1975.06 1820.09 Q1975.06 1812.96 1973.23 1809.42 Q1971.42 1805.86 1967.79 1805.86 M1967.79 1802.15 Q1973.6 1802.15 1976.66 1806.76 Q1979.73 1811.34 1979.73 1820.09 Q1979.73 1828.82 1976.66 1833.43 Q1973.6 1838.01 1967.79 1838.01 Q1961.98 1838.01 1958.9 1833.43 Q1955.85 1828.82 1955.85 1820.09 Q1955.85 1811.34 1958.9 1806.76 Q1961.98 1802.15 1967.79 1802.15 Z\" fill=\"#000000\" fill-rule=\"evenodd\" fill-opacity=\"1\" /><path clip-path=\"url(#clip780)\" d=\"M804.765 1869.48 L844.964 1869.48 L844.964 1874.89 L828.095 1874.89 L828.095 1917 L821.634 1917 L821.634 1874.89 L804.765 1874.89 L804.765 1869.48 Z\" fill=\"#000000\" fill-rule=\"evenodd\" fill-opacity=\"1\" /><path clip-path=\"url(#clip780)\" d=\"M861.992 1886.83 Q861.006 1886.26 859.828 1886 Q858.682 1885.72 857.282 1885.72 Q852.317 1885.72 849.643 1888.96 Q847.001 1892.18 847.001 1898.23 L847.001 1917 L841.113 1917 L841.113 1881.36 L847.001 1881.36 L847.001 1886.89 Q848.847 1883.65 851.807 1882.09 Q854.767 1880.5 859.001 1880.5 Q859.605 1880.5 860.337 1880.59 Q861.069 1880.66 861.961 1880.81 L861.992 1886.83 Z\" fill=\"#000000\" fill-rule=\"evenodd\" fill-opacity=\"1\" /><path clip-path=\"url(#clip780)\" d=\"M867.531 1902.94 L867.531 1881.36 L873.387 1881.36 L873.387 1902.71 Q873.387 1907.77 875.36 1910.32 Q877.334 1912.83 881.28 1912.83 Q886.023 1912.83 888.76 1909.81 Q891.529 1906.79 891.529 1901.57 L891.529 1881.36 L897.386 1881.36 L897.386 1917 L891.529 1917 L891.529 1911.53 Q889.397 1914.78 886.564 1916.37 Q883.763 1917.93 880.039 1917.93 Q873.896 1917.93 870.713 1914.11 Q867.531 1910.29 867.531 1902.94 M882.267 1880.5 L882.267 1880.5 Z\" fill=\"#000000\" fill-rule=\"evenodd\" fill-opacity=\"1\" /><path clip-path=\"url(#clip780)\" d=\"M939.94 1897.72 L939.94 1900.58 L913.014 1900.58 Q913.395 1906.63 916.642 1909.81 Q919.92 1912.96 925.745 1912.96 Q929.119 1912.96 932.27 1912.13 Q935.453 1911.31 938.572 1909.65 L938.572 1915.19 Q935.421 1916.53 932.111 1917.23 Q928.8 1917.93 925.395 1917.93 Q916.865 1917.93 911.868 1912.96 Q906.902 1908 906.902 1899.53 Q906.902 1890.78 911.613 1885.65 Q916.356 1880.5 924.376 1880.5 Q931.57 1880.5 935.739 1885.14 Q939.94 1889.76 939.94 1897.72 M934.084 1896 Q934.02 1891.19 931.379 1888.33 Q928.769 1885.46 924.44 1885.46 Q919.538 1885.46 916.578 1888.23 Q913.65 1891 913.205 1896.03 L934.084 1896 Z\" fill=\"#000000\" fill-rule=\"evenodd\" fill-opacity=\"1\" /><path clip-path=\"url(#clip780)\" d=\"M982.782 1917 L964.639 1869.48 L971.355 1869.48 L986.41 1909.49 L1001.5 1869.48 L1008.18 1869.48 L990.07 1917 L982.782 1917 Z\" fill=\"#000000\" fill-rule=\"evenodd\" fill-opacity=\"1\" /><path clip-path=\"url(#clip780)\" d=\"M1026 1899.08 Q1018.91 1899.08 1016.17 1900.71 Q1013.43 1902.33 1013.43 1906.25 Q1013.43 1909.36 1015.47 1911.21 Q1017.54 1913.03 1021.07 1913.03 Q1025.94 1913.03 1028.87 1909.59 Q1031.83 1906.12 1031.83 1900.39 L1031.83 1899.08 L1026 1899.08 M1037.69 1896.67 L1037.69 1917 L1031.83 1917 L1031.83 1911.59 Q1029.82 1914.84 1026.83 1916.4 Q1023.84 1917.93 1019.51 1917.93 Q1014.04 1917.93 1010.79 1914.87 Q1007.58 1911.78 1007.58 1906.63 Q1007.58 1900.61 1011.59 1897.56 Q1015.63 1894.5 1023.62 1894.5 L1031.83 1894.5 L1031.83 1893.93 Q1031.83 1889.89 1029.16 1887.69 Q1026.51 1885.46 1021.71 1885.46 Q1018.65 1885.46 1015.76 1886.19 Q1012.86 1886.93 1010.19 1888.39 L1010.19 1882.98 Q1013.4 1881.74 1016.42 1881.13 Q1019.45 1880.5 1022.31 1880.5 Q1030.05 1880.5 1033.87 1884.51 Q1037.69 1888.52 1037.69 1896.67 Z\" fill=\"#000000\" fill-rule=\"evenodd\" fill-opacity=\"1\" /><path clip-path=\"url(#clip780)\" d=\"M1049.75 1867.48 L1055.61 1867.48 L1055.61 1917 L1049.75 1917 L1049.75 1867.48 Z\" fill=\"#000000\" fill-rule=\"evenodd\" fill-opacity=\"1\" /><path clip-path=\"url(#clip780)\" d=\"M1067.25 1902.94 L1067.25 1881.36 L1073.11 1881.36 L1073.11 1902.71 Q1073.11 1907.77 1075.08 1910.32 Q1077.06 1912.83 1081 1912.83 Q1085.75 1912.83 1088.48 1909.81 Q1091.25 1906.79 1091.25 1901.57 L1091.25 1881.36 L1097.11 1881.36 L1097.11 1917 L1091.25 1917 L1091.25 1911.53 Q1089.12 1914.78 1086.29 1916.37 Q1083.49 1917.93 1079.76 1917.93 Q1073.62 1917.93 1070.44 1914.11 Q1067.25 1910.29 1067.25 1902.94 M1081.99 1880.5 L1081.99 1880.5 Z\" fill=\"#000000\" fill-rule=\"evenodd\" fill-opacity=\"1\" /><path clip-path=\"url(#clip780)\" d=\"M1139.66 1897.72 L1139.66 1900.58 L1112.74 1900.58 Q1113.12 1906.63 1116.37 1909.81 Q1119.64 1912.96 1125.47 1912.96 Q1128.84 1912.96 1131.99 1912.13 Q1135.18 1911.31 1138.3 1909.65 L1138.3 1915.19 Q1135.14 1916.53 1131.83 1917.23 Q1128.52 1917.93 1125.12 1917.93 Q1116.59 1917.93 1111.59 1912.96 Q1106.63 1908 1106.63 1899.53 Q1106.63 1890.78 1111.34 1885.65 Q1116.08 1880.5 1124.1 1880.5 Q1131.29 1880.5 1135.46 1885.14 Q1139.66 1889.76 1139.66 1897.72 M1133.81 1896 Q1133.74 1891.19 1131.1 1888.33 Q1128.49 1885.46 1124.16 1885.46 Q1119.26 1885.46 1116.3 1888.23 Q1113.37 1891 1112.93 1896.03 L1133.81 1896 Z\" fill=\"#000000\" fill-rule=\"evenodd\" fill-opacity=\"1\" /><path clip-path=\"url(#clip780)\" d=\"M1184.07 1867.54 Q1179.8 1874.86 1177.73 1882.02 Q1175.66 1889.19 1175.66 1896.54 Q1175.66 1903.89 1177.73 1911.12 Q1179.83 1918.31 1184.07 1925.6 L1178.97 1925.6 Q1174.2 1918.12 1171.81 1910.89 Q1169.46 1903.67 1169.46 1896.54 Q1169.46 1889.44 1171.81 1882.25 Q1174.17 1875.05 1178.97 1867.54 L1184.07 1867.54 Z\" fill=\"#000000\" fill-rule=\"evenodd\" fill-opacity=\"1\" /><path clip-path=\"url(#clip780)\" d=\"M1210.26 1920.31 Q1207.78 1926.68 1205.42 1928.62 Q1203.07 1930.56 1199.12 1930.56 L1194.44 1930.56 L1194.44 1925.66 L1197.88 1925.66 Q1200.3 1925.66 1201.63 1924.52 Q1202.97 1923.37 1204.59 1919.1 L1205.65 1916.43 L1191.23 1881.36 L1197.43 1881.36 L1208.57 1909.24 L1219.71 1881.36 L1225.92 1881.36 L1210.26 1920.31 Z\" fill=\"#000000\" fill-rule=\"evenodd\" fill-opacity=\"1\" /><path clip-path=\"url(#clip780)\" d=\"M1239.8 1871.23 L1239.8 1881.36 L1251.86 1881.36 L1251.86 1885.91 L1239.8 1885.91 L1239.8 1905.26 Q1239.8 1909.62 1240.97 1910.86 Q1242.18 1912.1 1245.84 1912.1 L1251.86 1912.1 L1251.86 1917 L1245.84 1917 Q1239.07 1917 1236.49 1914.49 Q1233.91 1911.94 1233.91 1905.26 L1233.91 1885.91 L1229.61 1885.91 L1229.61 1881.36 L1233.91 1881.36 L1233.91 1871.23 L1239.8 1871.23 Z\" fill=\"#000000\" fill-rule=\"evenodd\" fill-opacity=\"1\" /><path clip-path=\"url(#clip780)\" d=\"M1290.05 1897.72 L1290.05 1900.58 L1263.13 1900.58 Q1263.51 1906.63 1266.76 1909.81 Q1270.03 1912.96 1275.86 1912.96 Q1279.23 1912.96 1282.38 1912.13 Q1285.57 1911.31 1288.69 1909.65 L1288.69 1915.19 Q1285.53 1916.53 1282.22 1917.23 Q1278.91 1917.93 1275.51 1917.93 Q1266.98 1917.93 1261.98 1912.96 Q1257.02 1908 1257.02 1899.53 Q1257.02 1890.78 1261.73 1885.65 Q1266.47 1880.5 1274.49 1880.5 Q1281.68 1880.5 1285.85 1885.14 Q1290.05 1889.76 1290.05 1897.72 M1284.2 1896 Q1284.13 1891.19 1281.49 1888.33 Q1278.88 1885.46 1274.55 1885.46 Q1269.65 1885.46 1266.69 1888.23 Q1263.76 1891 1263.32 1896.03 L1284.2 1896 Z\" fill=\"#000000\" fill-rule=\"evenodd\" fill-opacity=\"1\" /><path clip-path=\"url(#clip780)\" d=\"M1322.39 1882.41 L1322.39 1887.94 Q1319.91 1886.67 1317.24 1886.03 Q1314.56 1885.4 1311.7 1885.4 Q1307.34 1885.4 1305.14 1886.73 Q1302.98 1888.07 1302.98 1890.75 Q1302.98 1892.78 1304.54 1893.96 Q1306.1 1895.11 1310.81 1896.16 L1312.81 1896.6 Q1319.05 1897.94 1321.66 1900.39 Q1324.3 1902.81 1324.3 1907.17 Q1324.3 1912.13 1320.36 1915.03 Q1316.44 1917.93 1309.57 1917.93 Q1306.7 1917.93 1303.58 1917.35 Q1300.49 1916.81 1297.06 1915.7 L1297.06 1909.65 Q1300.3 1911.34 1303.45 1912.2 Q1306.61 1913.03 1309.69 1913.03 Q1313.83 1913.03 1316.06 1911.62 Q1318.29 1910.19 1318.29 1907.61 Q1318.29 1905.23 1316.66 1903.95 Q1315.07 1902.68 1309.63 1901.5 L1307.59 1901.03 Q1302.15 1899.88 1299.73 1897.52 Q1297.31 1895.14 1297.31 1891 Q1297.31 1885.97 1300.88 1883.23 Q1304.44 1880.5 1311 1880.5 Q1314.24 1880.5 1317.11 1880.97 Q1319.97 1881.45 1322.39 1882.41 Z\" fill=\"#000000\" fill-rule=\"evenodd\" fill-opacity=\"1\" /><path clip-path=\"url(#clip780)\" d=\"M1339.42 1871.23 L1339.42 1881.36 L1351.48 1881.36 L1351.48 1885.91 L1339.42 1885.91 L1339.42 1905.26 Q1339.42 1909.62 1340.6 1910.86 Q1341.81 1912.1 1345.47 1912.1 L1351.48 1912.1 L1351.48 1917 L1345.47 1917 Q1338.69 1917 1336.11 1914.49 Q1333.53 1911.94 1333.53 1905.26 L1333.53 1885.91 L1329.24 1885.91 L1329.24 1881.36 L1333.53 1881.36 L1333.53 1871.23 L1339.42 1871.23 Z\" fill=\"#000000\" fill-rule=\"evenodd\" fill-opacity=\"1\" /><path clip-path=\"url(#clip780)\" d=\"M1358.26 1867.54 L1363.36 1867.54 Q1368.13 1875.05 1370.49 1882.25 Q1372.87 1889.44 1372.87 1896.54 Q1372.87 1903.67 1370.49 1910.89 Q1368.13 1918.12 1363.36 1925.6 L1358.26 1925.6 Q1362.5 1918.31 1364.56 1911.12 Q1366.67 1903.89 1366.67 1896.54 Q1366.67 1889.19 1364.56 1882.02 Q1362.5 1874.86 1358.26 1867.54 Z\" fill=\"#000000\" fill-rule=\"evenodd\" fill-opacity=\"1\" /><polyline clip-path=\"url(#clip782)\" style=\"stroke:#000000; stroke-linecap:round; stroke-linejoin:round; stroke-width:2; stroke-opacity:0.1; fill:none\" points=\"\n",
       "  224.881,1778.14 1952.76,1778.14 \n",
       "  \"/>\n",
       "<polyline clip-path=\"url(#clip782)\" style=\"stroke:#000000; stroke-linecap:round; stroke-linejoin:round; stroke-width:2; stroke-opacity:0.1; fill:none\" points=\"\n",
       "  224.881,1345.42 1952.76,1345.42 \n",
       "  \"/>\n",
       "<polyline clip-path=\"url(#clip782)\" style=\"stroke:#000000; stroke-linecap:round; stroke-linejoin:round; stroke-width:2; stroke-opacity:0.1; fill:none\" points=\"\n",
       "  224.881,912.692 1952.76,912.692 \n",
       "  \"/>\n",
       "<polyline clip-path=\"url(#clip782)\" style=\"stroke:#000000; stroke-linecap:round; stroke-linejoin:round; stroke-width:2; stroke-opacity:0.1; fill:none\" points=\"\n",
       "  224.881,479.968 1952.76,479.968 \n",
       "  \"/>\n",
       "<polyline clip-path=\"url(#clip782)\" style=\"stroke:#000000; stroke-linecap:round; stroke-linejoin:round; stroke-width:2; stroke-opacity:0.1; fill:none\" points=\"\n",
       "  224.881,47.2441 1952.76,47.2441 \n",
       "  \"/>\n",
       "<polyline clip-path=\"url(#clip780)\" style=\"stroke:#000000; stroke-linecap:round; stroke-linejoin:round; stroke-width:4; stroke-opacity:1; fill:none\" points=\"\n",
       "  224.881,1778.14 224.881,47.2441 \n",
       "  \"/>\n",
       "<polyline clip-path=\"url(#clip780)\" style=\"stroke:#000000; stroke-linecap:round; stroke-linejoin:round; stroke-width:4; stroke-opacity:1; fill:none\" points=\"\n",
       "  224.881,1778.14 243.779,1778.14 \n",
       "  \"/>\n",
       "<polyline clip-path=\"url(#clip780)\" style=\"stroke:#000000; stroke-linecap:round; stroke-linejoin:round; stroke-width:4; stroke-opacity:1; fill:none\" points=\"\n",
       "  224.881,1345.42 243.779,1345.42 \n",
       "  \"/>\n",
       "<polyline clip-path=\"url(#clip780)\" style=\"stroke:#000000; stroke-linecap:round; stroke-linejoin:round; stroke-width:4; stroke-opacity:1; fill:none\" points=\"\n",
       "  224.881,912.692 243.779,912.692 \n",
       "  \"/>\n",
       "<polyline clip-path=\"url(#clip780)\" style=\"stroke:#000000; stroke-linecap:round; stroke-linejoin:round; stroke-width:4; stroke-opacity:1; fill:none\" points=\"\n",
       "  224.881,479.968 243.779,479.968 \n",
       "  \"/>\n",
       "<polyline clip-path=\"url(#clip780)\" style=\"stroke:#000000; stroke-linecap:round; stroke-linejoin:round; stroke-width:4; stroke-opacity:1; fill:none\" points=\"\n",
       "  224.881,47.2441 243.779,47.2441 \n",
       "  \"/>\n",
       "<path clip-path=\"url(#clip780)\" d=\"M182.937 1763.94 Q179.326 1763.94 177.497 1767.5 Q175.691 1771.04 175.691 1778.17 Q175.691 1785.28 177.497 1788.85 Q179.326 1792.39 182.937 1792.39 Q186.571 1792.39 188.376 1788.85 Q190.205 1785.28 190.205 1778.17 Q190.205 1771.04 188.376 1767.5 Q186.571 1763.94 182.937 1763.94 M182.937 1760.23 Q188.747 1760.23 191.802 1764.84 Q194.881 1769.42 194.881 1778.17 Q194.881 1786.9 191.802 1791.51 Q188.747 1796.09 182.937 1796.09 Q177.126 1796.09 174.048 1791.51 Q170.992 1786.9 170.992 1778.17 Q170.992 1769.42 174.048 1764.84 Q177.126 1760.23 182.937 1760.23 Z\" fill=\"#000000\" fill-rule=\"evenodd\" fill-opacity=\"1\" /><path clip-path=\"url(#clip780)\" d=\"M146.803 1358.76 L163.122 1358.76 L163.122 1362.7 L141.178 1362.7 L141.178 1358.76 Q143.84 1356.01 148.423 1351.38 Q153.029 1346.72 154.21 1345.38 Q156.455 1342.86 157.335 1341.12 Q158.238 1339.36 158.238 1337.67 Q158.238 1334.92 156.293 1333.18 Q154.372 1331.45 151.27 1331.45 Q149.071 1331.45 146.617 1332.21 Q144.187 1332.97 141.409 1334.52 L141.409 1329.8 Q144.233 1328.67 146.687 1328.09 Q149.14 1327.51 151.178 1327.51 Q156.548 1327.51 159.742 1330.2 Q162.937 1332.88 162.937 1337.37 Q162.937 1339.5 162.127 1341.42 Q161.339 1343.32 159.233 1345.91 Q158.654 1346.58 155.552 1349.8 Q152.451 1353 146.803 1358.76 Z\" fill=\"#000000\" fill-rule=\"evenodd\" fill-opacity=\"1\" /><path clip-path=\"url(#clip780)\" d=\"M182.937 1331.21 Q179.326 1331.21 177.497 1334.78 Q175.691 1338.32 175.691 1345.45 Q175.691 1352.56 177.497 1356.12 Q179.326 1359.66 182.937 1359.66 Q186.571 1359.66 188.376 1356.12 Q190.205 1352.56 190.205 1345.45 Q190.205 1338.32 188.376 1334.78 Q186.571 1331.21 182.937 1331.21 M182.937 1327.51 Q188.747 1327.51 191.802 1332.12 Q194.881 1336.7 194.881 1345.45 Q194.881 1354.18 191.802 1358.78 Q188.747 1363.37 182.937 1363.37 Q177.126 1363.37 174.048 1358.78 Q170.992 1354.18 170.992 1345.45 Q170.992 1336.7 174.048 1332.12 Q177.126 1327.51 182.937 1327.51 Z\" fill=\"#000000\" fill-rule=\"evenodd\" fill-opacity=\"1\" /><path clip-path=\"url(#clip780)\" d=\"M155.622 899.486 L143.816 917.935 L155.622 917.935 L155.622 899.486 M154.395 895.412 L160.275 895.412 L160.275 917.935 L165.205 917.935 L165.205 921.824 L160.275 921.824 L160.275 929.972 L155.622 929.972 L155.622 921.824 L140.02 921.824 L140.02 917.31 L154.395 895.412 Z\" fill=\"#000000\" fill-rule=\"evenodd\" fill-opacity=\"1\" /><path clip-path=\"url(#clip780)\" d=\"M182.937 898.491 Q179.326 898.491 177.497 902.055 Q175.691 905.597 175.691 912.727 Q175.691 919.833 177.497 923.398 Q179.326 926.94 182.937 926.94 Q186.571 926.94 188.376 923.398 Q190.205 919.833 190.205 912.727 Q190.205 905.597 188.376 902.055 Q186.571 898.491 182.937 898.491 M182.937 894.787 Q188.747 894.787 191.802 899.393 Q194.881 903.977 194.881 912.727 Q194.881 921.453 191.802 926.06 Q188.747 930.643 182.937 930.643 Q177.126 930.643 174.048 926.06 Q170.992 921.453 170.992 912.727 Q170.992 903.977 174.048 899.393 Q177.126 894.787 182.937 894.787 Z\" fill=\"#000000\" fill-rule=\"evenodd\" fill-opacity=\"1\" /><path clip-path=\"url(#clip780)\" d=\"M153.353 478.105 Q150.205 478.105 148.353 480.257 Q146.525 482.41 146.525 486.16 Q146.525 489.887 148.353 492.063 Q150.205 494.216 153.353 494.216 Q156.502 494.216 158.33 492.063 Q160.182 489.887 160.182 486.16 Q160.182 482.41 158.33 480.257 Q156.502 478.105 153.353 478.105 M162.636 463.452 L162.636 467.711 Q160.877 466.878 159.071 466.438 Q157.289 465.998 155.529 465.998 Q150.9 465.998 148.446 469.123 Q146.015 472.248 145.668 478.568 Q147.034 476.554 149.094 475.489 Q151.154 474.401 153.631 474.401 Q158.84 474.401 161.849 477.572 Q164.881 480.72 164.881 486.16 Q164.881 491.484 161.733 494.702 Q158.585 497.919 153.353 497.919 Q147.358 497.919 144.187 493.336 Q141.016 488.73 141.016 480.003 Q141.016 471.808 144.904 466.947 Q148.793 462.063 155.344 462.063 Q157.103 462.063 158.886 462.41 Q160.691 462.757 162.636 463.452 Z\" fill=\"#000000\" fill-rule=\"evenodd\" fill-opacity=\"1\" /><path clip-path=\"url(#clip780)\" d=\"M182.937 465.767 Q179.326 465.767 177.497 469.332 Q175.691 472.873 175.691 480.003 Q175.691 487.109 177.497 490.674 Q179.326 494.216 182.937 494.216 Q186.571 494.216 188.376 490.674 Q190.205 487.109 190.205 480.003 Q190.205 472.873 188.376 469.332 Q186.571 465.767 182.937 465.767 M182.937 462.063 Q188.747 462.063 191.802 466.669 Q194.881 471.253 194.881 480.003 Q194.881 488.73 191.802 493.336 Q188.747 497.919 182.937 497.919 Q177.126 497.919 174.048 493.336 Q170.992 488.73 170.992 480.003 Q170.992 471.253 174.048 466.669 Q177.126 462.063 182.937 462.063 Z\" fill=\"#000000\" fill-rule=\"evenodd\" fill-opacity=\"1\" /><path clip-path=\"url(#clip780)\" d=\"M152.775 48.1121 Q149.441 48.1121 147.52 49.8945 Q145.622 51.6769 145.622 54.8019 Q145.622 57.9269 147.52 59.7093 Q149.441 61.4917 152.775 61.4917 Q156.108 61.4917 158.029 59.7093 Q159.951 57.9038 159.951 54.8019 Q159.951 51.6769 158.029 49.8945 Q156.131 48.1121 152.775 48.1121 M148.099 46.1214 Q145.09 45.3807 143.4 43.3205 Q141.733 41.2603 141.733 38.2974 Q141.733 34.1539 144.673 31.7465 Q147.636 29.3391 152.775 29.3391 Q157.937 29.3391 160.877 31.7465 Q163.816 34.1539 163.816 38.2974 Q163.816 41.2603 162.127 43.3205 Q160.46 45.3807 157.474 46.1214 Q160.853 46.9084 162.728 49.2001 Q164.627 51.4918 164.627 54.8019 Q164.627 59.825 161.548 62.5102 Q158.492 65.1954 152.775 65.1954 Q147.057 65.1954 143.978 62.5102 Q140.923 59.825 140.923 54.8019 Q140.923 51.4918 142.821 49.2001 Q144.719 46.9084 148.099 46.1214 M146.386 38.7372 Q146.386 41.4224 148.053 42.927 Q149.742 44.4316 152.775 44.4316 Q155.784 44.4316 157.474 42.927 Q159.187 41.4224 159.187 38.7372 Q159.187 36.052 157.474 34.5474 Q155.784 33.0428 152.775 33.0428 Q149.742 33.0428 148.053 34.5474 Q146.386 36.052 146.386 38.7372 Z\" fill=\"#000000\" fill-rule=\"evenodd\" fill-opacity=\"1\" /><path clip-path=\"url(#clip780)\" d=\"M182.937 33.0428 Q179.326 33.0428 177.497 36.6076 Q175.691 40.1492 175.691 47.2788 Q175.691 54.3853 177.497 57.9501 Q179.326 61.4917 182.937 61.4917 Q186.571 61.4917 188.376 57.9501 Q190.205 54.3853 190.205 47.2788 Q190.205 40.1492 188.376 36.6076 Q186.571 33.0428 182.937 33.0428 M182.937 29.3391 Q188.747 29.3391 191.802 33.9456 Q194.881 38.5289 194.881 47.2788 Q194.881 56.0056 191.802 60.6121 Q188.747 65.1954 182.937 65.1954 Q177.126 65.1954 174.048 60.6121 Q170.992 56.0056 170.992 47.2788 Q170.992 38.5289 174.048 33.9456 Q177.126 29.3391 182.937 29.3391 Z\" fill=\"#000000\" fill-rule=\"evenodd\" fill-opacity=\"1\" /><path clip-path=\"url(#clip780)\" d=\"M53.5277 1258.59 L71.3835 1258.59 L71.3835 1250.5 Q71.3835 1246.02 69.06 1243.57 Q66.7365 1241.11 62.4397 1241.11 Q58.1747 1241.11 55.8512 1243.57 Q53.5277 1246.02 53.5277 1250.5 L53.5277 1258.59 M48.2442 1265.02 L48.2442 1250.5 Q48.2442 1242.52 51.8726 1238.44 Q55.4692 1234.34 62.4397 1234.34 Q69.4738 1234.34 73.0704 1238.44 Q76.667 1242.52 76.667 1250.5 L76.667 1258.59 L95.7642 1258.59 L95.7642 1265.02 L48.2442 1265.02 Z\" fill=\"#000000\" fill-rule=\"evenodd\" fill-opacity=\"1\" /><path clip-path=\"url(#clip780)\" d=\"M65.5907 1206.45 Q65.0178 1207.44 64.7632 1208.62 Q64.4767 1209.76 64.4767 1211.16 Q64.4767 1216.13 67.7232 1218.8 Q70.9379 1221.44 76.9853 1221.44 L95.7642 1221.44 L95.7642 1227.33 L60.1162 1227.33 L60.1162 1221.44 L65.6544 1221.44 Q62.4079 1219.6 60.8483 1216.64 Q59.2568 1213.68 59.2568 1209.45 Q59.2568 1208.84 59.3523 1208.11 Q59.416 1207.38 59.5751 1206.49 L65.5907 1206.45 Z\" fill=\"#000000\" fill-rule=\"evenodd\" fill-opacity=\"1\" /><path clip-path=\"url(#clip780)\" d=\"M76.4761 1171.25 L79.3406 1171.25 L79.3406 1198.18 Q85.3881 1197.8 88.5709 1194.55 Q91.7219 1191.27 91.7219 1185.45 Q91.7219 1182.07 90.8944 1178.92 Q90.0669 1175.74 88.4118 1172.62 L93.9499 1172.62 Q95.2867 1175.77 95.987 1179.08 Q96.6872 1182.39 96.6872 1185.8 Q96.6872 1194.33 91.7219 1199.32 Q86.7567 1204.29 78.2903 1204.29 Q69.5374 1204.29 64.4131 1199.58 Q59.2568 1194.84 59.2568 1186.82 Q59.2568 1179.62 63.9038 1175.45 Q68.5189 1171.25 76.4761 1171.25 M74.7573 1177.11 Q69.9512 1177.17 67.0866 1179.81 Q64.2221 1182.42 64.2221 1186.75 Q64.2221 1191.65 66.9912 1194.61 Q69.7602 1197.54 74.7892 1197.99 L74.7573 1177.11 Z\" fill=\"#000000\" fill-rule=\"evenodd\" fill-opacity=\"1\" /><path clip-path=\"url(#clip780)\" d=\"M65.5271 1138.18 L46.239 1138.18 L46.239 1132.32 L95.7642 1132.32 L95.7642 1138.18 L90.417 1138.18 Q93.5998 1140.03 95.1594 1142.86 Q96.6872 1145.66 96.6872 1149.61 Q96.6872 1156.07 91.531 1160.14 Q86.3747 1164.19 77.972 1164.19 Q69.5693 1164.19 64.4131 1160.14 Q59.2568 1156.07 59.2568 1149.61 Q59.2568 1145.66 60.8164 1142.86 Q62.3442 1140.03 65.5271 1138.18 M77.972 1158.14 Q84.4332 1158.14 88.1253 1155.5 Q91.7856 1152.82 91.7856 1148.18 Q91.7856 1143.53 88.1253 1140.85 Q84.4332 1138.18 77.972 1138.18 Q71.5108 1138.18 67.8505 1140.85 Q64.1584 1143.53 64.1584 1148.18 Q64.1584 1152.82 67.8505 1155.5 Q71.5108 1158.14 77.972 1158.14 Z\" fill=\"#000000\" fill-rule=\"evenodd\" fill-opacity=\"1\" /><path clip-path=\"url(#clip780)\" d=\"M60.1162 1120.26 L60.1162 1114.41 L95.7642 1114.41 L95.7642 1120.26 L60.1162 1120.26 M46.239 1120.26 L46.239 1114.41 L53.655 1114.41 L53.655 1120.26 L46.239 1120.26 Z\" fill=\"#000000\" fill-rule=\"evenodd\" fill-opacity=\"1\" /><path clip-path=\"url(#clip780)\" d=\"M61.4848 1076.5 L66.9593 1076.5 Q65.5907 1078.98 64.9223 1081.49 Q64.2221 1083.98 64.2221 1086.52 Q64.2221 1092.22 67.8505 1095.37 Q71.4472 1098.52 77.972 1098.52 Q84.4969 1098.52 88.1253 1095.37 Q91.7219 1092.22 91.7219 1086.52 Q91.7219 1083.98 91.0535 1081.49 Q90.3533 1078.98 88.9847 1076.5 L94.3955 1076.5 Q95.5414 1078.95 96.1143 1081.59 Q96.6872 1084.2 96.6872 1087.16 Q96.6872 1095.21 91.6264 1099.96 Q86.5657 1104.7 77.972 1104.7 Q69.251 1104.7 64.2539 1099.92 Q59.2568 1095.12 59.2568 1086.78 Q59.2568 1084.07 59.8297 1081.49 Q60.3708 1078.92 61.4848 1076.5 Z\" fill=\"#000000\" fill-rule=\"evenodd\" fill-opacity=\"1\" /><path clip-path=\"url(#clip780)\" d=\"M49.9947 1060.52 L60.1162 1060.52 L60.1162 1048.46 L64.6677 1048.46 L64.6677 1060.52 L84.0194 1060.52 Q88.3799 1060.52 89.6213 1059.34 Q90.8626 1058.13 90.8626 1054.47 L90.8626 1048.46 L95.7642 1048.46 L95.7642 1054.47 Q95.7642 1061.25 93.2497 1063.83 Q90.7034 1066.41 84.0194 1066.41 L64.6677 1066.41 L64.6677 1070.7 L60.1162 1070.7 L60.1162 1066.41 L49.9947 1066.41 L49.9947 1060.52 Z\" fill=\"#000000\" fill-rule=\"evenodd\" fill-opacity=\"1\" /><path clip-path=\"url(#clip780)\" d=\"M76.4761 1010.26 L79.3406 1010.26 L79.3406 1037.19 Q85.3881 1036.81 88.5709 1033.56 Q91.7219 1030.28 91.7219 1024.46 Q91.7219 1021.08 90.8944 1017.93 Q90.0669 1014.75 88.4118 1011.63 L93.9499 1011.63 Q95.2867 1014.78 95.987 1018.09 Q96.6872 1021.4 96.6872 1024.81 Q96.6872 1033.34 91.7219 1038.34 Q86.7567 1043.3 78.2903 1043.3 Q69.5374 1043.3 64.4131 1038.59 Q59.2568 1033.85 59.2568 1025.83 Q59.2568 1018.63 63.9038 1014.46 Q68.5189 1010.26 76.4761 1010.26 M74.7573 1016.12 Q69.9512 1016.18 67.0866 1018.82 Q64.2221 1021.43 64.2221 1025.76 Q64.2221 1030.66 66.9912 1033.62 Q69.7602 1036.55 74.7892 1037 L74.7573 1016.12 Z\" fill=\"#000000\" fill-rule=\"evenodd\" fill-opacity=\"1\" /><path clip-path=\"url(#clip780)\" d=\"M65.5271 977.192 L46.239 977.192 L46.239 971.336 L95.7642 971.336 L95.7642 977.192 L90.417 977.192 Q93.5998 979.039 95.1594 981.871 Q96.6872 984.672 96.6872 988.619 Q96.6872 995.08 91.531 999.154 Q86.3747 1003.2 77.972 1003.2 Q69.5693 1003.2 64.4131 999.154 Q59.2568 995.08 59.2568 988.619 Q59.2568 984.672 60.8164 981.871 Q62.3442 979.039 65.5271 977.192 M77.972 997.149 Q84.4332 997.149 88.1253 994.507 Q91.7856 991.834 91.7856 987.187 Q91.7856 982.54 88.1253 979.866 Q84.4332 977.192 77.972 977.192 Q71.5108 977.192 67.8505 979.866 Q64.1584 982.54 64.1584 987.187 Q64.1584 991.834 67.8505 994.507 Q71.5108 997.149 77.972 997.149 Z\" fill=\"#000000\" fill-rule=\"evenodd\" fill-opacity=\"1\" /><path clip-path=\"url(#clip780)\" d=\"M95.7642 926.044 L48.2442 944.186 L48.2442 937.47 L88.2526 922.416 L48.2442 907.329 L48.2442 900.645 L95.7642 918.755 L95.7642 926.044 Z\" fill=\"#000000\" fill-rule=\"evenodd\" fill-opacity=\"1\" /><path clip-path=\"url(#clip780)\" d=\"M77.8447 882.821 Q77.8447 889.919 79.4679 892.656 Q81.0912 895.393 85.0061 895.393 Q88.1253 895.393 89.9714 893.356 Q91.7856 891.287 91.7856 887.754 Q91.7856 882.885 88.3481 879.956 Q84.8788 876.996 79.1497 876.996 L77.8447 876.996 L77.8447 882.821 M75.4257 871.14 L95.7642 871.14 L95.7642 876.996 L90.3533 876.996 Q93.5998 879.001 95.1594 881.993 Q96.6872 884.985 96.6872 889.314 Q96.6872 894.788 93.6316 898.035 Q90.5443 901.25 85.3881 901.25 Q79.3725 901.25 76.3169 897.239 Q73.2614 893.197 73.2614 885.208 L73.2614 876.996 L72.6885 876.996 Q68.6462 876.996 66.4501 879.67 Q64.2221 882.312 64.2221 887.118 Q64.2221 890.173 64.9541 893.07 Q65.6862 895.966 67.1503 898.64 L61.7395 898.64 Q60.4981 895.425 59.8934 892.401 Q59.2568 889.378 59.2568 886.513 Q59.2568 878.779 63.2672 874.959 Q67.2776 871.14 75.4257 871.14 Z\" fill=\"#000000\" fill-rule=\"evenodd\" fill-opacity=\"1\" /><path clip-path=\"url(#clip780)\" d=\"M46.239 859.077 L46.239 853.22 L95.7642 853.22 L95.7642 859.077 L46.239 859.077 Z\" fill=\"#000000\" fill-rule=\"evenodd\" fill-opacity=\"1\" /><path clip-path=\"url(#clip780)\" d=\"M81.6959 841.571 L60.1162 841.571 L60.1162 835.715 L81.4731 835.715 Q86.5339 835.715 89.0802 833.741 Q91.5946 831.768 91.5946 827.821 Q91.5946 823.079 88.5709 820.341 Q85.5472 817.572 80.3273 817.572 L60.1162 817.572 L60.1162 811.716 L95.7642 811.716 L95.7642 817.572 L90.2896 817.572 Q93.5362 819.705 95.1276 822.538 Q96.6872 825.339 96.6872 829.062 Q96.6872 835.205 92.8678 838.388 Q89.0483 841.571 81.6959 841.571 M59.2568 826.835 L59.2568 826.835 Z\" fill=\"#000000\" fill-rule=\"evenodd\" fill-opacity=\"1\" /><path clip-path=\"url(#clip780)\" d=\"M76.4761 769.161 L79.3406 769.161 L79.3406 796.088 Q85.3881 795.706 88.5709 792.46 Q91.7219 789.181 91.7219 783.357 Q91.7219 779.983 90.8944 776.832 Q90.0669 773.649 88.4118 770.53 L93.9499 770.53 Q95.2867 773.681 95.987 776.991 Q96.6872 780.301 96.6872 783.707 Q96.6872 792.237 91.7219 797.234 Q86.7567 802.199 78.2903 802.199 Q69.5374 802.199 64.4131 797.489 Q59.2568 792.746 59.2568 784.725 Q59.2568 777.532 63.9038 773.363 Q68.5189 769.161 76.4761 769.161 M74.7573 775.018 Q69.9512 775.081 67.0866 777.723 Q64.2221 780.333 64.2221 784.662 Q64.2221 789.563 66.9912 792.523 Q69.7602 795.452 74.7892 795.897 L74.7573 775.018 Z\" fill=\"#000000\" fill-rule=\"evenodd\" fill-opacity=\"1\" /><path clip-path=\"url(#clip780)\" d=\"M46.3026 724.76 Q53.6232 729.025 60.7846 731.094 Q67.946 733.163 75.2984 733.163 Q82.6508 733.163 89.8759 731.094 Q97.0691 728.994 104.358 724.76 L104.358 729.853 Q96.8782 734.627 89.6531 737.014 Q82.428 739.37 75.2984 739.37 Q68.2006 739.37 61.0074 737.014 Q53.8142 734.659 46.3026 729.853 L46.3026 724.76 Z\" fill=\"#000000\" fill-rule=\"evenodd\" fill-opacity=\"1\" /><path clip-path=\"url(#clip780)\" d=\"M99.0743 698.566 Q105.44 701.048 107.382 703.403 Q109.323 705.759 109.323 709.705 L109.323 714.384 L104.422 714.384 L104.422 710.947 Q104.422 708.528 103.276 707.191 Q102.13 705.854 97.8648 704.231 L95.1912 703.181 L60.1162 717.599 L60.1162 711.392 L87.998 700.252 L60.1162 689.112 L60.1162 682.906 L99.0743 698.566 Z\" fill=\"#000000\" fill-rule=\"evenodd\" fill-opacity=\"1\" /><path clip-path=\"url(#clip780)\" d=\"M106.586 647.735 L111.137 647.735 L111.137 681.601 L106.586 681.601 L106.586 647.735 Z\" fill=\"#000000\" fill-rule=\"evenodd\" fill-opacity=\"1\" /><path clip-path=\"url(#clip780)\" d=\"M90.417 636.564 L109.323 636.564 L109.323 642.452 L60.1162 642.452 L60.1162 636.564 L65.5271 636.564 Q62.3442 634.717 60.8164 631.917 Q59.2568 629.084 59.2568 625.169 Q59.2568 618.676 64.4131 614.634 Q69.5693 610.56 77.972 610.56 Q86.3747 610.56 91.531 614.634 Q96.6872 618.676 96.6872 625.169 Q96.6872 629.084 95.1594 631.917 Q93.5998 634.717 90.417 636.564 M77.972 616.639 Q71.5108 616.639 67.8505 619.312 Q64.1584 621.954 64.1584 626.601 Q64.1584 631.248 67.8505 633.922 Q71.5108 636.564 77.972 636.564 Q84.4332 636.564 88.1253 633.922 Q91.7856 631.248 91.7856 626.601 Q91.7856 621.954 88.1253 619.312 Q84.4332 616.639 77.972 616.639 Z\" fill=\"#000000\" fill-rule=\"evenodd\" fill-opacity=\"1\" /><path clip-path=\"url(#clip780)\" d=\"M65.5907 580.195 Q65.0178 581.182 64.7632 582.36 Q64.4767 583.505 64.4767 584.906 Q64.4767 589.871 67.7232 592.545 Q70.9379 595.186 76.9853 595.186 L95.7642 595.186 L95.7642 601.075 L60.1162 601.075 L60.1162 595.186 L65.6544 595.186 Q62.4079 593.34 60.8483 590.38 Q59.2568 587.42 59.2568 583.187 Q59.2568 582.582 59.3523 581.85 Q59.416 581.118 59.5751 580.227 L65.5907 580.195 Z\" fill=\"#000000\" fill-rule=\"evenodd\" fill-opacity=\"1\" /><path clip-path=\"url(#clip780)\" d=\"M46.3026 574.975 L46.3026 569.883 Q53.8142 565.108 61.0074 562.753 Q68.2006 560.366 75.2984 560.366 Q82.428 560.366 89.6531 562.753 Q96.8782 565.108 104.358 569.883 L104.358 574.975 Q97.0691 570.742 89.8759 568.673 Q82.6508 566.573 75.2984 566.573 Q67.946 566.573 60.7846 568.673 Q53.6232 570.742 46.3026 574.975 Z\" fill=\"#000000\" fill-rule=\"evenodd\" fill-opacity=\"1\" /><circle clip-path=\"url(#clip782)\" cx=\"480.822\" cy=\"1380.87\" r=\"14.4\" fill=\"#009af9\" fill-rule=\"evenodd\" fill-opacity=\"1\" stroke=\"#000000\" stroke-opacity=\"1\" stroke-width=\"4\"/>\n",
       "<circle clip-path=\"url(#clip782)\" cx=\"597.238\" cy=\"1357.17\" r=\"14.4\" fill=\"#009af9\" fill-rule=\"evenodd\" fill-opacity=\"1\" stroke=\"#000000\" stroke-opacity=\"1\" stroke-width=\"4\"/>\n",
       "<circle clip-path=\"url(#clip782)\" cx=\"825.965\" cy=\"1237.48\" r=\"14.4\" fill=\"#009af9\" fill-rule=\"evenodd\" fill-opacity=\"1\" stroke=\"#000000\" stroke-opacity=\"1\" stroke-width=\"4\"/>\n",
       "<circle clip-path=\"url(#clip782)\" cx=\"997.241\" cy=\"936.242\" r=\"14.4\" fill=\"#009af9\" fill-rule=\"evenodd\" fill-opacity=\"1\" stroke=\"#000000\" stroke-opacity=\"1\" stroke-width=\"4\"/>\n",
       "<circle clip-path=\"url(#clip782)\" cx=\"1060.74\" cy=\"821.928\" r=\"14.4\" fill=\"#009af9\" fill-rule=\"evenodd\" fill-opacity=\"1\" stroke=\"#000000\" stroke-opacity=\"1\" stroke-width=\"4\"/>\n",
       "<circle clip-path=\"url(#clip782)\" cx=\"533.955\" cy=\"1314.47\" r=\"14.4\" fill=\"#009af9\" fill-rule=\"evenodd\" fill-opacity=\"1\" stroke=\"#000000\" stroke-opacity=\"1\" stroke-width=\"4\"/>\n",
       "<circle clip-path=\"url(#clip782)\" cx=\"601.558\" cy=\"1290.95\" r=\"14.4\" fill=\"#009af9\" fill-rule=\"evenodd\" fill-opacity=\"1\" stroke=\"#000000\" stroke-opacity=\"1\" stroke-width=\"4\"/>\n",
       "<circle clip-path=\"url(#clip782)\" cx=\"910.415\" cy=\"1172.22\" r=\"14.4\" fill=\"#009af9\" fill-rule=\"evenodd\" fill-opacity=\"1\" stroke=\"#000000\" stroke-opacity=\"1\" stroke-width=\"4\"/>\n",
       "<circle clip-path=\"url(#clip782)\" cx=\"1043.68\" cy=\"874.337\" r=\"14.4\" fill=\"#009af9\" fill-rule=\"evenodd\" fill-opacity=\"1\" stroke=\"#000000\" stroke-opacity=\"1\" stroke-width=\"4\"/>\n",
       "<circle clip-path=\"url(#clip782)\" cx=\"1075.43\" cy=\"761.891\" r=\"14.4\" fill=\"#009af9\" fill-rule=\"evenodd\" fill-opacity=\"1\" stroke=\"#000000\" stroke-opacity=\"1\" stroke-width=\"4\"/>\n",
       "<circle clip-path=\"url(#clip782)\" cx=\"567.648\" cy=\"1253.27\" r=\"14.4\" fill=\"#009af9\" fill-rule=\"evenodd\" fill-opacity=\"1\" stroke=\"#000000\" stroke-opacity=\"1\" stroke-width=\"4\"/>\n",
       "<circle clip-path=\"url(#clip782)\" cx=\"419.483\" cy=\"1230.01\" r=\"14.4\" fill=\"#009af9\" fill-rule=\"evenodd\" fill-opacity=\"1\" stroke=\"#000000\" stroke-opacity=\"1\" stroke-width=\"4\"/>\n",
       "<circle clip-path=\"url(#clip782)\" cx=\"950.804\" cy=\"1112.71\" r=\"14.4\" fill=\"#009af9\" fill-rule=\"evenodd\" fill-opacity=\"1\" stroke=\"#000000\" stroke-opacity=\"1\" stroke-width=\"4\"/>\n",
       "<circle clip-path=\"url(#clip782)\" cx=\"1103.07\" cy=\"819.254\" r=\"14.4\" fill=\"#009af9\" fill-rule=\"evenodd\" fill-opacity=\"1\" stroke=\"#000000\" stroke-opacity=\"1\" stroke-width=\"4\"/>\n",
       "<circle clip-path=\"url(#clip782)\" cx=\"1107.39\" cy=\"709.006\" r=\"14.4\" fill=\"#009af9\" fill-rule=\"evenodd\" fill-opacity=\"1\" stroke=\"#000000\" stroke-opacity=\"1\" stroke-width=\"4\"/>\n",
       "<circle clip-path=\"url(#clip782)\" cx=\"485.142\" cy=\"1554.61\" r=\"14.4\" fill=\"#009af9\" fill-rule=\"evenodd\" fill-opacity=\"1\" stroke=\"#000000\" stroke-opacity=\"1\" stroke-width=\"4\"/>\n",
       "<circle clip-path=\"url(#clip782)\" cx=\"603.718\" cy=\"1435.6\" r=\"14.4\" fill=\"#009af9\" fill-rule=\"evenodd\" fill-opacity=\"1\" stroke=\"#000000\" stroke-opacity=\"1\" stroke-width=\"4\"/>\n",
       "<circle clip-path=\"url(#clip782)\" cx=\"633.307\" cy=\"1375.65\" r=\"14.4\" fill=\"#009af9\" fill-rule=\"evenodd\" fill-opacity=\"1\" stroke=\"#000000\" stroke-opacity=\"1\" stroke-width=\"4\"/>\n",
       "<circle clip-path=\"url(#clip782)\" cx=\"768.73\" cy=\"1257.1\" r=\"14.4\" fill=\"#009af9\" fill-rule=\"evenodd\" fill-opacity=\"1\" stroke=\"#000000\" stroke-opacity=\"1\" stroke-width=\"4\"/>\n",
       "<circle clip-path=\"url(#clip782)\" cx=\"893.569\" cy=\"1390.5\" r=\"14.4\" fill=\"#009af9\" fill-rule=\"evenodd\" fill-opacity=\"1\" stroke=\"#000000\" stroke-opacity=\"1\" stroke-width=\"4\"/>\n",
       "<circle clip-path=\"url(#clip782)\" cx=\"1172.84\" cy=\"851.007\" r=\"14.4\" fill=\"#009af9\" fill-rule=\"evenodd\" fill-opacity=\"1\" stroke=\"#000000\" stroke-opacity=\"1\" stroke-width=\"4\"/>\n",
       "<circle clip-path=\"url(#clip782)\" cx=\"1397.24\" cy=\"601.805\" r=\"14.4\" fill=\"#009af9\" fill-rule=\"evenodd\" fill-opacity=\"1\" stroke=\"#000000\" stroke-opacity=\"1\" stroke-width=\"4\"/>\n",
       "<circle clip-path=\"url(#clip782)\" cx=\"1022.73\" cy=\"974.022\" r=\"14.4\" fill=\"#009af9\" fill-rule=\"evenodd\" fill-opacity=\"1\" stroke=\"#000000\" stroke-opacity=\"1\" stroke-width=\"4\"/>\n",
       "<circle clip-path=\"url(#clip782)\" cx=\"538.058\" cy=\"1421.26\" r=\"14.4\" fill=\"#009af9\" fill-rule=\"evenodd\" fill-opacity=\"1\" stroke=\"#000000\" stroke-opacity=\"1\" stroke-width=\"4\"/>\n",
       "<circle clip-path=\"url(#clip782)\" cx=\"709.55\" cy=\"1299.08\" r=\"14.4\" fill=\"#009af9\" fill-rule=\"evenodd\" fill-opacity=\"1\" stroke=\"#000000\" stroke-opacity=\"1\" stroke-width=\"4\"/>\n",
       "<circle clip-path=\"url(#clip782)\" cx=\"497.885\" cy=\"942.731\" r=\"14.4\" fill=\"#009af9\" fill-rule=\"evenodd\" fill-opacity=\"1\" stroke=\"#000000\" stroke-opacity=\"1\" stroke-width=\"4\"/>\n",
       "<circle clip-path=\"url(#clip782)\" cx=\"787.736\" cy=\"933.6\" r=\"14.4\" fill=\"#009af9\" fill-rule=\"evenodd\" fill-opacity=\"1\" stroke=\"#000000\" stroke-opacity=\"1\" stroke-width=\"4\"/>\n",
       "<circle clip-path=\"url(#clip782)\" cx=\"942.165\" cy=\"915.544\" r=\"14.4\" fill=\"#009af9\" fill-rule=\"evenodd\" fill-opacity=\"1\" stroke=\"#000000\" stroke-opacity=\"1\" stroke-width=\"4\"/>\n",
       "<circle clip-path=\"url(#clip782)\" cx=\"1022.73\" cy=\"884.613\" r=\"14.4\" fill=\"#009af9\" fill-rule=\"evenodd\" fill-opacity=\"1\" stroke=\"#000000\" stroke-opacity=\"1\" stroke-width=\"4\"/>\n",
       "<circle clip-path=\"url(#clip782)\" cx=\"1177.16\" cy=\"825.384\" r=\"14.4\" fill=\"#009af9\" fill-rule=\"evenodd\" fill-opacity=\"1\" stroke=\"#000000\" stroke-opacity=\"1\" stroke-width=\"4\"/>\n",
       "<circle clip-path=\"url(#clip782)\" cx=\"1361.17\" cy=\"756.228\" r=\"14.4\" fill=\"#009af9\" fill-rule=\"evenodd\" fill-opacity=\"1\" stroke=\"#000000\" stroke-opacity=\"1\" stroke-width=\"4\"/>\n",
       "<circle clip-path=\"url(#clip782)\" cx=\"1515.6\" cy=\"726.489\" r=\"14.4\" fill=\"#009af9\" fill-rule=\"evenodd\" fill-opacity=\"1\" stroke=\"#000000\" stroke-opacity=\"1\" stroke-width=\"4\"/>\n",
       "<circle clip-path=\"url(#clip782)\" cx=\"1678.67\" cy=\"669.675\" r=\"14.4\" fill=\"#009af9\" fill-rule=\"evenodd\" fill-opacity=\"1\" stroke=\"#000000\" stroke-opacity=\"1\" stroke-width=\"4\"/>\n",
       "<circle clip-path=\"url(#clip782)\" cx=\"1729.43\" cy=\"464.446\" r=\"14.4\" fill=\"#009af9\" fill-rule=\"evenodd\" fill-opacity=\"1\" stroke=\"#000000\" stroke-opacity=\"1\" stroke-width=\"4\"/>\n",
       "<circle clip-path=\"url(#clip782)\" cx=\"1771.76\" cy=\"316.193\" r=\"14.4\" fill=\"#009af9\" fill-rule=\"evenodd\" fill-opacity=\"1\" stroke=\"#000000\" stroke-opacity=\"1\" stroke-width=\"4\"/>\n",
       "<circle clip-path=\"url(#clip782)\" cx=\"1826.84\" cy=\"353.072\" r=\"14.4\" fill=\"#009af9\" fill-rule=\"evenodd\" fill-opacity=\"1\" stroke=\"#000000\" stroke-opacity=\"1\" stroke-width=\"4\"/>\n",
       "<circle clip-path=\"url(#clip782)\" cx=\"616.461\" cy=\"1299.42\" r=\"14.4\" fill=\"#009af9\" fill-rule=\"evenodd\" fill-opacity=\"1\" stroke=\"#000000\" stroke-opacity=\"1\" stroke-width=\"4\"/>\n",
       "<circle clip-path=\"url(#clip782)\" cx=\"711.494\" cy=\"1259.72\" r=\"14.4\" fill=\"#009af9\" fill-rule=\"evenodd\" fill-opacity=\"1\" stroke=\"#000000\" stroke-opacity=\"1\" stroke-width=\"4\"/>\n",
       "<circle clip-path=\"url(#clip782)\" cx=\"815.382\" cy=\"1183.05\" r=\"14.4\" fill=\"#009af9\" fill-rule=\"evenodd\" fill-opacity=\"1\" stroke=\"#000000\" stroke-opacity=\"1\" stroke-width=\"4\"/>\n",
       "<circle clip-path=\"url(#clip782)\" cx=\"872.402\" cy=\"1041.39\" r=\"14.4\" fill=\"#009af9\" fill-rule=\"evenodd\" fill-opacity=\"1\" stroke=\"#000000\" stroke-opacity=\"1\" stroke-width=\"4\"/>\n",
       "<circle clip-path=\"url(#clip782)\" cx=\"901.992\" cy=\"892.224\" r=\"14.4\" fill=\"#009af9\" fill-rule=\"evenodd\" fill-opacity=\"1\" stroke=\"#000000\" stroke-opacity=\"1\" stroke-width=\"4\"/>\n",
       "<circle clip-path=\"url(#clip782)\" cx=\"931.582\" cy=\"633.007\" r=\"14.4\" fill=\"#009af9\" fill-rule=\"evenodd\" fill-opacity=\"1\" stroke=\"#000000\" stroke-opacity=\"1\" stroke-width=\"4\"/>\n",
       "<circle clip-path=\"url(#clip782)\" cx=\"360.303\" cy=\"1179.34\" r=\"14.4\" fill=\"#009af9\" fill-rule=\"evenodd\" fill-opacity=\"1\" stroke=\"#000000\" stroke-opacity=\"1\" stroke-width=\"4\"/>\n",
       "<circle clip-path=\"url(#clip782)\" cx=\"542.378\" cy=\"1167.88\" r=\"14.4\" fill=\"#009af9\" fill-rule=\"evenodd\" fill-opacity=\"1\" stroke=\"#000000\" stroke-opacity=\"1\" stroke-width=\"4\"/>\n",
       "<circle clip-path=\"url(#clip782)\" cx=\"726.397\" cy=\"1145.19\" r=\"14.4\" fill=\"#009af9\" fill-rule=\"evenodd\" fill-opacity=\"1\" stroke=\"#000000\" stroke-opacity=\"1\" stroke-width=\"4\"/>\n",
       "<circle clip-path=\"url(#clip782)\" cx=\"827.909\" cy=\"1106.18\" r=\"14.4\" fill=\"#009af9\" fill-rule=\"evenodd\" fill-opacity=\"1\" stroke=\"#000000\" stroke-opacity=\"1\" stroke-width=\"4\"/>\n",
       "<circle clip-path=\"url(#clip782)\" cx=\"901.992\" cy=\"1030.95\" r=\"14.4\" fill=\"#009af9\" fill-rule=\"evenodd\" fill-opacity=\"1\" stroke=\"#000000\" stroke-opacity=\"1\" stroke-width=\"4\"/>\n",
       "<circle clip-path=\"url(#clip782)\" cx=\"1067.22\" cy=\"624.603\" r=\"14.4\" fill=\"#009af9\" fill-rule=\"evenodd\" fill-opacity=\"1\" stroke=\"#000000\" stroke-opacity=\"1\" stroke-width=\"4\"/>\n",
       "<circle clip-path=\"url(#clip782)\" cx=\"1115.6\" cy=\"706.857\" r=\"14.4\" fill=\"#009af9\" fill-rule=\"evenodd\" fill-opacity=\"1\" stroke=\"#000000\" stroke-opacity=\"1\" stroke-width=\"4\"/>\n",
       "<circle clip-path=\"url(#clip782)\" cx=\"548.642\" cy=\"1255.92\" r=\"14.4\" fill=\"#009af9\" fill-rule=\"evenodd\" fill-opacity=\"1\" stroke=\"#000000\" stroke-opacity=\"1\" stroke-width=\"4\"/>\n",
       "<circle clip-path=\"url(#clip782)\" cx=\"516.892\" cy=\"1332.41\" r=\"14.4\" fill=\"#009af9\" fill-rule=\"evenodd\" fill-opacity=\"1\" stroke=\"#000000\" stroke-opacity=\"1\" stroke-width=\"4\"/>\n",
       "<circle clip-path=\"url(#clip782)\" cx=\"743.243\" cy=\"1126.29\" r=\"14.4\" fill=\"#009af9\" fill-rule=\"evenodd\" fill-opacity=\"1\" stroke=\"#000000\" stroke-opacity=\"1\" stroke-width=\"4\"/>\n",
       "<circle clip-path=\"url(#clip782)\" cx=\"1033.09\" cy=\"1012.61\" r=\"14.4\" fill=\"#009af9\" fill-rule=\"evenodd\" fill-opacity=\"1\" stroke=\"#000000\" stroke-opacity=\"1\" stroke-width=\"4\"/>\n",
       "<circle clip-path=\"url(#clip782)\" cx=\"472.615\" cy=\"1108.03\" r=\"14.4\" fill=\"#009af9\" fill-rule=\"evenodd\" fill-opacity=\"1\" stroke=\"#000000\" stroke-opacity=\"1\" stroke-width=\"4\"/>\n",
       "<circle clip-path=\"url(#clip782)\" cx=\"709.55\" cy=\"1302.64\" r=\"14.4\" fill=\"#009af9\" fill-rule=\"evenodd\" fill-opacity=\"1\" stroke=\"#000000\" stroke-opacity=\"1\" stroke-width=\"4\"/>\n",
       "<circle clip-path=\"url(#clip782)\" cx=\"681.904\" cy=\"1243.56\" r=\"14.4\" fill=\"#009af9\" fill-rule=\"evenodd\" fill-opacity=\"1\" stroke=\"#000000\" stroke-opacity=\"1\" stroke-width=\"4\"/>\n",
       "<circle clip-path=\"url(#clip782)\" cx=\"912.575\" cy=\"1126.82\" r=\"14.4\" fill=\"#009af9\" fill-rule=\"evenodd\" fill-opacity=\"1\" stroke=\"#000000\" stroke-opacity=\"1\" stroke-width=\"4\"/>\n",
       "<circle clip-path=\"url(#clip782)\" cx=\"544.538\" cy=\"1377.73\" r=\"14.4\" fill=\"#009af9\" fill-rule=\"evenodd\" fill-opacity=\"1\" stroke=\"#000000\" stroke-opacity=\"1\" stroke-width=\"4\"/>\n",
       "<circle clip-path=\"url(#clip782)\" cx=\"768.73\" cy=\"1258.46\" r=\"14.4\" fill=\"#009af9\" fill-rule=\"evenodd\" fill-opacity=\"1\" stroke=\"#000000\" stroke-opacity=\"1\" stroke-width=\"4\"/>\n",
       "<circle clip-path=\"url(#clip782)\" cx=\"603.718\" cy=\"1432.06\" r=\"14.4\" fill=\"#009af9\" fill-rule=\"evenodd\" fill-opacity=\"1\" stroke=\"#000000\" stroke-opacity=\"1\" stroke-width=\"4\"/>\n",
       "<circle clip-path=\"url(#clip782)\" cx=\"531.579\" cy=\"1398.58\" r=\"14.4\" fill=\"#009af9\" fill-rule=\"evenodd\" fill-opacity=\"1\" stroke=\"#000000\" stroke-opacity=\"1\" stroke-width=\"4\"/>\n",
       "<circle clip-path=\"url(#clip782)\" cx=\"692.487\" cy=\"1280.22\" r=\"14.4\" fill=\"#009af9\" fill-rule=\"evenodd\" fill-opacity=\"1\" stroke=\"#000000\" stroke-opacity=\"1\" stroke-width=\"4\"/>\n",
       "<circle clip-path=\"url(#clip782)\" cx=\"859.659\" cy=\"981.912\" r=\"14.4\" fill=\"#009af9\" fill-rule=\"evenodd\" fill-opacity=\"1\" stroke=\"#000000\" stroke-opacity=\"1\" stroke-width=\"4\"/>\n",
       "<circle clip-path=\"url(#clip782)\" cx=\"516.892\" cy=\"1388.6\" r=\"14.4\" fill=\"#009af9\" fill-rule=\"evenodd\" fill-opacity=\"1\" stroke=\"#000000\" stroke-opacity=\"1\" stroke-width=\"4\"/>\n",
       "<circle clip-path=\"url(#clip782)\" cx=\"576.072\" cy=\"1308.92\" r=\"14.4\" fill=\"#009af9\" fill-rule=\"evenodd\" fill-opacity=\"1\" stroke=\"#000000\" stroke-opacity=\"1\" stroke-width=\"4\"/>\n",
       "<circle clip-path=\"url(#clip782)\" cx=\"904.152\" cy=\"1190.37\" r=\"14.4\" fill=\"#009af9\" fill-rule=\"evenodd\" fill-opacity=\"1\" stroke=\"#000000\" stroke-opacity=\"1\" stroke-width=\"4\"/>\n",
       "<circle clip-path=\"url(#clip782)\" cx=\"1028.99\" cy=\"893.029\" r=\"14.4\" fill=\"#009af9\" fill-rule=\"evenodd\" fill-opacity=\"1\" stroke=\"#000000\" stroke-opacity=\"1\" stroke-width=\"4\"/>\n",
       "<circle clip-path=\"url(#clip782)\" cx=\"616.461\" cy=\"1232.63\" r=\"14.4\" fill=\"#009af9\" fill-rule=\"evenodd\" fill-opacity=\"1\" stroke=\"#000000\" stroke-opacity=\"1\" stroke-width=\"4\"/>\n",
       "<circle clip-path=\"url(#clip782)\" cx=\"931.582\" cy=\"1115.19\" r=\"14.4\" fill=\"#009af9\" fill-rule=\"evenodd\" fill-opacity=\"1\" stroke=\"#000000\" stroke-opacity=\"1\" stroke-width=\"4\"/>\n",
       "<circle clip-path=\"url(#clip782)\" cx=\"1077.8\" cy=\"821.396\" r=\"14.4\" fill=\"#009af9\" fill-rule=\"evenodd\" fill-opacity=\"1\" stroke=\"#000000\" stroke-opacity=\"1\" stroke-width=\"4\"/>\n",
       "<circle clip-path=\"url(#clip782)\" cx=\"1111.5\" cy=\"558.692\" r=\"14.4\" fill=\"#009af9\" fill-rule=\"evenodd\" fill-opacity=\"1\" stroke=\"#000000\" stroke-opacity=\"1\" stroke-width=\"4\"/>\n",
       "<circle clip-path=\"url(#clip782)\" cx=\"1134.82\" cy=\"652.708\" r=\"14.4\" fill=\"#009af9\" fill-rule=\"evenodd\" fill-opacity=\"1\" stroke=\"#000000\" stroke-opacity=\"1\" stroke-width=\"4\"/>\n",
       "<circle clip-path=\"url(#clip782)\" cx=\"616.461\" cy=\"1396.01\" r=\"14.4\" fill=\"#009af9\" fill-rule=\"evenodd\" fill-opacity=\"1\" stroke=\"#000000\" stroke-opacity=\"1\" stroke-width=\"4\"/>\n",
       "<circle clip-path=\"url(#clip782)\" cx=\"802.423\" cy=\"741.115\" r=\"14.4\" fill=\"#009af9\" fill-rule=\"evenodd\" fill-opacity=\"1\" stroke=\"#000000\" stroke-opacity=\"1\" stroke-width=\"4\"/>\n",
       "<circle clip-path=\"url(#clip782)\" cx=\"1562.26\" cy=\"379.577\" r=\"14.4\" fill=\"#009af9\" fill-rule=\"evenodd\" fill-opacity=\"1\" stroke=\"#000000\" stroke-opacity=\"1\" stroke-width=\"4\"/>\n",
       "<circle clip-path=\"url(#clip782)\" cx=\"1244.76\" cy=\"609.147\" r=\"14.4\" fill=\"#009af9\" fill-rule=\"evenodd\" fill-opacity=\"1\" stroke=\"#000000\" stroke-opacity=\"1\" stroke-width=\"4\"/>\n",
       "<circle clip-path=\"url(#clip782)\" cx=\"1327.27\" cy=\"444.878\" r=\"14.4\" fill=\"#009af9\" fill-rule=\"evenodd\" fill-opacity=\"1\" stroke=\"#000000\" stroke-opacity=\"1\" stroke-width=\"4\"/>\n",
       "<circle clip-path=\"url(#clip782)\" cx=\"1416.25\" cy=\"466.917\" r=\"14.4\" fill=\"#009af9\" fill-rule=\"evenodd\" fill-opacity=\"1\" stroke=\"#000000\" stroke-opacity=\"1\" stroke-width=\"4\"/>\n",
       "<circle clip-path=\"url(#clip782)\" cx=\"1124.24\" cy=\"773.608\" r=\"14.4\" fill=\"#009af9\" fill-rule=\"evenodd\" fill-opacity=\"1\" stroke=\"#000000\" stroke-opacity=\"1\" stroke-width=\"4\"/>\n",
       "<circle clip-path=\"url(#clip782)\" cx=\"520.996\" cy=\"1507.84\" r=\"14.4\" fill=\"#009af9\" fill-rule=\"evenodd\" fill-opacity=\"1\" stroke=\"#000000\" stroke-opacity=\"1\" stroke-width=\"4\"/>\n",
       "<circle clip-path=\"url(#clip782)\" cx=\"650.154\" cy=\"1388.65\" r=\"14.4\" fill=\"#009af9\" fill-rule=\"evenodd\" fill-opacity=\"1\" stroke=\"#000000\" stroke-opacity=\"1\" stroke-width=\"4\"/>\n",
       "<circle clip-path=\"url(#clip782)\" cx=\"908.471\" cy=\"1128.12\" r=\"14.4\" fill=\"#009af9\" fill-rule=\"evenodd\" fill-opacity=\"1\" stroke=\"#000000\" stroke-opacity=\"1\" stroke-width=\"4\"/>\n",
       "<circle clip-path=\"url(#clip782)\" cx=\"637.627\" cy=\"1182.11\" r=\"14.4\" fill=\"#009af9\" fill-rule=\"evenodd\" fill-opacity=\"1\" stroke=\"#000000\" stroke-opacity=\"1\" stroke-width=\"4\"/>\n",
       "<circle clip-path=\"url(#clip782)\" cx=\"1079.75\" cy=\"1047.2\" r=\"14.4\" fill=\"#009af9\" fill-rule=\"evenodd\" fill-opacity=\"1\" stroke=\"#000000\" stroke-opacity=\"1\" stroke-width=\"4\"/>\n",
       "<circle clip-path=\"url(#clip782)\" cx=\"1278.67\" cy=\"768.363\" r=\"14.4\" fill=\"#009af9\" fill-rule=\"evenodd\" fill-opacity=\"1\" stroke=\"#000000\" stroke-opacity=\"1\" stroke-width=\"4\"/>\n",
       "<circle clip-path=\"url(#clip782)\" cx=\"743.243\" cy=\"1122.81\" r=\"14.4\" fill=\"#009af9\" fill-rule=\"evenodd\" fill-opacity=\"1\" stroke=\"#000000\" stroke-opacity=\"1\" stroke-width=\"4\"/>\n",
       "<circle clip-path=\"url(#clip782)\" cx=\"1033.09\" cy=\"1009.09\" r=\"14.4\" fill=\"#009af9\" fill-rule=\"evenodd\" fill-opacity=\"1\" stroke=\"#000000\" stroke-opacity=\"1\" stroke-width=\"4\"/>\n",
       "<circle clip-path=\"url(#clip782)\" cx=\"472.615\" cy=\"1511.34\" r=\"14.4\" fill=\"#009af9\" fill-rule=\"evenodd\" fill-opacity=\"1\" stroke=\"#000000\" stroke-opacity=\"1\" stroke-width=\"4\"/>\n",
       "<circle clip-path=\"url(#clip782)\" cx=\"650.154\" cy=\"1388.65\" r=\"14.4\" fill=\"#009af9\" fill-rule=\"evenodd\" fill-opacity=\"1\" stroke=\"#000000\" stroke-opacity=\"1\" stroke-width=\"4\"/>\n",
       "<circle clip-path=\"url(#clip782)\" cx=\"548.642\" cy=\"1372.13\" r=\"14.4\" fill=\"#009af9\" fill-rule=\"evenodd\" fill-opacity=\"1\" stroke=\"#000000\" stroke-opacity=\"1\" stroke-width=\"4\"/>\n",
       "<circle clip-path=\"url(#clip782)\" cx=\"827.909\" cy=\"1253.06\" r=\"14.4\" fill=\"#009af9\" fill-rule=\"evenodd\" fill-opacity=\"1\" stroke=\"#000000\" stroke-opacity=\"1\" stroke-width=\"4\"/>\n",
       "<circle clip-path=\"url(#clip782)\" cx=\"973.915\" cy=\"953.401\" r=\"14.4\" fill=\"#009af9\" fill-rule=\"evenodd\" fill-opacity=\"1\" stroke=\"#000000\" stroke-opacity=\"1\" stroke-width=\"4\"/>\n",
       "<circle clip-path=\"url(#clip782)\" cx=\"1031.15\" cy=\"679.802\" r=\"14.4\" fill=\"#009af9\" fill-rule=\"evenodd\" fill-opacity=\"1\" stroke=\"#000000\" stroke-opacity=\"1\" stroke-width=\"4\"/>\n",
       "<circle clip-path=\"url(#clip782)\" cx=\"1048\" cy=\"747.298\" r=\"14.4\" fill=\"#009af9\" fill-rule=\"evenodd\" fill-opacity=\"1\" stroke=\"#000000\" stroke-opacity=\"1\" stroke-width=\"4\"/>\n",
       "<circle clip-path=\"url(#clip782)\" cx=\"954.908\" cy=\"848.197\" r=\"14.4\" fill=\"#009af9\" fill-rule=\"evenodd\" fill-opacity=\"1\" stroke=\"#000000\" stroke-opacity=\"1\" stroke-width=\"4\"/>\n",
       "<circle clip-path=\"url(#clip782)\" cx=\"1141.09\" cy=\"830.591\" r=\"14.4\" fill=\"#009af9\" fill-rule=\"evenodd\" fill-opacity=\"1\" stroke=\"#000000\" stroke-opacity=\"1\" stroke-width=\"4\"/>\n",
       "<circle clip-path=\"url(#clip782)\" cx=\"1270.25\" cy=\"800.453\" r=\"14.4\" fill=\"#009af9\" fill-rule=\"evenodd\" fill-opacity=\"1\" stroke=\"#000000\" stroke-opacity=\"1\" stroke-width=\"4\"/>\n",
       "<circle clip-path=\"url(#clip782)\" cx=\"1433.1\" cy=\"742.821\" r=\"14.4\" fill=\"#009af9\" fill-rule=\"evenodd\" fill-opacity=\"1\" stroke=\"#000000\" stroke-opacity=\"1\" stroke-width=\"4\"/>\n",
       "<circle clip-path=\"url(#clip782)\" cx=\"1494.44\" cy=\"533.747\" r=\"14.4\" fill=\"#009af9\" fill-rule=\"evenodd\" fill-opacity=\"1\" stroke=\"#000000\" stroke-opacity=\"1\" stroke-width=\"4\"/>\n",
       "<circle clip-path=\"url(#clip782)\" cx=\"1674.35\" cy=\"410.59\" r=\"14.4\" fill=\"#009af9\" fill-rule=\"evenodd\" fill-opacity=\"1\" stroke=\"#000000\" stroke-opacity=\"1\" stroke-width=\"4\"/>\n",
       "<circle clip-path=\"url(#clip782)\" cx=\"673.481\" cy=\"1338.69\" r=\"14.4\" fill=\"#009af9\" fill-rule=\"evenodd\" fill-opacity=\"1\" stroke=\"#000000\" stroke-opacity=\"1\" stroke-width=\"4\"/>\n",
       "<circle clip-path=\"url(#clip782)\" cx=\"768.73\" cy=\"1260.7\" r=\"14.4\" fill=\"#009af9\" fill-rule=\"evenodd\" fill-opacity=\"1\" stroke=\"#000000\" stroke-opacity=\"1\" stroke-width=\"4\"/>\n",
       "<circle clip-path=\"url(#clip782)\" cx=\"863.979\" cy=\"693.826\" r=\"14.4\" fill=\"#009af9\" fill-rule=\"evenodd\" fill-opacity=\"1\" stroke=\"#000000\" stroke-opacity=\"1\" stroke-width=\"4\"/>\n",
       "<circle clip-path=\"url(#clip782)\" cx=\"694.647\" cy=\"1317.39\" r=\"14.4\" fill=\"#009af9\" fill-rule=\"evenodd\" fill-opacity=\"1\" stroke=\"#000000\" stroke-opacity=\"1\" stroke-width=\"4\"/>\n",
       "<circle clip-path=\"url(#clip782)\" cx=\"1069.16\" cy=\"970.528\" r=\"14.4\" fill=\"#009af9\" fill-rule=\"evenodd\" fill-opacity=\"1\" stroke=\"#000000\" stroke-opacity=\"1\" stroke-width=\"4\"/>\n",
       "<circle clip-path=\"url(#clip782)\" cx=\"751.667\" cy=\"973.905\" r=\"14.4\" fill=\"#009af9\" fill-rule=\"evenodd\" fill-opacity=\"1\" stroke=\"#000000\" stroke-opacity=\"1\" stroke-width=\"4\"/>\n",
       "<circle clip-path=\"url(#clip782)\" cx=\"1315.82\" cy=\"809.013\" r=\"14.4\" fill=\"#009af9\" fill-rule=\"evenodd\" fill-opacity=\"1\" stroke=\"#000000\" stroke-opacity=\"1\" stroke-width=\"4\"/>\n",
       "<circle clip-path=\"url(#clip782)\" cx=\"1844.55\" cy=\"708.819\" r=\"14.4\" fill=\"#009af9\" fill-rule=\"evenodd\" fill-opacity=\"1\" stroke=\"#000000\" stroke-opacity=\"1\" stroke-width=\"4\"/>\n",
       "<circle clip-path=\"url(#clip782)\" cx=\"1027.69\" cy=\"1002.9\" r=\"14.4\" fill=\"#009af9\" fill-rule=\"evenodd\" fill-opacity=\"1\" stroke=\"#000000\" stroke-opacity=\"1\" stroke-width=\"4\"/>\n",
       "<circle clip-path=\"url(#clip782)\" cx=\"954.044\" cy=\"881.195\" r=\"14.4\" fill=\"#009af9\" fill-rule=\"evenodd\" fill-opacity=\"1\" stroke=\"#000000\" stroke-opacity=\"1\" stroke-width=\"4\"/>\n",
       "<circle clip-path=\"url(#clip782)\" cx=\"581.255\" cy=\"1265\" r=\"14.4\" fill=\"#009af9\" fill-rule=\"evenodd\" fill-opacity=\"1\" stroke=\"#000000\" stroke-opacity=\"1\" stroke-width=\"4\"/>\n",
       "<circle clip-path=\"url(#clip782)\" cx=\"656.634\" cy=\"1263.31\" r=\"14.4\" fill=\"#009af9\" fill-rule=\"evenodd\" fill-opacity=\"1\" stroke=\"#000000\" stroke-opacity=\"1\" stroke-width=\"4\"/>\n",
       "<circle clip-path=\"url(#clip782)\" cx=\"1009.98\" cy=\"935.366\" r=\"14.4\" fill=\"#009af9\" fill-rule=\"evenodd\" fill-opacity=\"1\" stroke=\"#000000\" stroke-opacity=\"1\" stroke-width=\"4\"/>\n",
       "<circle clip-path=\"url(#clip782)\" cx=\"952.532\" cy=\"605.139\" r=\"14.4\" fill=\"#009af9\" fill-rule=\"evenodd\" fill-opacity=\"1\" stroke=\"#000000\" stroke-opacity=\"1\" stroke-width=\"4\"/>\n",
       "<circle clip-path=\"url(#clip782)\" cx=\"557.929\" cy=\"1197.16\" r=\"14.4\" fill=\"#009af9\" fill-rule=\"evenodd\" fill-opacity=\"1\" stroke=\"#000000\" stroke-opacity=\"1\" stroke-width=\"4\"/>\n",
       "<circle clip-path=\"url(#clip782)\" cx=\"946.701\" cy=\"1021.82\" r=\"14.4\" fill=\"#009af9\" fill-rule=\"evenodd\" fill-opacity=\"1\" stroke=\"#000000\" stroke-opacity=\"1\" stroke-width=\"4\"/>\n",
       "<circle clip-path=\"url(#clip782)\" cx=\"1068.3\" cy=\"1051.44\" r=\"14.4\" fill=\"#009af9\" fill-rule=\"evenodd\" fill-opacity=\"1\" stroke=\"#000000\" stroke-opacity=\"1\" stroke-width=\"4\"/>\n",
       "<circle clip-path=\"url(#clip782)\" cx=\"822.726\" cy=\"1025.12\" r=\"14.4\" fill=\"#009af9\" fill-rule=\"evenodd\" fill-opacity=\"1\" stroke=\"#000000\" stroke-opacity=\"1\" stroke-width=\"4\"/>\n",
       "<circle clip-path=\"url(#clip782)\" cx=\"805.015\" cy=\"1344.7\" r=\"14.4\" fill=\"#009af9\" fill-rule=\"evenodd\" fill-opacity=\"1\" stroke=\"#000000\" stroke-opacity=\"1\" stroke-width=\"4\"/>\n",
       "<circle clip-path=\"url(#clip782)\" cx=\"1203.29\" cy=\"791.861\" r=\"14.4\" fill=\"#009af9\" fill-rule=\"evenodd\" fill-opacity=\"1\" stroke=\"#000000\" stroke-opacity=\"1\" stroke-width=\"4\"/>\n",
       "<circle clip-path=\"url(#clip782)\" cx=\"875.426\" cy=\"1085.42\" r=\"14.4\" fill=\"#009af9\" fill-rule=\"evenodd\" fill-opacity=\"1\" stroke=\"#000000\" stroke-opacity=\"1\" stroke-width=\"4\"/>\n",
       "<circle clip-path=\"url(#clip782)\" cx=\"561.169\" cy=\"1219.31\" r=\"14.4\" fill=\"#009af9\" fill-rule=\"evenodd\" fill-opacity=\"1\" stroke=\"#000000\" stroke-opacity=\"1\" stroke-width=\"4\"/>\n",
       "<circle clip-path=\"url(#clip782)\" cx=\"1188.39\" cy=\"982.484\" r=\"14.4\" fill=\"#009af9\" fill-rule=\"evenodd\" fill-opacity=\"1\" stroke=\"#000000\" stroke-opacity=\"1\" stroke-width=\"4\"/>\n",
       "<circle clip-path=\"url(#clip782)\" cx=\"1380.83\" cy=\"805.121\" r=\"14.4\" fill=\"#009af9\" fill-rule=\"evenodd\" fill-opacity=\"1\" stroke=\"#000000\" stroke-opacity=\"1\" stroke-width=\"4\"/>\n",
       "<circle clip-path=\"url(#clip782)\" cx=\"1460.53\" cy=\"828.244\" r=\"14.4\" fill=\"#009af9\" fill-rule=\"evenodd\" fill-opacity=\"1\" stroke=\"#000000\" stroke-opacity=\"1\" stroke-width=\"4\"/>\n",
       "<circle clip-path=\"url(#clip782)\" cx=\"1648.43\" cy=\"698.097\" r=\"14.4\" fill=\"#009af9\" fill-rule=\"evenodd\" fill-opacity=\"1\" stroke=\"#000000\" stroke-opacity=\"1\" stroke-width=\"4\"/>\n",
       "<circle clip-path=\"url(#clip782)\" cx=\"1365.71\" cy=\"748.26\" r=\"14.4\" fill=\"#009af9\" fill-rule=\"evenodd\" fill-opacity=\"1\" stroke=\"#000000\" stroke-opacity=\"1\" stroke-width=\"4\"/>\n",
       "<circle clip-path=\"url(#clip782)\" cx=\"946.269\" cy=\"1025.38\" r=\"14.4\" fill=\"#009af9\" fill-rule=\"evenodd\" fill-opacity=\"1\" stroke=\"#000000\" stroke-opacity=\"1\" stroke-width=\"4\"/>\n",
       "<circle clip-path=\"url(#clip782)\" cx=\"614.301\" cy=\"1319.32\" r=\"14.4\" fill=\"#009af9\" fill-rule=\"evenodd\" fill-opacity=\"1\" stroke=\"#000000\" stroke-opacity=\"1\" stroke-width=\"4\"/>\n",
       "<circle clip-path=\"url(#clip782)\" cx=\"1031.8\" cy=\"1252.05\" r=\"14.4\" fill=\"#009af9\" fill-rule=\"evenodd\" fill-opacity=\"1\" stroke=\"#000000\" stroke-opacity=\"1\" stroke-width=\"4\"/>\n",
       "<circle clip-path=\"url(#clip782)\" cx=\"934.174\" cy=\"1005.16\" r=\"14.4\" fill=\"#009af9\" fill-rule=\"evenodd\" fill-opacity=\"1\" stroke=\"#000000\" stroke-opacity=\"1\" stroke-width=\"4\"/>\n",
       "<circle clip-path=\"url(#clip782)\" cx=\"1145.84\" cy=\"1075.18\" r=\"14.4\" fill=\"#009af9\" fill-rule=\"evenodd\" fill-opacity=\"1\" stroke=\"#000000\" stroke-opacity=\"1\" stroke-width=\"4\"/>\n",
       "<circle clip-path=\"url(#clip782)\" cx=\"1090.11\" cy=\"1099.55\" r=\"14.4\" fill=\"#009af9\" fill-rule=\"evenodd\" fill-opacity=\"1\" stroke=\"#000000\" stroke-opacity=\"1\" stroke-width=\"4\"/>\n",
       "<circle clip-path=\"url(#clip782)\" cx=\"1130.72\" cy=\"808.842\" r=\"14.4\" fill=\"#009af9\" fill-rule=\"evenodd\" fill-opacity=\"1\" stroke=\"#000000\" stroke-opacity=\"1\" stroke-width=\"4\"/>\n",
       "<circle clip-path=\"url(#clip782)\" cx=\"1547.35\" cy=\"736.942\" r=\"14.4\" fill=\"#009af9\" fill-rule=\"evenodd\" fill-opacity=\"1\" stroke=\"#000000\" stroke-opacity=\"1\" stroke-width=\"4\"/>\n",
       "<circle clip-path=\"url(#clip782)\" cx=\"1107.61\" cy=\"975.401\" r=\"14.4\" fill=\"#009af9\" fill-rule=\"evenodd\" fill-opacity=\"1\" stroke=\"#000000\" stroke-opacity=\"1\" stroke-width=\"4\"/>\n",
       "<circle clip-path=\"url(#clip782)\" cx=\"944.109\" cy=\"933.817\" r=\"14.4\" fill=\"#009af9\" fill-rule=\"evenodd\" fill-opacity=\"1\" stroke=\"#000000\" stroke-opacity=\"1\" stroke-width=\"4\"/>\n",
       "<circle clip-path=\"url(#clip782)\" cx=\"1357.07\" cy=\"830.419\" r=\"14.4\" fill=\"#009af9\" fill-rule=\"evenodd\" fill-opacity=\"1\" stroke=\"#000000\" stroke-opacity=\"1\" stroke-width=\"4\"/>\n",
       "<circle clip-path=\"url(#clip782)\" cx=\"550.801\" cy=\"1213.6\" r=\"14.4\" fill=\"#009af9\" fill-rule=\"evenodd\" fill-opacity=\"1\" stroke=\"#000000\" stroke-opacity=\"1\" stroke-width=\"4\"/>\n",
       "<circle clip-path=\"url(#clip782)\" cx=\"1055.56\" cy=\"936.613\" r=\"14.4\" fill=\"#009af9\" fill-rule=\"evenodd\" fill-opacity=\"1\" stroke=\"#000000\" stroke-opacity=\"1\" stroke-width=\"4\"/>\n",
       "<circle clip-path=\"url(#clip782)\" cx=\"1029.64\" cy=\"970.485\" r=\"14.4\" fill=\"#009af9\" fill-rule=\"evenodd\" fill-opacity=\"1\" stroke=\"#000000\" stroke-opacity=\"1\" stroke-width=\"4\"/>\n",
       "<circle clip-path=\"url(#clip782)\" cx=\"985.794\" cy=\"1296.72\" r=\"14.4\" fill=\"#009af9\" fill-rule=\"evenodd\" fill-opacity=\"1\" stroke=\"#000000\" stroke-opacity=\"1\" stroke-width=\"4\"/>\n",
       "<circle clip-path=\"url(#clip782)\" cx=\"1134.82\" cy=\"946.15\" r=\"14.4\" fill=\"#009af9\" fill-rule=\"evenodd\" fill-opacity=\"1\" stroke=\"#000000\" stroke-opacity=\"1\" stroke-width=\"4\"/>\n",
       "<circle clip-path=\"url(#clip782)\" cx=\"913.223\" cy=\"1162.86\" r=\"14.4\" fill=\"#009af9\" fill-rule=\"evenodd\" fill-opacity=\"1\" stroke=\"#000000\" stroke-opacity=\"1\" stroke-width=\"4\"/>\n",
       "<circle clip-path=\"url(#clip782)\" cx=\"1122.08\" cy=\"942.963\" r=\"14.4\" fill=\"#009af9\" fill-rule=\"evenodd\" fill-opacity=\"1\" stroke=\"#000000\" stroke-opacity=\"1\" stroke-width=\"4\"/>\n",
       "<circle clip-path=\"url(#clip782)\" cx=\"1076.94\" cy=\"1210.15\" r=\"14.4\" fill=\"#009af9\" fill-rule=\"evenodd\" fill-opacity=\"1\" stroke=\"#000000\" stroke-opacity=\"1\" stroke-width=\"4\"/>\n",
       "<circle clip-path=\"url(#clip782)\" cx=\"1043.68\" cy=\"1114.43\" r=\"14.4\" fill=\"#009af9\" fill-rule=\"evenodd\" fill-opacity=\"1\" stroke=\"#000000\" stroke-opacity=\"1\" stroke-width=\"4\"/>\n",
       "<circle clip-path=\"url(#clip782)\" cx=\"1181.26\" cy=\"815.711\" r=\"14.4\" fill=\"#009af9\" fill-rule=\"evenodd\" fill-opacity=\"1\" stroke=\"#000000\" stroke-opacity=\"1\" stroke-width=\"4\"/>\n",
       "<circle clip-path=\"url(#clip782)\" cx=\"898.32\" cy=\"1081.42\" r=\"14.4\" fill=\"#009af9\" fill-rule=\"evenodd\" fill-opacity=\"1\" stroke=\"#000000\" stroke-opacity=\"1\" stroke-width=\"4\"/>\n",
       "<circle clip-path=\"url(#clip782)\" cx=\"736.548\" cy=\"1137.86\" r=\"14.4\" fill=\"#009af9\" fill-rule=\"evenodd\" fill-opacity=\"1\" stroke=\"#000000\" stroke-opacity=\"1\" stroke-width=\"4\"/>\n",
       "<circle clip-path=\"url(#clip782)\" cx=\"932.446\" cy=\"1234.85\" r=\"14.4\" fill=\"#009af9\" fill-rule=\"evenodd\" fill-opacity=\"1\" stroke=\"#000000\" stroke-opacity=\"1\" stroke-width=\"4\"/>\n",
       "<circle clip-path=\"url(#clip782)\" cx=\"924.67\" cy=\"1006.18\" r=\"14.4\" fill=\"#009af9\" fill-rule=\"evenodd\" fill-opacity=\"1\" stroke=\"#000000\" stroke-opacity=\"1\" stroke-width=\"4\"/>\n",
       "<circle clip-path=\"url(#clip782)\" cx=\"843.244\" cy=\"1312.35\" r=\"14.4\" fill=\"#009af9\" fill-rule=\"evenodd\" fill-opacity=\"1\" stroke=\"#000000\" stroke-opacity=\"1\" stroke-width=\"4\"/>\n",
       "<circle clip-path=\"url(#clip782)\" cx=\"1019.7\" cy=\"975.055\" r=\"14.4\" fill=\"#009af9\" fill-rule=\"evenodd\" fill-opacity=\"1\" stroke=\"#000000\" stroke-opacity=\"1\" stroke-width=\"4\"/>\n",
       "<circle clip-path=\"url(#clip782)\" cx=\"619.7\" cy=\"1390.24\" r=\"14.4\" fill=\"#009af9\" fill-rule=\"evenodd\" fill-opacity=\"1\" stroke=\"#000000\" stroke-opacity=\"1\" stroke-width=\"4\"/>\n",
       "<polyline clip-path=\"url(#clip782)\" style=\"stroke:#e26f46; stroke-linecap:round; stroke-linejoin:round; stroke-width:4; stroke-opacity:1; fill:none\" points=\"\n",
       "  224.881,1778.14 246.479,1756.5 268.078,1734.87 289.676,1713.23 311.275,1691.6 332.873,1669.96 354.472,1648.32 376.07,1626.69 397.668,1605.05 419.267,1583.41 \n",
       "  440.865,1561.78 462.464,1540.14 484.062,1518.51 505.661,1496.87 527.259,1475.23 548.858,1453.6 570.456,1431.96 592.054,1410.32 613.653,1388.69 635.251,1367.05 \n",
       "  656.85,1345.42 678.448,1323.78 700.047,1302.14 721.645,1280.51 743.243,1258.87 764.842,1237.23 786.44,1215.6 808.039,1193.96 829.637,1172.33 851.236,1150.69 \n",
       "  872.834,1129.05 894.433,1107.42 916.031,1085.78 937.629,1064.15 959.228,1042.51 980.826,1020.87 1002.42,999.237 1024.02,977.601 1045.62,955.964 1067.22,934.328 \n",
       "  1088.82,912.692 1110.42,891.056 1132.02,869.42 1153.61,847.783 1175.21,826.147 1196.81,804.511 1218.41,782.875 1240.01,761.239 1261.61,739.602 1283.2,717.966 \n",
       "  1304.8,696.33 1326.4,674.694 1348,653.058 1369.6,631.421 1391.2,609.785 1412.79,588.149 1434.39,566.513 1455.99,544.877 1477.59,523.24 1499.19,501.604 \n",
       "  1520.79,479.968 1542.39,458.332 1563.98,436.696 1585.58,415.059 1607.18,393.423 1628.78,371.787 1650.38,350.151 1671.98,328.515 1693.57,306.878 1715.17,285.242 \n",
       "  1736.77,263.606 1758.37,241.97 1779.97,220.334 1801.57,198.697 1823.17,177.061 1844.76,155.425 1866.36,133.789 1887.96,112.153 1909.56,90.5165 1931.16,68.8803 \n",
       "  1952.76,47.2441 \n",
       "  \"/>\n",
       "<path clip-path=\"url(#clip780)\" d=\"\n",
       "M1650.74 260.461 L1895.16 260.461 L1895.16 104.941 L1650.74 104.941  Z\n",
       "  \" fill=\"#ffffff\" fill-rule=\"evenodd\" fill-opacity=\"1\"/>\n",
       "<polyline clip-path=\"url(#clip780)\" style=\"stroke:#000000; stroke-linecap:round; stroke-linejoin:round; stroke-width:4; stroke-opacity:1; fill:none\" points=\"\n",
       "  1650.74,260.461 1895.16,260.461 1895.16,104.941 1650.74,104.941 1650.74,260.461 \n",
       "  \"/>\n",
       "<circle clip-path=\"url(#clip780)\" cx=\"1727.54\" cy=\"156.781\" r=\"23.04\" fill=\"#009af9\" fill-rule=\"evenodd\" fill-opacity=\"1\" stroke=\"#000000\" stroke-opacity=\"1\" stroke-width=\"6.4\"/>\n",
       "<path clip-path=\"url(#clip780)\" d=\"M1818.18 176.468 Q1816.37 181.098 1814.66 182.51 Q1812.94 183.922 1810.07 183.922 L1806.67 183.922 L1806.67 180.357 L1809.17 180.357 Q1810.93 180.357 1811.9 179.524 Q1812.87 178.69 1814.05 175.588 L1814.82 173.644 L1804.33 148.135 L1808.85 148.135 L1816.95 168.413 L1825.05 148.135 L1829.56 148.135 L1818.18 176.468 Z\" fill=\"#000000\" fill-rule=\"evenodd\" fill-opacity=\"1\" /><path clip-path=\"url(#clip780)\" d=\"M1836.86 170.125 L1844.49 170.125 L1844.49 143.76 L1836.18 145.427 L1836.18 141.167 L1844.45 139.501 L1849.12 139.501 L1849.12 170.125 L1856.76 170.125 L1856.76 174.061 L1836.86 174.061 L1836.86 170.125 Z\" fill=\"#000000\" fill-rule=\"evenodd\" fill-opacity=\"1\" /><polyline clip-path=\"url(#clip780)\" style=\"stroke:#e26f46; stroke-linecap:round; stroke-linejoin:round; stroke-width:4; stroke-opacity:1; fill:none\" points=\"\n",
       "  1669.94,208.621 1785.13,208.621 \n",
       "  \"/>\n",
       "<path clip-path=\"url(#clip780)\" d=\"M1818.18 228.308 Q1816.37 232.938 1814.66 234.35 Q1812.94 235.762 1810.07 235.762 L1806.67 235.762 L1806.67 232.197 L1809.17 232.197 Q1810.93 232.197 1811.9 231.364 Q1812.87 230.53 1814.05 227.428 L1814.82 225.484 L1804.33 199.975 L1808.85 199.975 L1816.95 220.253 L1825.05 199.975 L1829.56 199.975 L1818.18 228.308 Z\" fill=\"#000000\" fill-rule=\"evenodd\" fill-opacity=\"1\" /><path clip-path=\"url(#clip780)\" d=\"M1840.07 221.965 L1856.39 221.965 L1856.39 225.901 L1834.45 225.901 L1834.45 221.965 Q1837.11 219.211 1841.69 214.581 Q1846.3 209.928 1847.48 208.586 Q1849.73 206.063 1850.61 204.327 Q1851.51 202.567 1851.51 200.878 Q1851.51 198.123 1849.56 196.387 Q1847.64 194.651 1844.54 194.651 Q1842.34 194.651 1839.89 195.415 Q1837.46 196.179 1834.68 197.729 L1834.68 193.007 Q1837.5 191.873 1839.96 191.294 Q1842.41 190.716 1844.45 190.716 Q1849.82 190.716 1853.01 193.401 Q1856.21 196.086 1856.21 200.577 Q1856.21 202.706 1855.4 204.628 Q1854.61 206.526 1852.5 209.118 Q1851.92 209.79 1848.82 213.007 Q1845.72 216.202 1840.07 221.965 Z\" fill=\"#000000\" fill-rule=\"evenodd\" fill-opacity=\"1\" /><path clip-path=\"url(#clip780)\" d=\"M408.523 149.595 Q407.626 149.074 406.555 148.842 Q405.513 148.582 404.24 148.582 Q399.726 148.582 397.296 151.533 Q394.894 154.456 394.894 159.953 L394.894 177.025 L389.541 177.025 L389.541 144.618 L394.894 144.618 L394.894 149.653 Q396.572 146.701 399.263 145.283 Q401.954 143.837 405.803 143.837 Q406.353 143.837 407.018 143.923 Q407.684 143.981 408.494 144.126 L408.523 149.595 Z\" fill=\"#000000\" fill-rule=\"evenodd\" fill-opacity=\"1\" /><path clip-path=\"url(#clip780)\" d=\"M438.297 150.839 Q440.293 147.251 443.071 145.544 Q445.849 143.837 449.61 143.837 Q454.674 143.837 457.423 147.396 Q460.172 150.926 460.172 157.465 L460.172 177.025 L454.819 177.025 L454.819 157.639 Q454.819 152.98 453.169 150.723 Q451.52 148.466 448.135 148.466 Q443.997 148.466 441.595 151.215 Q439.194 153.964 439.194 158.709 L439.194 177.025 L433.841 177.025 L433.841 157.639 Q433.841 152.951 432.191 150.723 Q430.542 148.466 427.099 148.466 Q423.019 148.466 420.617 151.244 Q418.216 153.993 418.216 158.709 L418.216 177.025 L412.863 177.025 L412.863 144.618 L418.216 144.618 L418.216 149.653 Q420.039 146.672 422.585 145.254 Q425.131 143.837 428.632 143.837 Q432.163 143.837 434.622 145.631 Q437.11 147.425 438.297 150.839 Z\" fill=\"#000000\" fill-rule=\"evenodd\" fill-opacity=\"1\" /><path clip-path=\"url(#clip780)\" d=\"M491.45 145.573 L491.45 150.607 Q489.193 149.45 486.763 148.871 Q484.332 148.293 481.728 148.293 Q477.764 148.293 475.768 149.508 Q473.8 150.723 473.8 153.154 Q473.8 155.006 475.218 156.076 Q476.636 157.118 480.918 158.073 L482.741 158.478 Q488.412 159.693 490.785 161.921 Q493.187 164.12 493.187 168.084 Q493.187 172.598 489.599 175.231 Q486.04 177.864 479.79 177.864 Q477.185 177.864 474.35 177.343 Q471.543 176.851 468.418 175.839 L468.418 170.341 Q471.37 171.875 474.234 172.656 Q477.099 173.408 479.905 173.408 Q483.667 173.408 485.692 172.135 Q487.718 170.833 487.718 168.489 Q487.718 166.319 486.242 165.162 Q484.795 164.004 479.847 162.934 L477.996 162.5 Q473.048 161.458 470.849 159.317 Q468.65 157.147 468.65 153.385 Q468.65 148.813 471.89 146.325 Q475.131 143.837 481.092 143.837 Q484.043 143.837 486.647 144.271 Q489.251 144.705 491.45 145.573 Z\" fill=\"#000000\" fill-rule=\"evenodd\" fill-opacity=\"1\" /><path clip-path=\"url(#clip780)\" d=\"M529.384 159.49 L529.384 162.095 L504.905 162.095 Q505.252 167.592 508.204 170.486 Q511.184 173.35 516.479 173.35 Q519.546 173.35 522.411 172.598 Q525.304 171.846 528.14 170.341 L528.14 175.376 Q525.275 176.591 522.266 177.228 Q519.257 177.864 516.161 177.864 Q508.406 177.864 503.864 173.35 Q499.35 168.836 499.35 161.14 Q499.35 153.183 503.632 148.524 Q507.943 143.837 515.235 143.837 Q521.774 143.837 525.565 148.061 Q529.384 152.257 529.384 159.49 M524.06 157.928 Q524.002 153.559 521.601 150.955 Q519.228 148.35 515.293 148.35 Q510.837 148.35 508.146 150.868 Q505.484 153.385 505.079 157.957 L524.06 157.928 Z\" fill=\"#000000\" fill-rule=\"evenodd\" fill-opacity=\"1\" /><path clip-path=\"url(#clip780)\" d=\"M557.654 150.116 L594.748 150.116 L594.748 154.977 L557.654 154.977 L557.654 150.116 M557.654 161.921 L594.748 161.921 L594.748 166.84 L557.654 166.84 L557.654 161.921 Z\" fill=\"#000000\" fill-rule=\"evenodd\" fill-opacity=\"1\" /><path clip-path=\"url(#clip780)\" d=\"M638.701 156.51 Q634.534 156.51 632.133 158.738 Q629.76 160.966 629.76 164.872 Q629.76 168.779 632.133 171.007 Q634.534 173.235 638.701 173.235 Q642.867 173.235 645.269 171.007 Q647.671 168.75 647.671 164.872 Q647.671 160.966 645.269 158.738 Q642.896 156.51 638.701 156.51 M632.856 154.022 Q629.094 153.096 626.982 150.521 Q624.899 147.945 624.899 144.242 Q624.899 139.062 628.574 136.053 Q632.277 133.044 638.701 133.044 Q645.153 133.044 648.828 136.053 Q652.503 139.062 652.503 144.242 Q652.503 147.945 650.391 150.521 Q648.307 153.096 644.575 154.022 Q648.799 155.006 651.143 157.87 Q653.516 160.735 653.516 164.872 Q653.516 171.151 649.667 174.508 Q645.848 177.864 638.701 177.864 Q631.554 177.864 627.705 174.508 Q623.886 171.151 623.886 164.872 Q623.886 160.735 626.259 157.87 Q628.631 155.006 632.856 154.022 M630.715 144.791 Q630.715 148.148 632.798 150.029 Q634.91 151.909 638.701 151.909 Q642.462 151.909 644.575 150.029 Q646.716 148.148 646.716 144.791 Q646.716 141.435 644.575 139.554 Q642.462 137.673 638.701 137.673 Q634.91 137.673 632.798 139.554 Q630.715 141.435 630.715 144.791 Z\" fill=\"#000000\" fill-rule=\"evenodd\" fill-opacity=\"1\" /><path clip-path=\"url(#clip780)\" d=\"M663.903 169.676 L670.008 169.676 L670.008 177.025 L663.903 177.025 L663.903 169.676 Z\" fill=\"#000000\" fill-rule=\"evenodd\" fill-opacity=\"1\" /><path clip-path=\"url(#clip780)\" d=\"M687.775 172.106 L708.174 172.106 L708.174 177.025 L680.743 177.025 L680.743 172.106 Q684.071 168.663 689.8 162.876 Q695.558 157.06 697.034 155.382 Q699.841 152.228 700.94 150.058 Q702.069 147.859 702.069 145.746 Q702.069 142.303 699.638 140.133 Q697.236 137.963 693.359 137.963 Q690.61 137.963 687.543 138.918 Q684.505 139.873 681.033 141.811 L681.033 135.908 Q684.563 134.491 687.63 133.767 Q690.697 133.044 693.243 133.044 Q699.956 133.044 703.949 136.4 Q707.942 139.757 707.942 145.37 Q707.942 148.032 706.93 150.434 Q705.946 152.806 703.313 156.047 Q702.589 156.886 698.712 160.908 Q694.835 164.901 687.775 172.106 Z\" fill=\"#000000\" fill-rule=\"evenodd\" fill-opacity=\"1\" /></svg>\n"
      ]
     },
     "metadata": {},
     "output_type": "display_data"
    }
   ],
   "source": [
    "#plotting graph to see predicted vs true\n",
    "compare_plt = plot(ytest, y_pr, \n",
    "st=:scatter,\n",
    "xlims=(0,80),\n",
    "ylims=(0,80),\n",
    "xlab = \"True Value (ytest)\",\n",
    "ylab = \"Predicted Value (y_pr)\",\n",
    "size = (500,500))\n",
    "\n",
    "xx = 0:80\n",
    "yy = 0:80\n",
    "\n",
    "plot!(compare_plt, xx, yy, st=:line)\n",
    "\n",
    "annotate!(15,75, text(\"rmse = $(round(rmse_SVR, sigdigits=2))\", 10))\n",
    "\n",
    "display(compare_plt)"
   ]
  },
  {
   "cell_type": "code",
   "execution_count": 10,
   "metadata": {},
   "outputs": [],
   "source": [
    "# #plotting graph to see predicted vs true\n",
    "# compare_plt = plot(ytrain, y_pr, \n",
    "# st=:scatter,\n",
    "# xlims=(0,80),\n",
    "# ylims=(0,80),\n",
    "# xlab = \"True Value (ytrain)\",\n",
    "# ylab = \"Predicted Value (y_pr)\",\n",
    "# size = (500,500))\n",
    "\n",
    "# xx = 0:80\n",
    "# yy = 0:80\n",
    "\n",
    "# plot!(compare_plt, xx, yy, st=:line)\n",
    "\n",
    "# mse_SVR = mse(y_pr, ytrain)\n",
    "# annotate!(15,75, text(\"mse = $(round(mse_SVR, sigdigits=2))\", 10))\n",
    "\n",
    "# display(compare_plt)"
   ]
  },
  {
   "cell_type": "code",
   "execution_count": 11,
   "metadata": {},
   "outputs": [],
   "source": []
  }
 ],
 "metadata": {
  "kernelspec": {
   "display_name": "Julia 1.8.0",
   "language": "julia",
   "name": "julia-1.8"
  },
  "language_info": {
   "file_extension": ".jl",
   "mimetype": "application/julia",
   "name": "julia",
   "version": "1.8.0"
  },
  "orig_nbformat": 4,
  "vscode": {
   "interpreter": {
    "hash": "46e06ca8f262f7ddcb02fc31867359a91c1b919e5e583c79cc8fb700a6e0704a"
   }
  }
 },
 "nbformat": 4,
 "nbformat_minor": 2
}
