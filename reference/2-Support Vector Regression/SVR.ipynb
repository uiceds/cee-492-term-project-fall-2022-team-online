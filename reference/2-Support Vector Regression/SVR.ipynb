{
 "cells": [
  {
   "cell_type": "code",
   "execution_count": 1,
   "metadata": {},
   "outputs": [],
   "source": [
    "#to add package, go to REPL\n",
    "#using Pkg\n",
    "#Pkg.add(\"Package Name\")\n",
    "using DataFrames\n",
    "using RDatasets\n",
    "using Statistics\n",
    "using StatsPlots\n",
    "using CSV\n",
    "using StatsBase\n",
    "using NamedArrays\n",
    "using PrettyTables\n",
    "\n",
    "using LIBSVM\n",
    "using Printf\n",
    "# using SVR\n",
    "using MLJ\n",
    "using Mads\n",
    "using Metrics\n",
    "using ScikitLearn.GridSearch: GridSearchCV\n",
    "\n",
    "using PyCall"
   ]
  },
  {
   "cell_type": "code",
   "execution_count": 2,
   "metadata": {},
   "outputs": [
    {
     "data": {
      "text/plain": [
       "PyObject <module 'sklearn.svm' from 'C:\\\\Users\\\\ASUS\\\\.julia\\\\conda\\\\3\\\\lib\\\\site-packages\\\\sklearn\\\\svm\\\\__init__.py'>"
      ]
     },
     "metadata": {},
     "output_type": "display_data"
    }
   ],
   "source": [
    "skSVR = pyimport(\"sklearn.svm\")"
   ]
  },
  {
   "cell_type": "code",
   "execution_count": 3,
   "metadata": {},
   "outputs": [
    {
     "data": {
      "text/html": [
       "<div class=\"data-frame\"><p>1,030 rows × 9 columns (omitted printing of 4 columns)</p><table class=\"data-frame\"><thead><tr><th></th><th>Cement (kg/m3)</th><th>Blast Furnace Slag (kg/m3)</th><th>Fly Ash (kg/m3)</th><th>Water (kg/m3)</th><th>Superplasticizer (kg/m3)</th></tr><tr><th></th><th title=\"Float64\">Float64</th><th title=\"Float64\">Float64</th><th title=\"Float64\">Float64</th><th title=\"Float64\">Float64</th><th title=\"Float64\">Float64</th></tr></thead><tbody><tr><th>1</th><td>540.0</td><td>0.0</td><td>0.0</td><td>162.0</td><td>2.5</td></tr><tr><th>2</th><td>540.0</td><td>0.0</td><td>0.0</td><td>162.0</td><td>2.5</td></tr><tr><th>3</th><td>332.5</td><td>142.5</td><td>0.0</td><td>228.0</td><td>0.0</td></tr><tr><th>4</th><td>332.5</td><td>142.5</td><td>0.0</td><td>228.0</td><td>0.0</td></tr><tr><th>5</th><td>198.6</td><td>132.4</td><td>0.0</td><td>192.0</td><td>0.0</td></tr><tr><th>6</th><td>266.0</td><td>114.0</td><td>0.0</td><td>228.0</td><td>0.0</td></tr><tr><th>7</th><td>380.0</td><td>95.0</td><td>0.0</td><td>228.0</td><td>0.0</td></tr><tr><th>8</th><td>380.0</td><td>95.0</td><td>0.0</td><td>228.0</td><td>0.0</td></tr><tr><th>9</th><td>266.0</td><td>114.0</td><td>0.0</td><td>228.0</td><td>0.0</td></tr><tr><th>10</th><td>475.0</td><td>0.0</td><td>0.0</td><td>228.0</td><td>0.0</td></tr><tr><th>11</th><td>198.6</td><td>132.4</td><td>0.0</td><td>192.0</td><td>0.0</td></tr><tr><th>12</th><td>198.6</td><td>132.4</td><td>0.0</td><td>192.0</td><td>0.0</td></tr><tr><th>13</th><td>427.5</td><td>47.5</td><td>0.0</td><td>228.0</td><td>0.0</td></tr><tr><th>14</th><td>190.0</td><td>190.0</td><td>0.0</td><td>228.0</td><td>0.0</td></tr><tr><th>15</th><td>304.0</td><td>76.0</td><td>0.0</td><td>228.0</td><td>0.0</td></tr><tr><th>16</th><td>380.0</td><td>0.0</td><td>0.0</td><td>228.0</td><td>0.0</td></tr><tr><th>17</th><td>139.6</td><td>209.4</td><td>0.0</td><td>192.0</td><td>0.0</td></tr><tr><th>18</th><td>342.0</td><td>38.0</td><td>0.0</td><td>228.0</td><td>0.0</td></tr><tr><th>19</th><td>380.0</td><td>95.0</td><td>0.0</td><td>228.0</td><td>0.0</td></tr><tr><th>20</th><td>475.0</td><td>0.0</td><td>0.0</td><td>228.0</td><td>0.0</td></tr><tr><th>21</th><td>427.5</td><td>47.5</td><td>0.0</td><td>228.0</td><td>0.0</td></tr><tr><th>22</th><td>139.6</td><td>209.4</td><td>0.0</td><td>192.0</td><td>0.0</td></tr><tr><th>23</th><td>139.6</td><td>209.4</td><td>0.0</td><td>192.0</td><td>0.0</td></tr><tr><th>24</th><td>139.6</td><td>209.4</td><td>0.0</td><td>192.0</td><td>0.0</td></tr><tr><th>&vellip;</th><td>&vellip;</td><td>&vellip;</td><td>&vellip;</td><td>&vellip;</td><td>&vellip;</td></tr></tbody></table></div>"
      ],
      "text/latex": [
       "\\begin{tabular}{r|cccccc}\n",
       "\t& Cement (kg/m3) & Blast Furnace Slag (kg/m3) & Fly Ash (kg/m3) & Water (kg/m3) & Superplasticizer (kg/m3) & \\\\\n",
       "\t\\hline\n",
       "\t& Float64 & Float64 & Float64 & Float64 & Float64 & \\\\\n",
       "\t\\hline\n",
       "\t1 & 540.0 & 0.0 & 0.0 & 162.0 & 2.5 & $\\dots$ \\\\\n",
       "\t2 & 540.0 & 0.0 & 0.0 & 162.0 & 2.5 & $\\dots$ \\\\\n",
       "\t3 & 332.5 & 142.5 & 0.0 & 228.0 & 0.0 & $\\dots$ \\\\\n",
       "\t4 & 332.5 & 142.5 & 0.0 & 228.0 & 0.0 & $\\dots$ \\\\\n",
       "\t5 & 198.6 & 132.4 & 0.0 & 192.0 & 0.0 & $\\dots$ \\\\\n",
       "\t6 & 266.0 & 114.0 & 0.0 & 228.0 & 0.0 & $\\dots$ \\\\\n",
       "\t7 & 380.0 & 95.0 & 0.0 & 228.0 & 0.0 & $\\dots$ \\\\\n",
       "\t8 & 380.0 & 95.0 & 0.0 & 228.0 & 0.0 & $\\dots$ \\\\\n",
       "\t9 & 266.0 & 114.0 & 0.0 & 228.0 & 0.0 & $\\dots$ \\\\\n",
       "\t10 & 475.0 & 0.0 & 0.0 & 228.0 & 0.0 & $\\dots$ \\\\\n",
       "\t11 & 198.6 & 132.4 & 0.0 & 192.0 & 0.0 & $\\dots$ \\\\\n",
       "\t12 & 198.6 & 132.4 & 0.0 & 192.0 & 0.0 & $\\dots$ \\\\\n",
       "\t13 & 427.5 & 47.5 & 0.0 & 228.0 & 0.0 & $\\dots$ \\\\\n",
       "\t14 & 190.0 & 190.0 & 0.0 & 228.0 & 0.0 & $\\dots$ \\\\\n",
       "\t15 & 304.0 & 76.0 & 0.0 & 228.0 & 0.0 & $\\dots$ \\\\\n",
       "\t16 & 380.0 & 0.0 & 0.0 & 228.0 & 0.0 & $\\dots$ \\\\\n",
       "\t17 & 139.6 & 209.4 & 0.0 & 192.0 & 0.0 & $\\dots$ \\\\\n",
       "\t18 & 342.0 & 38.0 & 0.0 & 228.0 & 0.0 & $\\dots$ \\\\\n",
       "\t19 & 380.0 & 95.0 & 0.0 & 228.0 & 0.0 & $\\dots$ \\\\\n",
       "\t20 & 475.0 & 0.0 & 0.0 & 228.0 & 0.0 & $\\dots$ \\\\\n",
       "\t21 & 427.5 & 47.5 & 0.0 & 228.0 & 0.0 & $\\dots$ \\\\\n",
       "\t22 & 139.6 & 209.4 & 0.0 & 192.0 & 0.0 & $\\dots$ \\\\\n",
       "\t23 & 139.6 & 209.4 & 0.0 & 192.0 & 0.0 & $\\dots$ \\\\\n",
       "\t24 & 139.6 & 209.4 & 0.0 & 192.0 & 0.0 & $\\dots$ \\\\\n",
       "\t$\\dots$ & $\\dots$ & $\\dots$ & $\\dots$ & $\\dots$ & $\\dots$ &  \\\\\n",
       "\\end{tabular}\n"
      ],
      "text/plain": [
       "\u001b[1m1030×9 DataFrame\u001b[0m\n",
       "\u001b[1m  Row \u001b[0m│\u001b[1m Cement (kg/m3) \u001b[0m\u001b[1m Blast Furnace Slag (kg/m3) \u001b[0m\u001b[1m Fly Ash (kg/m3) \u001b[0m\u001b[1m Water (kg\u001b[0m ⋯\n",
       "\u001b[1m      \u001b[0m│\u001b[90m Float64        \u001b[0m\u001b[90m Float64                    \u001b[0m\u001b[90m Float64         \u001b[0m\u001b[90m Float64  \u001b[0m ⋯\n",
       "──────┼─────────────────────────────────────────────────────────────────────────\n",
       "    1 │          540.0                         0.0              0.0          1 ⋯\n",
       "    2 │          540.0                         0.0              0.0          1\n",
       "    3 │          332.5                       142.5              0.0          2\n",
       "    4 │          332.5                       142.5              0.0          2\n",
       "    5 │          198.6                       132.4              0.0          1 ⋯\n",
       "    6 │          266.0                       114.0              0.0          2\n",
       "    7 │          380.0                        95.0              0.0          2\n",
       "    8 │          380.0                        95.0              0.0          2\n",
       "  ⋮   │       ⋮                     ⋮                      ⋮               ⋮   ⋱\n",
       " 1024 │          159.8                       250.0              0.0          1 ⋯\n",
       " 1025 │          166.0                       259.7              0.0          1\n",
       " 1026 │          276.4                       116.0             90.3          1\n",
       " 1027 │          322.2                         0.0            115.6          1\n",
       " 1028 │          148.5                       139.4            108.6          1 ⋯\n",
       " 1029 │          159.1                       186.7              0.0          1\n",
       " 1030 │          260.9                       100.5             78.3          2\n",
       "\u001b[36m                                                 6 columns and 1015 rows omitted\u001b[0m"
      ]
     },
     "metadata": {},
     "output_type": "display_data"
    }
   ],
   "source": [
    "df = CSV.read(joinpath(dirname(pwd()), \"Concrete_Data.csv\"), DataFrame)"
   ]
  },
  {
   "cell_type": "code",
   "execution_count": 4,
   "metadata": {},
   "outputs": [],
   "source": [
    "#splitting into 70% training, 15% test, 15% validation\n",
    "\n",
    "dfm = Matrix(df)\n",
    "# dfms = dfm[shuffle(1:end), :]\n",
    "dfms = dfm\n",
    "\n",
    "x = dfms[:, 1:8]\n",
    "y = dfms[:, 9]\n",
    "\n",
    "data_split = [0.7, 0.15, 0.15]\n",
    "split_cs2 = Int.(round.(cumsum(data_split)*length(y)))\n",
    "split_cs1 = vcat(1, split_cs2[1:(end-1)].+1)\n",
    "\n",
    "xtrain = x[split_cs1[1]:split_cs2[1], :]\n",
    "ytrain = y[split_cs1[1]:split_cs2[1]]\n",
    "\n",
    "xtest = x[split_cs1[2]:split_cs2[2], :]\n",
    "ytest = y[split_cs1[2]:split_cs2[2]]\n",
    "\n",
    "xval = x[split_cs1[3]:split_cs2[3], :]\n",
    "yval = y[split_cs1[3]:split_cs2[3]];"
   ]
  },
  {
   "cell_type": "code",
   "execution_count": 5,
   "metadata": {},
   "outputs": [],
   "source": [
    "#training the model, setting the hypermeters C, degree, gamma. Want to use gridsearch to optimise hyperparameters. Not sure what SVR.train does #how to do gradient descent for hyperparameters\n",
    "\n",
    "# pmodel = SVR.train(ytrain, permutedims(xtrain),; kernel_type=SVR.RBF, C= 10.0, degree = 1 , gamma = 0.00003)\n",
    "\n",
    "# y_pr = SVR.predict(pmodel, permutedims(xtest))\n",
    "# mse_SVR = mse(y_pr, ytest)"
   ]
  },
  {
   "cell_type": "code",
   "execution_count": 6,
   "metadata": {},
   "outputs": [
    {
     "ename": "UndefVarError",
     "evalue": "UndefVarError: ScikitLearn not defined",
     "output_type": "error",
     "traceback": [
      "UndefVarError: ScikitLearn not defined\n",
      "\n",
      "Stacktrace:\n",
      " [1] top-level scope\n",
      "   @ c:\\Users\\ASUS\\github-classroom\\uiceds\\cee-492-term-project-fall-2022-team-online\\reference\\2-Support Vector Regression\\SVR.ipynb:6"
     ]
    }
   ],
   "source": [
    "param_grid = Dict(:C => 100:100:1000,\n",
    "                :gamma => :0.0000001:0000001:0.000001,\n",
    "                :degree => 0.1:0.1:1)\n",
    "\n",
    "grid = GridSearchCV(skSVR.SVR(), param_grid, refit = true, verbose = 3)\n",
    "ScikitLearn.fit!(grid ,xtrain, ytrain)"
   ]
  },
  {
   "cell_type": "code",
   "execution_count": 7,
   "metadata": {},
   "outputs": [
    {
     "name": "stdout",
     "output_type": "stream",
     "text": [
      "Best hyper-parameters: nothing\n"
     ]
    }
   ],
   "source": [
    "println(\"Best hyper-parameters: $(grid.best_params_)\")"
   ]
  },
  {
   "cell_type": "code",
   "execution_count": 8,
   "metadata": {},
   "outputs": [
    {
     "ename": "UndefVarError",
     "evalue": "UndefVarError: ScikitLearn not defined",
     "output_type": "error",
     "traceback": [
      "UndefVarError: ScikitLearn not defined\n",
      "\n",
      "Stacktrace:\n",
      " [1] top-level scope\n",
      "   @ c:\\Users\\ASUS\\github-classroom\\uiceds\\cee-492-term-project-fall-2022-team-online\\reference\\2-Support Vector Regression\\SVR.ipynb:1"
     ]
    }
   ],
   "source": [
    "regressor = ScikitLearn.fit!(skSVR.SVR(C=1000.0, gamma=1.0e-7, degree =0.1),xtrain,ytrain)\n",
    "y_pr = ScikitLearn.predict(regressor,xtest)\n",
    "mse_SVR = mse(y_pr, ytest)\n",
    "\n",
    "# C=50.0, gamma=0.000003, degree =1"
   ]
  },
  {
   "cell_type": "code",
   "execution_count": 9,
   "metadata": {},
   "outputs": [
    {
     "ename": "UndefVarError",
     "evalue": "UndefVarError: y_pr not defined",
     "output_type": "error",
     "traceback": [
      "UndefVarError: y_pr not defined\n",
      "\n",
      "Stacktrace:\n",
      " [1] top-level scope\n",
      "   @ c:\\Users\\ASUS\\github-classroom\\uiceds\\cee-492-term-project-fall-2022-team-online\\reference\\2-Support Vector Regression\\SVR.ipynb:2"
     ]
    }
   ],
   "source": [
    "#plotting graph to see predicted vs true\n",
    "compare_plt = plot(ytest, y_pr, \n",
    "st=:scatter,\n",
    "xlims=(0,80),\n",
    "ylims=(0,80),\n",
    "xlab = \"True Value (ytest)\",\n",
    "ylab = \"Predicted Value (y_pr)\",\n",
    "size = (500,500))\n",
    "\n",
    "xx = 0:80\n",
    "yy = 0:80\n",
    "\n",
    "plot!(compare_plt, xx, yy, st=:line)\n",
    "\n",
    "mse_SVR = mse(y_pr, ytest)\n",
    "annotate!(15,75, text(\"mse = $(round(mse_SVR, sigdigits=2))\", 10))\n",
    "\n",
    "display(compare_plt)"
   ]
  },
  {
   "cell_type": "code",
   "execution_count": 10,
   "metadata": {},
   "outputs": [],
   "source": []
  }
 ],
 "metadata": {
  "kernelspec": {
   "display_name": "Julia 1.8.0",
   "language": "julia",
   "name": "julia-1.8"
  },
  "language_info": {
   "file_extension": ".jl",
   "mimetype": "application/julia",
   "name": "julia",
   "version": "1.8.0"
  },
  "orig_nbformat": 4
 },
 "nbformat": 4,
 "nbformat_minor": 2
}
