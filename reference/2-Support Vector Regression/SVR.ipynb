{
 "cells": [
  {
   "cell_type": "code",
   "execution_count": 62,
   "metadata": {},
   "outputs": [
    {
     "name": "stdout",
     "output_type": "stream",
     "text": [
      "\u001b[1mMads: Model Analysis & Decision Support\u001b[0m\n",
      "====\n",
      "\n",
      "\u001b[1m\u001b[34m    ___      ____    \u001b[1m\u001b[31m        ____   \u001b[1m\u001b[32m ____         \u001b[1m\u001b[35m     ______\u001b[0m\n",
      "\u001b[1m\u001b[34m   /   \\    /    \\  \u001b[1m\u001b[31m        /    | \u001b[1m\u001b[32m |    \\     \u001b[1m\u001b[35m       /  __  \\\u001b[0m\n",
      "\u001b[1m\u001b[34m  |     \\  /     |   \u001b[1m\u001b[31m      /     |  \u001b[1m\u001b[32m|     \\     \u001b[1m\u001b[35m     /  /  \\__\\\u001b[0m\n",
      "\u001b[1m\u001b[34m  |  |\\  \\/  /|  | \u001b[1m\u001b[31m       /      | \u001b[1m\u001b[32m |      \\   \u001b[1m\u001b[35m     |  |\u001b[0m\n",
      "\u001b[1m\u001b[34m  |  | \\    / |  |  \u001b[1m\u001b[31m     /  /|   | \u001b[1m\u001b[32m |   |\\  \\   \u001b[1m\u001b[35m     \\  \\______.\u001b[0m\n",
      "\u001b[1m\u001b[34m  |  |  \\__/  |  |  \u001b[1m\u001b[31m    /  / |   | \u001b[1m\u001b[32m |   | \\  \\  \u001b[1m\u001b[35m      \\_______  \\\u001b[0m\n",
      "\u001b[1m\u001b[34m  |  |        |  | \u001b[1m\u001b[31m    /  /  |   | \u001b[1m\u001b[32m |   |  \\  \\  \u001b[1m\u001b[35m             \\  \\\u001b[0m\n",
      "\u001b[1m\u001b[34m  |  |        |  |  \u001b[1m\u001b[31m  /  /===|   | \u001b[1m\u001b[32m |   |___\\  \\ \u001b[1m\u001b[35m   __.        |  |\u001b[0m\n",
      "\u001b[1m\u001b[34m  |  |        |  | \u001b[1m\u001b[31m  /  /    |   | \u001b[1m\u001b[32m |           \\  \u001b[1m\u001b[35m \\  \\______/  /\u001b[0m\n",
      "\u001b[1m\u001b[34m  |__|        |__| \u001b[1m\u001b[31m /__/     |___| \u001b[1m\u001b[32m |____________\\ \u001b[1m\u001b[35m  \\__________/\u001b[0m\n",
      "\n",
      "\u001b[1mMADS\u001b[0m is an integrated high-performance computational framework for data- and model-based analyses.\n",
      "\u001b[1mMADS\u001b[0m can perform: Sensitivity Analysis, Parameter Estimation, Model Inversion and Calibration, Uncertainty Quantification, Model Selection and Model Averaging, Model Reduction and Surrogate Modeling, Machine Learning, Decision Analysis and Support.\n"
     ]
    },
    {
     "name": "stderr",
     "output_type": "stream",
     "text": [
      "\u001b[32m\u001b[1m    Updating\u001b[22m\u001b[39m registry at `C:\\Users\\ASUS\\.julia\\registries\\General.toml`\n",
      "\u001b[32m\u001b[1m   Resolving\u001b[22m\u001b[39m package versions...\n"
     ]
    },
    {
     "name": "stderr",
     "output_type": "stream",
     "text": [
      "\u001b[32m\u001b[1m   Installed\u001b[22m\u001b[39m Plots ─ v1.36.0\n"
     ]
    },
    {
     "name": "stderr",
     "output_type": "stream",
     "text": [
      "\u001b[32m\u001b[1m    Updating\u001b[22m\u001b[39m `C:\\Users\\ASUS\\OneDrive - University of Illinois - Urbana\\A UIUC-Academics\\492 Data Science for CEE\\CEE 498 Data Science for CEE\\Exam 2\\Project.toml`\n",
      " \u001b[90m [c91e804a] \u001b[39m\u001b[92m+ Gadfly v1.3.4\u001b[39m\n",
      "\u001b[32m\u001b[1m    Updating\u001b[22m\u001b[39m `C:\\Users\\ASUS\\OneDrive - University of Illinois - Urbana\\A UIUC-Academics\\492 Data Science for CEE\\CEE 498 Data Science for CEE\\Exam 2\\Manifest.toml`\n"
     ]
    },
    {
     "name": "stderr",
     "output_type": "stream",
     "text": [
      " \u001b[90m [7d9fca2a] \u001b[39m\u001b[93m↑ Arpack v0.5.3 ⇒ v0.5.4\u001b[39m\n",
      " \u001b[90m [324d7699] \u001b[39m\u001b[92m+ CategoricalArrays v0.10.7\u001b[39m\n",
      " \u001b[90m [a81c6b42] \u001b[39m\u001b[92m+ Compose v0.9.4\u001b[39m\n",
      "\u001b[33m⌅\u001b[39m\u001b[90m [d38c429a] \u001b[39m\u001b[95m↓ Contour v0.6.2 ⇒ v0.5.7\u001b[39m\n",
      " \u001b[90m [7ad07ef1] \u001b[39m\u001b[92m+ CoupledFields v0.2.0\u001b[39m\n",
      " \u001b[90m [9a962f9c] \u001b[39m\u001b[93m↑ DataAPI v1.11.0 ⇒ v1.12.0\u001b[39m\n",
      " \u001b[90m [31c24e10] \u001b[39m\u001b[93m↑ Distributions v0.25.76 ⇒ v0.25.77\u001b[39m\n",
      "\u001b[33m⌅\u001b[39m\u001b[90m [ffbed154] \u001b[39m\u001b[95m↓ DocStringExtensions v0.9.1 ⇒ v0.8.6\u001b[39m\n",
      " \u001b[90m [55351af7] \u001b[39m\u001b[93m↑ ExproniconLite v0.7.0 ⇒ v0.7.6\u001b[39m\n",
      " \u001b[90m [1a297f60] \u001b[39m\u001b[93m↑ FillArrays v0.13.4 ⇒ v0.13.5\u001b[39m\n",
      " \u001b[90m [c91e804a] \u001b[39m\u001b[92m+ Gadfly v1.3.4\u001b[39m\n",
      " \u001b[90m [cd3eb016] \u001b[39m\u001b[93m↑ HTTP v1.4.0 ⇒ v1.5.2\u001b[39m\n",
      " \u001b[90m [a1b4810d] \u001b[39m\u001b[92m+ Hexagons v0.2.0\u001b[39m\n",
      " \u001b[90m [9b13fd28] \u001b[39m\u001b[92m+ IndirectArrays v1.0.0\u001b[39m\n",
      " \u001b[90m [842dd82b] \u001b[39m\u001b[93m↑ InlineStrings v1.2.0 ⇒ v1.3.0\u001b[39m\n",
      " \u001b[90m [c8e1da08] \u001b[39m\u001b[92m+ IterTools v1.4.0\u001b[39m\n",
      " \u001b[90m [e5e0dc1b] \u001b[39m\u001b[92m+ Juno v0.8.4\u001b[39m\n",
      " \u001b[90m [4345ca2d] \u001b[39m\u001b[92m+ Loess v0.5.4\u001b[39m\n",
      " \u001b[90m [739be429] \u001b[39m\u001b[93m↑ MbedTLS v1.1.6 ⇒ v1.1.7\u001b[39m\n",
      " \u001b[90m [e89f7d12] \u001b[39m\u001b[92m+ Media v0.5.0\u001b[39m\n",
      " \u001b[90m [510215fc] \u001b[39m\u001b[93m↑ Observables v0.5.2 ⇒ v0.5.4\u001b[39m\n",
      " \u001b[90m [4d8831e6] \u001b[39m\u001b[93m↑ OpenSSL v1.1.3 ⇒ v1.3.1\u001b[39m\n",
      " \u001b[90m [69de0a69] \u001b[39m\u001b[93m↑ Parsers v2.4.1 ⇒ v2.5.0\u001b[39m\n",
      " \u001b[90m [91a5bcdd] \u001b[39m\u001b[93m↑ Plots v1.35.3 ⇒ v1.36.0\u001b[39m\n",
      " \u001b[90m [1fd47b50] \u001b[39m\u001b[93m↑ QuadGK v2.5.0 ⇒ v2.6.0\u001b[39m\n",
      " \u001b[90m [3cdcf5f2] \u001b[39m\u001b[93m↑ RecipesBase v1.3.0 ⇒ v1.3.1\u001b[39m\n",
      " \u001b[90m [01d81517] \u001b[39m\u001b[93m↑ RecipesPipeline v0.6.7 ⇒ v0.6.10\u001b[39m\n",
      " \u001b[90m [bd369af6] \u001b[39m\u001b[93m↑ Tables v1.9.0 ⇒ v1.10.0\u001b[39m\n",
      " \u001b[90m [856f044c] \u001b[39m\u001b[93m↑ MKL_jll v2022.1.0+0 ⇒ v2022.2.0+0\u001b[39m\n",
      " \u001b[90m [458c3c95] \u001b[39m\u001b[93m↑ OpenSSL_jll v1.1.17+0 ⇒ v1.1.19+0\u001b[39m\n",
      " \u001b[90m [9abbd945] \u001b[39m\u001b[92m+ Profile\u001b[39m\n",
      "\u001b[36m\u001b[1m        Info\u001b[22m\u001b[39m Packages marked with \u001b[33m⌅\u001b[39m have new versions available but cannot be upgraded. To see why use `status --outdated -m`\n"
     ]
    },
    {
     "name": "stderr",
     "output_type": "stream",
     "text": [
      "\u001b[32m\u001b[1m   Resolving\u001b[22m\u001b[39m package versions...\n"
     ]
    },
    {
     "name": "stderr",
     "output_type": "stream",
     "text": [
      "\u001b[32m\u001b[1m    Updating\u001b[22m\u001b[39m `C:\\Users\\ASUS\\OneDrive - University of Illinois - Urbana\\A UIUC-Academics\\492 Data Science for CEE\\CEE 498 Data Science for CEE\\Exam 2\\Project.toml`\n",
      " \u001b[90m [438e738f] \u001b[39m\u001b[92m+ PyCall v1.94.1\u001b[39m\n",
      "\u001b[32m\u001b[1m    Updating\u001b[22m\u001b[39m `C:\\Users\\ASUS\\OneDrive - University of Illinois - Urbana\\A UIUC-Academics\\492 Data Science for CEE\\CEE 498 Data Science for CEE\\Exam 2\\Manifest.toml`\n"
     ]
    },
    {
     "name": "stderr",
     "output_type": "stream",
     "text": [
      " \u001b[90m [8f4d0f93] \u001b[39m\u001b[92m+ Conda v1.7.0\u001b[39m\n",
      " \u001b[90m [438e738f] \u001b[39m\u001b[92m+ PyCall v1.94.1\u001b[39m\n",
      " \u001b[90m [81def892] \u001b[39m\u001b[92m+ VersionParsing v1.3.0\u001b[39m\n"
     ]
    },
    {
     "name": "stderr",
     "output_type": "stream",
     "text": [
      "\u001b[32m\u001b[1m   Resolving\u001b[22m\u001b[39m package versions...\n"
     ]
    },
    {
     "name": "stderr",
     "output_type": "stream",
     "text": [
      "\u001b[32m\u001b[1m    Updating\u001b[22m\u001b[39m `C:\\Users\\ASUS\\OneDrive - University of Illinois - Urbana\\A UIUC-Academics\\492 Data Science for CEE\\CEE 498 Data Science for CEE\\Exam 2\\Project.toml`\n",
      " \u001b[90m [d330b81b] \u001b[39m\u001b[92m+ PyPlot v2.11.0\u001b[39m\n",
      "\u001b[32m\u001b[1m    Updating\u001b[22m\u001b[39m `C:\\Users\\ASUS\\OneDrive - University of Illinois - Urbana\\A UIUC-Academics\\492 Data Science for CEE\\CEE 498 Data Science for CEE\\Exam 2\\Manifest.toml`\n"
     ]
    },
    {
     "name": "stderr",
     "output_type": "stream",
     "text": [
      " \u001b[90m [d330b81b] \u001b[39m\u001b[92m+ PyPlot v2.11.0\u001b[39m\n"
     ]
    },
    {
     "name": "stderr",
     "output_type": "stream",
     "text": [
      "\u001b[32m\u001b[1m   Resolving\u001b[22m\u001b[39m package versions...\n"
     ]
    },
    {
     "name": "stderr",
     "output_type": "stream",
     "text": [
      "\u001b[32m\u001b[1m    Updating\u001b[22m\u001b[39m `C:\\Users\\ASUS\\OneDrive - University of Illinois - Urbana\\A UIUC-Academics\\492 Data Science for CEE\\CEE 498 Data Science for CEE\\Exam 2\\Project.toml`\n",
      " \u001b[90m [a81c6b42] \u001b[39m\u001b[92m+ Compose v0.9.4\u001b[39m\n",
      "\u001b[32m\u001b[1m  No Changes\u001b[22m\u001b[39m to `C:\\Users\\ASUS\\OneDrive - University of Illinois - Urbana\\A UIUC-Academics\\492 Data Science for CEE\\CEE 498 Data Science for CEE\\Exam 2\\Manifest.toml`\n"
     ]
    },
    {
     "name": "stderr",
     "output_type": "stream",
     "text": [
      "\u001b[32m\u001b[1m   Resolving\u001b[22m\u001b[39m package versions...\n"
     ]
    },
    {
     "name": "stderr",
     "output_type": "stream",
     "text": [
      "\u001b[32m\u001b[1m    Updating\u001b[22m\u001b[39m `C:\\Users\\ASUS\\OneDrive - University of Illinois - Urbana\\A UIUC-Academics\\492 Data Science for CEE\\CEE 498 Data Science for CEE\\Exam 2\\Project.toml`\n",
      " \u001b[90m [916415d5] \u001b[39m\u001b[92m+ Images v0.25.2\u001b[39m\n",
      "\u001b[32m\u001b[1m    Updating\u001b[22m\u001b[39m `C:\\Users\\ASUS\\OneDrive - University of Illinois - Urbana\\A UIUC-Academics\\492 Data Science for CEE\\CEE 498 Data Science for CEE\\Exam 2\\Manifest.toml`\n"
     ]
    },
    {
     "name": "stderr",
     "output_type": "stream",
     "text": [
      " \u001b[90m [ec485272] \u001b[39m\u001b[92m+ ArnoldiMethod v0.2.0\u001b[39m\n",
      " \u001b[90m [39de3d68] \u001b[39m\u001b[92m+ AxisArrays v0.4.6\u001b[39m\n",
      " \u001b[90m [fa961155] \u001b[39m\u001b[92m+ CEnum v0.4.2\u001b[39m\n",
      " \u001b[90m [aafaddc9] \u001b[39m\u001b[92m+ CatIndices v0.2.2\u001b[39m\n",
      " \u001b[90m [ed09eef8] \u001b[39m\u001b[92m+ ComputationalResources v0.3.2\u001b[39m\n",
      " \u001b[90m [150eb455] \u001b[39m\u001b[92m+ CoordinateTransformations v0.6.2\u001b[39m\n",
      " \u001b[90m [dc8bdbbb] \u001b[39m\u001b[92m+ CustomUnitRanges v1.0.2\u001b[39m\n",
      " \u001b[90m [4f61f5a4] \u001b[39m\u001b[92m+ FFTViews v0.3.2\u001b[39m\n",
      " \u001b[90m [5789e2e9] \u001b[39m\u001b[92m+ FileIO v1.16.0\u001b[39m\n",
      " \u001b[90m [a2bd30eb] \u001b[39m\u001b[92m+ Graphics v1.1.2\u001b[39m\n",
      " \u001b[90m [86223c79] \u001b[39m\u001b[92m+ Graphs v1.7.4\u001b[39m\n",
      " \u001b[90m [2803e5a7] \u001b[39m\u001b[92m+ ImageAxes v0.6.10\u001b[39m\n",
      " \u001b[90m [c817782e] \u001b[39m\u001b[92m+ ImageBase v0.1.5\u001b[39m\n",
      " \u001b[90m [f332f351] \u001b[39m\u001b[92m+ ImageContrastAdjustment v0.3.10\u001b[39m\n",
      " \u001b[90m [a09fc81d] \u001b[39m\u001b[92m+ ImageCore v0.9.4\u001b[39m\n",
      " \u001b[90m [51556ac3] \u001b[39m\u001b[92m+ ImageDistances v0.2.16\u001b[39m\n",
      " \u001b[90m [6a3955dd] \u001b[39m\u001b[92m+ ImageFiltering v0.7.2\u001b[39m\n",
      " \u001b[90m [82e4d734] \u001b[39m\u001b[92m+ ImageIO v0.6.6\u001b[39m\n",
      "\u001b[32m⌃\u001b[39m\u001b[90m [6218d12a] \u001b[39m\u001b[92m+ ImageMagick v1.2.1\u001b[39m\n",
      " \u001b[90m [bc367c6b] \u001b[39m\u001b[92m+ ImageMetadata v0.9.8\u001b[39m\n",
      "\u001b[33m⌅\u001b[39m\u001b[90m [787d08f9] \u001b[39m\u001b[92m+ ImageMorphology v0.3.2\u001b[39m\n",
      " \u001b[90m [2996bd0c] \u001b[39m\u001b[92m+ ImageQualityIndexes v0.3.3\u001b[39m\n",
      " \u001b[90m [80713f31] \u001b[39m\u001b[92m+ ImageSegmentation v1.7.0\u001b[39m\n",
      " \u001b[90m [4e3cecfd] \u001b[39m\u001b[92m+ ImageShow v0.3.6\u001b[39m\n",
      " \u001b[90m [02fcd773] \u001b[39m\u001b[92m+ ImageTransformations v0.9.5\u001b[39m\n",
      " \u001b[90m [916415d5] \u001b[39m\u001b[92m+ Images v0.25.2\u001b[39m\n",
      " \u001b[90m [d25df0c9] \u001b[39m\u001b[92m+ Inflate v0.1.3\u001b[39m\n",
      " \u001b[90m [1d092043] \u001b[39m\u001b[92m+ IntegralArrays v0.1.5\u001b[39m\n",
      " \u001b[90m [8197267c] \u001b[39m\u001b[92m+ IntervalSets v0.7.3\u001b[39m\n",
      " \u001b[90m [033835bb] \u001b[39m\u001b[92m+ JLD2 v0.4.26\u001b[39m\n",
      " \u001b[90m [b835a17e] \u001b[39m\u001b[92m+ JpegTurbo v0.1.1\u001b[39m\n",
      " \u001b[90m [8cdb02fc] \u001b[39m\u001b[92m+ LazyModules v0.3.1\u001b[39m\n",
      " \u001b[90m [dbb5928d] \u001b[39m\u001b[92m+ MappedArrays v0.4.1\u001b[39m\n",
      " \u001b[90m [626554b9] \u001b[39m\u001b[92m+ MetaGraphs v0.7.1\u001b[39m\n",
      " \u001b[90m [e94cdb99] \u001b[39m\u001b[92m+ MosaicViews v0.3.3\u001b[39m\n",
      " \u001b[90m [f09324ee] \u001b[39m\u001b[92m+ Netpbm v1.0.2\u001b[39m\n",
      " \u001b[90m [52e1d378] \u001b[39m\u001b[92m+ OpenEXR v0.3.2\u001b[39m\n",
      " \u001b[90m [f57f5aa1] \u001b[39m\u001b[92m+ PNGFiles v0.3.17\u001b[39m\n",
      " \u001b[90m [5432bcbf] \u001b[39m\u001b[92m+ PaddedViews v0.5.11\u001b[39m\n",
      " \u001b[90m [d96e819e] \u001b[39m\u001b[92m+ Parameters v0.12.3\u001b[39m\n",
      " \u001b[90m [eebad327] \u001b[39m\u001b[92m+ PkgVersion v0.3.2\u001b[39m\n",
      " \u001b[90m [92933f4c] \u001b[39m\u001b[92m+ ProgressMeter v1.7.2\u001b[39m\n",
      " \u001b[90m [4b34888f] \u001b[39m\u001b[92m+ QOI v1.0.0\u001b[39m\n",
      " \u001b[90m [94ee1d12] \u001b[39m\u001b[92m+ Quaternions v0.6.1\u001b[39m\n",
      " \u001b[90m [b3c3ace0] \u001b[39m\u001b[92m+ RangeArrays v0.3.2\u001b[39m\n",
      " \u001b[90m [dee08c22] \u001b[39m\u001b[92m+ RegionTrees v0.3.2\u001b[39m\n",
      " \u001b[90m [6038ab10] \u001b[39m\u001b[92m+ Rotations v1.3.3\u001b[39m\n",
      " \u001b[90m [699a6c99] \u001b[39m\u001b[92m+ SimpleTraits v0.9.4\u001b[39m\n",
      " \u001b[90m [47aef6b3] \u001b[39m\u001b[92m+ SimpleWeightedGraphs v1.2.1\u001b[39m\n",
      " \u001b[90m [45858cf5] \u001b[39m\u001b[92m+ Sixel v0.1.2\u001b[39m\n",
      " \u001b[90m [cae243ae] \u001b[39m\u001b[92m+ StackViews v0.1.1\u001b[39m\n",
      " \u001b[90m [731e570b] \u001b[39m\u001b[92m+ TiffImages v0.6.1\u001b[39m\n",
      "\u001b[33m⌅\u001b[39m\u001b[90m [06e1c1a7] \u001b[39m\u001b[92m+ TiledIteration v0.3.1\u001b[39m\n",
      " \u001b[90m [3a884ed6] \u001b[39m\u001b[92m+ UnPack v1.0.2\u001b[39m\n",
      " \u001b[90m [61579ee1] \u001b[39m\u001b[92m+ Ghostscript_jll v9.55.0+0\u001b[39m\n",
      " \u001b[90m [c73af94c] \u001b[39m\u001b[92m+ ImageMagick_jll v6.9.12+3\u001b[39m\n",
      " \u001b[90m [905a6f67] \u001b[39m\u001b[92m+ Imath_jll v3.1.2+0\u001b[39m\n",
      " \u001b[90m [18a262bb] \u001b[39m\u001b[92m+ OpenEXR_jll v3.1.1+0\u001b[39m\n",
      " "
     ]
    },
    {
     "name": "stderr",
     "output_type": "stream",
     "text": [
      "\u001b[90m [075b6546] \u001b[39m\u001b[92m+ libsixel_jll v1.10.3+0\u001b[39m\n",
      "\u001b[36m\u001b[1m        Info\u001b[22m\u001b[39m Packages marked with \u001b[32m⌃\u001b[39m and \u001b[33m⌅\u001b[39m have new versions available, but those with \u001b[33m⌅\u001b[39m cannot be upgraded. To see why use `status --outdated -m`\n"
     ]
    },
    {
     "name": "stderr",
     "output_type": "stream",
     "text": [
      "\u001b[32m\u001b[1m   Resolving\u001b[22m\u001b[39m package versions...\n"
     ]
    },
    {
     "name": "stderr",
     "output_type": "stream",
     "text": [
      "\u001b[32m\u001b[1m    Updating\u001b[22m\u001b[39m `C:\\Users\\ASUS\\OneDrive - University of Illinois - Urbana\\A UIUC-Academics\\492 Data Science for CEE\\CEE 498 Data Science for CEE\\Exam 2\\Project.toml`\n",
      " \u001b[90m [b6b21f68] \u001b[39m\u001b[92m+ Ipopt v1.1.0\u001b[39m\n",
      "\u001b[32m\u001b[1m    Updating\u001b[22m\u001b[39m `C:\\Users\\ASUS\\OneDrive - University of Illinois - Urbana\\A UIUC-Academics\\492 Data Science for CEE\\CEE 498 Data Science for CEE\\Exam 2\\Manifest.toml`\n"
     ]
    },
    {
     "name": "stderr",
     "output_type": "stream",
     "text": [
      " \u001b[90m [6e4b80f9] \u001b[39m\u001b[92m+ BenchmarkTools v1.3.2\u001b[39m\n",
      " \u001b[90m [523fee87] \u001b[39m\u001b[92m+ CodecBzip2 v0.7.2\u001b[39m\n",
      " \u001b[90m [bbf7d656] \u001b[39m\u001b[92m+ CommonSubexpressions v0.3.0\u001b[39m\n",
      " \u001b[90m [163ba53b] \u001b[39m\u001b[92m+ DiffResults v1.1.0\u001b[39m\n",
      " \u001b[90m [b552c78f] \u001b[39m\u001b[92m+ DiffRules v1.12.0\u001b[39m\n",
      " \u001b[90m [f6369f11] \u001b[39m\u001b[92m+ ForwardDiff v0.10.32\u001b[39m\n",
      " \u001b[90m [b6b21f68] \u001b[39m\u001b[92m+ Ipopt v1.1.0\u001b[39m\n",
      " \u001b[90m [b8f27783] \u001b[39m\u001b[92m+ MathOptInterface v1.9.0\u001b[39m\n",
      " \u001b[90m [d8a4904e] \u001b[39m\u001b[92m+ MutableArithmetics v1.0.5\u001b[39m\n",
      " \u001b[90m [ae81ac8f] \u001b[39m\u001b[92m+ ASL_jll v0.1.3+0\u001b[39m\n",
      "\u001b[33m⌅\u001b[39m\u001b[90m [9cc047cb] \u001b[39m\u001b[92m+ Ipopt_jll v300.1400.400+0\u001b[39m\n",
      " \u001b[90m [d00139f3] \u001b[39m\u001b[92m+ METIS_jll v5.1.2+0\u001b[39m\n",
      "\u001b[33m⌅\u001b[39m\u001b[90m [d7ed1dd3] \u001b[39m\u001b[92m+ MUMPS_seq_jll v5.4.1+0\u001b[39m\n",
      "\u001b[33m⌅\u001b[39m\u001b[90m [656ef2d0] \u001b[39m\u001b[92m+ OpenBLAS32_jll v0.3.17+0\u001b[39m\n",
      "\u001b[36m\u001b[1m        Info\u001b[22m\u001b[39m Packages marked with \u001b[33m⌅\u001b[39m have new versions available but cannot be upgraded. To see why use `status --outdated -m`\n"
     ]
    }
   ],
   "source": [
    "#to add package, go to REPL\n",
    "#using Pkg\n",
    "#Pkg.add(\"Package Name\")\n",
    "using DataFrames\n",
    "using RDatasets\n",
    "using Statistics\n",
    "using StatsPlots\n",
    "using CSV\n",
    "using StatsBase\n",
    "using NamedArrays\n",
    "using PrettyTables\n",
    "\n",
    "using LIBSVM\n",
    "using Printf\n",
    "using SVR\n",
    "using MLJ\n",
    "using Mads"
   ]
  },
  {
   "cell_type": "code",
   "execution_count": 2,
   "metadata": {},
   "outputs": [
    {
     "data": {
      "text/html": [
       "<div class=\"data-frame\"><p>1,030 rows × 9 columns (omitted printing of 4 columns)</p><table class=\"data-frame\"><thead><tr><th></th><th>Cement (kg/m3)</th><th>Blast Furnace Slag (kg/m3)</th><th>Fly Ash (kg/m3)</th><th>Water (kg/m3)</th><th>Superplasticizer (kg/m3)</th></tr><tr><th></th><th title=\"Float64\">Float64</th><th title=\"Float64\">Float64</th><th title=\"Float64\">Float64</th><th title=\"Float64\">Float64</th><th title=\"Float64\">Float64</th></tr></thead><tbody><tr><th>1</th><td>540.0</td><td>0.0</td><td>0.0</td><td>162.0</td><td>2.5</td></tr><tr><th>2</th><td>540.0</td><td>0.0</td><td>0.0</td><td>162.0</td><td>2.5</td></tr><tr><th>3</th><td>332.5</td><td>142.5</td><td>0.0</td><td>228.0</td><td>0.0</td></tr><tr><th>4</th><td>332.5</td><td>142.5</td><td>0.0</td><td>228.0</td><td>0.0</td></tr><tr><th>5</th><td>198.6</td><td>132.4</td><td>0.0</td><td>192.0</td><td>0.0</td></tr><tr><th>6</th><td>266.0</td><td>114.0</td><td>0.0</td><td>228.0</td><td>0.0</td></tr><tr><th>7</th><td>380.0</td><td>95.0</td><td>0.0</td><td>228.0</td><td>0.0</td></tr><tr><th>8</th><td>380.0</td><td>95.0</td><td>0.0</td><td>228.0</td><td>0.0</td></tr><tr><th>9</th><td>266.0</td><td>114.0</td><td>0.0</td><td>228.0</td><td>0.0</td></tr><tr><th>10</th><td>475.0</td><td>0.0</td><td>0.0</td><td>228.0</td><td>0.0</td></tr><tr><th>11</th><td>198.6</td><td>132.4</td><td>0.0</td><td>192.0</td><td>0.0</td></tr><tr><th>12</th><td>198.6</td><td>132.4</td><td>0.0</td><td>192.0</td><td>0.0</td></tr><tr><th>13</th><td>427.5</td><td>47.5</td><td>0.0</td><td>228.0</td><td>0.0</td></tr><tr><th>14</th><td>190.0</td><td>190.0</td><td>0.0</td><td>228.0</td><td>0.0</td></tr><tr><th>15</th><td>304.0</td><td>76.0</td><td>0.0</td><td>228.0</td><td>0.0</td></tr><tr><th>16</th><td>380.0</td><td>0.0</td><td>0.0</td><td>228.0</td><td>0.0</td></tr><tr><th>17</th><td>139.6</td><td>209.4</td><td>0.0</td><td>192.0</td><td>0.0</td></tr><tr><th>18</th><td>342.0</td><td>38.0</td><td>0.0</td><td>228.0</td><td>0.0</td></tr><tr><th>19</th><td>380.0</td><td>95.0</td><td>0.0</td><td>228.0</td><td>0.0</td></tr><tr><th>20</th><td>475.0</td><td>0.0</td><td>0.0</td><td>228.0</td><td>0.0</td></tr><tr><th>21</th><td>427.5</td><td>47.5</td><td>0.0</td><td>228.0</td><td>0.0</td></tr><tr><th>22</th><td>139.6</td><td>209.4</td><td>0.0</td><td>192.0</td><td>0.0</td></tr><tr><th>23</th><td>139.6</td><td>209.4</td><td>0.0</td><td>192.0</td><td>0.0</td></tr><tr><th>24</th><td>139.6</td><td>209.4</td><td>0.0</td><td>192.0</td><td>0.0</td></tr><tr><th>&vellip;</th><td>&vellip;</td><td>&vellip;</td><td>&vellip;</td><td>&vellip;</td><td>&vellip;</td></tr></tbody></table></div>"
      ],
      "text/latex": [
       "\\begin{tabular}{r|cccccc}\n",
       "\t& Cement (kg/m3) & Blast Furnace Slag (kg/m3) & Fly Ash (kg/m3) & Water (kg/m3) & Superplasticizer (kg/m3) & \\\\\n",
       "\t\\hline\n",
       "\t& Float64 & Float64 & Float64 & Float64 & Float64 & \\\\\n",
       "\t\\hline\n",
       "\t1 & 540.0 & 0.0 & 0.0 & 162.0 & 2.5 & $\\dots$ \\\\\n",
       "\t2 & 540.0 & 0.0 & 0.0 & 162.0 & 2.5 & $\\dots$ \\\\\n",
       "\t3 & 332.5 & 142.5 & 0.0 & 228.0 & 0.0 & $\\dots$ \\\\\n",
       "\t4 & 332.5 & 142.5 & 0.0 & 228.0 & 0.0 & $\\dots$ \\\\\n",
       "\t5 & 198.6 & 132.4 & 0.0 & 192.0 & 0.0 & $\\dots$ \\\\\n",
       "\t6 & 266.0 & 114.0 & 0.0 & 228.0 & 0.0 & $\\dots$ \\\\\n",
       "\t7 & 380.0 & 95.0 & 0.0 & 228.0 & 0.0 & $\\dots$ \\\\\n",
       "\t8 & 380.0 & 95.0 & 0.0 & 228.0 & 0.0 & $\\dots$ \\\\\n",
       "\t9 & 266.0 & 114.0 & 0.0 & 228.0 & 0.0 & $\\dots$ \\\\\n",
       "\t10 & 475.0 & 0.0 & 0.0 & 228.0 & 0.0 & $\\dots$ \\\\\n",
       "\t11 & 198.6 & 132.4 & 0.0 & 192.0 & 0.0 & $\\dots$ \\\\\n",
       "\t12 & 198.6 & 132.4 & 0.0 & 192.0 & 0.0 & $\\dots$ \\\\\n",
       "\t13 & 427.5 & 47.5 & 0.0 & 228.0 & 0.0 & $\\dots$ \\\\\n",
       "\t14 & 190.0 & 190.0 & 0.0 & 228.0 & 0.0 & $\\dots$ \\\\\n",
       "\t15 & 304.0 & 76.0 & 0.0 & 228.0 & 0.0 & $\\dots$ \\\\\n",
       "\t16 & 380.0 & 0.0 & 0.0 & 228.0 & 0.0 & $\\dots$ \\\\\n",
       "\t17 & 139.6 & 209.4 & 0.0 & 192.0 & 0.0 & $\\dots$ \\\\\n",
       "\t18 & 342.0 & 38.0 & 0.0 & 228.0 & 0.0 & $\\dots$ \\\\\n",
       "\t19 & 380.0 & 95.0 & 0.0 & 228.0 & 0.0 & $\\dots$ \\\\\n",
       "\t20 & 475.0 & 0.0 & 0.0 & 228.0 & 0.0 & $\\dots$ \\\\\n",
       "\t21 & 427.5 & 47.5 & 0.0 & 228.0 & 0.0 & $\\dots$ \\\\\n",
       "\t22 & 139.6 & 209.4 & 0.0 & 192.0 & 0.0 & $\\dots$ \\\\\n",
       "\t23 & 139.6 & 209.4 & 0.0 & 192.0 & 0.0 & $\\dots$ \\\\\n",
       "\t24 & 139.6 & 209.4 & 0.0 & 192.0 & 0.0 & $\\dots$ \\\\\n",
       "\t$\\dots$ & $\\dots$ & $\\dots$ & $\\dots$ & $\\dots$ & $\\dots$ &  \\\\\n",
       "\\end{tabular}\n"
      ],
      "text/plain": [
       "\u001b[1m1030×9 DataFrame\u001b[0m\n",
       "\u001b[1m  Row \u001b[0m│\u001b[1m Cement (kg/m3) \u001b[0m\u001b[1m Blast Furnace Slag (kg/m3) \u001b[0m\u001b[1m Fly Ash (kg/m3) \u001b[0m\u001b[1m Water (kg\u001b[0m ⋯\n",
       "\u001b[1m      \u001b[0m│\u001b[90m Float64        \u001b[0m\u001b[90m Float64                    \u001b[0m\u001b[90m Float64         \u001b[0m\u001b[90m Float64  \u001b[0m ⋯\n",
       "──────┼─────────────────────────────────────────────────────────────────────────\n",
       "    1 │          540.0                         0.0              0.0          1 ⋯\n",
       "    2 │          540.0                         0.0              0.0          1\n",
       "    3 │          332.5                       142.5              0.0          2\n",
       "    4 │          332.5                       142.5              0.0          2\n",
       "    5 │          198.6                       132.4              0.0          1 ⋯\n",
       "    6 │          266.0                       114.0              0.0          2\n",
       "    7 │          380.0                        95.0              0.0          2\n",
       "    8 │          380.0                        95.0              0.0          2\n",
       "  ⋮   │       ⋮                     ⋮                      ⋮               ⋮   ⋱\n",
       " 1024 │          159.8                       250.0              0.0          1 ⋯\n",
       " 1025 │          166.0                       259.7              0.0          1\n",
       " 1026 │          276.4                       116.0             90.3          1\n",
       " 1027 │          322.2                         0.0            115.6          1\n",
       " 1028 │          148.5                       139.4            108.6          1 ⋯\n",
       " 1029 │          159.1                       186.7              0.0          1\n",
       " 1030 │          260.9                       100.5             78.3          2\n",
       "\u001b[36m                                                 6 columns and 1015 rows omitted\u001b[0m"
      ]
     },
     "metadata": {},
     "output_type": "display_data"
    }
   ],
   "source": [
    "df = CSV.read(joinpath(dirname(@__FILE__),\"Concrete_Data.csv\"), DataFrame)"
   ]
  },
  {
   "cell_type": "code",
   "execution_count": 56,
   "metadata": {},
   "outputs": [
    {
     "data": {
      "text/plain": [
       "180×1 Matrix{Float64}:\n",
       " 37.36\n",
       " 32.84\n",
       " 42.64\n",
       " 40.06\n",
       " 41.94\n",
       " 61.23\n",
       " 40.87\n",
       " 33.3\n",
       " 52.42\n",
       " 15.09\n",
       "  ⋮\n",
       " 31.88\n",
       " 41.54\n",
       " 39.46\n",
       " 37.92\n",
       " 44.28\n",
       " 31.18\n",
       " 23.7\n",
       " 32.77\n",
       " 32.4"
      ]
     },
     "metadata": {},
     "output_type": "display_data"
    }
   ],
   "source": [
    "x = Matrix(df[:, 1:8])\n",
    "y = Matrix(df[:, 9:9])\n",
    "\n",
    "xtrain = x[1:700, :]\n",
    "ytrain = y[1:700, :]\n",
    "\n",
    "xtest = x[701:850, :]\n",
    "ytest = y[701:850, :]\n",
    "\n",
    "xval = x[851:1030, :]\n",
    "yval = y[851:1030, :]"
   ]
  },
  {
   "cell_type": "code",
   "execution_count": 55,
   "metadata": {},
   "outputs": [
    {
     "data": {
      "text/plain": [
       "150×8 Matrix{Float64}:\n",
       " 133.0  200.0    0.0  192.0   0.0   927.4  839.2   3.0\n",
       " 288.0  192.0    0.0  192.0   0.0   932.0  717.8  90.0\n",
       " 200.0  133.0    0.0  192.0   0.0   965.4  806.2   7.0\n",
       " 200.0  133.0    0.0  192.0   0.0   965.4  806.2  28.0\n",
       " 250.2  166.8    0.0  203.5   0.0   977.6  694.1   3.0\n",
       " 122.6  183.9    0.0  203.5   0.0   958.2  800.1   3.0\n",
       " 153.0  102.0    0.0  192.0   0.0   888.0  943.1  90.0\n",
       " 200.0  133.0    0.0  192.0   0.0   965.4  806.2  90.0\n",
       " 116.0  173.0    0.0  192.0   0.0   909.8  891.9   3.0\n",
       " 173.0  116.0    0.0  192.0   0.0   946.8  856.8  90.0\n",
       "   ⋮                                  ⋮           \n",
       " 305.0    0.0  100.0  196.0  10.0   959.0  705.0  28.0\n",
       " 151.0    0.0  184.0  167.0  12.0   991.0  772.0  28.0\n",
       " 142.0  167.0  130.0  174.0  11.0   883.0  785.0  28.0\n",
       " 298.0  137.0  107.0  201.0   6.0   878.0  655.0  28.0\n",
       " 321.0  164.0    0.0  190.0   5.0   870.0  774.0  28.0\n",
       " 366.0  187.0    0.0  191.0   7.0   824.0  757.0  28.0\n",
       " 280.0  129.0  100.0  172.0   9.0   825.0  805.0  28.0\n",
       " 252.0   97.0   76.0  194.0   8.0   835.0  821.0  28.0\n",
       " 165.0    0.0  150.0  182.0  12.0  1023.0  729.0  28.0"
      ]
     },
     "metadata": {},
     "output_type": "display_data"
    }
   ],
   "source": [
    "xtest"
   ]
  },
  {
   "cell_type": "code",
   "execution_count": 39,
   "metadata": {},
   "outputs": [],
   "source": [
    "# xxx = SVR.fit(ytrain, permutedims(xtrain); kernel_type=SVR.RBF)"
   ]
  },
  {
   "cell_type": "code",
   "execution_count": 63,
   "metadata": {},
   "outputs": [
    {
     "data": {
      "text/plain": [
       "1-element Vector{SVR.svmmodel}:\n",
       " SVR.svmmodel(Ptr{SVR.svm_model} @0x0000000097f98360, SVR.svm_parameter(3, 2, 3, 0.0008733624454148472, 0.0, 100.0, 0.001, 1.0, 0, Ptr{Int32} @0x0000000000000000, Ptr{Float64} @0x0000000000000000, 0.1, 0.0001, 1, 0), SVR.svm_problem(700, Ptr{Float64} @0x0000000092336d80, Ptr{Ptr{SVR.svm_node}} @0x0000000092338480), SVR.svm_node[SVR.svm_node(1, 540.0) SVR.svm_node(1, 540.0) … SVR.svm_node(1, 203.5) SVR.svm_node(1, 203.5); SVR.svm_node(2, 0.0) SVR.svm_node(2, 0.0) … SVR.svm_node(2, 305.3) SVR.svm_node(2, 305.3); … ; SVR.svm_node(8, 28.0) SVR.svm_node(8, 28.0) … SVR.svm_node(8, 28.0) SVR.svm_node(8, 3.0); SVR.svm_node(-1, NaN) SVR.svm_node(-1, NaN) … SVR.svm_node(-1, NaN) SVR.svm_node(-1, NaN)])"
      ]
     },
     "metadata": {},
     "output_type": "display_data"
    }
   ],
   "source": [
    "pmodel = SVR.train(ytrain, permutedims(xtrain))"
   ]
  },
  {
   "cell_type": "code",
   "execution_count": 65,
   "metadata": {},
   "outputs": [
    {
     "ename": "MethodError",
     "evalue": "MethodError: no method matching predict(::Vector{SVR.svmmodel}, ::Matrix{Float64})\nClosest candidates are:\n  predict(!Matched::SVR.svmmodel, ::AbstractArray{Float64}) at C:\\Users\\ASUS\\.julia\\packages\\SVR\\3JGpA\\src\\SVRfunctions.jl:69\n  predict(!Matched::SVR.svmmodel, ::AbstractArray{T}) where T at C:\\Users\\ASUS\\.julia\\packages\\SVR\\3JGpA\\src\\SVRfunctions.jl:90",
     "output_type": "error",
     "traceback": [
      "MethodError: no method matching predict(::Vector{SVR.svmmodel}, ::Matrix{Float64})\n",
      "Closest candidates are:\n",
      "  predict(!Matched::SVR.svmmodel, ::AbstractArray{Float64}) at C:\\Users\\ASUS\\.julia\\packages\\SVR\\3JGpA\\src\\SVRfunctions.jl:69\n",
      "  predict(!Matched::SVR.svmmodel, ::AbstractArray{T}) where T at C:\\Users\\ASUS\\.julia\\packages\\SVR\\3JGpA\\src\\SVRfunctions.jl:90\n",
      "\n",
      "Stacktrace:\n",
      " [1] top-level scope\n",
      "   @ c:\\Users\\ASUS\\OneDrive - University of Illinois - Urbana\\A UIUC-Academics\\492 Data Science for CEE\\Github stuff\\cee-492-term-project-fall-2022-team-online\\reference\\2-Support Vector Regression\\SVR.ipynb:1"
     ]
    }
   ],
   "source": [
    "y_pr = SVR.predict(pmodel,  SVR.fit(ytrain, permutedims(xtrain); kernel_type=SVR.RBF))"
   ]
  },
  {
   "cell_type": "code",
   "execution_count": 61,
   "metadata": {},
   "outputs": [
    {
     "ename": "MethodError",
     "evalue": "MethodError: no method matching fit!(::EpsilonSVR, ::Matrix{Float64}, ::Matrix{Float64})",
     "output_type": "error",
     "traceback": [
      "MethodError: no method matching fit!(::EpsilonSVR, ::Matrix{Float64}, ::Matrix{Float64})\n",
      "\n",
      "Stacktrace:\n",
      " [1] top-level scope\n",
      "   @ c:\\Users\\ASUS\\OneDrive - University of Illinois - Urbana\\A UIUC-Academics\\492 Data Science for CEE\\Github stuff\\cee-492-term-project-fall-2022-team-online\\reference\\2-Support Vector Regression\\SVR.ipynb:1"
     ]
    }
   ],
   "source": [
    "model = MLJ.fit!(EpsilonSVR(cost = 10.0, gamma = 1.0), xtrain, ytrain)\n",
    "# y_pr = predict(model, xtest)"
   ]
  },
  {
   "cell_type": "code",
   "execution_count": null,
   "metadata": {},
   "outputs": [],
   "source": []
  }
 ],
 "metadata": {
  "kernelspec": {
   "display_name": "Julia 1.8.0",
   "language": "julia",
   "name": "julia-1.8"
  },
  "language_info": {
   "file_extension": ".jl",
   "mimetype": "application/julia",
   "name": "julia",
   "version": "1.8.0"
  },
  "orig_nbformat": 4
 },
 "nbformat": 4,
 "nbformat_minor": 2
}
