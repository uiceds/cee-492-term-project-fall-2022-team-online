{
 "cells": [
  {
   "cell_type": "code",
   "execution_count": null,
   "metadata": {},
   "outputs": [],
   "source": [
    "#to add package, go to REPL\n",
    "#using Pkg\n",
    "#Pkg.add(\"Package Name\")\n",
    "using DataFrames\n",
    "using RDatasets\n",
    "using Statistics\n",
    "using StatsPlots\n",
    "using CSV\n",
    "using StatsBase\n",
    "using NamedArrays\n",
    "using PrettyTables\n",
    "\n",
    "using LIBSVM\n",
    "using Printf\n",
    "using SVR"
   ]
  },
  {
   "cell_type": "code",
   "execution_count": null,
   "metadata": {},
   "outputs": [],
   "source": [
    "df = CSV.read(joinpath(dirname(@__FILE__),\"Concrete_Data.csv\"), DataFrame)"
   ]
  },
  {
   "cell_type": "code",
   "execution_count": null,
   "metadata": {},
   "outputs": [],
   "source": [
    "x = Matrix(df[:, 1:8])\n",
    "y = Matrix(df[:, 9:9])\n",
    "\n",
    "xtrain = x[:]"
   ]
  },
  {
   "cell_type": "code",
   "execution_count": null,
   "metadata": {},
   "outputs": [],
   "source": []
  },
  {
   "cell_type": "code",
   "execution_count": null,
   "metadata": {},
   "outputs": [],
   "source": [
    "model = SVR.train(ytrain, xtrain)"
   ]
  }
 ],
 "metadata": {
  "kernelspec": {
   "display_name": "Julia 1.8.0",
   "language": "julia",
   "name": "julia-1.8"
  },
  "language_info": {
   "file_extension": ".jl",
   "mimetype": "application/julia",
   "name": "julia",
   "version": "1.8.0"
  },
  "orig_nbformat": 4
 },
 "nbformat": 4,
 "nbformat_minor": 2
}
