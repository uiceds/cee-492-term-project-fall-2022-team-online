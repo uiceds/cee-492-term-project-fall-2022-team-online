{
 "cells": [
  {
   "cell_type": "code",
   "execution_count": 1,
   "metadata": {},
   "outputs": [
    {
     "ename": "ArgumentError",
     "evalue": "ArgumentError: Package PlutoUI not found in current path.\n- Run `import Pkg; Pkg.add(\"PlutoUI\")` to install the PlutoUI package.",
     "output_type": "error",
     "traceback": [
      "ArgumentError: Package PlutoUI not found in current path.\n",
      "- Run `import Pkg; Pkg.add(\"PlutoUI\")` to install the PlutoUI package.\n",
      "\n",
      "Stacktrace:\n",
      "  [1] macro expansion\n",
      "    @ .\\loading.jl:1163 [inlined]\n",
      "  [2] macro expansion\n",
      "    @ .\\lock.jl:223 [inlined]\n",
      "  [3] require(into::Module, mod::Symbol)\n",
      "    @ Base .\\loading.jl:1144\n",
      "  [4] eval\n",
      "    @ .\\boot.jl:368 [inlined]\n",
      "  [5] include_string(mapexpr::typeof(REPL.softscope), mod::Module, code::String, filename::String)\n",
      "    @ Base .\\loading.jl:1428\n",
      "  [6] #invokelatest#2\n",
      "    @ .\\essentials.jl:729 [inlined]\n",
      "  [7] invokelatest\n",
      "    @ .\\essentials.jl:726 [inlined]\n",
      "  [8] (::VSCodeServer.var\"#198#199\"{VSCodeServer.NotebookRunCellArguments, String})()\n",
      "    @ VSCodeServer c:\\Users\\ray_a\\.vscode\\extensions\\julialang.language-julia-1.38.2\\scripts\\packages\\VSCodeServer\\src\\serve_notebook.jl:19\n",
      "  [9] withpath(f::VSCodeServer.var\"#198#199\"{VSCodeServer.NotebookRunCellArguments, String}, path::String)\n",
      "    @ VSCodeServer c:\\Users\\ray_a\\.vscode\\extensions\\julialang.language-julia-1.38.2\\scripts\\packages\\VSCodeServer\\src\\repl.jl:249\n",
      " [10] notebook_runcell_request(conn::VSCodeServer.JSONRPC.JSONRPCEndpoint{Base.PipeEndpoint, Base.PipeEndpoint}, params::VSCodeServer.NotebookRunCellArguments)\n",
      "    @ VSCodeServer c:\\Users\\ray_a\\.vscode\\extensions\\julialang.language-julia-1.38.2\\scripts\\packages\\VSCodeServer\\src\\serve_notebook.jl:13\n",
      " [11] dispatch_msg(x::VSCodeServer.JSONRPC.JSONRPCEndpoint{Base.PipeEndpoint, Base.PipeEndpoint}, dispatcher::VSCodeServer.JSONRPC.MsgDispatcher, msg::Dict{String, Any})\n",
      "    @ VSCodeServer.JSONRPC c:\\Users\\ray_a\\.vscode\\extensions\\julialang.language-julia-1.38.2\\scripts\\packages\\JSONRPC\\src\\typed.jl:67\n",
      " [12] serve_notebook(pipename::String, outputchannel_logger::Base.CoreLogging.SimpleLogger; crashreporting_pipename::String)\n",
      "    @ VSCodeServer c:\\Users\\ray_a\\.vscode\\extensions\\julialang.language-julia-1.38.2\\scripts\\packages\\VSCodeServer\\src\\serve_notebook.jl:139\n",
      " [13] top-level scope\n",
      "    @ c:\\Users\\ray_a\\.vscode\\extensions\\julialang.language-julia-1.38.2\\scripts\\notebook\\notebook.jl:32"
     ]
    }
   ],
   "source": [
    "using PlutoUI\n",
    "using DataFrames\n",
    "using RDatasets\n",
    "using Statistics\n",
    "using StatsPlots\n",
    "using CSV\n",
    "using StatsBase\n",
    "using NamedArrays\n",
    "using PrettyTables"
   ]
  },
  {
   "cell_type": "code",
   "execution_count": 3,
   "metadata": {},
   "outputs": [
    {
     "ename": "UndefVarError",
     "evalue": "UndefVarError: CSV not defined",
     "output_type": "error",
     "traceback": [
      "UndefVarError: CSV not defined\n",
      "\n",
      "Stacktrace:\n",
      " [1] top-level scope\n",
      "   @ c:\\Users\\ray_a\\github-classroom\\uiceds\\cee-492-term-project-fall-2022-team-online\\reference\\Min Win\\MultiPlot for project.ipynb:1"
     ]
    }
   ],
   "source": [
    "df = CSV.read(joinpath(dirname(@__FILE__),\"Concrete_Data_MW.csv\"), DataFrame)"
   ]
  },
  {
   "cell_type": "code",
   "execution_count": 4,
   "metadata": {},
   "outputs": [
    {
     "ename": "UndefVarError",
     "evalue": "UndefVarError: df not defined",
     "output_type": "error",
     "traceback": [
      "UndefVarError: df not defined\n",
      "\n",
      "Stacktrace:\n",
      " [1] top-level scope\n",
      "   @ c:\\Users\\ray_a\\github-classroom\\uiceds\\cee-492-term-project-fall-2022-team-online\\reference\\Min Win\\MultiPlot for project.ipynb:1"
     ]
    }
   ],
   "source": [
    "x = df[:, 1:9]\n",
    "typeof(x)"
   ]
  },
  {
   "cell_type": "code",
   "execution_count": 5,
   "metadata": {},
   "outputs": [],
   "source": [
    "# plot_1to9 = @df df corrplot(cols(1:9),\n",
    "# size = (1000,1000),\n",
    "# guidefontsize = 5,\n",
    "# xtickfont = font(5),\n",
    "# ytickfont = font(5),\n",
    "# #xguidefontrotation = 20,\n",
    "# #yguidefontrotation = 180,\n",
    "# )"
   ]
  },
  {
   "cell_type": "code",
   "execution_count": 6,
   "metadata": {},
   "outputs": [
    {
     "ename": "LoadError",
     "evalue": "LoadError: UndefVarError: @df not defined\nin expression starting at c:\\Users\\ray_a\\github-classroom\\uiceds\\cee-492-term-project-fall-2022-team-online\\reference\\Min Win\\MultiPlot for project.ipynb:1",
     "output_type": "error",
     "traceback": [
      "LoadError: UndefVarError: @df not defined\n",
      "in expression starting at c:\\Users\\ray_a\\github-classroom\\uiceds\\cee-492-term-project-fall-2022-team-online\\reference\\Min Win\\MultiPlot for project.ipynb:1\n"
     ]
    }
   ],
   "source": [
    "plot_1to3 = @df df corrplot(cols([1,2,3,9]),\n",
    "fc = :thermal,\n",
    "bins = 30,\n",
    "size = (700,700),\n",
    "guidefontsize = 5,\n",
    "xtickfont = font(5),\n",
    "ytickfont = font(5),\n",
    "#xguidefontrotation = 20,\n",
    "#yguidefontrotation = 180,\n",
    ")"
   ]
  },
  {
   "cell_type": "code",
   "execution_count": 7,
   "metadata": {},
   "outputs": [
    {
     "ename": "LoadError",
     "evalue": "LoadError: UndefVarError: @df not defined\nin expression starting at c:\\Users\\ray_a\\github-classroom\\uiceds\\cee-492-term-project-fall-2022-team-online\\reference\\Min Win\\MultiPlot for project.ipynb:1",
     "output_type": "error",
     "traceback": [
      "LoadError: UndefVarError: @df not defined\n",
      "in expression starting at c:\\Users\\ray_a\\github-classroom\\uiceds\\cee-492-term-project-fall-2022-team-online\\reference\\Min Win\\MultiPlot for project.ipynb:1\n"
     ]
    }
   ],
   "source": [
    "plot_4to5 = @df df corrplot(cols([4,5,9]),\n",
    "bins = 30,\n",
    "fc = :thermal,\n",
    "size = (800,800),\n",
    "guidefontsize = 5,\n",
    "xtickfont = font(5),\n",
    "ytickfont = font(5),\n",
    "#xguidefontrotation = 20,\n",
    "#yguidefontrotation = 180,\n",
    ")"
   ]
  },
  {
   "cell_type": "code",
   "execution_count": 8,
   "metadata": {},
   "outputs": [
    {
     "ename": "LoadError",
     "evalue": "LoadError: UndefVarError: @df not defined\nin expression starting at c:\\Users\\ray_a\\github-classroom\\uiceds\\cee-492-term-project-fall-2022-team-online\\reference\\Min Win\\MultiPlot for project.ipynb:1",
     "output_type": "error",
     "traceback": [
      "LoadError: UndefVarError: @df not defined\n",
      "in expression starting at c:\\Users\\ray_a\\github-classroom\\uiceds\\cee-492-term-project-fall-2022-team-online\\reference\\Min Win\\MultiPlot for project.ipynb:1\n"
     ]
    }
   ],
   "source": [
    "plot_6to7 = @df df corrplot(cols([6,7,9]),\n",
    "bins = 30,\n",
    "fc = :thermal,\n",
    "size = (800,800),\n",
    "guidefontsize = 5,\n",
    "xtickfont = font(5),\n",
    "ytickfont = font(5),\n",
    "#xguidefontrotation = 20,\n",
    "#yguidefontrotation = 180,\n",
    ")"
   ]
  },
  {
   "cell_type": "code",
   "execution_count": 9,
   "metadata": {},
   "outputs": [
    {
     "ename": "LoadError",
     "evalue": "LoadError: UndefVarError: @df not defined\nin expression starting at c:\\Users\\ray_a\\github-classroom\\uiceds\\cee-492-term-project-fall-2022-team-online\\reference\\Min Win\\MultiPlot for project.ipynb:1",
     "output_type": "error",
     "traceback": [
      "LoadError: UndefVarError: @df not defined\n",
      "in expression starting at c:\\Users\\ray_a\\github-classroom\\uiceds\\cee-492-term-project-fall-2022-team-online\\reference\\Min Win\\MultiPlot for project.ipynb:1\n"
     ]
    }
   ],
   "source": [
    "@df df cor(cols(7),cols(9))"
   ]
  },
  {
   "cell_type": "code",
   "execution_count": 10,
   "metadata": {},
   "outputs": [
    {
     "ename": "LoadError",
     "evalue": "LoadError: UndefVarError: @df not defined\nin expression starting at c:\\Users\\ray_a\\github-classroom\\uiceds\\cee-492-term-project-fall-2022-team-online\\reference\\Min Win\\MultiPlot for project.ipynb:1",
     "output_type": "error",
     "traceback": [
      "LoadError: UndefVarError: @df not defined\n",
      "in expression starting at c:\\Users\\ray_a\\github-classroom\\uiceds\\cee-492-term-project-fall-2022-team-online\\reference\\Min Win\\MultiPlot for project.ipynb:1\n"
     ]
    }
   ],
   "source": [
    "@df df cor(cols([1,2,3]))"
   ]
  },
  {
   "cell_type": "code",
   "execution_count": 32,
   "metadata": {},
   "outputs": [
    {
     "ename": "LoadError",
     "evalue": "LoadError: UndefVarError: @df not defined\nin expression starting at c:\\Users\\ray_a\\github-classroom\\uiceds\\cee-492-term-project-fall-2022-team-online\\reference\\Min Win\\MultiPlot for project.ipynb:1",
     "output_type": "error",
     "traceback": [
      "LoadError: UndefVarError: @df not defined\n",
      "in expression starting at c:\\Users\\ray_a\\github-classroom\\uiceds\\cee-492-term-project-fall-2022-team-online\\reference\\Min Win\\MultiPlot for project.ipynb:1\n"
     ]
    }
   ],
   "source": [
    "corr_1to3 = @df df cor(cols([1,2,3,9]))\n",
    "corr_4to5 = @df df cor(cols([4,5,9]))\n",
    "corr_6to7 = @df df cor(cols([6,7,9]))\n",
    "\n",
    "corr_1to3_pt = pretty_table_with_conf(set_pt_conf(tf = tf_markdown), corr_1to3, header = names(df[:,[1,2,3,9]]),row_names=names(df[:,[1,2,3,9]]))\n",
    "tablehelper(corr_1to3_pt, \"corr13.md\")\n",
    "corr_4to5_pt = pretty_table_with_conf(set_pt_conf(tf = tf_markdown), corr_4to5, header = names(df[:,[4,5,9]]),row_names=names(df[:,[4,5,9]]))\n",
    "tablehelper(corr_4to5_pt, \"corr45.md\")\n",
    "corr_6to7_pt = pretty_table_with_conf(set_pt_conf(tf = tf_markdown), corr_4to5, header = names(df[:,[6,7,9]]),row_names=names(df[:,[6,7,9]]))\n",
    "\n",
    "# io = open(joinpath(dirname(@__FILE__), \"corr13.md\"), \"w\")\n",
    "# write(io, corr_1to3_pt)\n",
    "# close(io)"
   ]
  },
  {
   "cell_type": "code",
   "execution_count": 12,
   "metadata": {},
   "outputs": [
    {
     "ename": "UndefVarError",
     "evalue": "UndefVarError: savefig not defined",
     "output_type": "error",
     "traceback": [
      "UndefVarError: savefig not defined\n",
      "\n",
      "Stacktrace:\n",
      " [1] top-level scope\n",
      "   @ c:\\Users\\ray_a\\github-classroom\\uiceds\\cee-492-term-project-fall-2022-team-online\\reference\\Min Win\\MultiPlot for project.ipynb:1"
     ]
    }
   ],
   "source": [
    "savefig(plot_1to9,\"plot_1to9\")\n",
    "savefig(plot_1to3,\"plot_1to3\")\n",
    "savefig(plot_4to7,\"plot_4to7\")"
   ]
  }
 ],
 "metadata": {
  "kernelspec": {
   "display_name": "Julia 1.8.2",
   "language": "julia",
   "name": "julia-1.8"
  },
  "language_info": {
   "file_extension": ".jl",
   "mimetype": "application/julia",
   "name": "julia",
   "version": "1.8.2"
  },
  "orig_nbformat": 4,
  "vscode": {
   "interpreter": {
    "hash": "27f6fea6f47ae512550f0b8facdbd035a93e1dd89633f7bf2dd00a2502c71d0d"
   }
  }
 },
 "nbformat": 4,
 "nbformat_minor": 2
}
