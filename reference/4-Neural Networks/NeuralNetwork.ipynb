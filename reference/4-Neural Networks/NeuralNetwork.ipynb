{
 "cells": [
  {
   "cell_type": "code",
   "execution_count": 1,
   "metadata": {},
   "outputs": [],
   "source": [
    "\n",
    "using DataFrames\n",
    "using RDatasets\n",
    "using Statistics\n",
    "using StatsPlots\n",
    "using CSV\n",
    "using StatsBase\n",
    "using NamedArrays\n",
    "using PrettyTables\n",
    "using LIBSVM\n",
    "using Printf\n",
    "using SVR\n",
    "using DecisionTree\n",
    "using Shuffle\n",
    "using Plots\n",
    "using Distributions\n",
    "using Zygote\n",
    "using Flux"
   ]
  },
  {
   "cell_type": "code",
   "execution_count": 3,
   "metadata": {},
   "outputs": [
    {
     "data": {
      "text/html": [
       "<div><div style = \"float: left;\"><span>1030×9 DataFrame</span></div><div style = \"float: right;\"><span style = \"font-style: italic;\">1005 rows omitted</span></div><div style = \"clear: both;\"></div></div><div class = \"data-frame\" style = \"overflow-x: scroll;\"><table class = \"data-frame\" style = \"margin-bottom: 6px;\"><thead><tr class = \"header\"><th class = \"rowNumber\" style = \"font-weight: bold; text-align: right;\">Row</th><th style = \"text-align: left;\">Cement (kg/m3)</th><th style = \"text-align: left;\">Blast Furnace Slag (kg/m3)</th><th style = \"text-align: left;\">Fly Ash (kg/m3)</th><th style = \"text-align: left;\">Water (kg/m3)</th><th style = \"text-align: left;\">Superplasticizer (kg/m3)</th><th style = \"text-align: left;\">Coarse Aggregate (kg/m3)</th><th style = \"text-align: left;\">Fine Aggregate (kg/m3)</th><th style = \"text-align: left;\">Age (day)</th><th style = \"text-align: left;\">Compressive strength (MPa)</th></tr><tr class = \"subheader headerLastRow\"><th class = \"rowNumber\" style = \"font-weight: bold; text-align: right;\"></th><th title = \"Float64\" style = \"text-align: left;\">Float64</th><th title = \"Float64\" style = \"text-align: left;\">Float64</th><th title = \"Float64\" style = \"text-align: left;\">Float64</th><th title = \"Float64\" style = \"text-align: left;\">Float64</th><th title = \"Float64\" style = \"text-align: left;\">Float64</th><th title = \"Float64\" style = \"text-align: left;\">Float64</th><th title = \"Float64\" style = \"text-align: left;\">Float64</th><th title = \"Int64\" style = \"text-align: left;\">Int64</th><th title = \"Float64\" style = \"text-align: left;\">Float64</th></tr></thead><tbody><tr><td class = \"rowNumber\" style = \"font-weight: bold; text-align: right;\">1</td><td style = \"text-align: right;\">540.0</td><td style = \"text-align: right;\">0.0</td><td style = \"text-align: right;\">0.0</td><td style = \"text-align: right;\">162.0</td><td style = \"text-align: right;\">2.5</td><td style = \"text-align: right;\">1040.0</td><td style = \"text-align: right;\">676.0</td><td style = \"text-align: right;\">28</td><td style = \"text-align: right;\">79.99</td></tr><tr><td class = \"rowNumber\" style = \"font-weight: bold; text-align: right;\">2</td><td style = \"text-align: right;\">540.0</td><td style = \"text-align: right;\">0.0</td><td style = \"text-align: right;\">0.0</td><td style = \"text-align: right;\">162.0</td><td style = \"text-align: right;\">2.5</td><td style = \"text-align: right;\">1055.0</td><td style = \"text-align: right;\">676.0</td><td style = \"text-align: right;\">28</td><td style = \"text-align: right;\">61.89</td></tr><tr><td class = \"rowNumber\" style = \"font-weight: bold; text-align: right;\">3</td><td style = \"text-align: right;\">332.5</td><td style = \"text-align: right;\">142.5</td><td style = \"text-align: right;\">0.0</td><td style = \"text-align: right;\">228.0</td><td style = \"text-align: right;\">0.0</td><td style = \"text-align: right;\">932.0</td><td style = \"text-align: right;\">594.0</td><td style = \"text-align: right;\">270</td><td style = \"text-align: right;\">40.27</td></tr><tr><td class = \"rowNumber\" style = \"font-weight: bold; text-align: right;\">4</td><td style = \"text-align: right;\">332.5</td><td style = \"text-align: right;\">142.5</td><td style = \"text-align: right;\">0.0</td><td style = \"text-align: right;\">228.0</td><td style = \"text-align: right;\">0.0</td><td style = \"text-align: right;\">932.0</td><td style = \"text-align: right;\">594.0</td><td style = \"text-align: right;\">365</td><td style = \"text-align: right;\">41.05</td></tr><tr><td class = \"rowNumber\" style = \"font-weight: bold; text-align: right;\">5</td><td style = \"text-align: right;\">198.6</td><td style = \"text-align: right;\">132.4</td><td style = \"text-align: right;\">0.0</td><td style = \"text-align: right;\">192.0</td><td style = \"text-align: right;\">0.0</td><td style = \"text-align: right;\">978.4</td><td style = \"text-align: right;\">825.5</td><td style = \"text-align: right;\">360</td><td style = \"text-align: right;\">44.3</td></tr><tr><td class = \"rowNumber\" style = \"font-weight: bold; text-align: right;\">6</td><td style = \"text-align: right;\">266.0</td><td style = \"text-align: right;\">114.0</td><td style = \"text-align: right;\">0.0</td><td style = \"text-align: right;\">228.0</td><td style = \"text-align: right;\">0.0</td><td style = \"text-align: right;\">932.0</td><td style = \"text-align: right;\">670.0</td><td style = \"text-align: right;\">90</td><td style = \"text-align: right;\">47.03</td></tr><tr><td class = \"rowNumber\" style = \"font-weight: bold; text-align: right;\">7</td><td style = \"text-align: right;\">380.0</td><td style = \"text-align: right;\">95.0</td><td style = \"text-align: right;\">0.0</td><td style = \"text-align: right;\">228.0</td><td style = \"text-align: right;\">0.0</td><td style = \"text-align: right;\">932.0</td><td style = \"text-align: right;\">594.0</td><td style = \"text-align: right;\">365</td><td style = \"text-align: right;\">43.7</td></tr><tr><td class = \"rowNumber\" style = \"font-weight: bold; text-align: right;\">8</td><td style = \"text-align: right;\">380.0</td><td style = \"text-align: right;\">95.0</td><td style = \"text-align: right;\">0.0</td><td style = \"text-align: right;\">228.0</td><td style = \"text-align: right;\">0.0</td><td style = \"text-align: right;\">932.0</td><td style = \"text-align: right;\">594.0</td><td style = \"text-align: right;\">28</td><td style = \"text-align: right;\">36.45</td></tr><tr><td class = \"rowNumber\" style = \"font-weight: bold; text-align: right;\">9</td><td style = \"text-align: right;\">266.0</td><td style = \"text-align: right;\">114.0</td><td style = \"text-align: right;\">0.0</td><td style = \"text-align: right;\">228.0</td><td style = \"text-align: right;\">0.0</td><td style = \"text-align: right;\">932.0</td><td style = \"text-align: right;\">670.0</td><td style = \"text-align: right;\">28</td><td style = \"text-align: right;\">45.85</td></tr><tr><td class = \"rowNumber\" style = \"font-weight: bold; text-align: right;\">10</td><td style = \"text-align: right;\">475.0</td><td style = \"text-align: right;\">0.0</td><td style = \"text-align: right;\">0.0</td><td style = \"text-align: right;\">228.0</td><td style = \"text-align: right;\">0.0</td><td style = \"text-align: right;\">932.0</td><td style = \"text-align: right;\">594.0</td><td style = \"text-align: right;\">28</td><td style = \"text-align: right;\">39.29</td></tr><tr><td class = \"rowNumber\" style = \"font-weight: bold; text-align: right;\">11</td><td style = \"text-align: right;\">198.6</td><td style = \"text-align: right;\">132.4</td><td style = \"text-align: right;\">0.0</td><td style = \"text-align: right;\">192.0</td><td style = \"text-align: right;\">0.0</td><td style = \"text-align: right;\">978.4</td><td style = \"text-align: right;\">825.5</td><td style = \"text-align: right;\">90</td><td style = \"text-align: right;\">38.07</td></tr><tr><td class = \"rowNumber\" style = \"font-weight: bold; text-align: right;\">12</td><td style = \"text-align: right;\">198.6</td><td style = \"text-align: right;\">132.4</td><td style = \"text-align: right;\">0.0</td><td style = \"text-align: right;\">192.0</td><td style = \"text-align: right;\">0.0</td><td style = \"text-align: right;\">978.4</td><td style = \"text-align: right;\">825.5</td><td style = \"text-align: right;\">28</td><td style = \"text-align: right;\">28.02</td></tr><tr><td class = \"rowNumber\" style = \"font-weight: bold; text-align: right;\">13</td><td style = \"text-align: right;\">427.5</td><td style = \"text-align: right;\">47.5</td><td style = \"text-align: right;\">0.0</td><td style = \"text-align: right;\">228.0</td><td style = \"text-align: right;\">0.0</td><td style = \"text-align: right;\">932.0</td><td style = \"text-align: right;\">594.0</td><td style = \"text-align: right;\">270</td><td style = \"text-align: right;\">43.01</td></tr><tr><td style = \"text-align: right;\">&vellip;</td><td style = \"text-align: right;\">&vellip;</td><td style = \"text-align: right;\">&vellip;</td><td style = \"text-align: right;\">&vellip;</td><td style = \"text-align: right;\">&vellip;</td><td style = \"text-align: right;\">&vellip;</td><td style = \"text-align: right;\">&vellip;</td><td style = \"text-align: right;\">&vellip;</td><td style = \"text-align: right;\">&vellip;</td><td style = \"text-align: right;\">&vellip;</td></tr><tr><td class = \"rowNumber\" style = \"font-weight: bold; text-align: right;\">1019</td><td style = \"text-align: right;\">321.4</td><td style = \"text-align: right;\">0.0</td><td style = \"text-align: right;\">127.9</td><td style = \"text-align: right;\">182.5</td><td style = \"text-align: right;\">11.5</td><td style = \"text-align: right;\">870.1</td><td style = \"text-align: right;\">779.7</td><td style = \"text-align: right;\">28</td><td style = \"text-align: right;\">37.27</td></tr><tr><td class = \"rowNumber\" style = \"font-weight: bold; text-align: right;\">1020</td><td style = \"text-align: right;\">139.7</td><td style = \"text-align: right;\">163.9</td><td style = \"text-align: right;\">127.7</td><td style = \"text-align: right;\">236.7</td><td style = \"text-align: right;\">5.8</td><td style = \"text-align: right;\">868.6</td><td style = \"text-align: right;\">655.6</td><td style = \"text-align: right;\">28</td><td style = \"text-align: right;\">35.23</td></tr><tr><td class = \"rowNumber\" style = \"font-weight: bold; text-align: right;\">1021</td><td style = \"text-align: right;\">288.4</td><td style = \"text-align: right;\">121.0</td><td style = \"text-align: right;\">0.0</td><td style = \"text-align: right;\">177.4</td><td style = \"text-align: right;\">7.0</td><td style = \"text-align: right;\">907.9</td><td style = \"text-align: right;\">829.5</td><td style = \"text-align: right;\">28</td><td style = \"text-align: right;\">42.14</td></tr><tr><td class = \"rowNumber\" style = \"font-weight: bold; text-align: right;\">1022</td><td style = \"text-align: right;\">298.2</td><td style = \"text-align: right;\">0.0</td><td style = \"text-align: right;\">107.0</td><td style = \"text-align: right;\">209.7</td><td style = \"text-align: right;\">11.1</td><td style = \"text-align: right;\">879.6</td><td style = \"text-align: right;\">744.2</td><td style = \"text-align: right;\">28</td><td style = \"text-align: right;\">31.88</td></tr><tr><td class = \"rowNumber\" style = \"font-weight: bold; text-align: right;\">1023</td><td style = \"text-align: right;\">264.5</td><td style = \"text-align: right;\">111.0</td><td style = \"text-align: right;\">86.5</td><td style = \"text-align: right;\">195.5</td><td style = \"text-align: right;\">5.9</td><td style = \"text-align: right;\">832.6</td><td style = \"text-align: right;\">790.4</td><td style = \"text-align: right;\">28</td><td style = \"text-align: right;\">41.54</td></tr><tr><td class = \"rowNumber\" style = \"font-weight: bold; text-align: right;\">1024</td><td style = \"text-align: right;\">159.8</td><td style = \"text-align: right;\">250.0</td><td style = \"text-align: right;\">0.0</td><td style = \"text-align: right;\">168.4</td><td style = \"text-align: right;\">12.2</td><td style = \"text-align: right;\">1049.3</td><td style = \"text-align: right;\">688.2</td><td style = \"text-align: right;\">28</td><td style = \"text-align: right;\">39.46</td></tr><tr><td class = \"rowNumber\" style = \"font-weight: bold; text-align: right;\">1025</td><td style = \"text-align: right;\">166.0</td><td style = \"text-align: right;\">259.7</td><td style = \"text-align: right;\">0.0</td><td style = \"text-align: right;\">183.2</td><td style = \"text-align: right;\">12.7</td><td style = \"text-align: right;\">858.8</td><td style = \"text-align: right;\">826.8</td><td style = \"text-align: right;\">28</td><td style = \"text-align: right;\">37.92</td></tr><tr><td class = \"rowNumber\" style = \"font-weight: bold; text-align: right;\">1026</td><td style = \"text-align: right;\">276.4</td><td style = \"text-align: right;\">116.0</td><td style = \"text-align: right;\">90.3</td><td style = \"text-align: right;\">179.6</td><td style = \"text-align: right;\">8.9</td><td style = \"text-align: right;\">870.1</td><td style = \"text-align: right;\">768.3</td><td style = \"text-align: right;\">28</td><td style = \"text-align: right;\">44.28</td></tr><tr><td class = \"rowNumber\" style = \"font-weight: bold; text-align: right;\">1027</td><td style = \"text-align: right;\">322.2</td><td style = \"text-align: right;\">0.0</td><td style = \"text-align: right;\">115.6</td><td style = \"text-align: right;\">196.0</td><td style = \"text-align: right;\">10.4</td><td style = \"text-align: right;\">817.9</td><td style = \"text-align: right;\">813.4</td><td style = \"text-align: right;\">28</td><td style = \"text-align: right;\">31.18</td></tr><tr><td class = \"rowNumber\" style = \"font-weight: bold; text-align: right;\">1028</td><td style = \"text-align: right;\">148.5</td><td style = \"text-align: right;\">139.4</td><td style = \"text-align: right;\">108.6</td><td style = \"text-align: right;\">192.7</td><td style = \"text-align: right;\">6.1</td><td style = \"text-align: right;\">892.4</td><td style = \"text-align: right;\">780.0</td><td style = \"text-align: right;\">28</td><td style = \"text-align: right;\">23.7</td></tr><tr><td class = \"rowNumber\" style = \"font-weight: bold; text-align: right;\">1029</td><td style = \"text-align: right;\">159.1</td><td style = \"text-align: right;\">186.7</td><td style = \"text-align: right;\">0.0</td><td style = \"text-align: right;\">175.6</td><td style = \"text-align: right;\">11.3</td><td style = \"text-align: right;\">989.6</td><td style = \"text-align: right;\">788.9</td><td style = \"text-align: right;\">28</td><td style = \"text-align: right;\">32.77</td></tr><tr><td class = \"rowNumber\" style = \"font-weight: bold; text-align: right;\">1030</td><td style = \"text-align: right;\">260.9</td><td style = \"text-align: right;\">100.5</td><td style = \"text-align: right;\">78.3</td><td style = \"text-align: right;\">200.6</td><td style = \"text-align: right;\">8.6</td><td style = \"text-align: right;\">864.5</td><td style = \"text-align: right;\">761.5</td><td style = \"text-align: right;\">28</td><td style = \"text-align: right;\">32.4</td></tr></tbody></table></div>"
      ],
      "text/latex": [
       "\\begin{tabular}{r|cccccc}\n",
       "\t& Cement (kg/m3) & Blast Furnace Slag (kg/m3) & Fly Ash (kg/m3) & Water (kg/m3) & Superplasticizer (kg/m3) & \\\\\n",
       "\t\\hline\n",
       "\t& Float64 & Float64 & Float64 & Float64 & Float64 & \\\\\n",
       "\t\\hline\n",
       "\t1 & 540.0 & 0.0 & 0.0 & 162.0 & 2.5 & $\\dots$ \\\\\n",
       "\t2 & 540.0 & 0.0 & 0.0 & 162.0 & 2.5 & $\\dots$ \\\\\n",
       "\t3 & 332.5 & 142.5 & 0.0 & 228.0 & 0.0 & $\\dots$ \\\\\n",
       "\t4 & 332.5 & 142.5 & 0.0 & 228.0 & 0.0 & $\\dots$ \\\\\n",
       "\t5 & 198.6 & 132.4 & 0.0 & 192.0 & 0.0 & $\\dots$ \\\\\n",
       "\t6 & 266.0 & 114.0 & 0.0 & 228.0 & 0.0 & $\\dots$ \\\\\n",
       "\t7 & 380.0 & 95.0 & 0.0 & 228.0 & 0.0 & $\\dots$ \\\\\n",
       "\t8 & 380.0 & 95.0 & 0.0 & 228.0 & 0.0 & $\\dots$ \\\\\n",
       "\t9 & 266.0 & 114.0 & 0.0 & 228.0 & 0.0 & $\\dots$ \\\\\n",
       "\t10 & 475.0 & 0.0 & 0.0 & 228.0 & 0.0 & $\\dots$ \\\\\n",
       "\t11 & 198.6 & 132.4 & 0.0 & 192.0 & 0.0 & $\\dots$ \\\\\n",
       "\t12 & 198.6 & 132.4 & 0.0 & 192.0 & 0.0 & $\\dots$ \\\\\n",
       "\t13 & 427.5 & 47.5 & 0.0 & 228.0 & 0.0 & $\\dots$ \\\\\n",
       "\t14 & 190.0 & 190.0 & 0.0 & 228.0 & 0.0 & $\\dots$ \\\\\n",
       "\t15 & 304.0 & 76.0 & 0.0 & 228.0 & 0.0 & $\\dots$ \\\\\n",
       "\t16 & 380.0 & 0.0 & 0.0 & 228.0 & 0.0 & $\\dots$ \\\\\n",
       "\t17 & 139.6 & 209.4 & 0.0 & 192.0 & 0.0 & $\\dots$ \\\\\n",
       "\t18 & 342.0 & 38.0 & 0.0 & 228.0 & 0.0 & $\\dots$ \\\\\n",
       "\t19 & 380.0 & 95.0 & 0.0 & 228.0 & 0.0 & $\\dots$ \\\\\n",
       "\t20 & 475.0 & 0.0 & 0.0 & 228.0 & 0.0 & $\\dots$ \\\\\n",
       "\t21 & 427.5 & 47.5 & 0.0 & 228.0 & 0.0 & $\\dots$ \\\\\n",
       "\t22 & 139.6 & 209.4 & 0.0 & 192.0 & 0.0 & $\\dots$ \\\\\n",
       "\t23 & 139.6 & 209.4 & 0.0 & 192.0 & 0.0 & $\\dots$ \\\\\n",
       "\t24 & 139.6 & 209.4 & 0.0 & 192.0 & 0.0 & $\\dots$ \\\\\n",
       "\t$\\dots$ & $\\dots$ & $\\dots$ & $\\dots$ & $\\dots$ & $\\dots$ &  \\\\\n",
       "\\end{tabular}\n"
      ],
      "text/plain": [
       "\u001b[1m1030×9 DataFrame\u001b[0m\n",
       "\u001b[1m  Row \u001b[0m│\u001b[1m Cement (kg/m3) \u001b[0m\u001b[1m Blast Furnace Slag (kg/m3) \u001b[0m\u001b[1m Fly Ash (kg/m3) \u001b[0m\u001b[1m Water (kg\u001b[0m ⋯\n",
       "      │\u001b[90m Float64        \u001b[0m\u001b[90m Float64                    \u001b[0m\u001b[90m Float64         \u001b[0m\u001b[90m Float64  \u001b[0m ⋯\n",
       "──────┼─────────────────────────────────────────────────────────────────────────\n",
       "    1 │          540.0                         0.0              0.0          1 ⋯\n",
       "    2 │          540.0                         0.0              0.0          1\n",
       "    3 │          332.5                       142.5              0.0          2\n",
       "    4 │          332.5                       142.5              0.0          2\n",
       "    5 │          198.6                       132.4              0.0          1 ⋯\n",
       "    6 │          266.0                       114.0              0.0          2\n",
       "    7 │          380.0                        95.0              0.0          2\n",
       "    8 │          380.0                        95.0              0.0          2\n",
       "  ⋮   │       ⋮                     ⋮                      ⋮               ⋮   ⋱\n",
       " 1024 │          159.8                       250.0              0.0          1 ⋯\n",
       " 1025 │          166.0                       259.7              0.0          1\n",
       " 1026 │          276.4                       116.0             90.3          1\n",
       " 1027 │          322.2                         0.0            115.6          1\n",
       " 1028 │          148.5                       139.4            108.6          1 ⋯\n",
       " 1029 │          159.1                       186.7              0.0          1\n",
       " 1030 │          260.9                       100.5             78.3          2\n",
       "\u001b[36m                                                 6 columns and 1015 rows omitted\u001b[0m"
      ]
     },
     "metadata": {},
     "output_type": "display_data"
    }
   ],
   "source": [
    "df = CSV.read(joinpath(dirname(@__FILE__),\"Concrete_Data.csv\"), DataFrame)"
   ]
  },
  {
   "cell_type": "code",
   "execution_count": 6,
   "metadata": {},
   "outputs": [
    {
     "data": {
      "text/plain": [
       "280-element Vector{Float64}:\n",
       " 44.09\n",
       " 52.61\n",
       " 59.76\n",
       " 67.31\n",
       " 69.66\n",
       " 71.62\n",
       " 74.17\n",
       " 18.13\n",
       " 22.53\n",
       " 27.34\n",
       "  ⋮\n",
       " 31.88\n",
       " 41.54\n",
       " 39.46\n",
       " 37.92\n",
       " 44.28\n",
       " 31.18\n",
       " 23.7\n",
       " 32.77\n",
       " 32.4"
      ]
     },
     "metadata": {},
     "output_type": "display_data"
    }
   ],
   "source": [
    "#splitting into 65% training, 10% test, 25% validation\n",
    "\n",
    "x = Matrix(df[:, 1:8])\n",
    "y = Matrix(df[:, 9:9])\n",
    "\n",
    "xtrain = x[1:650, :]\n",
    "ytrain = y[1:650]\n",
    "\n",
    "xtest = x[651:750, :]\n",
    "ytest = y[651:750]\n",
    "\n",
    "xval = x[751:1030, :]\n",
    "yval = y[751:1030]"
   ]
  },
  {
   "cell_type": "code",
   "execution_count": 19,
   "metadata": {},
   "outputs": [
    {
     "data": {
      "text/plain": [
       "650×8 Matrix{Float64}:\n",
       " 540.0    0.0  0.0  162.0  2.5  1040.0  676.0   28.0\n",
       " 540.0    0.0  0.0  162.0  2.5  1055.0  676.0   28.0\n",
       " 332.5  142.5  0.0  228.0  0.0   932.0  594.0  270.0\n",
       " 332.5  142.5  0.0  228.0  0.0   932.0  594.0  365.0\n",
       " 198.6  132.4  0.0  192.0  0.0   978.4  825.5  360.0\n",
       " 266.0  114.0  0.0  228.0  0.0   932.0  670.0   90.0\n",
       " 380.0   95.0  0.0  228.0  0.0   932.0  594.0  365.0\n",
       " 380.0   95.0  0.0  228.0  0.0   932.0  594.0   28.0\n",
       " 266.0  114.0  0.0  228.0  0.0   932.0  670.0   28.0\n",
       " 475.0    0.0  0.0  228.0  0.0   932.0  594.0   28.0\n",
       "   ⋮                               ⋮           \n",
       " 250.0    0.0  0.0  182.0  0.0  1100.0  820.0    7.0\n",
       " 250.0    0.0  0.0  182.0  0.0  1100.0  820.0   28.0\n",
       " 350.0    0.0  0.0  186.0  0.0  1050.0  770.0    7.0\n",
       " 350.0    0.0  0.0  186.0  0.0  1050.0  770.0   28.0\n",
       " 203.5  305.3  0.0  203.5  0.0   963.4  630.0    7.0\n",
       " 250.2  166.8  0.0  203.5  0.0   977.6  694.1   90.0\n",
       " 157.0  236.0  0.0  192.0  0.0   935.4  781.2   90.0\n",
       " 141.3  212.0  0.0  203.5  0.0   971.8  748.5   28.0\n",
       " 166.8  250.2  0.0  203.5  0.0   975.6  692.6    3.0"
      ]
     },
     "metadata": {},
     "output_type": "display_data"
    }
   ],
   "source": [
    "xtrain"
   ]
  },
  {
   "cell_type": "code",
   "execution_count": 7,
   "metadata": {},
   "outputs": [
    {
     "data": {
      "text/plain": [
       "dense_layer (generic function with 1 method)"
      ]
     },
     "metadata": {},
     "output_type": "display_data"
    }
   ],
   "source": [
    "function dense_layer(x, p) \n",
    "\tw, b = p \n",
    "\ty = w*x .+ b\n",
    "end"
   ]
  },
  {
   "cell_type": "code",
   "execution_count": 8,
   "metadata": {},
   "outputs": [
    {
     "data": {
      "text/plain": [
       "train! (generic function with 1 method)"
      ]
     },
     "metadata": {},
     "output_type": "display_data"
    }
   ],
   "source": [
    "function train!(modelf, errf, p, x, labels, η, nsteps) \n",
    "\tsample= rand(1:size(Matrix(x),2), 1000)\n",
    "\tfor i= 1:nsteps \n",
    "\t\te(p) = errf(modelf(Matrix(x)[:,sample], p)[:], labels[sample])  \n",
    "\t\tp .-= η .* e'(p)\n",
    "\tend \n",
    "\treturn p\n",
    "end"
   ]
  },
  {
   "cell_type": "code",
   "execution_count": 10,
   "metadata": {},
   "outputs": [
    {
     "data": {
      "text/plain": [
       "logit (generic function with 1 method)"
      ]
     },
     "metadata": {},
     "output_type": "display_data"
    }
   ],
   "source": [
    "function logit(x)\n",
    "\t1/(1+exp(-x))\n",
    "end"
   ]
  },
  {
   "cell_type": "code",
   "execution_count": 9,
   "metadata": {},
   "outputs": [
    {
     "data": {
      "text/plain": [
       "relu (generic function with 1 method)"
      ]
     },
     "metadata": {},
     "output_type": "display_data"
    }
   ],
   "source": [
    "function relu(x) \n",
    "\treturn max(0,x)\n",
    "end"
   ]
  },
  {
   "cell_type": "code",
   "execution_count": 11,
   "metadata": {},
   "outputs": [
    {
     "data": {
      "text/plain": [
       "logistic_regression (generic function with 1 method)"
      ]
     },
     "metadata": {},
     "output_type": "display_data"
    }
   ],
   "source": [
    "function logistic_regression(x::Matrix{T}, p::Vector) where T<:AbstractFloat\n",
    "\tlogit.(dense_layer(x, p))\n",
    "end"
   ]
  },
  {
   "cell_type": "code",
   "execution_count": 12,
   "metadata": {},
   "outputs": [
    {
     "name": "stderr",
     "output_type": "stream",
     "text": [
      "WARNING: method definition for twolayer_logistic at /Users/pimbodj/Documents/GitHub/cee-492-term-project-fall-2022-team-online/reference/4-Neural Networks/NeuralNetwork.ipynb:1 declares type variable T but does not use it.\n"
     ]
    },
    {
     "data": {
      "text/plain": [
       "twolayer_logistic (generic function with 1 method)"
      ]
     },
     "metadata": {},
     "output_type": "display_data"
    }
   ],
   "source": [
    "function twolayer_logistic(x, p::Vector) where T<:AbstractFloat\n",
    "\tw1, b1, w2, b2 = p\n",
    "\n",
    "\to1= relu.(dense_layer(x, [w1, b1]))\n",
    "\to2 = dense_layer(o1, [w2, b2]) \n",
    "\to3 = logit.(o2)\n",
    "\treturn o2\n",
    "end"
   ]
  },
  {
   "cell_type": "code",
   "execution_count": 13,
   "metadata": {},
   "outputs": [
    {
     "data": {
      "text/plain": [
       "mse (generic function with 1 method)"
      ]
     },
     "metadata": {},
     "output_type": "display_data"
    }
   ],
   "source": [
    "function mse(ŷ, y)\n",
    "\tsum((ŷ .- y).^2) / length(y)\n",
    "end"
   ]
  },
  {
   "cell_type": "code",
   "execution_count": 14,
   "metadata": {},
   "outputs": [
    {
     "data": {
      "text/plain": [
       "binary_crossentropy (generic function with 1 method)"
      ]
     },
     "metadata": {},
     "output_type": "display_data"
    }
   ],
   "source": [
    "function binary_crossentropy(ŷ::Vector{T}, y::Vector{T}) where T<:AbstractFloat\n",
    "\t-mean(y .* log.(ŷ) .+ (1.0 .- y) .* log.(1.0 .- ŷ))\n",
    "end"
   ]
  },
  {
   "cell_type": "code",
   "execution_count": 21,
   "metadata": {},
   "outputs": [
    {
     "data": {
      "text/plain": [
       "4-element Vector{Array{Float64}}:\n",
       " [-1577.4219731452333 -1577.2649385678872 … -1511.217425516079 -1822.5281879443692; 0.08863313680555562 0.17105418421454188 … -0.15930957050739658 -0.10092084063415785; … ; -15619.79422591567 -15728.181744547019 … -14676.868236088734 -14012.831661842949; -66090.58871785273 -66546.821170233 … -62105.19297547241 -59302.832277142144]\n",
       " [-12.720323647733814, -0.17487307034432276, -1.9007117471114484e23, -50.09732139759205, -1.4935674876831357e18, -1.3579954569802815, -2.8118193564543353e22, -6.902106364090651e22, 0.05213899441038361, -121.43851585944427  …  -5.336484933100822e19, 0.3340524616503182, -14.103270390856219, -87.93125567271072, -0.6591239646480206, -110.44037983828956, 0.2647212496699691, 0.31639542173602997, -21.03799130667726, -93.33457604125331]\n",
       " [-10678.206113569111 -0.2920543103467359 … -1.8424019656557108e6 -1.3711665061822336e6]\n",
       " [376.1794999999986]"
      ]
     },
     "metadata": {},
     "output_type": "display_data"
    }
   ],
   "source": [
    "begin\n",
    "\tinputsize = 1030\n",
    "\thidensize=1000\n",
    "\tnlabels = 1\n",
    "\t\n",
    "\tw1 = rand(hidensize, inputsize) .- 0.5\n",
    "\tb1 = rand(hidensize) .- 0.5\n",
    "\t\n",
    "\tw2 = rand(nlabels, hidensize) .- 0.5\n",
    "\tb2 = rand(nlabels) .- 0.5\n",
    "\n",
    "\tp = [w1,b1,w2,b2] \n",
    "\n",
    "\tη = 0.01\n",
    "\tnsteps = 10000\n",
    "\t\n",
    "\tp = train!(twolayer_logistic, mse, p, x, xtrain, η, nsteps)\n",
    "\t\n",
    "end"
   ]
  },
  {
   "cell_type": "code",
   "execution_count": null,
   "metadata": {},
   "outputs": [],
   "source": []
  }
 ],
 "metadata": {
  "kernelspec": {
   "display_name": "Julia 1.8.2",
   "language": "julia",
   "name": "julia-1.8"
  },
  "language_info": {
   "file_extension": ".jl",
   "mimetype": "application/julia",
   "name": "julia",
   "version": "1.8.2"
  },
  "orig_nbformat": 4
 },
 "nbformat": 4,
 "nbformat_minor": 2
}
